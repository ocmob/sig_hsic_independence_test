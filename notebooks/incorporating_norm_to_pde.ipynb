{
 "cells": [
  {
   "cell_type": "code",
   "execution_count": 1,
   "id": "529b5d4b",
   "metadata": {},
   "outputs": [],
   "source": [
    "import os\n",
    "import sys"
   ]
  },
  {
   "cell_type": "code",
   "execution_count": 2,
   "id": "077be733",
   "metadata": {},
   "outputs": [],
   "source": [
    "sys.path.append('../lib')"
   ]
  },
  {
   "cell_type": "code",
   "execution_count": 3,
   "id": "c3d582b2",
   "metadata": {},
   "outputs": [],
   "source": [
    "import cov_independence_test\n",
    "import hsic_independence_test\n",
    "import gen_processes"
   ]
  },
  {
   "cell_type": "code",
   "execution_count": 4,
   "id": "0e10e19c",
   "metadata": {},
   "outputs": [],
   "source": [
    "from importlib import reload"
   ]
  },
  {
   "cell_type": "code",
   "execution_count": 5,
   "id": "9e687d2c",
   "metadata": {},
   "outputs": [],
   "source": [
    "reload(cov_independence_test);\n",
    "reload(hsic_independence_test);\n",
    "reload(gen_processes);"
   ]
  },
  {
   "cell_type": "code",
   "execution_count": 9,
   "id": "83a3122c",
   "metadata": {},
   "outputs": [],
   "source": [
    "sys.path.append('../lib/sigkernel')"
   ]
  },
  {
   "cell_type": "code",
   "execution_count": 10,
   "id": "eb2d182e",
   "metadata": {},
   "outputs": [],
   "source": [
    "import numpy as np\n",
    "import matplotlib.pyplot as plt\n",
    "import statsmodels.tsa.ar_model as ar\n",
    "import torch\n",
    "torch.set_default_dtype(torch.double)\n",
    "import sigkernel_scale"
   ]
  },
  {
   "cell_type": "code",
   "execution_count": 11,
   "id": "984ac2a4",
   "metadata": {},
   "outputs": [],
   "source": [
    "import pprint\n",
    "pp = pprint.PrettyPrinter(indent = 4)"
   ]
  },
  {
   "cell_type": "code",
   "execution_count": 12,
   "id": "2f057170",
   "metadata": {},
   "outputs": [],
   "source": [
    "import matplotlib.pyplot as plt\n",
    "import pickle"
   ]
  },
  {
   "cell_type": "code",
   "execution_count": 70,
   "id": "6cfce883",
   "metadata": {},
   "outputs": [],
   "source": [
    "rng = np.random.default_rng(1234)"
   ]
  },
  {
   "cell_type": "code",
   "execution_count": 115,
   "id": "2fc6492b",
   "metadata": {},
   "outputs": [],
   "source": [
    "a = torch.tensor([i for i in range(10)])\n",
    "b = torch.tensor([i for i in range(10,15)])\n",
    "b_same = torch.tensor([i for i in range(10,20)])"
   ]
  },
  {
   "cell_type": "code",
   "execution_count": 95,
   "id": "9556774a",
   "metadata": {},
   "outputs": [],
   "source": [
    "len_vct_a = 30\n",
    "len_vct_b = 20"
   ]
  },
  {
   "cell_type": "code",
   "execution_count": 122,
   "id": "7cc419af",
   "metadata": {},
   "outputs": [],
   "source": [
    "a_tiled = torch.tile(a, (len_vct_a, 1))\n",
    "b_tiled = torch.tile(b, (len_vct_b, 1))\n",
    "b_tiled_same = torch.tile(b_same, (len_vct_b, 1))"
   ]
  },
  {
   "cell_type": "code",
   "execution_count": 121,
   "id": "1ae1e20c",
   "metadata": {},
   "outputs": [
    {
     "data": {
      "text/plain": [
       "(tensor([0, 1, 2, 3, 4, 5, 6, 7, 8, 9]), tensor([10, 11, 12, 13, 14]))"
      ]
     },
     "execution_count": 121,
     "metadata": {},
     "output_type": "execute_result"
    }
   ],
   "source": [
    "a, b"
   ]
  },
  {
   "cell_type": "code",
   "execution_count": 97,
   "id": "7f9ed7d7",
   "metadata": {},
   "outputs": [
    {
     "name": "stdout",
     "output_type": "stream",
     "text": [
      "torch.Size([30, 10])\n",
      "torch.Size([20, 5])\n"
     ]
    }
   ],
   "source": [
    "print(a_tiled.shape) # time x batch\n",
    "print(b_tiled.shape) # time x batch"
   ]
  },
  {
   "cell_type": "code",
   "execution_count": 99,
   "id": "5d3f8985",
   "metadata": {},
   "outputs": [],
   "source": [
    "scale = torch.einsum('ij,kl->jlik',a_tiled,b_tiled)"
   ]
  },
  {
   "cell_type": "code",
   "execution_count": 111,
   "id": "20a5424e",
   "metadata": {},
   "outputs": [],
   "source": [
    "scale[2, 2, :, :];"
   ]
  },
  {
   "cell_type": "code",
   "execution_count": 123,
   "id": "6d65fdf6",
   "metadata": {},
   "outputs": [],
   "source": [
    "scale = torch.einsum('ji,ki->ijk',a_tiled,b_tiled_same)"
   ]
  },
  {
   "cell_type": "code",
   "execution_count": 128,
   "id": "5e6dc252",
   "metadata": {},
   "outputs": [
    {
     "data": {
      "text/plain": [
       "tensor([[39, 39, 39, 39, 39, 39, 39, 39, 39, 39, 39, 39, 39, 39, 39, 39, 39, 39,\n",
       "         39, 39],\n",
       "        [39, 39, 39, 39, 39, 39, 39, 39, 39, 39, 39, 39, 39, 39, 39, 39, 39, 39,\n",
       "         39, 39],\n",
       "        [39, 39, 39, 39, 39, 39, 39, 39, 39, 39, 39, 39, 39, 39, 39, 39, 39, 39,\n",
       "         39, 39],\n",
       "        [39, 39, 39, 39, 39, 39, 39, 39, 39, 39, 39, 39, 39, 39, 39, 39, 39, 39,\n",
       "         39, 39],\n",
       "        [39, 39, 39, 39, 39, 39, 39, 39, 39, 39, 39, 39, 39, 39, 39, 39, 39, 39,\n",
       "         39, 39],\n",
       "        [39, 39, 39, 39, 39, 39, 39, 39, 39, 39, 39, 39, 39, 39, 39, 39, 39, 39,\n",
       "         39, 39],\n",
       "        [39, 39, 39, 39, 39, 39, 39, 39, 39, 39, 39, 39, 39, 39, 39, 39, 39, 39,\n",
       "         39, 39],\n",
       "        [39, 39, 39, 39, 39, 39, 39, 39, 39, 39, 39, 39, 39, 39, 39, 39, 39, 39,\n",
       "         39, 39],\n",
       "        [39, 39, 39, 39, 39, 39, 39, 39, 39, 39, 39, 39, 39, 39, 39, 39, 39, 39,\n",
       "         39, 39],\n",
       "        [39, 39, 39, 39, 39, 39, 39, 39, 39, 39, 39, 39, 39, 39, 39, 39, 39, 39,\n",
       "         39, 39],\n",
       "        [39, 39, 39, 39, 39, 39, 39, 39, 39, 39, 39, 39, 39, 39, 39, 39, 39, 39,\n",
       "         39, 39],\n",
       "        [39, 39, 39, 39, 39, 39, 39, 39, 39, 39, 39, 39, 39, 39, 39, 39, 39, 39,\n",
       "         39, 39],\n",
       "        [39, 39, 39, 39, 39, 39, 39, 39, 39, 39, 39, 39, 39, 39, 39, 39, 39, 39,\n",
       "         39, 39],\n",
       "        [39, 39, 39, 39, 39, 39, 39, 39, 39, 39, 39, 39, 39, 39, 39, 39, 39, 39,\n",
       "         39, 39],\n",
       "        [39, 39, 39, 39, 39, 39, 39, 39, 39, 39, 39, 39, 39, 39, 39, 39, 39, 39,\n",
       "         39, 39],\n",
       "        [39, 39, 39, 39, 39, 39, 39, 39, 39, 39, 39, 39, 39, 39, 39, 39, 39, 39,\n",
       "         39, 39],\n",
       "        [39, 39, 39, 39, 39, 39, 39, 39, 39, 39, 39, 39, 39, 39, 39, 39, 39, 39,\n",
       "         39, 39],\n",
       "        [39, 39, 39, 39, 39, 39, 39, 39, 39, 39, 39, 39, 39, 39, 39, 39, 39, 39,\n",
       "         39, 39],\n",
       "        [39, 39, 39, 39, 39, 39, 39, 39, 39, 39, 39, 39, 39, 39, 39, 39, 39, 39,\n",
       "         39, 39],\n",
       "        [39, 39, 39, 39, 39, 39, 39, 39, 39, 39, 39, 39, 39, 39, 39, 39, 39, 39,\n",
       "         39, 39],\n",
       "        [39, 39, 39, 39, 39, 39, 39, 39, 39, 39, 39, 39, 39, 39, 39, 39, 39, 39,\n",
       "         39, 39],\n",
       "        [39, 39, 39, 39, 39, 39, 39, 39, 39, 39, 39, 39, 39, 39, 39, 39, 39, 39,\n",
       "         39, 39],\n",
       "        [39, 39, 39, 39, 39, 39, 39, 39, 39, 39, 39, 39, 39, 39, 39, 39, 39, 39,\n",
       "         39, 39],\n",
       "        [39, 39, 39, 39, 39, 39, 39, 39, 39, 39, 39, 39, 39, 39, 39, 39, 39, 39,\n",
       "         39, 39],\n",
       "        [39, 39, 39, 39, 39, 39, 39, 39, 39, 39, 39, 39, 39, 39, 39, 39, 39, 39,\n",
       "         39, 39],\n",
       "        [39, 39, 39, 39, 39, 39, 39, 39, 39, 39, 39, 39, 39, 39, 39, 39, 39, 39,\n",
       "         39, 39],\n",
       "        [39, 39, 39, 39, 39, 39, 39, 39, 39, 39, 39, 39, 39, 39, 39, 39, 39, 39,\n",
       "         39, 39],\n",
       "        [39, 39, 39, 39, 39, 39, 39, 39, 39, 39, 39, 39, 39, 39, 39, 39, 39, 39,\n",
       "         39, 39],\n",
       "        [39, 39, 39, 39, 39, 39, 39, 39, 39, 39, 39, 39, 39, 39, 39, 39, 39, 39,\n",
       "         39, 39],\n",
       "        [39, 39, 39, 39, 39, 39, 39, 39, 39, 39, 39, 39, 39, 39, 39, 39, 39, 39,\n",
       "         39, 39]])"
      ]
     },
     "execution_count": 128,
     "metadata": {},
     "output_type": "execute_result"
    }
   ],
   "source": [
    "scale[3, :, :]"
   ]
  },
  {
   "cell_type": "code",
   "execution_count": 13,
   "id": "8a57c1d0",
   "metadata": {},
   "outputs": [],
   "source": [
    "with open('pickles/comparison_ds_for_normalized_sig_pde_kernel.pickle', 'rb') as inf:\n",
    "    INPUT = pickle.load(inf)"
   ]
  },
  {
   "cell_type": "code",
   "execution_count": 14,
   "id": "b010b93d",
   "metadata": {},
   "outputs": [],
   "source": [
    "paths_ll = torch.tensor(INPUT['processes_lead_lag'])"
   ]
  },
  {
   "cell_type": "code",
   "execution_count": 15,
   "id": "307cea9b",
   "metadata": {},
   "outputs": [],
   "source": [
    "def psi(x, M=4, a=1):\n",
    "    x = x ** 2\n",
    "\n",
    "    if x <= M:\n",
    "        return x\n",
    "\n",
    "    return M + M ** (1 + a) * (M ** (-a) - x ** (-a)) / a"
   ]
  },
  {
   "cell_type": "code",
   "execution_count": 16,
   "id": "a6faa674",
   "metadata": {
    "scrolled": true
   },
   "outputs": [
    {
     "name": "stdout",
     "output_type": "stream",
     "text": [
      "12.380862586180728\n"
     ]
    }
   ],
   "source": [
    "print(INPUT['gram_matrix'][0, 0])"
   ]
  },
  {
   "cell_type": "code",
   "execution_count": 29,
   "id": "c2c3ccc2",
   "metadata": {},
   "outputs": [
    {
     "name": "stdout",
     "output_type": "stream",
     "text": [
      "Process indices: Sample, Time, Lead/Lag\n",
      "torch.Size([20, 30, 2])\n"
     ]
    }
   ],
   "source": [
    "print(INPUT['comment'])\n",
    "print(paths_ll.shape)"
   ]
  },
  {
   "cell_type": "code",
   "execution_count": 20,
   "id": "21bd60d6",
   "metadata": {},
   "outputs": [],
   "source": [
    "sig_kernel = sigkernel_scale.SigKernel(sigkernel_scale.LinearKernel(), 3)"
   ]
  },
  {
   "cell_type": "code",
   "execution_count": 31,
   "id": "272eb034",
   "metadata": {},
   "outputs": [],
   "source": [
    "kernel_xx = sig_kernel.compute_kernel(paths_ll[0:1, :, :], paths_ll[0:1, :, :])"
   ]
  },
  {
   "cell_type": "code",
   "execution_count": 34,
   "id": "e1ed7a50",
   "metadata": {},
   "outputs": [],
   "source": [
    "target = psi(np.sqrt(kernel_xx.item()))"
   ]
  },
  {
   "cell_type": "code",
   "execution_count": 35,
   "id": "f82a97ed",
   "metadata": {},
   "outputs": [
    {
     "data": {
      "text/plain": [
       "6.9782870722007795"
      ]
     },
     "execution_count": 35,
     "metadata": {},
     "output_type": "execute_result"
    }
   ],
   "source": [
    "target"
   ]
  },
  {
   "cell_type": "code",
   "execution_count": 41,
   "id": "c2eca3d2",
   "metadata": {},
   "outputs": [],
   "source": [
    "f = lambda lam: target - sig_kernel.compute_kernel(lam*paths_ll[0:1, :, :], lam*paths_ll[0:1, :, :]).item()"
   ]
  },
  {
   "cell_type": "code",
   "execution_count": 22,
   "id": "4f1a3214",
   "metadata": {},
   "outputs": [],
   "source": [
    "from scipy.optimize import brentq"
   ]
  },
  {
   "cell_type": "code",
   "execution_count": 43,
   "id": "36bf4643",
   "metadata": {},
   "outputs": [
    {
     "data": {
      "text/plain": [
       "0.8627978998614458"
      ]
     },
     "execution_count": 43,
     "metadata": {},
     "output_type": "execute_result"
    }
   ],
   "source": [
    "brentq(f, 0, 1.)"
   ]
  },
  {
   "cell_type": "code",
   "execution_count": 23,
   "id": "739f15ef",
   "metadata": {},
   "outputs": [],
   "source": [
    "scales = torch.zeros(20)"
   ]
  },
  {
   "cell_type": "code",
   "execution_count": 24,
   "id": "aa53f4d1",
   "metadata": {},
   "outputs": [
    {
     "name": "stdout",
     "output_type": "stream",
     "text": [
      "0.8630038091506689\n",
      "0.9998016300589121\n",
      "0.9999999999999536\n",
      "0.8940687347622606\n",
      "0.9559379933582218\n",
      "0.9865845484043637\n",
      "0.9736827828678053\n",
      "0.980207174382617\n",
      "0.9921669659308869\n",
      "0.9216126190278953\n",
      "1.0000000000000253\n",
      "0.7747179212101265\n",
      "0.9905295138762319\n",
      "0.8615076050562425\n",
      "0.9542041509589576\n",
      "0.9369761889352346\n",
      "0.9999837935174736\n",
      "1.000000000000138\n",
      "0.8919309366176795\n",
      "0.8931298905858582\n"
     ]
    }
   ],
   "source": [
    "for i in range(20):\n",
    "    kernel_xx = sig_kernel.compute_kernel(paths_ll[i:i+1, :, :], paths_ll[i:i+1, :, :])\n",
    "    target = psi(np.sqrt(kernel_xx.item()))\n",
    "    f = lambda lam: target - sig_kernel.compute_kernel(paths_ll[i:i+1, :, :], lam*paths_ll[i:i+1, :, :]).item()\n",
    "    print(brentq(f, 0., 1.1, xtol=1e-20))\n",
    "    scales[i] = brentq(f, 0., 1.1, xtol=1e-20)"
   ]
  },
  {
   "cell_type": "code",
   "execution_count": 26,
   "id": "dffdadcb",
   "metadata": {},
   "outputs": [],
   "source": [
    "scales_new = torch.zeros(20)"
   ]
  },
  {
   "cell_type": "code",
   "execution_count": 35,
   "id": "7c6268aa",
   "metadata": {},
   "outputs": [],
   "source": [
    "sig_kernel = sigkernel_scale.SigKernel(sigkernel_scale.RBFKernel(0.3), 3)"
   ]
  },
  {
   "cell_type": "code",
   "execution_count": 36,
   "id": "60718a0a",
   "metadata": {},
   "outputs": [
    {
     "name": "stdout",
     "output_type": "stream",
     "text": [
      "0.664972219150016\n",
      "0.7374572449614519\n",
      "0.66951012759249\n",
      "0.6136075369759413\n",
      "0.678762357766056\n",
      "0.6814555752116332\n",
      "0.6406308266176514\n",
      "0.6927950237940864\n",
      "0.6744137173084176\n",
      "0.6699180026650583\n",
      "0.7014539200743989\n",
      "0.6515355115733266\n",
      "0.6694667508059865\n",
      "0.6800968649397722\n",
      "0.7013901860468926\n",
      "0.6610658298741133\n",
      "0.6526914858288777\n",
      "0.7034896148662164\n",
      "0.6302312963942747\n",
      "0.6465006099885344\n"
     ]
    }
   ],
   "source": [
    "for i in range(20):\n",
    "    kernel_xx = sig_kernel.compute_kernel(paths_ll[i:i+1, :, :], paths_ll[i:i+1, :, :])\n",
    "    target = psi(np.sqrt(kernel_xx.item()))\n",
    "    f = lambda lam: target - sig_kernel.compute_kernel(paths_ll[i:i+1, :, :], paths_ll[i:i+1, :, :], torch.tensor([lam]), torch.tensor([lam])).item()\n",
    "    print(brentq(f, 0., 1.1, xtol=1e-20))\n",
    "    scales_new[i] = brentq(f, 0., 1.1, xtol=1e-20)"
   ]
  },
  {
   "cell_type": "code",
   "execution_count": 30,
   "id": "462e1c92",
   "metadata": {},
   "outputs": [
    {
     "data": {
      "text/plain": [
       "tensor([6.9750])"
      ]
     },
     "execution_count": 30,
     "metadata": {},
     "output_type": "execute_result"
    }
   ],
   "source": [
    "sig_kernel.compute_kernel(paths_ll[0:1, :, :], paths_ll[0:1, :, :], torch.tensor([0.863]), torch.tensor([0.863]))"
   ]
  },
  {
   "cell_type": "code",
   "execution_count": null,
   "id": "e3cad7aa",
   "metadata": {},
   "outputs": [],
   "source": []
  },
  {
   "cell_type": "code",
   "execution_count": 49,
   "id": "a51adca4",
   "metadata": {},
   "outputs": [],
   "source": [
    "kernel_vs_time = [sig_kernel.compute_kernel(paths_ll[0:1, :i+1, :], paths_ll[0:1, :i+1, :]) for i in range(1, 30)]"
   ]
  },
  {
   "cell_type": "code",
   "execution_count": 50,
   "id": "73cee60c",
   "metadata": {},
   "outputs": [],
   "source": [
    "normalized_kernel_vs_time = [psi(torch.sqrt(k)) for k in kernel_vs_time]"
   ]
  },
  {
   "cell_type": "code",
   "execution_count": 71,
   "id": "1a6dbaa3",
   "metadata": {},
   "outputs": [],
   "source": [
    "def get_tv_of_path(path): #correct path length estimate\n",
    "    lin_ker_values = path @ path.T\n",
    "    vct_of_sq_distances = torch.diagonal(lin_ker_values)[:-1] + torch.diagonal(lin_ker_values)[1:] - 2*torch.diagonal(lin_ker_values, offset = 1)\n",
    "    return torch.sqrt(vct_of_sq_distances).sum()"
   ]
  },
  {
   "cell_type": "code",
   "execution_count": 72,
   "id": "8d255f7a",
   "metadata": {},
   "outputs": [],
   "source": [
    "tv_path = get_tv_of_path(paths_ll[0, :, :]).item()"
   ]
  },
  {
   "cell_type": "code",
   "execution_count": 73,
   "id": "7c66c784",
   "metadata": {},
   "outputs": [
    {
     "data": {
      "text/plain": [
       "9.9237479739895"
      ]
     },
     "execution_count": 73,
     "metadata": {},
     "output_type": "execute_result"
    }
   ],
   "source": [
    "tv_path"
   ]
  },
  {
   "cell_type": "markdown",
   "id": "e90c440a",
   "metadata": {},
   "source": [
    "Note: kernel_vs_time agrees with simple inner product of signatures in esig package"
   ]
  },
  {
   "cell_type": "code",
   "execution_count": 54,
   "id": "faf1565b",
   "metadata": {},
   "outputs": [
    {
     "data": {
      "text/plain": [
       "tensor([15.6113])"
      ]
     },
     "execution_count": 54,
     "metadata": {},
     "output_type": "execute_result"
    }
   ],
   "source": [
    "kernel_vs_time[-1]"
   ]
  },
  {
   "cell_type": "code",
   "execution_count": 55,
   "id": "ed38ba14",
   "metadata": {},
   "outputs": [],
   "source": [
    "kernel_last_ts = normalized_kernel_vs_time[-1].item()"
   ]
  },
  {
   "cell_type": "code",
   "execution_count": 56,
   "id": "c1158f61",
   "metadata": {},
   "outputs": [
    {
     "data": {
      "text/plain": [
       "6.975099157668957"
      ]
     },
     "execution_count": 56,
     "metadata": {},
     "output_type": "execute_result"
    }
   ],
   "source": [
    "kernel_last_ts"
   ]
  },
  {
   "cell_type": "code",
   "execution_count": 26,
   "id": "a1397dc9",
   "metadata": {},
   "outputs": [],
   "source": [
    "import scipy as scp\n",
    "from scipy.optimize import brentq\n",
    "from scipy.special import iv"
   ]
  },
  {
   "cell_type": "code",
   "execution_count": 86,
   "id": "088a3093",
   "metadata": {},
   "outputs": [],
   "source": [
    "f = lambda tv: 12.38 - iv(0, 0.96287837*tv*2)"
   ]
  },
  {
   "cell_type": "code",
   "execution_count": 87,
   "id": "cb9116a6",
   "metadata": {},
   "outputs": [
    {
     "data": {
      "text/plain": [
       "2.131768334121332"
      ]
     },
     "execution_count": 87,
     "metadata": {},
     "output_type": "execute_result"
    }
   ],
   "source": [
    "brentq(f,  0, 20)"
   ]
  },
  {
   "cell_type": "code",
   "execution_count": 59,
   "id": "745fe92a",
   "metadata": {},
   "outputs": [
    {
     "data": {
      "text/plain": [
       "tensor(9.9237)"
      ]
     },
     "execution_count": 59,
     "metadata": {},
     "output_type": "execute_result"
    }
   ],
   "source": [
    "get_tv_of_path(paths_ll[0, :, :])"
   ]
  },
  {
   "cell_type": "code",
   "execution_count": 114,
   "id": "bfab52e8",
   "metadata": {},
   "outputs": [
    {
     "data": {
      "text/plain": [
       "array([-0.97565892, -0.96089106])"
      ]
     },
     "execution_count": 114,
     "metadata": {},
     "output_type": "execute_result"
    }
   ],
   "source": [
    "(paths_ll[0, -1, :] - paths_ll[0, 0, :]).numpy()"
   ]
  },
  {
   "cell_type": "code",
   "execution_count": null,
   "id": "aef1ab39",
   "metadata": {},
   "outputs": [],
   "source": []
  }
 ],
 "metadata": {
  "kernelspec": {
   "display_name": "Python 3 (ipykernel)",
   "language": "python",
   "name": "python3"
  },
  "language_info": {
   "codemirror_mode": {
    "name": "ipython",
    "version": 3
   },
   "file_extension": ".py",
   "mimetype": "text/x-python",
   "name": "python",
   "nbconvert_exporter": "python",
   "pygments_lexer": "ipython3",
   "version": "3.7.11"
  }
 },
 "nbformat": 4,
 "nbformat_minor": 5
}
