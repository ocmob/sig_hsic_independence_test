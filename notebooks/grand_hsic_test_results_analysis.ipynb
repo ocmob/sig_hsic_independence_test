{
 "cells": [
  {
   "cell_type": "code",
   "execution_count": 29,
   "id": "595a558d",
   "metadata": {},
   "outputs": [],
   "source": [
    "import pickle\n",
    "import pandas as pd\n",
    "import matplotlib.pyplot as plt\n",
    "from itertools import product"
   ]
  },
  {
   "cell_type": "code",
   "execution_count": 30,
   "id": "3e282b37",
   "metadata": {},
   "outputs": [],
   "source": [
    "SAMPLE_LENGTHS = [3, 6, 11, 31, 101]\n",
    "M_RUNS = 50\n",
    "CORRELATIONS = [0, 0.1, 0.2, 0.3, 0.4, 0.5, 0.8]\n",
    "EXTINCTION_RATES = [0, 0.5, 1.]\n",
    "RBF_SIGMAS = [0.5, 1., 4., 6., 8.]\n",
    "DYADIC_ORDERS = [0, 2, 4]\n",
    "A=[0., 0.2, 0.5, 0.8]\n",
    "\n",
    "KERNELS_NORMALIZED = [ ('', None) ] \n",
    "KERNELS_NORMALIZED += [ ('', sigma) for sigma in RBF_SIGMAS ]\n",
    "KERNELS_UNNORMALIZED = [ ('', None) ] \n",
    "KERNELS_UNNORMALIZED += [ ('', sigma) for sigma in RBF_SIGMAS ]"
   ]
  },
  {
   "cell_type": "code",
   "execution_count": 61,
   "id": "190dac5b",
   "metadata": {},
   "outputs": [],
   "source": [
    "IDX = pd.IndexSlice"
   ]
  },
  {
   "cell_type": "code",
   "execution_count": 31,
   "id": "3a3ddff5",
   "metadata": {},
   "outputs": [],
   "source": [
    "with open('pickles/intermediate_results_2022-04-26T07.06.35.918534.pickle', 'rb') as f:\n",
    "    res = pickle.load(f)"
   ]
  },
  {
   "cell_type": "code",
   "execution_count": 32,
   "id": "04eee33b",
   "metadata": {},
   "outputs": [],
   "source": [
    "runs = [m for m in range(M_RUANS)]"
   ]
  },
  {
   "cell_type": "code",
   "execution_count": 33,
   "id": "98314ead",
   "metadata": {},
   "outputs": [],
   "source": [
    "def fix_res(res):\n",
    "    len_iter = len(EXTINCTION_RATES)*(len(KERNELS_UNNORMALIZED) + len(KERNELS_NORMALIZED))*len(runs)*len(DYADIC_ORDERS)\n",
    "    len_iter += len(CORRELATIONS)*(len(KERNELS_UNNORMALIZED) + len(KERNELS_NORMALIZED))*len(runs)*len(DYADIC_ORDERS)\n",
    "    \n",
    "    for i, (sl, a) in enumerate(product(SAMPLE_LENGTHS, A)): # DIFF PROD HERE\n",
    "        for k, (ext_rate, (ukernel, ukernel_param), run, order) in enumerate(product(EXTINCTION_RATES, KERNELS_NORMALIZED + KERNELS_UNNORMALIZED, runs, DYADIC_ORDERS)):\n",
    "            if i*len_iter + k >= len(res):\n",
    "                return None\n",
    "            else:\n",
    "                assert res[i*len_iter + k]['process_type'] == 'extinct_gaussian', \"at {}\".format(i*len_iter + k)\n",
    "                res[i*len_iter + k]['sample_length'] = sl\n",
    "                res[i*len_iter + k]['process_param'] = ext_rate\n",
    "        for l, (corr, (ukernel, ukernel_param), run, order) in enumerate(product(CORRELATIONS, KERNELS_NORMALIZED + KERNELS_UNNORMALIZED, runs, DYADIC_ORDERS)):\n",
    "            if i*len_iter + k + l + 1 >= len(res):\n",
    "                return None\n",
    "            else:\n",
    "                assert res[i*len_iter + k + l + 1]['process_type'] == 'lin_corr', \"at {}\".format(i*len_iter + k + l +1)\n",
    "                res[i*len_iter + k + l + 1]['sample_length'] = sl\n",
    "                res[i*len_iter + k + l + 1]['process_param'] = corr"
   ]
  },
  {
   "cell_type": "code",
   "execution_count": 34,
   "id": "f7989a54",
   "metadata": {},
   "outputs": [],
   "source": [
    "fix_res(res)"
   ]
  },
  {
   "cell_type": "code",
   "execution_count": 35,
   "id": "14ce03be",
   "metadata": {},
   "outputs": [],
   "source": [
    "df = pd.DataFrame(res)"
   ]
  },
  {
   "cell_type": "code",
   "execution_count": 58,
   "id": "c54e9e26",
   "metadata": {},
   "outputs": [],
   "source": [
    "INDEX = ['kernel_type', 'kernel_param', 'dyadic_order', 'process_type', 'a', 'process_param', 'sample_length']"
   ]
  },
  {
   "cell_type": "code",
   "execution_count": 119,
   "id": "af130420",
   "metadata": {},
   "outputs": [],
   "source": [
    "nice_df = df.set_index(INDEX)"
   ]
  },
  {
   "cell_type": "code",
   "execution_count": 120,
   "id": "c2843ad3",
   "metadata": {},
   "outputs": [],
   "source": [
    "null_true_df = nice_df.loc[IDX[:, :, :, :, :, 0., :]]\n",
    "null_false_df = nice_df[~nice_df.index.isin(null_true_df.index)]"
   ]
  },
  {
   "cell_type": "code",
   "execution_count": 121,
   "id": "17248357",
   "metadata": {},
   "outputs": [
    {
     "name": "stderr",
     "output_type": "stream",
     "text": [
      "/home/ocmob/miniconda3/envs/signatures/lib/python3.7/site-packages/ipykernel_launcher.py:2: PerformanceWarning: indexing past lexsort depth may impact performance.\n",
      "  \n"
     ]
    }
   ],
   "source": [
    "for i in null_true_df.index.unique():\n",
    "    null_true_df.loc[i, 'type_1_error'] = (null_true_df.loc[i]['p_val'] < 0.05).mean()"
   ]
  },
  {
   "cell_type": "code",
   "execution_count": 122,
   "id": "718c7fcd",
   "metadata": {},
   "outputs": [
    {
     "name": "stderr",
     "output_type": "stream",
     "text": [
      "/home/ocmob/miniconda3/envs/signatures/lib/python3.7/site-packages/ipykernel_launcher.py:2: PerformanceWarning: indexing past lexsort depth may impact performance.\n",
      "  \n"
     ]
    }
   ],
   "source": [
    "for i in null_false_df.index.unique():\n",
    "    null_false_df.loc[i, 'type_2_error'] = (null_false_df.loc[i]['p_val'] > 0.05).mean()"
   ]
  },
  {
   "cell_type": "code",
   "execution_count": 123,
   "id": "522e5307",
   "metadata": {},
   "outputs": [
    {
     "data": {
      "text/plain": [
       "MultiIndex([(  'normalized', 1.0, 4, 'extinct_gaussian', 0.2, 0.0, 3),\n",
       "            ('unnormalized', 1.0, 0, 'extinct_gaussian', 0.0, 0.0, 6),\n",
       "            (  'normalized', 1.0, 2, 'extinct_gaussian', 0.0, 0.0, 3),\n",
       "            ('unnormalized', 0.5, 0, 'extinct_gaussian', 0.2, 0.0, 3),\n",
       "            ('unnormalized', 8.0, 0,         'lin_corr', 0.0, 0.0, 3),\n",
       "            ('unnormalized', nan, 0, 'extinct_gaussian', 0.5, 0.0, 3),\n",
       "            ('unnormalized', 6.0, 0,         'lin_corr', 0.5, 0.0, 3),\n",
       "            ('unnormalized', 0.5, 4, 'extinct_gaussian', 0.0, 0.0, 3),\n",
       "            (  'normalized', nan, 4,         'lin_corr', 0.0, 0.0, 6),\n",
       "            ('unnormalized', nan, 2,         'lin_corr', 0.2, 0.0, 3),\n",
       "            ...\n",
       "            (  'normalized', 0.5, 2,         'lin_corr', 0.0, 0.0, 6),\n",
       "            (  'normalized', 8.0, 2,         'lin_corr', 0.0, 0.0, 3),\n",
       "            ('unnormalized', 0.5, 4,         'lin_corr', 0.8, 0.0, 3),\n",
       "            (  'normalized', 6.0, 0, 'extinct_gaussian', 0.0, 0.0, 3),\n",
       "            (  'normalized', nan, 2,         'lin_corr', 0.0, 0.0, 6),\n",
       "            (  'normalized', 1.0, 4,         'lin_corr', 0.0, 0.0, 3),\n",
       "            ('unnormalized', 0.5, 2, 'extinct_gaussian', 0.0, 0.0, 6),\n",
       "            ('unnormalized', nan, 2, 'extinct_gaussian', 0.8, 0.0, 3),\n",
       "            (  'normalized', nan, 2,         'lin_corr', 0.0, 0.0, 3),\n",
       "            (  'normalized', 4.0, 2, 'extinct_gaussian', 0.2, 0.0, 3)],\n",
       "           names=['kernel_type', 'kernel_param', 'dyadic_order', 'process_type', 'a', 'process_param', 'sample_length'], length=360)"
      ]
     },
     "execution_count": 123,
     "metadata": {},
     "output_type": "execute_result"
    }
   ],
   "source": [
    "null_true_df.sort_values('type_1_error').index.unique()"
   ]
  },
  {
   "cell_type": "code",
   "execution_count": 124,
   "id": "315b5bea",
   "metadata": {},
   "outputs": [
    {
     "data": {
      "text/plain": [
       "MultiIndex([('unnormalized', 8.0, 4,         'lin_corr', 0.0, 0.5, 6),\n",
       "            ('unnormalized', 4.0, 0,         'lin_corr', 0.0, 0.5, 3),\n",
       "            ('unnormalized', 4.0, 2,         'lin_corr', 0.0, 0.5, 3),\n",
       "            ('unnormalized', 4.0, 4,         'lin_corr', 0.0, 0.5, 3),\n",
       "            ('unnormalized', 6.0, 0,         'lin_corr', 0.0, 0.5, 3),\n",
       "            ('unnormalized', 6.0, 2,         'lin_corr', 0.0, 0.5, 3),\n",
       "            ('unnormalized', 6.0, 4,         'lin_corr', 0.0, 0.5, 3),\n",
       "            (  'normalized', 8.0, 2,         'lin_corr', 0.0, 0.5, 3),\n",
       "            (  'normalized', 8.0, 4,         'lin_corr', 0.0, 0.5, 3),\n",
       "            (  'normalized', 8.0, 0,         'lin_corr', 0.0, 0.5, 3),\n",
       "            ...\n",
       "            ('unnormalized', 1.0, 0, 'extinct_gaussian', 0.0, 0.5, 6),\n",
       "            (  'normalized', nan, 0, 'extinct_gaussian', 0.8, 1.0, 3),\n",
       "            ('unnormalized', nan, 2, 'extinct_gaussian', 0.0, 0.5, 6),\n",
       "            ('unnormalized', 4.0, 2, 'extinct_gaussian', 0.8, 0.5, 3),\n",
       "            (  'normalized', nan, 4, 'extinct_gaussian', 0.0, 1.0, 3),\n",
       "            (  'normalized', 4.0, 4, 'extinct_gaussian', 0.8, 1.0, 3),\n",
       "            (  'normalized', nan, 0, 'extinct_gaussian', 0.0, 1.0, 3),\n",
       "            (  'normalized', 1.0, 0, 'extinct_gaussian', 0.8, 1.0, 3),\n",
       "            (  'normalized', 8.0, 2, 'extinct_gaussian', 0.0, 0.5, 6),\n",
       "            (  'normalized', 1.0, 2, 'extinct_gaussian', 0.8, 1.0, 3)],\n",
       "           names=['kernel_type', 'kernel_param', 'dyadic_order', 'process_type', 'a', 'process_param', 'sample_length'], length=1404)"
      ]
     },
     "execution_count": 124,
     "metadata": {},
     "output_type": "execute_result"
    }
   ],
   "source": [
    "null_false_df.sort_values('type_2_error').index.unique()"
   ]
  },
  {
   "cell_type": "code",
   "execution_count": 125,
   "id": "fa29e2ab",
   "metadata": {},
   "outputs": [
    {
     "data": {
      "text/html": [
       "<div>\n",
       "<style scoped>\n",
       "    .dataframe tbody tr th:only-of-type {\n",
       "        vertical-align: middle;\n",
       "    }\n",
       "\n",
       "    .dataframe tbody tr th {\n",
       "        vertical-align: top;\n",
       "    }\n",
       "\n",
       "    .dataframe thead th {\n",
       "        text-align: right;\n",
       "    }\n",
       "</style>\n",
       "<table border=\"1\" class=\"dataframe\">\n",
       "  <thead>\n",
       "    <tr style=\"text-align: right;\">\n",
       "      <th></th>\n",
       "      <th></th>\n",
       "      <th></th>\n",
       "      <th></th>\n",
       "      <th></th>\n",
       "      <th></th>\n",
       "      <th></th>\n",
       "      <th>hsic_score</th>\n",
       "      <th>p_val</th>\n",
       "      <th>type_2_error</th>\n",
       "    </tr>\n",
       "    <tr>\n",
       "      <th>kernel_type</th>\n",
       "      <th>kernel_param</th>\n",
       "      <th>dyadic_order</th>\n",
       "      <th>process_type</th>\n",
       "      <th>a</th>\n",
       "      <th>process_param</th>\n",
       "      <th>sample_length</th>\n",
       "      <th></th>\n",
       "      <th></th>\n",
       "      <th></th>\n",
       "    </tr>\n",
       "  </thead>\n",
       "  <tbody>\n",
       "    <tr>\n",
       "      <th rowspan=\"5\" valign=\"top\">unnormalized</th>\n",
       "      <th>8.0</th>\n",
       "      <th>4</th>\n",
       "      <th>lin_corr</th>\n",
       "      <th>0.0</th>\n",
       "      <th>0.5</th>\n",
       "      <th>6</th>\n",
       "      <td>0.067766</td>\n",
       "      <td>0.00</td>\n",
       "      <td>0.0</td>\n",
       "    </tr>\n",
       "    <tr>\n",
       "      <th rowspan=\"4\" valign=\"top\">4.0</th>\n",
       "      <th>0</th>\n",
       "      <th>lin_corr</th>\n",
       "      <th>0.0</th>\n",
       "      <th>0.5</th>\n",
       "      <th>3</th>\n",
       "      <td>0.054188</td>\n",
       "      <td>0.00</td>\n",
       "      <td>0.0</td>\n",
       "    </tr>\n",
       "    <tr>\n",
       "      <th>2</th>\n",
       "      <th>lin_corr</th>\n",
       "      <th>0.0</th>\n",
       "      <th>0.5</th>\n",
       "      <th>3</th>\n",
       "      <td>0.087524</td>\n",
       "      <td>0.00</td>\n",
       "      <td>0.0</td>\n",
       "    </tr>\n",
       "    <tr>\n",
       "      <th>4</th>\n",
       "      <th>lin_corr</th>\n",
       "      <th>0.0</th>\n",
       "      <th>0.5</th>\n",
       "      <th>3</th>\n",
       "      <td>0.059754</td>\n",
       "      <td>0.00</td>\n",
       "      <td>0.0</td>\n",
       "    </tr>\n",
       "    <tr>\n",
       "      <th>0</th>\n",
       "      <th>lin_corr</th>\n",
       "      <th>0.0</th>\n",
       "      <th>0.5</th>\n",
       "      <th>3</th>\n",
       "      <td>0.071722</td>\n",
       "      <td>0.00</td>\n",
       "      <td>0.0</td>\n",
       "    </tr>\n",
       "    <tr>\n",
       "      <th>...</th>\n",
       "      <th>...</th>\n",
       "      <th>...</th>\n",
       "      <th>...</th>\n",
       "      <th>...</th>\n",
       "      <th>...</th>\n",
       "      <th>...</th>\n",
       "      <td>...</td>\n",
       "      <td>...</td>\n",
       "      <td>...</td>\n",
       "    </tr>\n",
       "    <tr>\n",
       "      <th rowspan=\"5\" valign=\"top\">normalized</th>\n",
       "      <th>8.0</th>\n",
       "      <th>2</th>\n",
       "      <th>extinct_gaussian</th>\n",
       "      <th>0.0</th>\n",
       "      <th>0.5</th>\n",
       "      <th>6</th>\n",
       "      <td>0.034265</td>\n",
       "      <td>0.88</td>\n",
       "      <td>1.0</td>\n",
       "    </tr>\n",
       "    <tr>\n",
       "      <th rowspan=\"3\" valign=\"top\">1.0</th>\n",
       "      <th>2</th>\n",
       "      <th>extinct_gaussian</th>\n",
       "      <th>0.8</th>\n",
       "      <th>1.0</th>\n",
       "      <th>3</th>\n",
       "      <td>0.062536</td>\n",
       "      <td>0.68</td>\n",
       "      <td>1.0</td>\n",
       "    </tr>\n",
       "    <tr>\n",
       "      <th rowspan=\"2\" valign=\"top\">0</th>\n",
       "      <th rowspan=\"2\" valign=\"top\">extinct_gaussian</th>\n",
       "      <th rowspan=\"2\" valign=\"top\">0.8</th>\n",
       "      <th rowspan=\"2\" valign=\"top\">1.0</th>\n",
       "      <th>3</th>\n",
       "      <td>0.050279</td>\n",
       "      <td>0.82</td>\n",
       "      <td>1.0</td>\n",
       "    </tr>\n",
       "    <tr>\n",
       "      <th>3</th>\n",
       "      <td>0.051522</td>\n",
       "      <td>0.96</td>\n",
       "      <td>1.0</td>\n",
       "    </tr>\n",
       "    <tr>\n",
       "      <th>6.0</th>\n",
       "      <th>4</th>\n",
       "      <th>extinct_gaussian</th>\n",
       "      <th>0.5</th>\n",
       "      <th>1.0</th>\n",
       "      <th>3</th>\n",
       "      <td>0.013309</td>\n",
       "      <td>0.12</td>\n",
       "      <td>1.0</td>\n",
       "    </tr>\n",
       "  </tbody>\n",
       "</table>\n",
       "<p>70200 rows × 3 columns</p>\n",
       "</div>"
      ],
      "text/plain": [
       "                                                                                         hsic_score  \\\n",
       "kernel_type  kernel_param dyadic_order process_type     a   process_param sample_length               \n",
       "unnormalized 8.0          4            lin_corr         0.0 0.5           6                0.067766   \n",
       "             4.0          0            lin_corr         0.0 0.5           3                0.054188   \n",
       "                          2            lin_corr         0.0 0.5           3                0.087524   \n",
       "                          4            lin_corr         0.0 0.5           3                0.059754   \n",
       "                          0            lin_corr         0.0 0.5           3                0.071722   \n",
       "...                                                                                             ...   \n",
       "normalized   8.0          2            extinct_gaussian 0.0 0.5           6                0.034265   \n",
       "             1.0          2            extinct_gaussian 0.8 1.0           3                0.062536   \n",
       "                          0            extinct_gaussian 0.8 1.0           3                0.050279   \n",
       "                                                                          3                0.051522   \n",
       "             6.0          4            extinct_gaussian 0.5 1.0           3                0.013309   \n",
       "\n",
       "                                                                                         p_val  \\\n",
       "kernel_type  kernel_param dyadic_order process_type     a   process_param sample_length          \n",
       "unnormalized 8.0          4            lin_corr         0.0 0.5           6               0.00   \n",
       "             4.0          0            lin_corr         0.0 0.5           3               0.00   \n",
       "                          2            lin_corr         0.0 0.5           3               0.00   \n",
       "                          4            lin_corr         0.0 0.5           3               0.00   \n",
       "                          0            lin_corr         0.0 0.5           3               0.00   \n",
       "...                                                                                        ...   \n",
       "normalized   8.0          2            extinct_gaussian 0.0 0.5           6               0.88   \n",
       "             1.0          2            extinct_gaussian 0.8 1.0           3               0.68   \n",
       "                          0            extinct_gaussian 0.8 1.0           3               0.82   \n",
       "                                                                          3               0.96   \n",
       "             6.0          4            extinct_gaussian 0.5 1.0           3               0.12   \n",
       "\n",
       "                                                                                         type_2_error  \n",
       "kernel_type  kernel_param dyadic_order process_type     a   process_param sample_length                \n",
       "unnormalized 8.0          4            lin_corr         0.0 0.5           6                       0.0  \n",
       "             4.0          0            lin_corr         0.0 0.5           3                       0.0  \n",
       "                          2            lin_corr         0.0 0.5           3                       0.0  \n",
       "                          4            lin_corr         0.0 0.5           3                       0.0  \n",
       "                          0            lin_corr         0.0 0.5           3                       0.0  \n",
       "...                                                                                               ...  \n",
       "normalized   8.0          2            extinct_gaussian 0.0 0.5           6                       1.0  \n",
       "             1.0          2            extinct_gaussian 0.8 1.0           3                       1.0  \n",
       "                          0            extinct_gaussian 0.8 1.0           3                       1.0  \n",
       "                                                                          3                       1.0  \n",
       "             6.0          4            extinct_gaussian 0.5 1.0           3                       1.0  \n",
       "\n",
       "[70200 rows x 3 columns]"
      ]
     },
     "execution_count": 125,
     "metadata": {},
     "output_type": "execute_result"
    }
   ],
   "source": [
    "null_false_df.sort_values('type_2_error')"
   ]
  },
  {
   "cell_type": "code",
   "execution_count": 130,
   "id": "75fb2548",
   "metadata": {},
   "outputs": [
    {
     "name": "stderr",
     "output_type": "stream",
     "text": [
      "/home/ocmob/miniconda3/envs/signatures/lib/python3.7/site-packages/ipykernel_launcher.py:1: PerformanceWarning: indexing past lexsort depth may impact performance.\n",
      "  \"\"\"Entry point for launching an IPython kernel.\n",
      "/home/ocmob/miniconda3/envs/signatures/lib/python3.7/site-packages/ipykernel_launcher.py:2: PerformanceWarning: indexing past lexsort depth may impact performance.\n",
      "  \n"
     ]
    },
    {
     "data": {
      "text/plain": [
       "<AxesSubplot:>"
      ]
     },
     "execution_count": 130,
     "metadata": {},
     "output_type": "execute_result"
    },
    {
     "data": {
      "image/png": "[encoded data removed]",
      "text/plain": [
       "<Figure size 432x288 with 1 Axes>"
      ]
     },
     "metadata": {
      "needs_background": "light"
     },
     "output_type": "display_data"
    }
   ],
   "source": [
    "null_false_df.loc[('normalized', 8.0, 4, 'lin_corr', 0.0, 0.5, 6)]['hsic_score'].hist()\n",
    "null_true_df.loc[('normalized', 8.0, 4, 'lin_corr', 0.0, 0., 6)]['hsic_score'].hist()"
   ]
  },
  {
   "cell_type": "code",
   "execution_count": 151,
   "id": "065fd7b7",
   "metadata": {},
   "outputs": [
    {
     "data": {
      "text/plain": [
       "('normalized',\n",
       " slice(None, None, None),\n",
       " slice(None, None, None),\n",
       " slice(None, None, None),\n",
       " slice(None, None, None),\n",
       " slice(None, None, None),\n",
       " slice(None, None, None))"
      ]
     },
     "execution_count": 151,
     "metadata": {},
     "output_type": "execute_result"
    }
   ],
   "source": [
    "IDX['normalized', :, :, :, :, :, :]"
   ]
  },
  {
   "cell_type": "code",
   "execution_count": 155,
   "id": "5c0bac01",
   "metadata": {},
   "outputs": [],
   "source": [
    "def get_type_1_error_for_index(idx_in):\n",
    "    index_norm = null_true_df.loc[IDX['normalized', :, :, :, :, :, :]].index\n",
    "    index_unnorm = null_true_df.loc[IDX['unnormalized', :, :, :, :, :, :]].index\n",
    "    index_in = null_true_df.loc[idx_in].index\n",
    "    \n",
    "    t_1_norm = null_true_df.loc[index_norm.intersection(index_in)]['type_1_error'].mean()\n",
    "    t_1_unnorm = null_true_df.loc[index_unnorm.intersection(index_in)]['type_1_error'].mean()\n",
    "    \n",
    "    return t_1_norm, t_1_unnorm"
   ]
  },
  {
   "cell_type": "code",
   "execution_count": 156,
   "id": "5553f92f",
   "metadata": {},
   "outputs": [],
   "source": [
    "def get_type_2_error_for_index(idx_in):\n",
    "    index_norm = null_false_df.loc[IDX['normalized', :, :, :, :, :, :]].index\n",
    "    index_unnorm = null_false_df.loc[IDX['unnormalized', :, :, :, :, :, :]].index\n",
    "    index_in = null_false_df.loc[idx_in].index\n",
    "    \n",
    "    t_2_norm = null_false_df.loc[index_norm.intersection(index_in)]['type_2_error'].mean()\n",
    "    t_2_unnorm = null_false_df.loc[index_unnorm.intersection(index_in)]['type_2_error'].mean()\n",
    "    \n",
    "    return t_2_norm, t_2_unnorm"
   ]
  },
  {
   "cell_type": "code",
   "execution_count": 157,
   "id": "d736edaf",
   "metadata": {},
   "outputs": [],
   "source": [
    "def get_errors_for_index(idx_in):\n",
    "    t_1_norm, t_1_unnorm = get_type_1_error_for_index(idx_in)\n",
    "    t_2_norm, t_2_unnorm = get_type_2_error_for_index(idx_in)\n",
    "    \n",
    "    return t_1_norm, t_1_unnorm, t_2_norm, t_2_unnorm"
   ]
  },
  {
   "cell_type": "code",
   "execution_count": 158,
   "id": "aa20475e",
   "metadata": {},
   "outputs": [],
   "source": [
    "def print_errors_for_index(idx_in):\n",
    "    t_1_norm, t_1_unnorm, t_2_norm, t_2_unnorm = get_errors_for_index(idx_in)\n",
    "    \n",
    "    print('Type 1, normalized = {}'.format(t_1_norm))\n",
    "    print('Type 1, unnormalized = {}'.format(t_1_unnorm))\n",
    "    print('Type 2, normalized = {}'.format(t_2_norm))\n",
    "    print('Type 2, unnormalized = {}'.format(t_2_unnorm))\n",
    "                "
   ]
  },
  {
   "cell_type": "markdown",
   "id": "9bfeb2ac",
   "metadata": {},
   "source": [
    "# Test errors: aggregate"
   ]
  },
  {
   "cell_type": "code",
   "execution_count": 159,
   "id": "7e47a2c4",
   "metadata": {},
   "outputs": [
    {
     "name": "stdout",
     "output_type": "stream",
     "text": [
      "Type 1, normalized = 0.06200000000000086\n",
      "Type 1, unnormalized = 0.0597777777777783\n",
      "Type 2, normalized = 0.5468091168090876\n",
      "Type 2, unnormalized = 0.5466381766381431\n"
     ]
    }
   ],
   "source": [
    "print_errors_for_index(IDX[:, :, :, :, :, :, :])"
   ]
  },
  {
   "cell_type": "markdown",
   "id": "0e372473",
   "metadata": {},
   "source": [
    "# Test errors: linear correlation"
   ]
  },
  {
   "cell_type": "code",
   "execution_count": 160,
   "id": "25aef67e",
   "metadata": {},
   "outputs": [
    {
     "name": "stdout",
     "output_type": "stream",
     "text": [
      "Type 1, normalized = 0.0660000000000019\n",
      "Type 1, unnormalized = 0.06511111111111341\n",
      "Type 2, normalized = 0.42432950191571195\n",
      "Type 2, unnormalized = 0.42655172413792014\n"
     ]
    }
   ],
   "source": [
    "print_errors_for_index(IDX[:, :, :, 'lin_corr', :, :, :])"
   ]
  },
  {
   "cell_type": "markdown",
   "id": "0e649918",
   "metadata": {},
   "source": [
    "# Test errors: extinct gaussian"
   ]
  },
  {
   "cell_type": "code",
   "execution_count": 161,
   "id": "f068c57d",
   "metadata": {},
   "outputs": [
    {
     "name": "stdout",
     "output_type": "stream",
     "text": [
      "Type 1, normalized = 0.0580000000000017\n",
      "Type 1, unnormalized = 0.054444444444445385\n",
      "Type 2, normalized = 0.9019999999999259\n",
      "Type 2, unnormalized = 0.894888888888848\n"
     ]
    }
   ],
   "source": [
    "print_errors_for_index(IDX[:, :, :, 'extinct_gaussian', :, :, :])"
   ]
  },
  {
   "cell_type": "markdown",
   "id": "edcdd1c7",
   "metadata": {},
   "source": [
    "# Test errors: linear kernel"
   ]
  },
  {
   "cell_type": "code",
   "execution_count": 163,
   "id": "b49384aa",
   "metadata": {},
   "outputs": [
    {
     "name": "stdout",
     "output_type": "stream",
     "text": [
      "Type 1, normalized = 0.06266666666666722\n",
      "Type 1, unnormalized = 0.05666666666666732\n",
      "Type 2, normalized = 0.6476923076923174\n",
      "Type 2, unnormalized = 0.6473504273504421\n"
     ]
    }
   ],
   "source": [
    "print_errors_for_index(IDX[:, float('nan'), :, :, :, :, :])"
   ]
  },
  {
   "cell_type": "markdown",
   "id": "60358244",
   "metadata": {},
   "source": [
    "# Test errors: gaussian kernel"
   ]
  },
  {
   "cell_type": "code",
   "execution_count": 166,
   "id": "16fe723a",
   "metadata": {
    "scrolled": true
   },
   "outputs": [
    {
     "name": "stdout",
     "output_type": "stream",
     "text": [
      "Sigma = 0.5\n",
      "Type 1, normalized = 0.06399999999999992\n",
      "Type 1, unnormalized = 0.06399999999999999\n",
      "Type 2, normalized = 0.6654700854701064\n",
      "Type 2, unnormalized = 0.6637606837607054\n",
      "\n",
      "Sigma = 1.0\n",
      "Type 1, normalized = 0.06000000000000083\n",
      "Type 1, unnormalized = 0.05933333333333459\n",
      "Type 2, normalized = 0.585982905982919\n",
      "Type 2, unnormalized = 0.5842735042735214\n",
      "\n",
      "Sigma = 4.0\n",
      "Type 1, normalized = 0.05800000000000043\n",
      "Type 1, unnormalized = 0.055999999999999384\n",
      "Type 2, normalized = 0.47589743589744227\n",
      "Type 2, unnormalized = 0.4747008547008585\n",
      "\n",
      "Sigma = 6.0\n",
      "Type 1, normalized = 0.0640000000000007\n",
      "Type 1, unnormalized = 0.06400000000000057\n",
      "Type 2, normalized = 0.4589743589743673\n",
      "Type 2, unnormalized = 0.461367521367522\n",
      "\n",
      "Sigma = 8.0\n",
      "Type 1, normalized = 0.06333333333333385\n",
      "Type 1, unnormalized = 0.05866666666666671\n",
      "Type 2, normalized = 0.4468376068376122\n",
      "Type 2, unnormalized = 0.4483760683760782\n",
      "\n"
     ]
    }
   ],
   "source": [
    "for sigma in RBF_SIGMAS:\n",
    "    print(f'Sigma = {sigma}')\n",
    "    print_errors_for_index(IDX[:, sigma, :, :, :, :, :])\n",
    "    print()"
   ]
  },
  {
   "cell_type": "markdown",
   "id": "e3f4a501",
   "metadata": {},
   "source": [
    "# Test errors: kernel w. extinct"
   ]
  },
  {
   "cell_type": "code",
   "execution_count": 168,
   "id": "c3dacf98",
   "metadata": {},
   "outputs": [
    {
     "name": "stdout",
     "output_type": "stream",
     "text": [
      "Sigma = 0.5\n",
      "Type 1, normalized = 0.06133333333333356\n",
      "Type 1, unnormalized = 0.061333333333332886\n",
      "Type 2, normalized = 0.781333333333342\n",
      "Type 2, unnormalized = 0.7693333333333412\n",
      "\n",
      "Sigma = 1.0\n",
      "Type 1, normalized = 0.051999999999999394\n",
      "Type 1, unnormalized = 0.05599999999999974\n",
      "Type 2, normalized = 0.8046666666666727\n",
      "Type 2, unnormalized = 0.7986666666666749\n",
      "\n",
      "Sigma = 4.0\n",
      "Type 1, normalized = 0.05733333333333331\n",
      "Type 1, unnormalized = 0.046666666666666023\n",
      "Type 2, normalized = 0.935333333333347\n",
      "Type 2, unnormalized = 0.9300000000000057\n",
      "\n",
      "Sigma = 6.0\n",
      "Type 1, normalized = 0.06266666666666608\n",
      "Type 1, unnormalized = 0.06133333333333348\n",
      "Type 2, normalized = 0.9546666666666734\n",
      "Type 2, unnormalized = 0.9486666666666833\n",
      "\n",
      "Sigma = 8.0\n",
      "Type 1, normalized = 0.055999999999999675\n",
      "Type 1, unnormalized = 0.048000000000000126\n",
      "Type 2, normalized = 0.9633333333333465\n",
      "Type 2, unnormalized = 0.9580000000000133\n",
      "\n"
     ]
    }
   ],
   "source": [
    "for sigma in RBF_SIGMAS:\n",
    "    print(f'Sigma = {sigma}')\n",
    "    print_errors_for_index(IDX[:, sigma, :, 'extinct_gaussian', :, :, :])\n",
    "    print()"
   ]
  },
  {
   "cell_type": "code",
   "execution_count": 170,
   "id": "1829f466",
   "metadata": {},
   "outputs": [
    {
     "name": "stdout",
     "output_type": "stream",
     "text": [
      "Type 1, normalized = 0.058666666666666305\n",
      "Type 1, unnormalized = 0.053333333333332976\n",
      "Type 2, normalized = 0.9726666666666833\n",
      "Type 2, unnormalized = 0.9646666666666861\n"
     ]
    }
   ],
   "source": [
    "print_errors_for_index(IDX[:, float('nan'), :, 'extinct_gaussian', :, :, :])"
   ]
  },
  {
   "cell_type": "markdown",
   "id": "fd47bc05",
   "metadata": {},
   "source": [
    "# Test errors: kernel w. linear"
   ]
  },
  {
   "cell_type": "code",
   "execution_count": 171,
   "id": "99300c3c",
   "metadata": {},
   "outputs": [
    {
     "name": "stdout",
     "output_type": "stream",
     "text": [
      "Sigma = 0.5\n",
      "Type 1, normalized = 0.06666666666666642\n",
      "Type 1, unnormalized = 0.0666666666666667\n",
      "Type 2, normalized = 0.6255172413793221\n",
      "Type 2, unnormalized = 0.6273563218390878\n",
      "\n",
      "Sigma = 1.0\n",
      "Type 1, normalized = 0.06799999999999953\n",
      "Type 1, unnormalized = 0.06266666666666605\n",
      "Type 2, normalized = 0.5105747126436805\n",
      "Type 2, unnormalized = 0.510344827586223\n",
      "\n",
      "Sigma = 4.0\n",
      "Type 1, normalized = 0.058666666666666506\n",
      "Type 1, unnormalized = 0.06533333333333338\n",
      "Type 2, normalized = 0.3174712643678132\n",
      "Type 2, unnormalized = 0.3177011494252892\n",
      "\n",
      "Sigma = 6.0\n",
      "Type 1, normalized = 0.06533333333333315\n",
      "Type 1, unnormalized = 0.06666666666666653\n",
      "Type 2, normalized = 0.2880459770114899\n",
      "Type 2, unnormalized = 0.29333333333333866\n",
      "\n",
      "Sigma = 8.0\n",
      "Type 1, normalized = 0.07066666666666657\n",
      "Type 1, unnormalized = 0.06933333333333383\n",
      "Type 2, normalized = 0.26873563218390434\n",
      "Type 2, unnormalized = 0.27264367816091867\n",
      "\n",
      "linker\n",
      "Type 1, normalized = 0.06666666666666612\n",
      "Type 1, unnormalized = 0.060000000000000046\n",
      "Type 2, normalized = 0.5356321839080542\n",
      "Type 2, unnormalized = 0.5379310344827674\n"
     ]
    }
   ],
   "source": [
    "for sigma in RBF_SIGMAS:\n",
    "    print(f'Sigma = {sigma}')\n",
    "    print_errors_for_index(IDX[:, sigma, :, 'lin_corr', :, :, :])\n",
    "    print()\n",
    "\n",
    "print('linker')\n",
    "print_errors_for_index(IDX[:, float('nan'), :, 'lin_corr', :, :, :])"
   ]
  },
  {
   "cell_type": "markdown",
   "id": "cae95618",
   "metadata": {},
   "source": [
    "# Agg vs. sample length"
   ]
  },
  {
   "cell_type": "code",
   "execution_count": 175,
   "id": "08c976ef",
   "metadata": {},
   "outputs": [
    {
     "name": "stdout",
     "output_type": "stream",
     "text": [
      "Type 1, normalized = 0.061527777777779964\n",
      "Type 1, unnormalized = 0.06013888888888976\n",
      "Type 2, normalized = 0.5199305555555402\n",
      "Type 2, unnormalized = 0.520381944444413\n"
     ]
    }
   ],
   "source": [
    "print_errors_for_index(IDX[:, :, :, :, :, :, 3])"
   ]
  },
  {
   "cell_type": "code",
   "execution_count": 176,
   "id": "ca4e5fee",
   "metadata": {},
   "outputs": [
    {
     "name": "stdout",
     "output_type": "stream",
     "text": [
      "Type 1, normalized = 0.06388888888888986\n",
      "Type 1, unnormalized = 0.05833333333333421\n",
      "Type 2, normalized = 0.6696825396825491\n",
      "Type 2, unnormalized = 0.6666666666666896\n"
     ]
    }
   ],
   "source": [
    "print_errors_for_index(IDX[:, :, :, :, :, :, 6])"
   ]
  },
  {
   "cell_type": "markdown",
   "id": "bc6a9ea6",
   "metadata": {},
   "source": [
    "# Agg vs. A"
   ]
  },
  {
   "cell_type": "code",
   "execution_count": 178,
   "id": "ddd0232d",
   "metadata": {},
   "outputs": [
    {
     "name": "stdout",
     "output_type": "stream",
     "text": [
      "A = 0.0\n",
      "Type 1, normalized = 0.06472222222222203\n",
      "Type 1, unnormalized = 0.05361111111111069\n",
      "Type 2, normalized = 0.5728888888888607\n",
      "Type 2, unnormalized = 0.572666666666655\n",
      "\n",
      "A = 0.2\n",
      "Type 1, normalized = 0.055000000000000424\n",
      "Type 1, unnormalized = 0.06611111111111136\n",
      "Type 2, normalized = 0.49722222222223383\n",
      "Type 2, unnormalized = 0.49513888888889035\n",
      "\n",
      "A = 0.5\n",
      "Type 1, normalized = 0.06055555555555628\n",
      "Type 1, unnormalized = 0.06000000000000074\n",
      "Type 2, normalized = 0.5270833333333446\n",
      "Type 2, unnormalized = 0.5219444444444559\n",
      "\n",
      "A = 0.8\n",
      "Type 1, normalized = 0.06499999999999942\n",
      "Type 1, unnormalized = 0.06555555555555606\n",
      "Type 2, normalized = 0.5672222222222357\n",
      "Type 2, unnormalized = 0.5740277777777877\n",
      "\n"
     ]
    }
   ],
   "source": [
    "for a in A:\n",
    "    print(f'A = {a}')\n",
    "    print_errors_for_index(IDX[:, :, :, :, a, :, :])\n",
    "    print()"
   ]
  },
  {
   "cell_type": "markdown",
   "id": "0eab2930",
   "metadata": {},
   "source": [
    "# Agg vs. Dyadic Order"
   ]
  },
  {
   "cell_type": "code",
   "execution_count": 179,
   "id": "3366d7e1",
   "metadata": {},
   "outputs": [
    {
     "name": "stdout",
     "output_type": "stream",
     "text": [
      "Order = 0\n",
      "Type 1, normalized = 0.05933333333333412\n",
      "Type 1, unnormalized = 0.05600000000000013\n",
      "Type 2, normalized = 0.5300854700854649\n",
      "Type 2, unnormalized = 0.5250427350427308\n",
      "\n",
      "Order = 2\n",
      "Type 1, normalized = 0.06633333333333444\n",
      "Type 1, unnormalized = 0.059666666666667235\n",
      "Type 2, normalized = 0.5502564102563936\n",
      "Type 2, unnormalized = 0.5576068376068339\n",
      "\n",
      "Order = 4\n",
      "Type 1, normalized = 0.060333333333334294\n",
      "Type 1, unnormalized = 0.06366666666666752\n",
      "Type 2, normalized = 0.560085470085448\n",
      "Type 2, unnormalized = 0.5572649572649403\n",
      "\n"
     ]
    }
   ],
   "source": [
    "for order in DYADIC_ORDERS:\n",
    "    print(f'Order = {order}')\n",
    "    print_errors_for_index(IDX[:, :, order, :, :, :, :])\n",
    "    print()"
   ]
  },
  {
   "cell_type": "markdown",
   "id": "3ae1a0f2",
   "metadata": {},
   "source": [
    "# Agg vs. Dyadic Order vs. kernel"
   ]
  },
  {
   "cell_type": "code",
   "execution_count": 181,
   "id": "5987849f",
   "metadata": {
    "scrolled": true
   },
   "outputs": [
    {
     "name": "stdout",
     "output_type": "stream",
     "text": [
      "Order = 0, Sigma = 0.5\n",
      "Type 1, normalized = 0.059999999999999394\n",
      "Type 1, unnormalized = 0.0639999999999998\n",
      "Type 2, normalized = 0.6548717948717927\n",
      "Type 2, unnormalized = 0.6507692307692317\n",
      "\n",
      "Order = 0, Sigma = 1.0\n",
      "Type 1, normalized = 0.05599999999999954\n",
      "Type 1, unnormalized = 0.057999999999999476\n",
      "Type 2, normalized = 0.5769230769230836\n",
      "Type 2, unnormalized = 0.5661538461538485\n",
      "\n",
      "Order = 0, Sigma = 4.0\n",
      "Type 1, normalized = 0.05599999999999978\n",
      "Type 1, unnormalized = 0.05799999999999982\n",
      "Type 2, normalized = 0.4789743589743597\n",
      "Type 2, unnormalized = 0.46923076923077284\n",
      "\n",
      "Order = 0, Sigma = 6.0\n",
      "Type 1, normalized = 0.07399999999999947\n",
      "Type 1, unnormalized = 0.06199999999999968\n",
      "Type 2, normalized = 0.4584615384615408\n",
      "Type 2, unnormalized = 0.4553846153846186\n",
      "\n",
      "Order = 0, Sigma = 8.0\n",
      "Type 1, normalized = 0.05599999999999937\n",
      "Type 1, unnormalized = 0.053999999999999944\n",
      "Type 2, normalized = 0.45025641025641544\n",
      "Type 2, unnormalized = 0.44717948717949185\n",
      "\n",
      "Order = 0, linker\n",
      "Type 1, normalized = 0.05399999999999941\n",
      "Type 1, unnormalized = 0.03999999999999968\n",
      "Type 2, normalized = 0.5610256410256382\n",
      "Type 2, unnormalized = 0.5615384615384622\n",
      "\n",
      "Order = 2, Sigma = 0.5\n",
      "Type 1, normalized = 0.07199999999999983\n",
      "Type 1, unnormalized = 0.05799999999999965\n",
      "Type 2, normalized = 0.6641025641025762\n",
      "Type 2, unnormalized = 0.6697435897435966\n",
      "\n",
      "Order = 2, Sigma = 1.0\n",
      "Type 1, normalized = 0.05799999999999984\n",
      "Type 1, unnormalized = 0.05599999999999962\n",
      "Type 2, normalized = 0.591794871794867\n",
      "Type 2, unnormalized = 0.5943589743589709\n",
      "\n",
      "Order = 2, Sigma = 4.0\n",
      "Type 1, normalized = 0.05999999999999979\n",
      "Type 1, unnormalized = 0.04999999999999955\n",
      "Type 2, normalized = 0.46974358974359254\n",
      "Type 2, unnormalized = 0.47487179487179143\n",
      "\n",
      "Order = 2, Sigma = 6.0\n",
      "Type 1, normalized = 0.05599999999999956\n",
      "Type 1, unnormalized = 0.05999999999999965\n",
      "Type 2, normalized = 0.4543589743589733\n",
      "Type 2, unnormalized = 0.46307692307692067\n",
      "\n",
      "Order = 2, Sigma = 8.0\n",
      "Type 1, normalized = 0.07399999999999954\n",
      "Type 1, unnormalized = 0.05599999999999967\n",
      "Type 2, normalized = 0.4389743589743599\n",
      "Type 2, unnormalized = 0.45230769230769496\n",
      "\n",
      "Order = 2, linker\n",
      "Type 1, normalized = 0.07799999999999946\n",
      "Type 1, unnormalized = 0.07800000000000025\n",
      "Type 2, normalized = 0.6825641025641077\n",
      "Type 2, unnormalized = 0.6912820512820689\n",
      "\n",
      "Order = 4, Sigma = 0.5\n",
      "Type 1, normalized = 0.059999999999999526\n",
      "Type 1, unnormalized = 0.06999999999999992\n",
      "Type 2, normalized = 0.6774358974359005\n",
      "Type 2, unnormalized = 0.670769230769228\n",
      "\n",
      "Order = 4, Sigma = 1.0\n",
      "Type 1, normalized = 0.06599999999999998\n",
      "Type 1, unnormalized = 0.06399999999999967\n",
      "Type 2, normalized = 0.5892307692307643\n",
      "Type 2, unnormalized = 0.5923076923076983\n",
      "\n",
      "Order = 4, Sigma = 4.0\n",
      "Type 1, normalized = 0.057999999999999545\n",
      "Type 1, unnormalized = 0.05999999999999934\n",
      "Type 2, normalized = 0.478974358974357\n",
      "Type 2, unnormalized = 0.4800000000000013\n",
      "\n",
      "Order = 4, Sigma = 6.0\n",
      "Type 1, normalized = 0.06199999999999953\n",
      "Type 1, unnormalized = 0.06999999999999931\n",
      "Type 2, normalized = 0.46410256410256573\n",
      "Type 2, unnormalized = 0.4656410256410271\n",
      "\n",
      "Order = 4, Sigma = 8.0\n",
      "Type 1, normalized = 0.05999999999999983\n",
      "Type 1, unnormalized = 0.06599999999999986\n",
      "Type 2, normalized = 0.45128205128205817\n",
      "Type 2, unnormalized = 0.4456410256410274\n",
      "\n",
      "Order = 4, linker\n",
      "Type 1, normalized = 0.05599999999999941\n",
      "Type 1, unnormalized = 0.051999999999999554\n",
      "Type 2, normalized = 0.6994871794871869\n",
      "Type 2, unnormalized = 0.6892307692307693\n",
      "\n"
     ]
    }
   ],
   "source": [
    "for order in DYADIC_ORDERS:\n",
    "    for sigma in RBF_SIGMAS:\n",
    "        print(f'Order = {order}, Sigma = {sigma}')\n",
    "        print_errors_for_index(IDX[:, sigma, order, :, :, :, :])\n",
    "        print()\n",
    "\n",
    "    print(f'Order = {order}, linker')\n",
    "    print_errors_for_index(IDX[:, float('nan'), order, :, :, :, :])\n",
    "    print()"
   ]
  },
  {
   "cell_type": "markdown",
   "id": "fdfe688b",
   "metadata": {},
   "source": [
    "# Agg vs. Dyadic Order vs. task"
   ]
  },
  {
   "cell_type": "code",
   "execution_count": 182,
   "id": "816d2f5e",
   "metadata": {},
   "outputs": [
    {
     "name": "stdout",
     "output_type": "stream",
     "text": [
      "Order = 0\n",
      "Type 1, normalized = 0.06200000000000031\n",
      "Type 1, unnormalized = 0.059333333333333654\n",
      "Type 2, normalized = 0.40160919540230133\n",
      "Type 2, unnormalized = 0.39977011494253184\n",
      "Type 1, normalized = 0.056666666666666636\n",
      "Type 1, unnormalized = 0.05266666666666697\n",
      "Type 2, normalized = 0.9026666666666894\n",
      "Type 2, unnormalized = 0.8883333333333623\n",
      "\n",
      "Order = 2\n",
      "Type 1, normalized = 0.07133333333333351\n",
      "Type 1, unnormalized = 0.05866666666666716\n",
      "Type 2, normalized = 0.42931034482759556\n",
      "Type 2, unnormalized = 0.4375862068965595\n",
      "Type 1, normalized = 0.06133333333333379\n",
      "Type 1, unnormalized = 0.060666666666667035\n",
      "Type 2, normalized = 0.9010000000000221\n",
      "Type 2, unnormalized = 0.9056666666666843\n",
      "\n",
      "Order = 4\n",
      "Type 1, normalized = 0.06466666666666711\n",
      "Type 1, unnormalized = 0.07733333333333382\n",
      "Type 2, normalized = 0.442068965517252\n",
      "Type 2, unnormalized = 0.44229885057471874\n",
      "Type 1, normalized = 0.056000000000000084\n",
      "Type 1, unnormalized = 0.05000000000000015\n",
      "Type 2, normalized = 0.9023333333333445\n",
      "Type 2, unnormalized = 0.8906666666666905\n",
      "\n"
     ]
    }
   ],
   "source": [
    "for order in DYADIC_ORDERS:\n",
    "    print(f'Order = {order}')\n",
    "    print_errors_for_index(IDX[:, :, order, 'lin_corr', :, :, :])\n",
    "    print_errors_for_index(IDX[:, :, order, 'extinct_gaussian', :, :, :])\n",
    "    print()"
   ]
  },
  {
   "cell_type": "code",
   "execution_count": null,
   "id": "e2e0af6e",
   "metadata": {},
   "outputs": [],
   "source": []
  }
 ],
 "metadata": {
  "kernelspec": {
   "display_name": "Python 3 (ipykernel)",
   "language": "python",
   "name": "python3"
  },
  "language_info": {
   "codemirror_mode": {
    "name": "ipython",
    "version": 3
   },
   "file_extension": ".py",
   "mimetype": "text/x-python",
   "name": "python",
   "nbconvert_exporter": "python",
   "pygments_lexer": "ipython3",
   "version": "3.7.11"
  }
 },
 "nbformat": 4,
 "nbformat_minor": 5
}
