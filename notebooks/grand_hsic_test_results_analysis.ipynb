{
 "cells": [
  {
   "cell_type": "code",
   "execution_count": 3,
   "id": "595a558d",
   "metadata": {},
   "outputs": [],
   "source": [
    "import pickle\n",
    "import pandas as pd\n",
    "import matplotlib.pyplot as plt\n",
    "from itertools import product"
   ]
  },
  {
   "cell_type": "code",
   "execution_count": 5,
   "id": "3e282b37",
   "metadata": {},
   "outputs": [],
   "source": [
    "SAMPLE_LENGTHS = [3, 6, 11, 31, 101]\n",
    "M_RUNS = 50\n",
    "CORRELATIONS = [0, 0.1, 0.2, 0.3, 0.4, 0.5, 0.8]\n",
    "EXTINCTION_RATES = [0, 0.5, 1.]\n",
    "RBF_SIGMAS = [0.5, 1., 4., 6., 8.]\n",
    "DYADIC_ORDERS = [0, 2, 4]\n",
    "A=[0., 0.2, 0.5, 0.8]\n",
    "\n",
    "KERNELS_NORMALIZED = [ ('', None) ] \n",
    "KERNELS_NORMALIZED += [ ('', sigma) for sigma in RBF_SIGMAS ]\n",
    "KERNELS_UNNORMALIZED = [ ('', None) ] \n",
    "KERNELS_UNNORMALIZED += [ ('', sigma) for sigma in RBF_SIGMAS ]"
   ]
  },
  {
   "cell_type": "code",
   "execution_count": 6,
   "id": "3a3ddff5",
   "metadata": {},
   "outputs": [],
   "source": [
    "with open('pickles/intermediate_results_2022-04-25T09.46.58.891603.pickle', 'rb') as f:\n",
    "    res = pickle.load(f)"
   ]
  },
  {
   "cell_type": "code",
   "execution_count": 7,
   "id": "04eee33b",
   "metadata": {},
   "outputs": [],
   "source": [
    "runs = [m for m in range(M_RUNS)]"
   ]
  },
  {
   "cell_type": "code",
   "execution_count": 10,
   "id": "98314ead",
   "metadata": {},
   "outputs": [],
   "source": [
    "def fix_res(res):\n",
    "    len_iter = len(EXTINCTION_RATES)*(len(KERNELS_UNNORMALIZED) + len(KERNELS_NORMALIZED))*len(runs)*len(DYADIC_ORDERS)\n",
    "    len_iter += len(CORRELATIONS)*(len(KERNELS_UNNORMALIZED) + len(KERNELS_NORMALIZED))*len(runs)*len(DYADIC_ORDERS)\n",
    "    \n",
    "    for i, (sl, a) in enumerate(product(SAMPLE_LENGTHS, A)): # DIFF PROD HERE\n",
    "        for k, (ext_rate, (ukernel, ukernel_param), run, order) in enumerate(product(EXTINCTION_RATES, KERNELS_NORMALIZED + KERNELS_UNNORMALIZED, runs, DYADIC_ORDERS)):\n",
    "            if i*len_iter + k >= len(res):\n",
    "                return None\n",
    "            else:\n",
    "                assert res[i*len_iter + k]['process_type'] == 'extinct_gaussian', \"at {}\".format(i*len_iter + k)\n",
    "                res[i*len_iter + k]['sample_length'] = sl\n",
    "                res[i*len_iter + k]['process_param'] = ext_rate\n",
    "        for l, (corr, (ukernel, ukernel_param), run, order) in enumerate(product(CORRELATIONS, KERNELS_NORMALIZED + KERNELS_UNNORMALIZED, runs, DYADIC_ORDERS)):\n",
    "            if i*len_iter + k + l + 1 >= len(res):\n",
    "                return None\n",
    "            else:\n",
    "                assert res[i*len_iter + k + l + 1]['process_type'] == 'lin_corr', \"at {}\".format(i*len_iter + k + l +1)\n",
    "                res[i*len_iter + k + l + 1]['sample_length'] = sl\n",
    "                res[i*len_iter + k + l + 1]['process_param'] = corr"
   ]
  },
  {
   "cell_type": "code",
   "execution_count": 11,
   "id": "f7989a54",
   "metadata": {},
   "outputs": [],
   "source": [
    "fix_res(res)"
   ]
  },
  {
   "cell_type": "code",
   "execution_count": 12,
   "id": "14ce03be",
   "metadata": {},
   "outputs": [],
   "source": [
    "df = pd.DataFrame(res)"
   ]
  },
  {
   "cell_type": "code",
   "execution_count": 13,
   "id": "af130420",
   "metadata": {},
   "outputs": [],
   "source": [
    "nice_df = df.set_index(['kernel_type', 'kernel_param', 'dyadic_order', 'process_type', 'a', 'process_param', 'sample_length'])"
   ]
  },
  {
   "cell_type": "code",
   "execution_count": 14,
   "id": "d64afa81",
   "metadata": {},
   "outputs": [
    {
     "data": {
      "text/plain": [
       "MultiIndex([(  'normalized', nan, 0, 'extinct_gaussian', 0.0, 0.0, 3),\n",
       "            (  'normalized', nan, 2, 'extinct_gaussian', 0.0, 0.0, 3),\n",
       "            (  'normalized', nan, 4, 'extinct_gaussian', 0.0, 0.0, 3),\n",
       "            (  'normalized', 0.5, 0, 'extinct_gaussian', 0.0, 0.0, 3),\n",
       "            (  'normalized', 0.5, 2, 'extinct_gaussian', 0.0, 0.0, 3),\n",
       "            (  'normalized', 0.5, 4, 'extinct_gaussian', 0.0, 0.0, 3),\n",
       "            (  'normalized', 1.0, 0, 'extinct_gaussian', 0.0, 0.0, 3),\n",
       "            (  'normalized', 1.0, 2, 'extinct_gaussian', 0.0, 0.0, 3),\n",
       "            (  'normalized', 1.0, 4, 'extinct_gaussian', 0.0, 0.0, 3),\n",
       "            (  'normalized', 4.0, 0, 'extinct_gaussian', 0.0, 0.0, 3),\n",
       "            ...\n",
       "            ('unnormalized', 1.0, 4,         'lin_corr', 0.0, 0.2, 6),\n",
       "            ('unnormalized', 4.0, 0,         'lin_corr', 0.0, 0.2, 6),\n",
       "            ('unnormalized', 4.0, 2,         'lin_corr', 0.0, 0.2, 6),\n",
       "            ('unnormalized', 4.0, 4,         'lin_corr', 0.0, 0.2, 6),\n",
       "            ('unnormalized', 6.0, 0,         'lin_corr', 0.0, 0.2, 6),\n",
       "            ('unnormalized', 6.0, 2,         'lin_corr', 0.0, 0.2, 6),\n",
       "            ('unnormalized', 6.0, 4,         'lin_corr', 0.0, 0.2, 6),\n",
       "            ('unnormalized', 8.0, 0,         'lin_corr', 0.0, 0.2, 6),\n",
       "            ('unnormalized', 8.0, 2,         'lin_corr', 0.0, 0.2, 6),\n",
       "            ('unnormalized', 8.0, 4,         'lin_corr', 0.0, 0.2, 6)],\n",
       "           names=['kernel_type', 'kernel_param', 'dyadic_order', 'process_type', 'a', 'process_param', 'sample_length'], length=1656)"
      ]
     },
     "execution_count": 14,
     "metadata": {},
     "output_type": "execute_result"
    }
   ],
   "source": [
    "nice_df.index.unique()"
   ]
  },
  {
   "cell_type": "code",
   "execution_count": 15,
   "id": "89f6eb0d",
   "metadata": {},
   "outputs": [
    {
     "name": "stderr",
     "output_type": "stream",
     "text": [
      "/home/ocmob/miniconda3/envs/signatures/lib/python3.7/site-packages/ipykernel_launcher.py:1: PerformanceWarning: indexing past lexsort depth may impact performance.\n",
      "  \"\"\"Entry point for launching an IPython kernel.\n"
     ]
    },
    {
     "data": {
      "text/plain": [
       "<AxesSubplot:>"
      ]
     },
     "execution_count": 15,
     "metadata": {},
     "output_type": "execute_result"
    },
    {
     "data": {
      "image/png": "[encoded data removed]",
      "text/plain": [
       "<Figure size 432x288 with 1 Axes>"
      ]
     },
     "metadata": {
      "needs_background": "light"
     },
     "output_type": "display_data"
    }
   ],
   "source": [
    "nice_df.loc[('normalized', 4.0, 0, 'extinct_gaussian', 0.0, 0.0, 3)]['hsic_score'].hist()"
   ]
  }
 ],
 "metadata": {
  "kernelspec": {
   "display_name": "Python 3 (ipykernel)",
   "language": "python",
   "name": "python3"
  },
  "language_info": {
   "codemirror_mode": {
    "name": "ipython",
    "version": 3
   },
   "file_extension": ".py",
   "mimetype": "text/x-python",
   "name": "python",
   "nbconvert_exporter": "python",
   "pygments_lexer": "ipython3",
   "version": "3.7.11"
  }
 },
 "nbformat": 4,
 "nbformat_minor": 5
}
