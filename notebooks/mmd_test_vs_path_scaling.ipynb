{
 "cells": [
  {
   "cell_type": "code",
   "execution_count": 1,
   "id": "69373560",
   "metadata": {},
   "outputs": [],
   "source": [
    "import os\n",
    "import sys"
   ]
  },
  {
   "cell_type": "code",
   "execution_count": 2,
   "id": "18c6d697",
   "metadata": {},
   "outputs": [],
   "source": [
    "sys.path.append('../lib')"
   ]
  },
  {
   "cell_type": "code",
   "execution_count": 3,
   "id": "b6a9c29a",
   "metadata": {},
   "outputs": [],
   "source": [
    "import gen_processes;\n",
    "import ast\n",
    "from importlib import reload"
   ]
  },
  {
   "cell_type": "code",
   "execution_count": 4,
   "id": "822ece22",
   "metadata": {},
   "outputs": [
    {
     "data": {
      "text/plain": [
       "<module 'process_discriminator' from '../lib/process_discriminator.py'>"
      ]
     },
     "execution_count": 4,
     "metadata": {},
     "output_type": "execute_result"
    }
   ],
   "source": [
    "import process_discriminator\n",
    "reload(process_discriminator)"
   ]
  },
  {
   "cell_type": "code",
   "execution_count": 5,
   "id": "af491630",
   "metadata": {},
   "outputs": [],
   "source": [
    "reload(gen_processes);"
   ]
  },
  {
   "cell_type": "code",
   "execution_count": 6,
   "id": "eb2d182e",
   "metadata": {},
   "outputs": [],
   "source": [
    "import numpy as np\n",
    "import matplotlib.pyplot as plt\n",
    "import torch\n",
    "torch.set_default_dtype(torch.double)"
   ]
  },
  {
   "cell_type": "code",
   "execution_count": 7,
   "id": "863dd4e4",
   "metadata": {},
   "outputs": [],
   "source": [
    "from tqdm import tqdm"
   ]
  },
  {
   "cell_type": "code",
   "execution_count": 8,
   "id": "b1a815b2",
   "metadata": {},
   "outputs": [],
   "source": [
    "from itertools import product"
   ]
  },
  {
   "cell_type": "code",
   "execution_count": 9,
   "id": "c17bf62b",
   "metadata": {},
   "outputs": [],
   "source": [
    "import matplotlib.pyplot as plt"
   ]
  },
  {
   "cell_type": "code",
   "execution_count": 10,
   "id": "ed9972a6",
   "metadata": {},
   "outputs": [],
   "source": [
    "import esig"
   ]
  },
  {
   "cell_type": "code",
   "execution_count": 11,
   "id": "919121f4",
   "metadata": {},
   "outputs": [],
   "source": [
    "esig.set_backend(\"iisignature\")"
   ]
  },
  {
   "cell_type": "code",
   "execution_count": 12,
   "id": "bf078d26",
   "metadata": {},
   "outputs": [],
   "source": [
    "RNG = np.random.default_rng(1234)\n",
    "NO_SAMPLES = 50\n",
    "N_PATHS = 50\n",
    "NLEN = 10"
   ]
  },
  {
   "cell_type": "code",
   "execution_count": 13,
   "id": "6ed0a347",
   "metadata": {},
   "outputs": [],
   "source": [
    "results = {}"
   ]
  },
  {
   "cell_type": "code",
   "execution_count": 19,
   "id": "a47fa2c2",
   "metadata": {
    "scrolled": true
   },
   "outputs": [
    {
     "name": "stdout",
     "output_type": "stream",
     "text": [
      "Step 0\n"
     ]
    },
    {
     "data": {
      "application/vnd.jupyter.widget-view+json": {
       "model_id": "305ccc8676594db8aad89f4d4a4174d0",
       "version_major": 2,
       "version_minor": 0
      },
      "text/plain": [
       "Computing signatures of population 1:   0%|          | 0/50 [00:00<?, ?it/s]"
      ]
     },
     "metadata": {},
     "output_type": "display_data"
    },
    {
     "data": {
      "application/vnd.jupyter.widget-view+json": {
       "model_id": "989d95622ffb45b3876f924ac2555b7b",
       "version_major": 2,
       "version_minor": 0
      },
      "text/plain": [
       "Computing signatures of population 2:   0%|          | 0/50 [00:00<?, ?it/s]"
      ]
     },
     "metadata": {},
     "output_type": "display_data"
    },
    {
     "data": {
      "application/vnd.jupyter.widget-view+json": {
       "model_id": "46dc8ee374ca47f6b6d1ccb86972513b",
       "version_major": 2,
       "version_minor": 0
      },
      "text/plain": [
       "Computing signatures of population 1:   0%|          | 0/50 [00:00<?, ?it/s]"
      ]
     },
     "metadata": {},
     "output_type": "display_data"
    },
    {
     "data": {
      "application/vnd.jupyter.widget-view+json": {
       "model_id": "58b60e9675024cf4bf1ea6bd005a8530",
       "version_major": 2,
       "version_minor": 0
      },
      "text/plain": [
       "Computing signatures of population 2:   0%|          | 0/50 [00:00<?, ?it/s]"
      ]
     },
     "metadata": {},
     "output_type": "display_data"
    },
    {
     "name": "stdout",
     "output_type": "stream",
     "text": [
      "Mistake for same\n",
      "Pass for different\n",
      "Step 1\n"
     ]
    },
    {
     "data": {
      "application/vnd.jupyter.widget-view+json": {
       "model_id": "3df8404ecbb348d0bba8f4e631d60913",
       "version_major": 2,
       "version_minor": 0
      },
      "text/plain": [
       "Computing signatures of population 1:   0%|          | 0/50 [00:00<?, ?it/s]"
      ]
     },
     "metadata": {},
     "output_type": "display_data"
    },
    {
     "data": {
      "application/vnd.jupyter.widget-view+json": {
       "model_id": "7479bbb2b8a84c8ca5e5c51bc8b803c2",
       "version_major": 2,
       "version_minor": 0
      },
      "text/plain": [
       "Computing signatures of population 2:   0%|          | 0/50 [00:00<?, ?it/s]"
      ]
     },
     "metadata": {},
     "output_type": "display_data"
    },
    {
     "data": {
      "application/vnd.jupyter.widget-view+json": {
       "model_id": "c1e521993f8740689e99345007f09408",
       "version_major": 2,
       "version_minor": 0
      },
      "text/plain": [
       "Computing signatures of population 1:   0%|          | 0/50 [00:00<?, ?it/s]"
      ]
     },
     "metadata": {},
     "output_type": "display_data"
    },
    {
     "data": {
      "application/vnd.jupyter.widget-view+json": {
       "model_id": "e283f54050f146f384686b9097a34eaf",
       "version_major": 2,
       "version_minor": 0
      },
      "text/plain": [
       "Computing signatures of population 2:   0%|          | 0/50 [00:00<?, ?it/s]"
      ]
     },
     "metadata": {},
     "output_type": "display_data"
    },
    {
     "name": "stdout",
     "output_type": "stream",
     "text": [
      "Pass for same\n",
      "Pass for different\n",
      "Step 2\n"
     ]
    },
    {
     "data": {
      "application/vnd.jupyter.widget-view+json": {
       "model_id": "aab84daa973b45239ca443f3c5a89bf2",
       "version_major": 2,
       "version_minor": 0
      },
      "text/plain": [
       "Computing signatures of population 1:   0%|          | 0/50 [00:00<?, ?it/s]"
      ]
     },
     "metadata": {},
     "output_type": "display_data"
    },
    {
     "data": {
      "application/vnd.jupyter.widget-view+json": {
       "model_id": "1ed0a7518eed455fa41c9f4f866ab44d",
       "version_major": 2,
       "version_minor": 0
      },
      "text/plain": [
       "Computing signatures of population 2:   0%|          | 0/50 [00:00<?, ?it/s]"
      ]
     },
     "metadata": {},
     "output_type": "display_data"
    },
    {
     "data": {
      "application/vnd.jupyter.widget-view+json": {
       "model_id": "7515d43407cd4cb2b76ef40c98f8fe20",
       "version_major": 2,
       "version_minor": 0
      },
      "text/plain": [
       "Computing signatures of population 1:   0%|          | 0/50 [00:00<?, ?it/s]"
      ]
     },
     "metadata": {},
     "output_type": "display_data"
    },
    {
     "data": {
      "application/vnd.jupyter.widget-view+json": {
       "model_id": "1a0fd44c56a54af4845abb20cd978ecf",
       "version_major": 2,
       "version_minor": 0
      },
      "text/plain": [
       "Computing signatures of population 2:   0%|          | 0/50 [00:00<?, ?it/s]"
      ]
     },
     "metadata": {},
     "output_type": "display_data"
    },
    {
     "name": "stdout",
     "output_type": "stream",
     "text": [
      "Pass for same\n",
      "Pass for different\n",
      "Step 3\n"
     ]
    },
    {
     "data": {
      "application/vnd.jupyter.widget-view+json": {
       "model_id": "fdf3a913ecdb4e719ad3cff9847383ac",
       "version_major": 2,
       "version_minor": 0
      },
      "text/plain": [
       "Computing signatures of population 1:   0%|          | 0/50 [00:00<?, ?it/s]"
      ]
     },
     "metadata": {},
     "output_type": "display_data"
    },
    {
     "data": {
      "application/vnd.jupyter.widget-view+json": {
       "model_id": "024e51401c48400a8e3fe3e700ebae8e",
       "version_major": 2,
       "version_minor": 0
      },
      "text/plain": [
       "Computing signatures of population 2:   0%|          | 0/50 [00:00<?, ?it/s]"
      ]
     },
     "metadata": {},
     "output_type": "display_data"
    },
    {
     "data": {
      "application/vnd.jupyter.widget-view+json": {
       "model_id": "a163c48d4b5842fe9f2ce32addd4922b",
       "version_major": 2,
       "version_minor": 0
      },
      "text/plain": [
       "Computing signatures of population 1:   0%|          | 0/50 [00:00<?, ?it/s]"
      ]
     },
     "metadata": {},
     "output_type": "display_data"
    },
    {
     "data": {
      "application/vnd.jupyter.widget-view+json": {
       "model_id": "751ce7ab1c874d1f91363b31306eb56d",
       "version_major": 2,
       "version_minor": 0
      },
      "text/plain": [
       "Computing signatures of population 2:   0%|          | 0/50 [00:00<?, ?it/s]"
      ]
     },
     "metadata": {},
     "output_type": "display_data"
    },
    {
     "name": "stdout",
     "output_type": "stream",
     "text": [
      "Mistake for same\n",
      "Pass for different\n",
      "Step 4\n"
     ]
    },
    {
     "data": {
      "application/vnd.jupyter.widget-view+json": {
       "model_id": "4b7c0a785cd148ad8bf94ee3d11edd31",
       "version_major": 2,
       "version_minor": 0
      },
      "text/plain": [
       "Computing signatures of population 1:   0%|          | 0/50 [00:00<?, ?it/s]"
      ]
     },
     "metadata": {},
     "output_type": "display_data"
    },
    {
     "data": {
      "application/vnd.jupyter.widget-view+json": {
       "model_id": "7fa14cf935744634883b9d97880c1224",
       "version_major": 2,
       "version_minor": 0
      },
      "text/plain": [
       "Computing signatures of population 2:   0%|          | 0/50 [00:00<?, ?it/s]"
      ]
     },
     "metadata": {},
     "output_type": "display_data"
    },
    {
     "data": {
      "application/vnd.jupyter.widget-view+json": {
       "model_id": "64f44f77bbc0452b9ce17f3ed50c6ed7",
       "version_major": 2,
       "version_minor": 0
      },
      "text/plain": [
       "Computing signatures of population 1:   0%|          | 0/50 [00:00<?, ?it/s]"
      ]
     },
     "metadata": {},
     "output_type": "display_data"
    },
    {
     "data": {
      "application/vnd.jupyter.widget-view+json": {
       "model_id": "5904e7bc38814c9a91b19df5775c06ec",
       "version_major": 2,
       "version_minor": 0
      },
      "text/plain": [
       "Computing signatures of population 2:   0%|          | 0/50 [00:00<?, ?it/s]"
      ]
     },
     "metadata": {},
     "output_type": "display_data"
    },
    {
     "name": "stdout",
     "output_type": "stream",
     "text": [
      "Mistake for same\n",
      "Pass for different\n",
      "Step 5\n"
     ]
    },
    {
     "data": {
      "application/vnd.jupyter.widget-view+json": {
       "model_id": "faeb9b7c7776475cb405fb658d2a6810",
       "version_major": 2,
       "version_minor": 0
      },
      "text/plain": [
       "Computing signatures of population 1:   0%|          | 0/50 [00:00<?, ?it/s]"
      ]
     },
     "metadata": {},
     "output_type": "display_data"
    },
    {
     "data": {
      "application/vnd.jupyter.widget-view+json": {
       "model_id": "9f075b1f332a495a9a61bf8b699ae93e",
       "version_major": 2,
       "version_minor": 0
      },
      "text/plain": [
       "Computing signatures of population 2:   0%|          | 0/50 [00:00<?, ?it/s]"
      ]
     },
     "metadata": {},
     "output_type": "display_data"
    },
    {
     "data": {
      "application/vnd.jupyter.widget-view+json": {
       "model_id": "9afb36e488344dba895350b731b03f82",
       "version_major": 2,
       "version_minor": 0
      },
      "text/plain": [
       "Computing signatures of population 1:   0%|          | 0/50 [00:00<?, ?it/s]"
      ]
     },
     "metadata": {},
     "output_type": "display_data"
    },
    {
     "data": {
      "application/vnd.jupyter.widget-view+json": {
       "model_id": "7c08ffac10ec4f22bc2750bfda36acf6",
       "version_major": 2,
       "version_minor": 0
      },
      "text/plain": [
       "Computing signatures of population 2:   0%|          | 0/50 [00:00<?, ?it/s]"
      ]
     },
     "metadata": {},
     "output_type": "display_data"
    },
    {
     "name": "stdout",
     "output_type": "stream",
     "text": [
      "Pass for same\n",
      "Pass for different\n",
      "Step 6\n"
     ]
    },
    {
     "data": {
      "application/vnd.jupyter.widget-view+json": {
       "model_id": "03cb0f2e5b954ef087eb0cdda793b2c9",
       "version_major": 2,
       "version_minor": 0
      },
      "text/plain": [
       "Computing signatures of population 1:   0%|          | 0/50 [00:00<?, ?it/s]"
      ]
     },
     "metadata": {},
     "output_type": "display_data"
    },
    {
     "data": {
      "application/vnd.jupyter.widget-view+json": {
       "model_id": "c507631af64c4ca4b7d45712e7921452",
       "version_major": 2,
       "version_minor": 0
      },
      "text/plain": [
       "Computing signatures of population 2:   0%|          | 0/50 [00:00<?, ?it/s]"
      ]
     },
     "metadata": {},
     "output_type": "display_data"
    },
    {
     "data": {
      "application/vnd.jupyter.widget-view+json": {
       "model_id": "20f7be9d2f3447069839df6152ff9b24",
       "version_major": 2,
       "version_minor": 0
      },
      "text/plain": [
       "Computing signatures of population 1:   0%|          | 0/50 [00:00<?, ?it/s]"
      ]
     },
     "metadata": {},
     "output_type": "display_data"
    },
    {
     "data": {
      "application/vnd.jupyter.widget-view+json": {
       "model_id": "7545f4893fc1405aa042c12fa2e292e1",
       "version_major": 2,
       "version_minor": 0
      },
      "text/plain": [
       "Computing signatures of population 2:   0%|          | 0/50 [00:00<?, ?it/s]"
      ]
     },
     "metadata": {},
     "output_type": "display_data"
    },
    {
     "name": "stdout",
     "output_type": "stream",
     "text": [
      "Pass for same\n",
      "Pass for different\n",
      "Step 7\n"
     ]
    },
    {
     "data": {
      "application/vnd.jupyter.widget-view+json": {
       "model_id": "4e3c7c01849c4b44a57406e5236474e2",
       "version_major": 2,
       "version_minor": 0
      },
      "text/plain": [
       "Computing signatures of population 1:   0%|          | 0/50 [00:00<?, ?it/s]"
      ]
     },
     "metadata": {},
     "output_type": "display_data"
    },
    {
     "data": {
      "application/vnd.jupyter.widget-view+json": {
       "model_id": "0d3993438dec4aeb990519cdb1aec0b1",
       "version_major": 2,
       "version_minor": 0
      },
      "text/plain": [
       "Computing signatures of population 2:   0%|          | 0/50 [00:00<?, ?it/s]"
      ]
     },
     "metadata": {},
     "output_type": "display_data"
    },
    {
     "data": {
      "application/vnd.jupyter.widget-view+json": {
       "model_id": "9271f501e3814548847e464e7ac8b7a8",
       "version_major": 2,
       "version_minor": 0
      },
      "text/plain": [
       "Computing signatures of population 1:   0%|          | 0/50 [00:00<?, ?it/s]"
      ]
     },
     "metadata": {},
     "output_type": "display_data"
    },
    {
     "data": {
      "application/vnd.jupyter.widget-view+json": {
       "model_id": "66070465a9a449ccb05db5ce0be5c6f1",
       "version_major": 2,
       "version_minor": 0
      },
      "text/plain": [
       "Computing signatures of population 2:   0%|          | 0/50 [00:00<?, ?it/s]"
      ]
     },
     "metadata": {},
     "output_type": "display_data"
    },
    {
     "name": "stdout",
     "output_type": "stream",
     "text": [
      "Mistake for same\n",
      "Pass for different\n",
      "Step 8\n"
     ]
    },
    {
     "data": {
      "application/vnd.jupyter.widget-view+json": {
       "model_id": "fd16837f6d434bbe877f03dd03a34744",
       "version_major": 2,
       "version_minor": 0
      },
      "text/plain": [
       "Computing signatures of population 1:   0%|          | 0/50 [00:00<?, ?it/s]"
      ]
     },
     "metadata": {},
     "output_type": "display_data"
    },
    {
     "data": {
      "application/vnd.jupyter.widget-view+json": {
       "model_id": "887cabf78064458d851ba742c8fa66f5",
       "version_major": 2,
       "version_minor": 0
      },
      "text/plain": [
       "Computing signatures of population 2:   0%|          | 0/50 [00:00<?, ?it/s]"
      ]
     },
     "metadata": {},
     "output_type": "display_data"
    },
    {
     "data": {
      "application/vnd.jupyter.widget-view+json": {
       "model_id": "a542592b00f84b13bc1700486ac26e4c",
       "version_major": 2,
       "version_minor": 0
      },
      "text/plain": [
       "Computing signatures of population 1:   0%|          | 0/50 [00:00<?, ?it/s]"
      ]
     },
     "metadata": {},
     "output_type": "display_data"
    },
    {
     "data": {
      "application/vnd.jupyter.widget-view+json": {
       "model_id": "bdf05f1f41054d0a8fcb8f91c6785d86",
       "version_major": 2,
       "version_minor": 0
      },
      "text/plain": [
       "Computing signatures of population 2:   0%|          | 0/50 [00:00<?, ?it/s]"
      ]
     },
     "metadata": {},
     "output_type": "display_data"
    },
    {
     "name": "stdout",
     "output_type": "stream",
     "text": [
      "Pass for same\n",
      "Pass for different\n",
      "Step 9\n"
     ]
    },
    {
     "data": {
      "application/vnd.jupyter.widget-view+json": {
       "model_id": "cdd3ca2ec1d144d7bca502458c704aea",
       "version_major": 2,
       "version_minor": 0
      },
      "text/plain": [
       "Computing signatures of population 1:   0%|          | 0/50 [00:00<?, ?it/s]"
      ]
     },
     "metadata": {},
     "output_type": "display_data"
    },
    {
     "data": {
      "application/vnd.jupyter.widget-view+json": {
       "model_id": "cf54566a895f48f3b04df7689ae28dd2",
       "version_major": 2,
       "version_minor": 0
      },
      "text/plain": [
       "Computing signatures of population 2:   0%|          | 0/50 [00:00<?, ?it/s]"
      ]
     },
     "metadata": {},
     "output_type": "display_data"
    },
    {
     "data": {
      "application/vnd.jupyter.widget-view+json": {
       "model_id": "934f3fd3c97c4f5586a98d616b9bb01b",
       "version_major": 2,
       "version_minor": 0
      },
      "text/plain": [
       "Computing signatures of population 1:   0%|          | 0/50 [00:00<?, ?it/s]"
      ]
     },
     "metadata": {},
     "output_type": "display_data"
    },
    {
     "data": {
      "application/vnd.jupyter.widget-view+json": {
       "model_id": "143b8d91c48f403e965ba3bf063b022a",
       "version_major": 2,
       "version_minor": 0
      },
      "text/plain": [
       "Computing signatures of population 2:   0%|          | 0/50 [00:00<?, ?it/s]"
      ]
     },
     "metadata": {},
     "output_type": "display_data"
    },
    {
     "name": "stdout",
     "output_type": "stream",
     "text": [
      "Mistake for same\n",
      "Pass for different\n",
      "Step 10\n"
     ]
    },
    {
     "data": {
      "application/vnd.jupyter.widget-view+json": {
       "model_id": "ae483310858a4051a3975bae677314dc",
       "version_major": 2,
       "version_minor": 0
      },
      "text/plain": [
       "Computing signatures of population 1:   0%|          | 0/50 [00:00<?, ?it/s]"
      ]
     },
     "metadata": {},
     "output_type": "display_data"
    },
    {
     "data": {
      "application/vnd.jupyter.widget-view+json": {
       "model_id": "d3c5e073f93d493bacaff62e8c2cca08",
       "version_major": 2,
       "version_minor": 0
      },
      "text/plain": [
       "Computing signatures of population 2:   0%|          | 0/50 [00:00<?, ?it/s]"
      ]
     },
     "metadata": {},
     "output_type": "display_data"
    },
    {
     "data": {
      "application/vnd.jupyter.widget-view+json": {
       "model_id": "99fb22fb5d244466b065ce6782d85ec3",
       "version_major": 2,
       "version_minor": 0
      },
      "text/plain": [
       "Computing signatures of population 1:   0%|          | 0/50 [00:00<?, ?it/s]"
      ]
     },
     "metadata": {},
     "output_type": "display_data"
    },
    {
     "data": {
      "application/vnd.jupyter.widget-view+json": {
       "model_id": "8849e90e229d4a46bf8f2972448961cc",
       "version_major": 2,
       "version_minor": 0
      },
      "text/plain": [
       "Computing signatures of population 2:   0%|          | 0/50 [00:00<?, ?it/s]"
      ]
     },
     "metadata": {},
     "output_type": "display_data"
    },
    {
     "name": "stdout",
     "output_type": "stream",
     "text": [
      "Pass for same\n",
      "Pass for different\n",
      "Step 11\n"
     ]
    },
    {
     "data": {
      "application/vnd.jupyter.widget-view+json": {
       "model_id": "8a83059e2cbd4698a04cf96e652da40c",
       "version_major": 2,
       "version_minor": 0
      },
      "text/plain": [
       "Computing signatures of population 1:   0%|          | 0/50 [00:00<?, ?it/s]"
      ]
     },
     "metadata": {},
     "output_type": "display_data"
    },
    {
     "data": {
      "application/vnd.jupyter.widget-view+json": {
       "model_id": "345250ad0e5d4b428bd7c929514ae22d",
       "version_major": 2,
       "version_minor": 0
      },
      "text/plain": [
       "Computing signatures of population 2:   0%|          | 0/50 [00:00<?, ?it/s]"
      ]
     },
     "metadata": {},
     "output_type": "display_data"
    },
    {
     "data": {
      "application/vnd.jupyter.widget-view+json": {
       "model_id": "643d24b531384cedbca68ce606faa7b6",
       "version_major": 2,
       "version_minor": 0
      },
      "text/plain": [
       "Computing signatures of population 1:   0%|          | 0/50 [00:00<?, ?it/s]"
      ]
     },
     "metadata": {},
     "output_type": "display_data"
    },
    {
     "data": {
      "application/vnd.jupyter.widget-view+json": {
       "model_id": "5133740150df48cca46e27eb7e641785",
       "version_major": 2,
       "version_minor": 0
      },
      "text/plain": [
       "Computing signatures of population 2:   0%|          | 0/50 [00:00<?, ?it/s]"
      ]
     },
     "metadata": {},
     "output_type": "display_data"
    },
    {
     "name": "stdout",
     "output_type": "stream",
     "text": [
      "Pass for same\n",
      "Pass for different\n",
      "Step 12\n"
     ]
    },
    {
     "data": {
      "application/vnd.jupyter.widget-view+json": {
       "model_id": "74b23fab2c044f66921228b9c81a9a86",
       "version_major": 2,
       "version_minor": 0
      },
      "text/plain": [
       "Computing signatures of population 1:   0%|          | 0/50 [00:00<?, ?it/s]"
      ]
     },
     "metadata": {},
     "output_type": "display_data"
    },
    {
     "data": {
      "application/vnd.jupyter.widget-view+json": {
       "model_id": "e373fbabdbff4550bb7208f6dd2f93ce",
       "version_major": 2,
       "version_minor": 0
      },
      "text/plain": [
       "Computing signatures of population 2:   0%|          | 0/50 [00:00<?, ?it/s]"
      ]
     },
     "metadata": {},
     "output_type": "display_data"
    },
    {
     "data": {
      "application/vnd.jupyter.widget-view+json": {
       "model_id": "59d8468f553c49e9822663db671f5878",
       "version_major": 2,
       "version_minor": 0
      },
      "text/plain": [
       "Computing signatures of population 1:   0%|          | 0/50 [00:00<?, ?it/s]"
      ]
     },
     "metadata": {},
     "output_type": "display_data"
    },
    {
     "data": {
      "application/vnd.jupyter.widget-view+json": {
       "model_id": "871b73148ab544eeb07e5c02c3543919",
       "version_major": 2,
       "version_minor": 0
      },
      "text/plain": [
       "Computing signatures of population 2:   0%|          | 0/50 [00:00<?, ?it/s]"
      ]
     },
     "metadata": {},
     "output_type": "display_data"
    },
    {
     "name": "stdout",
     "output_type": "stream",
     "text": [
      "Mistake for same\n",
      "Pass for different\n",
      "Step 13\n"
     ]
    },
    {
     "data": {
      "application/vnd.jupyter.widget-view+json": {
       "model_id": "b75d9ccc40434338b71539b1475dc1c3",
       "version_major": 2,
       "version_minor": 0
      },
      "text/plain": [
       "Computing signatures of population 1:   0%|          | 0/50 [00:00<?, ?it/s]"
      ]
     },
     "metadata": {},
     "output_type": "display_data"
    },
    {
     "data": {
      "application/vnd.jupyter.widget-view+json": {
       "model_id": "50baa67c75cc45e3ae27cf7877f42e16",
       "version_major": 2,
       "version_minor": 0
      },
      "text/plain": [
       "Computing signatures of population 2:   0%|          | 0/50 [00:00<?, ?it/s]"
      ]
     },
     "metadata": {},
     "output_type": "display_data"
    },
    {
     "data": {
      "application/vnd.jupyter.widget-view+json": {
       "model_id": "adf02c4939b24e8fbeedd288a23c823f",
       "version_major": 2,
       "version_minor": 0
      },
      "text/plain": [
       "Computing signatures of population 1:   0%|          | 0/50 [00:00<?, ?it/s]"
      ]
     },
     "metadata": {},
     "output_type": "display_data"
    },
    {
     "data": {
      "application/vnd.jupyter.widget-view+json": {
       "model_id": "c6fb16caa075466d9af87d69e392bdac",
       "version_major": 2,
       "version_minor": 0
      },
      "text/plain": [
       "Computing signatures of population 2:   0%|          | 0/50 [00:00<?, ?it/s]"
      ]
     },
     "metadata": {},
     "output_type": "display_data"
    },
    {
     "name": "stdout",
     "output_type": "stream",
     "text": [
      "Pass for same\n",
      "Pass for different\n",
      "Step 14\n"
     ]
    },
    {
     "data": {
      "application/vnd.jupyter.widget-view+json": {
       "model_id": "d910f9b44b7c4b06945fd408e2eb2ce8",
       "version_major": 2,
       "version_minor": 0
      },
      "text/plain": [
       "Computing signatures of population 1:   0%|          | 0/50 [00:00<?, ?it/s]"
      ]
     },
     "metadata": {},
     "output_type": "display_data"
    },
    {
     "data": {
      "application/vnd.jupyter.widget-view+json": {
       "model_id": "c598e29f7c614c55a310ee52df0bcbd4",
       "version_major": 2,
       "version_minor": 0
      },
      "text/plain": [
       "Computing signatures of population 2:   0%|          | 0/50 [00:00<?, ?it/s]"
      ]
     },
     "metadata": {},
     "output_type": "display_data"
    },
    {
     "data": {
      "application/vnd.jupyter.widget-view+json": {
       "model_id": "bfa77b1afe8348d993e54f543d4e42f4",
       "version_major": 2,
       "version_minor": 0
      },
      "text/plain": [
       "Computing signatures of population 1:   0%|          | 0/50 [00:00<?, ?it/s]"
      ]
     },
     "metadata": {},
     "output_type": "display_data"
    },
    {
     "data": {
      "application/vnd.jupyter.widget-view+json": {
       "model_id": "63b0052d66404369a88a2f22f003dd8a",
       "version_major": 2,
       "version_minor": 0
      },
      "text/plain": [
       "Computing signatures of population 2:   0%|          | 0/50 [00:00<?, ?it/s]"
      ]
     },
     "metadata": {},
     "output_type": "display_data"
    },
    {
     "name": "stdout",
     "output_type": "stream",
     "text": [
      "Mistake for same\n",
      "Pass for different\n",
      "Step 15\n"
     ]
    },
    {
     "data": {
      "application/vnd.jupyter.widget-view+json": {
       "model_id": "151b8737eef544fcaeae19cede8c35c7",
       "version_major": 2,
       "version_minor": 0
      },
      "text/plain": [
       "Computing signatures of population 1:   0%|          | 0/50 [00:00<?, ?it/s]"
      ]
     },
     "metadata": {},
     "output_type": "display_data"
    },
    {
     "data": {
      "application/vnd.jupyter.widget-view+json": {
       "model_id": "2a2994a7c13f4e55b35ec0ab52f37c99",
       "version_major": 2,
       "version_minor": 0
      },
      "text/plain": [
       "Computing signatures of population 2:   0%|          | 0/50 [00:00<?, ?it/s]"
      ]
     },
     "metadata": {},
     "output_type": "display_data"
    },
    {
     "data": {
      "application/vnd.jupyter.widget-view+json": {
       "model_id": "004c0ae6797e47c3b42fae0160d3be03",
       "version_major": 2,
       "version_minor": 0
      },
      "text/plain": [
       "Computing signatures of population 1:   0%|          | 0/50 [00:00<?, ?it/s]"
      ]
     },
     "metadata": {},
     "output_type": "display_data"
    },
    {
     "data": {
      "application/vnd.jupyter.widget-view+json": {
       "model_id": "1451f8495bd74ad0994e96905ce30f8d",
       "version_major": 2,
       "version_minor": 0
      },
      "text/plain": [
       "Computing signatures of population 2:   0%|          | 0/50 [00:00<?, ?it/s]"
      ]
     },
     "metadata": {},
     "output_type": "display_data"
    },
    {
     "name": "stdout",
     "output_type": "stream",
     "text": [
      "Mistake for same\n",
      "Pass for different\n",
      "Step 16\n"
     ]
    },
    {
     "data": {
      "application/vnd.jupyter.widget-view+json": {
       "model_id": "1f175695ed8a4c2aa33dfdd760a339e9",
       "version_major": 2,
       "version_minor": 0
      },
      "text/plain": [
       "Computing signatures of population 1:   0%|          | 0/50 [00:00<?, ?it/s]"
      ]
     },
     "metadata": {},
     "output_type": "display_data"
    },
    {
     "data": {
      "application/vnd.jupyter.widget-view+json": {
       "model_id": "fc38094e72644a5fa8dc2f06375e2f47",
       "version_major": 2,
       "version_minor": 0
      },
      "text/plain": [
       "Computing signatures of population 2:   0%|          | 0/50 [00:00<?, ?it/s]"
      ]
     },
     "metadata": {},
     "output_type": "display_data"
    },
    {
     "data": {
      "application/vnd.jupyter.widget-view+json": {
       "model_id": "cc54cc123ec64cafaa5897149e999f46",
       "version_major": 2,
       "version_minor": 0
      },
      "text/plain": [
       "Computing signatures of population 1:   0%|          | 0/50 [00:00<?, ?it/s]"
      ]
     },
     "metadata": {},
     "output_type": "display_data"
    },
    {
     "data": {
      "application/vnd.jupyter.widget-view+json": {
       "model_id": "d0d8e8287cc94535957babc3bc3a2b3d",
       "version_major": 2,
       "version_minor": 0
      },
      "text/plain": [
       "Computing signatures of population 2:   0%|          | 0/50 [00:00<?, ?it/s]"
      ]
     },
     "metadata": {},
     "output_type": "display_data"
    },
    {
     "name": "stdout",
     "output_type": "stream",
     "text": [
      "Pass for same\n",
      "Pass for different\n",
      "Step 17\n"
     ]
    },
    {
     "data": {
      "application/vnd.jupyter.widget-view+json": {
       "model_id": "12d35bd872ed440b88c868bcd85a6207",
       "version_major": 2,
       "version_minor": 0
      },
      "text/plain": [
       "Computing signatures of population 1:   0%|          | 0/50 [00:00<?, ?it/s]"
      ]
     },
     "metadata": {},
     "output_type": "display_data"
    },
    {
     "data": {
      "application/vnd.jupyter.widget-view+json": {
       "model_id": "67b8918a335341afab259fffbe14663a",
       "version_major": 2,
       "version_minor": 0
      },
      "text/plain": [
       "Computing signatures of population 2:   0%|          | 0/50 [00:00<?, ?it/s]"
      ]
     },
     "metadata": {},
     "output_type": "display_data"
    },
    {
     "data": {
      "application/vnd.jupyter.widget-view+json": {
       "model_id": "ba956cddd2074d32a66d3b2fa0d6944e",
       "version_major": 2,
       "version_minor": 0
      },
      "text/plain": [
       "Computing signatures of population 1:   0%|          | 0/50 [00:00<?, ?it/s]"
      ]
     },
     "metadata": {},
     "output_type": "display_data"
    },
    {
     "data": {
      "application/vnd.jupyter.widget-view+json": {
       "model_id": "c29ef971cba746eca5f05c469625f1be",
       "version_major": 2,
       "version_minor": 0
      },
      "text/plain": [
       "Computing signatures of population 2:   0%|          | 0/50 [00:00<?, ?it/s]"
      ]
     },
     "metadata": {},
     "output_type": "display_data"
    },
    {
     "name": "stdout",
     "output_type": "stream",
     "text": [
      "Pass for same\n",
      "Pass for different\n",
      "Step 18\n"
     ]
    },
    {
     "data": {
      "application/vnd.jupyter.widget-view+json": {
       "model_id": "f557bae6a3134c8daaba11815fc8c5f9",
       "version_major": 2,
       "version_minor": 0
      },
      "text/plain": [
       "Computing signatures of population 1:   0%|          | 0/50 [00:00<?, ?it/s]"
      ]
     },
     "metadata": {},
     "output_type": "display_data"
    },
    {
     "data": {
      "application/vnd.jupyter.widget-view+json": {
       "model_id": "8531043f754a4fb19159e78dc0e84931",
       "version_major": 2,
       "version_minor": 0
      },
      "text/plain": [
       "Computing signatures of population 2:   0%|          | 0/50 [00:00<?, ?it/s]"
      ]
     },
     "metadata": {},
     "output_type": "display_data"
    },
    {
     "data": {
      "application/vnd.jupyter.widget-view+json": {
       "model_id": "802bd86206ae4e998b7dc3dcdf29bbfa",
       "version_major": 2,
       "version_minor": 0
      },
      "text/plain": [
       "Computing signatures of population 1:   0%|          | 0/50 [00:00<?, ?it/s]"
      ]
     },
     "metadata": {},
     "output_type": "display_data"
    },
    {
     "data": {
      "application/vnd.jupyter.widget-view+json": {
       "model_id": "a5efe6d5763a4dfaa9c7895ac0b4a8f5",
       "version_major": 2,
       "version_minor": 0
      },
      "text/plain": [
       "Computing signatures of population 2:   0%|          | 0/50 [00:00<?, ?it/s]"
      ]
     },
     "metadata": {},
     "output_type": "display_data"
    },
    {
     "name": "stdout",
     "output_type": "stream",
     "text": [
      "Mistake for same\n",
      "Pass for different\n",
      "Step 19\n"
     ]
    },
    {
     "data": {
      "application/vnd.jupyter.widget-view+json": {
       "model_id": "459c19d8fd6e4100ae8f2bb29e04bd99",
       "version_major": 2,
       "version_minor": 0
      },
      "text/plain": [
       "Computing signatures of population 1:   0%|          | 0/50 [00:00<?, ?it/s]"
      ]
     },
     "metadata": {},
     "output_type": "display_data"
    },
    {
     "data": {
      "application/vnd.jupyter.widget-view+json": {
       "model_id": "144981251b074bb98d64e9be573d068c",
       "version_major": 2,
       "version_minor": 0
      },
      "text/plain": [
       "Computing signatures of population 2:   0%|          | 0/50 [00:00<?, ?it/s]"
      ]
     },
     "metadata": {},
     "output_type": "display_data"
    },
    {
     "data": {
      "application/vnd.jupyter.widget-view+json": {
       "model_id": "8cf1b5049ad24f7b80d021e0d9d4e5be",
       "version_major": 2,
       "version_minor": 0
      },
      "text/plain": [
       "Computing signatures of population 1:   0%|          | 0/50 [00:00<?, ?it/s]"
      ]
     },
     "metadata": {},
     "output_type": "display_data"
    },
    {
     "data": {
      "application/vnd.jupyter.widget-view+json": {
       "model_id": "e44e023d0dae48749b43de3a12e284c0",
       "version_major": 2,
       "version_minor": 0
      },
      "text/plain": [
       "Computing signatures of population 2:   0%|          | 0/50 [00:00<?, ?it/s]"
      ]
     },
     "metadata": {},
     "output_type": "display_data"
    },
    {
     "name": "stdout",
     "output_type": "stream",
     "text": [
      "Pass for same\n",
      "Pass for different\n",
      "Step 20\n"
     ]
    },
    {
     "data": {
      "application/vnd.jupyter.widget-view+json": {
       "model_id": "305db698a9664e12816dc4916c8ca4c1",
       "version_major": 2,
       "version_minor": 0
      },
      "text/plain": [
       "Computing signatures of population 1:   0%|          | 0/50 [00:00<?, ?it/s]"
      ]
     },
     "metadata": {},
     "output_type": "display_data"
    },
    {
     "data": {
      "application/vnd.jupyter.widget-view+json": {
       "model_id": "064fff4606774a43b83bbfafe3d9d3e1",
       "version_major": 2,
       "version_minor": 0
      },
      "text/plain": [
       "Computing signatures of population 2:   0%|          | 0/50 [00:00<?, ?it/s]"
      ]
     },
     "metadata": {},
     "output_type": "display_data"
    },
    {
     "data": {
      "application/vnd.jupyter.widget-view+json": {
       "model_id": "ccbbeae2cb0b4f31890b7569dc9bf625",
       "version_major": 2,
       "version_minor": 0
      },
      "text/plain": [
       "Computing signatures of population 1:   0%|          | 0/50 [00:00<?, ?it/s]"
      ]
     },
     "metadata": {},
     "output_type": "display_data"
    },
    {
     "data": {
      "application/vnd.jupyter.widget-view+json": {
       "model_id": "4023099ac36346958ebdafc8b574c00c",
       "version_major": 2,
       "version_minor": 0
      },
      "text/plain": [
       "Computing signatures of population 2:   0%|          | 0/50 [00:00<?, ?it/s]"
      ]
     },
     "metadata": {},
     "output_type": "display_data"
    },
    {
     "name": "stdout",
     "output_type": "stream",
     "text": [
      "Mistake for same\n",
      "Pass for different\n",
      "Step 21\n"
     ]
    },
    {
     "data": {
      "application/vnd.jupyter.widget-view+json": {
       "model_id": "ed9a1d9f55744dbe99210daf6977647d",
       "version_major": 2,
       "version_minor": 0
      },
      "text/plain": [
       "Computing signatures of population 1:   0%|          | 0/50 [00:00<?, ?it/s]"
      ]
     },
     "metadata": {},
     "output_type": "display_data"
    },
    {
     "data": {
      "application/vnd.jupyter.widget-view+json": {
       "model_id": "af625c9b8a56407cbd33ac0fbf70ef11",
       "version_major": 2,
       "version_minor": 0
      },
      "text/plain": [
       "Computing signatures of population 2:   0%|          | 0/50 [00:00<?, ?it/s]"
      ]
     },
     "metadata": {},
     "output_type": "display_data"
    },
    {
     "data": {
      "application/vnd.jupyter.widget-view+json": {
       "model_id": "14734bf0dbc44b8cb76fd0af6c77bfa3",
       "version_major": 2,
       "version_minor": 0
      },
      "text/plain": [
       "Computing signatures of population 1:   0%|          | 0/50 [00:00<?, ?it/s]"
      ]
     },
     "metadata": {},
     "output_type": "display_data"
    },
    {
     "data": {
      "application/vnd.jupyter.widget-view+json": {
       "model_id": "4deecdd482b9453f96f65cde2da4d1dd",
       "version_major": 2,
       "version_minor": 0
      },
      "text/plain": [
       "Computing signatures of population 2:   0%|          | 0/50 [00:00<?, ?it/s]"
      ]
     },
     "metadata": {},
     "output_type": "display_data"
    },
    {
     "name": "stdout",
     "output_type": "stream",
     "text": [
      "Pass for same\n",
      "Pass for different\n",
      "Step 22\n"
     ]
    },
    {
     "data": {
      "application/vnd.jupyter.widget-view+json": {
       "model_id": "7a68dff275b44d0ebe7cf7aab8fdf747",
       "version_major": 2,
       "version_minor": 0
      },
      "text/plain": [
       "Computing signatures of population 1:   0%|          | 0/50 [00:00<?, ?it/s]"
      ]
     },
     "metadata": {},
     "output_type": "display_data"
    },
    {
     "data": {
      "application/vnd.jupyter.widget-view+json": {
       "model_id": "16efc62517da4ebabeecac600e50765e",
       "version_major": 2,
       "version_minor": 0
      },
      "text/plain": [
       "Computing signatures of population 2:   0%|          | 0/50 [00:00<?, ?it/s]"
      ]
     },
     "metadata": {},
     "output_type": "display_data"
    },
    {
     "data": {
      "application/vnd.jupyter.widget-view+json": {
       "model_id": "bc1727bb988b4a1eb91a02d496a0274f",
       "version_major": 2,
       "version_minor": 0
      },
      "text/plain": [
       "Computing signatures of population 1:   0%|          | 0/50 [00:00<?, ?it/s]"
      ]
     },
     "metadata": {},
     "output_type": "display_data"
    },
    {
     "data": {
      "application/vnd.jupyter.widget-view+json": {
       "model_id": "b090ad116b924b27bdebdaef4c7c2259",
       "version_major": 2,
       "version_minor": 0
      },
      "text/plain": [
       "Computing signatures of population 2:   0%|          | 0/50 [00:00<?, ?it/s]"
      ]
     },
     "metadata": {},
     "output_type": "display_data"
    },
    {
     "name": "stdout",
     "output_type": "stream",
     "text": [
      "Pass for same\n",
      "Pass for different\n",
      "Step 23\n"
     ]
    },
    {
     "data": {
      "application/vnd.jupyter.widget-view+json": {
       "model_id": "ab4002bf862c4c0ba74f02e8ad9a85dc",
       "version_major": 2,
       "version_minor": 0
      },
      "text/plain": [
       "Computing signatures of population 1:   0%|          | 0/50 [00:00<?, ?it/s]"
      ]
     },
     "metadata": {},
     "output_type": "display_data"
    },
    {
     "data": {
      "application/vnd.jupyter.widget-view+json": {
       "model_id": "c82989e20ffe450fa89b3d44f7fb9408",
       "version_major": 2,
       "version_minor": 0
      },
      "text/plain": [
       "Computing signatures of population 2:   0%|          | 0/50 [00:00<?, ?it/s]"
      ]
     },
     "metadata": {},
     "output_type": "display_data"
    },
    {
     "data": {
      "application/vnd.jupyter.widget-view+json": {
       "model_id": "ec42e13fb2094b51bef77a0535184a6d",
       "version_major": 2,
       "version_minor": 0
      },
      "text/plain": [
       "Computing signatures of population 1:   0%|          | 0/50 [00:00<?, ?it/s]"
      ]
     },
     "metadata": {},
     "output_type": "display_data"
    },
    {
     "data": {
      "application/vnd.jupyter.widget-view+json": {
       "model_id": "556fadb5398d485bb1b42b53d62f8a0b",
       "version_major": 2,
       "version_minor": 0
      },
      "text/plain": [
       "Computing signatures of population 2:   0%|          | 0/50 [00:00<?, ?it/s]"
      ]
     },
     "metadata": {},
     "output_type": "display_data"
    },
    {
     "name": "stdout",
     "output_type": "stream",
     "text": [
      "Pass for same\n",
      "Pass for different\n",
      "Step 24\n"
     ]
    },
    {
     "data": {
      "application/vnd.jupyter.widget-view+json": {
       "model_id": "0a890a746c164d5389aba55069bd14d7",
       "version_major": 2,
       "version_minor": 0
      },
      "text/plain": [
       "Computing signatures of population 1:   0%|          | 0/50 [00:00<?, ?it/s]"
      ]
     },
     "metadata": {},
     "output_type": "display_data"
    },
    {
     "data": {
      "application/vnd.jupyter.widget-view+json": {
       "model_id": "dcaf181f35b4464481f3f7cdadac8a64",
       "version_major": 2,
       "version_minor": 0
      },
      "text/plain": [
       "Computing signatures of population 2:   0%|          | 0/50 [00:00<?, ?it/s]"
      ]
     },
     "metadata": {},
     "output_type": "display_data"
    },
    {
     "data": {
      "application/vnd.jupyter.widget-view+json": {
       "model_id": "e979bd2d553a413abfab59f7b6a16245",
       "version_major": 2,
       "version_minor": 0
      },
      "text/plain": [
       "Computing signatures of population 1:   0%|          | 0/50 [00:00<?, ?it/s]"
      ]
     },
     "metadata": {},
     "output_type": "display_data"
    },
    {
     "data": {
      "application/vnd.jupyter.widget-view+json": {
       "model_id": "d42e5fc4ec834d288d21bee942dc4848",
       "version_major": 2,
       "version_minor": 0
      },
      "text/plain": [
       "Computing signatures of population 2:   0%|          | 0/50 [00:00<?, ?it/s]"
      ]
     },
     "metadata": {},
     "output_type": "display_data"
    },
    {
     "name": "stdout",
     "output_type": "stream",
     "text": [
      "Mistake for same\n",
      "Pass for different\n",
      "Step 25\n"
     ]
    },
    {
     "data": {
      "application/vnd.jupyter.widget-view+json": {
       "model_id": "41bdfd2f863d43889c88b308d5f739ac",
       "version_major": 2,
       "version_minor": 0
      },
      "text/plain": [
       "Computing signatures of population 1:   0%|          | 0/50 [00:00<?, ?it/s]"
      ]
     },
     "metadata": {},
     "output_type": "display_data"
    },
    {
     "data": {
      "application/vnd.jupyter.widget-view+json": {
       "model_id": "4919ba925e754700988c610b8956a1cf",
       "version_major": 2,
       "version_minor": 0
      },
      "text/plain": [
       "Computing signatures of population 2:   0%|          | 0/50 [00:00<?, ?it/s]"
      ]
     },
     "metadata": {},
     "output_type": "display_data"
    },
    {
     "data": {
      "application/vnd.jupyter.widget-view+json": {
       "model_id": "025beced72504b40b7e962601c6d2143",
       "version_major": 2,
       "version_minor": 0
      },
      "text/plain": [
       "Computing signatures of population 1:   0%|          | 0/50 [00:00<?, ?it/s]"
      ]
     },
     "metadata": {},
     "output_type": "display_data"
    },
    {
     "data": {
      "application/vnd.jupyter.widget-view+json": {
       "model_id": "9e655c36974e4b9e947744aff903f2fc",
       "version_major": 2,
       "version_minor": 0
      },
      "text/plain": [
       "Computing signatures of population 2:   0%|          | 0/50 [00:00<?, ?it/s]"
      ]
     },
     "metadata": {},
     "output_type": "display_data"
    },
    {
     "name": "stdout",
     "output_type": "stream",
     "text": [
      "Pass for same\n",
      "Pass for different\n",
      "Step 26\n"
     ]
    },
    {
     "data": {
      "application/vnd.jupyter.widget-view+json": {
       "model_id": "a18785bb54cb4fe3ae1d5ef51f08430e",
       "version_major": 2,
       "version_minor": 0
      },
      "text/plain": [
       "Computing signatures of population 1:   0%|          | 0/50 [00:00<?, ?it/s]"
      ]
     },
     "metadata": {},
     "output_type": "display_data"
    },
    {
     "data": {
      "application/vnd.jupyter.widget-view+json": {
       "model_id": "20959011d7e1435d9441a2ace3b00732",
       "version_major": 2,
       "version_minor": 0
      },
      "text/plain": [
       "Computing signatures of population 2:   0%|          | 0/50 [00:00<?, ?it/s]"
      ]
     },
     "metadata": {},
     "output_type": "display_data"
    },
    {
     "data": {
      "application/vnd.jupyter.widget-view+json": {
       "model_id": "bbd84bf1b32c45778476d9df5200bd24",
       "version_major": 2,
       "version_minor": 0
      },
      "text/plain": [
       "Computing signatures of population 1:   0%|          | 0/50 [00:00<?, ?it/s]"
      ]
     },
     "metadata": {},
     "output_type": "display_data"
    },
    {
     "data": {
      "application/vnd.jupyter.widget-view+json": {
       "model_id": "8d3111579ad64b9ea4b89ab856625e2c",
       "version_major": 2,
       "version_minor": 0
      },
      "text/plain": [
       "Computing signatures of population 2:   0%|          | 0/50 [00:00<?, ?it/s]"
      ]
     },
     "metadata": {},
     "output_type": "display_data"
    },
    {
     "name": "stdout",
     "output_type": "stream",
     "text": [
      "Pass for same\n",
      "Pass for different\n",
      "Step 27\n"
     ]
    },
    {
     "data": {
      "application/vnd.jupyter.widget-view+json": {
       "model_id": "d5ebb10dd85b42a78c9ef2855226570a",
       "version_major": 2,
       "version_minor": 0
      },
      "text/plain": [
       "Computing signatures of population 1:   0%|          | 0/50 [00:00<?, ?it/s]"
      ]
     },
     "metadata": {},
     "output_type": "display_data"
    },
    {
     "data": {
      "application/vnd.jupyter.widget-view+json": {
       "model_id": "c2633a2601024954a5ca0a530775bac0",
       "version_major": 2,
       "version_minor": 0
      },
      "text/plain": [
       "Computing signatures of population 2:   0%|          | 0/50 [00:00<?, ?it/s]"
      ]
     },
     "metadata": {},
     "output_type": "display_data"
    },
    {
     "data": {
      "application/vnd.jupyter.widget-view+json": {
       "model_id": "396acfe30894427a8edb53aff1db9301",
       "version_major": 2,
       "version_minor": 0
      },
      "text/plain": [
       "Computing signatures of population 1:   0%|          | 0/50 [00:00<?, ?it/s]"
      ]
     },
     "metadata": {},
     "output_type": "display_data"
    },
    {
     "data": {
      "application/vnd.jupyter.widget-view+json": {
       "model_id": "e6d5ca5af03a42cfad4948e864a60ef3",
       "version_major": 2,
       "version_minor": 0
      },
      "text/plain": [
       "Computing signatures of population 2:   0%|          | 0/50 [00:00<?, ?it/s]"
      ]
     },
     "metadata": {},
     "output_type": "display_data"
    },
    {
     "name": "stdout",
     "output_type": "stream",
     "text": [
      "Pass for same\n",
      "Pass for different\n",
      "Step 28\n"
     ]
    },
    {
     "data": {
      "application/vnd.jupyter.widget-view+json": {
       "model_id": "dfec5306412d447ea231c7416e3aa563",
       "version_major": 2,
       "version_minor": 0
      },
      "text/plain": [
       "Computing signatures of population 1:   0%|          | 0/50 [00:00<?, ?it/s]"
      ]
     },
     "metadata": {},
     "output_type": "display_data"
    },
    {
     "data": {
      "application/vnd.jupyter.widget-view+json": {
       "model_id": "813da56f2a794e008a49b0a8c4c67097",
       "version_major": 2,
       "version_minor": 0
      },
      "text/plain": [
       "Computing signatures of population 2:   0%|          | 0/50 [00:00<?, ?it/s]"
      ]
     },
     "metadata": {},
     "output_type": "display_data"
    },
    {
     "data": {
      "application/vnd.jupyter.widget-view+json": {
       "model_id": "03d95db79736462897ae110e80e5b5a9",
       "version_major": 2,
       "version_minor": 0
      },
      "text/plain": [
       "Computing signatures of population 1:   0%|          | 0/50 [00:00<?, ?it/s]"
      ]
     },
     "metadata": {},
     "output_type": "display_data"
    },
    {
     "data": {
      "application/vnd.jupyter.widget-view+json": {
       "model_id": "ac902079d1644a16ab70fc4f9c66830c",
       "version_major": 2,
       "version_minor": 0
      },
      "text/plain": [
       "Computing signatures of population 2:   0%|          | 0/50 [00:00<?, ?it/s]"
      ]
     },
     "metadata": {},
     "output_type": "display_data"
    },
    {
     "name": "stdout",
     "output_type": "stream",
     "text": [
      "Mistake for same\n",
      "Pass for different\n",
      "Step 29\n"
     ]
    },
    {
     "data": {
      "application/vnd.jupyter.widget-view+json": {
       "model_id": "590f5ce045d1470da70c0cfa2875b914",
       "version_major": 2,
       "version_minor": 0
      },
      "text/plain": [
       "Computing signatures of population 1:   0%|          | 0/50 [00:00<?, ?it/s]"
      ]
     },
     "metadata": {},
     "output_type": "display_data"
    },
    {
     "data": {
      "application/vnd.jupyter.widget-view+json": {
       "model_id": "f299fa3ecde74cd79853ad6b973167a2",
       "version_major": 2,
       "version_minor": 0
      },
      "text/plain": [
       "Computing signatures of population 2:   0%|          | 0/50 [00:00<?, ?it/s]"
      ]
     },
     "metadata": {},
     "output_type": "display_data"
    },
    {
     "data": {
      "application/vnd.jupyter.widget-view+json": {
       "model_id": "62ec913aa636413f958a5d37be841491",
       "version_major": 2,
       "version_minor": 0
      },
      "text/plain": [
       "Computing signatures of population 1:   0%|          | 0/50 [00:00<?, ?it/s]"
      ]
     },
     "metadata": {},
     "output_type": "display_data"
    },
    {
     "data": {
      "application/vnd.jupyter.widget-view+json": {
       "model_id": "96eb1f965ba04a35a277a8c4e6f54a31",
       "version_major": 2,
       "version_minor": 0
      },
      "text/plain": [
       "Computing signatures of population 2:   0%|          | 0/50 [00:00<?, ?it/s]"
      ]
     },
     "metadata": {},
     "output_type": "display_data"
    },
    {
     "name": "stdout",
     "output_type": "stream",
     "text": [
      "Mistake for same\n",
      "Pass for different\n",
      "Step 30\n"
     ]
    },
    {
     "data": {
      "application/vnd.jupyter.widget-view+json": {
       "model_id": "a61da698f7034d9c9f5a28ab9e217021",
       "version_major": 2,
       "version_minor": 0
      },
      "text/plain": [
       "Computing signatures of population 1:   0%|          | 0/50 [00:00<?, ?it/s]"
      ]
     },
     "metadata": {},
     "output_type": "display_data"
    },
    {
     "data": {
      "application/vnd.jupyter.widget-view+json": {
       "model_id": "282b41ee78c744a1ae11be7dac889183",
       "version_major": 2,
       "version_minor": 0
      },
      "text/plain": [
       "Computing signatures of population 2:   0%|          | 0/50 [00:00<?, ?it/s]"
      ]
     },
     "metadata": {},
     "output_type": "display_data"
    },
    {
     "data": {
      "application/vnd.jupyter.widget-view+json": {
       "model_id": "8e7861c5563440a08b7309dab0f4f052",
       "version_major": 2,
       "version_minor": 0
      },
      "text/plain": [
       "Computing signatures of population 1:   0%|          | 0/50 [00:00<?, ?it/s]"
      ]
     },
     "metadata": {},
     "output_type": "display_data"
    },
    {
     "data": {
      "application/vnd.jupyter.widget-view+json": {
       "model_id": "b2a63f3f3be749be9d3c8a088a1798de",
       "version_major": 2,
       "version_minor": 0
      },
      "text/plain": [
       "Computing signatures of population 2:   0%|          | 0/50 [00:00<?, ?it/s]"
      ]
     },
     "metadata": {},
     "output_type": "display_data"
    },
    {
     "name": "stdout",
     "output_type": "stream",
     "text": [
      "Pass for same\n",
      "Pass for different\n",
      "Step 31\n"
     ]
    },
    {
     "data": {
      "application/vnd.jupyter.widget-view+json": {
       "model_id": "2ebb3f7b80cf48de8c9ca1f99638e739",
       "version_major": 2,
       "version_minor": 0
      },
      "text/plain": [
       "Computing signatures of population 1:   0%|          | 0/50 [00:00<?, ?it/s]"
      ]
     },
     "metadata": {},
     "output_type": "display_data"
    },
    {
     "data": {
      "application/vnd.jupyter.widget-view+json": {
       "model_id": "adb541f0737f473f801402755ce2e47e",
       "version_major": 2,
       "version_minor": 0
      },
      "text/plain": [
       "Computing signatures of population 2:   0%|          | 0/50 [00:00<?, ?it/s]"
      ]
     },
     "metadata": {},
     "output_type": "display_data"
    },
    {
     "data": {
      "application/vnd.jupyter.widget-view+json": {
       "model_id": "ecc406b014d146ec856fd4969bc048b1",
       "version_major": 2,
       "version_minor": 0
      },
      "text/plain": [
       "Computing signatures of population 1:   0%|          | 0/50 [00:00<?, ?it/s]"
      ]
     },
     "metadata": {},
     "output_type": "display_data"
    },
    {
     "data": {
      "application/vnd.jupyter.widget-view+json": {
       "model_id": "c28308275f394dd291ccbb092700f0ef",
       "version_major": 2,
       "version_minor": 0
      },
      "text/plain": [
       "Computing signatures of population 2:   0%|          | 0/50 [00:00<?, ?it/s]"
      ]
     },
     "metadata": {},
     "output_type": "display_data"
    },
    {
     "name": "stdout",
     "output_type": "stream",
     "text": [
      "Mistake for same\n",
      "Pass for different\n",
      "Step 32\n"
     ]
    },
    {
     "data": {
      "application/vnd.jupyter.widget-view+json": {
       "model_id": "147bf2268b4e48adb7b6f900152965db",
       "version_major": 2,
       "version_minor": 0
      },
      "text/plain": [
       "Computing signatures of population 1:   0%|          | 0/50 [00:00<?, ?it/s]"
      ]
     },
     "metadata": {},
     "output_type": "display_data"
    },
    {
     "data": {
      "application/vnd.jupyter.widget-view+json": {
       "model_id": "4f8ad78d61474cee8a3fbee5bdc4c091",
       "version_major": 2,
       "version_minor": 0
      },
      "text/plain": [
       "Computing signatures of population 2:   0%|          | 0/50 [00:00<?, ?it/s]"
      ]
     },
     "metadata": {},
     "output_type": "display_data"
    },
    {
     "data": {
      "application/vnd.jupyter.widget-view+json": {
       "model_id": "f06e49d6240d4baca7ea36146b7af810",
       "version_major": 2,
       "version_minor": 0
      },
      "text/plain": [
       "Computing signatures of population 1:   0%|          | 0/50 [00:00<?, ?it/s]"
      ]
     },
     "metadata": {},
     "output_type": "display_data"
    },
    {
     "data": {
      "application/vnd.jupyter.widget-view+json": {
       "model_id": "390f0292a929428f8b31e6d6cb17696d",
       "version_major": 2,
       "version_minor": 0
      },
      "text/plain": [
       "Computing signatures of population 2:   0%|          | 0/50 [00:00<?, ?it/s]"
      ]
     },
     "metadata": {},
     "output_type": "display_data"
    },
    {
     "name": "stdout",
     "output_type": "stream",
     "text": [
      "Pass for same\n",
      "Pass for different\n",
      "Step 33\n"
     ]
    },
    {
     "data": {
      "application/vnd.jupyter.widget-view+json": {
       "model_id": "21789c641a5b406ebae821a996430019",
       "version_major": 2,
       "version_minor": 0
      },
      "text/plain": [
       "Computing signatures of population 1:   0%|          | 0/50 [00:00<?, ?it/s]"
      ]
     },
     "metadata": {},
     "output_type": "display_data"
    },
    {
     "data": {
      "application/vnd.jupyter.widget-view+json": {
       "model_id": "a7978955234e4c9894ed5f419c9bb606",
       "version_major": 2,
       "version_minor": 0
      },
      "text/plain": [
       "Computing signatures of population 2:   0%|          | 0/50 [00:00<?, ?it/s]"
      ]
     },
     "metadata": {},
     "output_type": "display_data"
    },
    {
     "data": {
      "application/vnd.jupyter.widget-view+json": {
       "model_id": "32e6bf3af2a742b59df07068e503fbc0",
       "version_major": 2,
       "version_minor": 0
      },
      "text/plain": [
       "Computing signatures of population 1:   0%|          | 0/50 [00:00<?, ?it/s]"
      ]
     },
     "metadata": {},
     "output_type": "display_data"
    },
    {
     "data": {
      "application/vnd.jupyter.widget-view+json": {
       "model_id": "a64db8fa8a9d42e3aa8459222607d51b",
       "version_major": 2,
       "version_minor": 0
      },
      "text/plain": [
       "Computing signatures of population 2:   0%|          | 0/50 [00:00<?, ?it/s]"
      ]
     },
     "metadata": {},
     "output_type": "display_data"
    },
    {
     "name": "stdout",
     "output_type": "stream",
     "text": [
      "Pass for same\n",
      "Pass for different\n",
      "Step 34\n"
     ]
    },
    {
     "data": {
      "application/vnd.jupyter.widget-view+json": {
       "model_id": "4446ebafb3f0498b8ad932416be7d177",
       "version_major": 2,
       "version_minor": 0
      },
      "text/plain": [
       "Computing signatures of population 1:   0%|          | 0/50 [00:00<?, ?it/s]"
      ]
     },
     "metadata": {},
     "output_type": "display_data"
    },
    {
     "data": {
      "application/vnd.jupyter.widget-view+json": {
       "model_id": "8fbb5cf83c0c4b91bff8e8cb288d93fc",
       "version_major": 2,
       "version_minor": 0
      },
      "text/plain": [
       "Computing signatures of population 2:   0%|          | 0/50 [00:00<?, ?it/s]"
      ]
     },
     "metadata": {},
     "output_type": "display_data"
    },
    {
     "data": {
      "application/vnd.jupyter.widget-view+json": {
       "model_id": "ead315bd1ebe4172b2f3d69f7cd7bef6",
       "version_major": 2,
       "version_minor": 0
      },
      "text/plain": [
       "Computing signatures of population 1:   0%|          | 0/50 [00:00<?, ?it/s]"
      ]
     },
     "metadata": {},
     "output_type": "display_data"
    },
    {
     "data": {
      "application/vnd.jupyter.widget-view+json": {
       "model_id": "c0be69ec14e547428e52ebc81db5dd63",
       "version_major": 2,
       "version_minor": 0
      },
      "text/plain": [
       "Computing signatures of population 2:   0%|          | 0/50 [00:00<?, ?it/s]"
      ]
     },
     "metadata": {},
     "output_type": "display_data"
    },
    {
     "name": "stdout",
     "output_type": "stream",
     "text": [
      "Pass for same\n",
      "Pass for different\n",
      "Step 35\n"
     ]
    },
    {
     "data": {
      "application/vnd.jupyter.widget-view+json": {
       "model_id": "e24f01204bd64992a91ab6f93053aaf0",
       "version_major": 2,
       "version_minor": 0
      },
      "text/plain": [
       "Computing signatures of population 1:   0%|          | 0/50 [00:00<?, ?it/s]"
      ]
     },
     "metadata": {},
     "output_type": "display_data"
    },
    {
     "data": {
      "application/vnd.jupyter.widget-view+json": {
       "model_id": "d043f40e59d2492c806daf37b477dbb0",
       "version_major": 2,
       "version_minor": 0
      },
      "text/plain": [
       "Computing signatures of population 2:   0%|          | 0/50 [00:00<?, ?it/s]"
      ]
     },
     "metadata": {},
     "output_type": "display_data"
    },
    {
     "data": {
      "application/vnd.jupyter.widget-view+json": {
       "model_id": "66b67b25ab734ce6a6cf04a143b91c6b",
       "version_major": 2,
       "version_minor": 0
      },
      "text/plain": [
       "Computing signatures of population 1:   0%|          | 0/50 [00:00<?, ?it/s]"
      ]
     },
     "metadata": {},
     "output_type": "display_data"
    },
    {
     "data": {
      "application/vnd.jupyter.widget-view+json": {
       "model_id": "37c43ef254414b54be5bba6c2257df37",
       "version_major": 2,
       "version_minor": 0
      },
      "text/plain": [
       "Computing signatures of population 2:   0%|          | 0/50 [00:00<?, ?it/s]"
      ]
     },
     "metadata": {},
     "output_type": "display_data"
    },
    {
     "name": "stdout",
     "output_type": "stream",
     "text": [
      "Mistake for same\n",
      "Pass for different\n",
      "Step 36\n"
     ]
    },
    {
     "data": {
      "application/vnd.jupyter.widget-view+json": {
       "model_id": "d6a1116b292748de8523982763abb616",
       "version_major": 2,
       "version_minor": 0
      },
      "text/plain": [
       "Computing signatures of population 1:   0%|          | 0/50 [00:00<?, ?it/s]"
      ]
     },
     "metadata": {},
     "output_type": "display_data"
    },
    {
     "data": {
      "application/vnd.jupyter.widget-view+json": {
       "model_id": "71b3bb86b5b3493ba646233ce9f92088",
       "version_major": 2,
       "version_minor": 0
      },
      "text/plain": [
       "Computing signatures of population 2:   0%|          | 0/50 [00:00<?, ?it/s]"
      ]
     },
     "metadata": {},
     "output_type": "display_data"
    },
    {
     "data": {
      "application/vnd.jupyter.widget-view+json": {
       "model_id": "20af5e4389894eabb22b8945e981fc39",
       "version_major": 2,
       "version_minor": 0
      },
      "text/plain": [
       "Computing signatures of population 1:   0%|          | 0/50 [00:00<?, ?it/s]"
      ]
     },
     "metadata": {},
     "output_type": "display_data"
    },
    {
     "data": {
      "application/vnd.jupyter.widget-view+json": {
       "model_id": "6c09821123b04ead9b2117d22a624528",
       "version_major": 2,
       "version_minor": 0
      },
      "text/plain": [
       "Computing signatures of population 2:   0%|          | 0/50 [00:00<?, ?it/s]"
      ]
     },
     "metadata": {},
     "output_type": "display_data"
    },
    {
     "name": "stdout",
     "output_type": "stream",
     "text": [
      "Mistake for same\n",
      "Pass for different\n",
      "Step 37\n"
     ]
    },
    {
     "data": {
      "application/vnd.jupyter.widget-view+json": {
       "model_id": "df1465cd510d4c46822a69df20ec0ef3",
       "version_major": 2,
       "version_minor": 0
      },
      "text/plain": [
       "Computing signatures of population 1:   0%|          | 0/50 [00:00<?, ?it/s]"
      ]
     },
     "metadata": {},
     "output_type": "display_data"
    },
    {
     "data": {
      "application/vnd.jupyter.widget-view+json": {
       "model_id": "d48aab6d3b4b43eabe53c2f5ad0e1d5c",
       "version_major": 2,
       "version_minor": 0
      },
      "text/plain": [
       "Computing signatures of population 2:   0%|          | 0/50 [00:00<?, ?it/s]"
      ]
     },
     "metadata": {},
     "output_type": "display_data"
    },
    {
     "data": {
      "application/vnd.jupyter.widget-view+json": {
       "model_id": "34448eabce3245adb251ac89930d7a00",
       "version_major": 2,
       "version_minor": 0
      },
      "text/plain": [
       "Computing signatures of population 1:   0%|          | 0/50 [00:00<?, ?it/s]"
      ]
     },
     "metadata": {},
     "output_type": "display_data"
    },
    {
     "data": {
      "application/vnd.jupyter.widget-view+json": {
       "model_id": "559515774de54dacb783230849b214a1",
       "version_major": 2,
       "version_minor": 0
      },
      "text/plain": [
       "Computing signatures of population 2:   0%|          | 0/50 [00:00<?, ?it/s]"
      ]
     },
     "metadata": {},
     "output_type": "display_data"
    },
    {
     "name": "stdout",
     "output_type": "stream",
     "text": [
      "Mistake for same\n",
      "Pass for different\n",
      "Step 38\n"
     ]
    },
    {
     "data": {
      "application/vnd.jupyter.widget-view+json": {
       "model_id": "382f5e0364ad41b3ad153aa81fe66184",
       "version_major": 2,
       "version_minor": 0
      },
      "text/plain": [
       "Computing signatures of population 1:   0%|          | 0/50 [00:00<?, ?it/s]"
      ]
     },
     "metadata": {},
     "output_type": "display_data"
    },
    {
     "data": {
      "application/vnd.jupyter.widget-view+json": {
       "model_id": "0386fde3a5884c51ab9e025130d74896",
       "version_major": 2,
       "version_minor": 0
      },
      "text/plain": [
       "Computing signatures of population 2:   0%|          | 0/50 [00:00<?, ?it/s]"
      ]
     },
     "metadata": {},
     "output_type": "display_data"
    },
    {
     "data": {
      "application/vnd.jupyter.widget-view+json": {
       "model_id": "170e23aeb970480d985776a66ad9b39f",
       "version_major": 2,
       "version_minor": 0
      },
      "text/plain": [
       "Computing signatures of population 1:   0%|          | 0/50 [00:00<?, ?it/s]"
      ]
     },
     "metadata": {},
     "output_type": "display_data"
    },
    {
     "data": {
      "application/vnd.jupyter.widget-view+json": {
       "model_id": "fe43fbcfb657461db70c0de8432db44e",
       "version_major": 2,
       "version_minor": 0
      },
      "text/plain": [
       "Computing signatures of population 2:   0%|          | 0/50 [00:00<?, ?it/s]"
      ]
     },
     "metadata": {},
     "output_type": "display_data"
    },
    {
     "name": "stdout",
     "output_type": "stream",
     "text": [
      "Pass for same\n",
      "Pass for different\n",
      "Step 39\n"
     ]
    },
    {
     "data": {
      "application/vnd.jupyter.widget-view+json": {
       "model_id": "432f3774ab43490db8c6d5851985c2a1",
       "version_major": 2,
       "version_minor": 0
      },
      "text/plain": [
       "Computing signatures of population 1:   0%|          | 0/50 [00:00<?, ?it/s]"
      ]
     },
     "metadata": {},
     "output_type": "display_data"
    },
    {
     "data": {
      "application/vnd.jupyter.widget-view+json": {
       "model_id": "004970b79168439b92f0a7f9384bf69f",
       "version_major": 2,
       "version_minor": 0
      },
      "text/plain": [
       "Computing signatures of population 2:   0%|          | 0/50 [00:00<?, ?it/s]"
      ]
     },
     "metadata": {},
     "output_type": "display_data"
    },
    {
     "data": {
      "application/vnd.jupyter.widget-view+json": {
       "model_id": "b4677eef09d5429e86b23e9aa86a46b3",
       "version_major": 2,
       "version_minor": 0
      },
      "text/plain": [
       "Computing signatures of population 1:   0%|          | 0/50 [00:00<?, ?it/s]"
      ]
     },
     "metadata": {},
     "output_type": "display_data"
    },
    {
     "data": {
      "application/vnd.jupyter.widget-view+json": {
       "model_id": "fdab0ca1a3d64c0eb1ac058a4da89de9",
       "version_major": 2,
       "version_minor": 0
      },
      "text/plain": [
       "Computing signatures of population 2:   0%|          | 0/50 [00:00<?, ?it/s]"
      ]
     },
     "metadata": {},
     "output_type": "display_data"
    },
    {
     "name": "stdout",
     "output_type": "stream",
     "text": [
      "Mistake for same\n",
      "Pass for different\n",
      "Step 40\n"
     ]
    },
    {
     "data": {
      "application/vnd.jupyter.widget-view+json": {
       "model_id": "7c910770a0914a69a82cd5bc881d2015",
       "version_major": 2,
       "version_minor": 0
      },
      "text/plain": [
       "Computing signatures of population 1:   0%|          | 0/50 [00:00<?, ?it/s]"
      ]
     },
     "metadata": {},
     "output_type": "display_data"
    },
    {
     "data": {
      "application/vnd.jupyter.widget-view+json": {
       "model_id": "12d28ea972684d049174987c78287990",
       "version_major": 2,
       "version_minor": 0
      },
      "text/plain": [
       "Computing signatures of population 2:   0%|          | 0/50 [00:00<?, ?it/s]"
      ]
     },
     "metadata": {},
     "output_type": "display_data"
    },
    {
     "data": {
      "application/vnd.jupyter.widget-view+json": {
       "model_id": "d136bc37e4cb4ea4bf600b2132b7b738",
       "version_major": 2,
       "version_minor": 0
      },
      "text/plain": [
       "Computing signatures of population 1:   0%|          | 0/50 [00:00<?, ?it/s]"
      ]
     },
     "metadata": {},
     "output_type": "display_data"
    },
    {
     "data": {
      "application/vnd.jupyter.widget-view+json": {
       "model_id": "9b48f1073624449197b87665d5a74525",
       "version_major": 2,
       "version_minor": 0
      },
      "text/plain": [
       "Computing signatures of population 2:   0%|          | 0/50 [00:00<?, ?it/s]"
      ]
     },
     "metadata": {},
     "output_type": "display_data"
    },
    {
     "name": "stdout",
     "output_type": "stream",
     "text": [
      "Mistake for same\n",
      "Pass for different\n",
      "Step 41\n"
     ]
    },
    {
     "data": {
      "application/vnd.jupyter.widget-view+json": {
       "model_id": "76a758620809452c8542b2872572632a",
       "version_major": 2,
       "version_minor": 0
      },
      "text/plain": [
       "Computing signatures of population 1:   0%|          | 0/50 [00:00<?, ?it/s]"
      ]
     },
     "metadata": {},
     "output_type": "display_data"
    },
    {
     "data": {
      "application/vnd.jupyter.widget-view+json": {
       "model_id": "0b1e6c5126e54e8cbb37904fde6f451f",
       "version_major": 2,
       "version_minor": 0
      },
      "text/plain": [
       "Computing signatures of population 2:   0%|          | 0/50 [00:00<?, ?it/s]"
      ]
     },
     "metadata": {},
     "output_type": "display_data"
    },
    {
     "data": {
      "application/vnd.jupyter.widget-view+json": {
       "model_id": "b98cfc72882b4fce906f008429e8a3c2",
       "version_major": 2,
       "version_minor": 0
      },
      "text/plain": [
       "Computing signatures of population 1:   0%|          | 0/50 [00:00<?, ?it/s]"
      ]
     },
     "metadata": {},
     "output_type": "display_data"
    },
    {
     "data": {
      "application/vnd.jupyter.widget-view+json": {
       "model_id": "8d52e0027b784524acf1cfc5a3e64d30",
       "version_major": 2,
       "version_minor": 0
      },
      "text/plain": [
       "Computing signatures of population 2:   0%|          | 0/50 [00:00<?, ?it/s]"
      ]
     },
     "metadata": {},
     "output_type": "display_data"
    },
    {
     "name": "stdout",
     "output_type": "stream",
     "text": [
      "Mistake for same\n",
      "Pass for different\n",
      "Step 42\n"
     ]
    },
    {
     "data": {
      "application/vnd.jupyter.widget-view+json": {
       "model_id": "4d1734db0c3e4b679c59888a92d606fb",
       "version_major": 2,
       "version_minor": 0
      },
      "text/plain": [
       "Computing signatures of population 1:   0%|          | 0/50 [00:00<?, ?it/s]"
      ]
     },
     "metadata": {},
     "output_type": "display_data"
    },
    {
     "data": {
      "application/vnd.jupyter.widget-view+json": {
       "model_id": "472ae59125f242dea89c63323f3ec3f9",
       "version_major": 2,
       "version_minor": 0
      },
      "text/plain": [
       "Computing signatures of population 2:   0%|          | 0/50 [00:00<?, ?it/s]"
      ]
     },
     "metadata": {},
     "output_type": "display_data"
    },
    {
     "data": {
      "application/vnd.jupyter.widget-view+json": {
       "model_id": "2afb2a97225b4ffe9ac4417de6a241eb",
       "version_major": 2,
       "version_minor": 0
      },
      "text/plain": [
       "Computing signatures of population 1:   0%|          | 0/50 [00:00<?, ?it/s]"
      ]
     },
     "metadata": {},
     "output_type": "display_data"
    },
    {
     "data": {
      "application/vnd.jupyter.widget-view+json": {
       "model_id": "db3dc3a342904334a847764926780705",
       "version_major": 2,
       "version_minor": 0
      },
      "text/plain": [
       "Computing signatures of population 2:   0%|          | 0/50 [00:00<?, ?it/s]"
      ]
     },
     "metadata": {},
     "output_type": "display_data"
    },
    {
     "name": "stdout",
     "output_type": "stream",
     "text": [
      "Mistake for same\n",
      "Pass for different\n",
      "Step 43\n"
     ]
    },
    {
     "data": {
      "application/vnd.jupyter.widget-view+json": {
       "model_id": "2e5f01603ebe496abc9812eb0d6c1e93",
       "version_major": 2,
       "version_minor": 0
      },
      "text/plain": [
       "Computing signatures of population 1:   0%|          | 0/50 [00:00<?, ?it/s]"
      ]
     },
     "metadata": {},
     "output_type": "display_data"
    },
    {
     "data": {
      "application/vnd.jupyter.widget-view+json": {
       "model_id": "7dc325b8f852418684630122c424bcc8",
       "version_major": 2,
       "version_minor": 0
      },
      "text/plain": [
       "Computing signatures of population 2:   0%|          | 0/50 [00:00<?, ?it/s]"
      ]
     },
     "metadata": {},
     "output_type": "display_data"
    },
    {
     "data": {
      "application/vnd.jupyter.widget-view+json": {
       "model_id": "c767edd5063b477bb04417b40c05a348",
       "version_major": 2,
       "version_minor": 0
      },
      "text/plain": [
       "Computing signatures of population 1:   0%|          | 0/50 [00:00<?, ?it/s]"
      ]
     },
     "metadata": {},
     "output_type": "display_data"
    },
    {
     "data": {
      "application/vnd.jupyter.widget-view+json": {
       "model_id": "1815fc5dc86d468e83964aa0b229f25f",
       "version_major": 2,
       "version_minor": 0
      },
      "text/plain": [
       "Computing signatures of population 2:   0%|          | 0/50 [00:00<?, ?it/s]"
      ]
     },
     "metadata": {},
     "output_type": "display_data"
    },
    {
     "name": "stdout",
     "output_type": "stream",
     "text": [
      "Mistake for same\n",
      "Pass for different\n",
      "Step 44\n"
     ]
    },
    {
     "data": {
      "application/vnd.jupyter.widget-view+json": {
       "model_id": "ffdd53c8cd38440dbed594c92f40efb0",
       "version_major": 2,
       "version_minor": 0
      },
      "text/plain": [
       "Computing signatures of population 1:   0%|          | 0/50 [00:00<?, ?it/s]"
      ]
     },
     "metadata": {},
     "output_type": "display_data"
    },
    {
     "data": {
      "application/vnd.jupyter.widget-view+json": {
       "model_id": "f3a519fc492d439b92a0b8e07befabde",
       "version_major": 2,
       "version_minor": 0
      },
      "text/plain": [
       "Computing signatures of population 2:   0%|          | 0/50 [00:00<?, ?it/s]"
      ]
     },
     "metadata": {},
     "output_type": "display_data"
    },
    {
     "data": {
      "application/vnd.jupyter.widget-view+json": {
       "model_id": "030281e53b96489c92005d8ec29a3d31",
       "version_major": 2,
       "version_minor": 0
      },
      "text/plain": [
       "Computing signatures of population 1:   0%|          | 0/50 [00:00<?, ?it/s]"
      ]
     },
     "metadata": {},
     "output_type": "display_data"
    },
    {
     "data": {
      "application/vnd.jupyter.widget-view+json": {
       "model_id": "1f7a78ab5bb347648f25e8a3f573f495",
       "version_major": 2,
       "version_minor": 0
      },
      "text/plain": [
       "Computing signatures of population 2:   0%|          | 0/50 [00:00<?, ?it/s]"
      ]
     },
     "metadata": {},
     "output_type": "display_data"
    },
    {
     "name": "stdout",
     "output_type": "stream",
     "text": [
      "Mistake for same\n",
      "Pass for different\n",
      "Step 45\n"
     ]
    },
    {
     "data": {
      "application/vnd.jupyter.widget-view+json": {
       "model_id": "e2f7a631af0b4f409dc84e39fab72556",
       "version_major": 2,
       "version_minor": 0
      },
      "text/plain": [
       "Computing signatures of population 1:   0%|          | 0/50 [00:00<?, ?it/s]"
      ]
     },
     "metadata": {},
     "output_type": "display_data"
    },
    {
     "data": {
      "application/vnd.jupyter.widget-view+json": {
       "model_id": "d51f74127d204635bf37ab8f9496b97f",
       "version_major": 2,
       "version_minor": 0
      },
      "text/plain": [
       "Computing signatures of population 2:   0%|          | 0/50 [00:00<?, ?it/s]"
      ]
     },
     "metadata": {},
     "output_type": "display_data"
    },
    {
     "data": {
      "application/vnd.jupyter.widget-view+json": {
       "model_id": "132d392523c34cd69833a54ef28632c4",
       "version_major": 2,
       "version_minor": 0
      },
      "text/plain": [
       "Computing signatures of population 1:   0%|          | 0/50 [00:00<?, ?it/s]"
      ]
     },
     "metadata": {},
     "output_type": "display_data"
    },
    {
     "data": {
      "application/vnd.jupyter.widget-view+json": {
       "model_id": "3a3a69c733dd4de9b3ee101e14d63593",
       "version_major": 2,
       "version_minor": 0
      },
      "text/plain": [
       "Computing signatures of population 2:   0%|          | 0/50 [00:00<?, ?it/s]"
      ]
     },
     "metadata": {},
     "output_type": "display_data"
    },
    {
     "name": "stdout",
     "output_type": "stream",
     "text": [
      "Pass for same\n",
      "Pass for different\n",
      "Step 46\n"
     ]
    },
    {
     "data": {
      "application/vnd.jupyter.widget-view+json": {
       "model_id": "04adb477da6c4eff8b25e90f844b4ec6",
       "version_major": 2,
       "version_minor": 0
      },
      "text/plain": [
       "Computing signatures of population 1:   0%|          | 0/50 [00:00<?, ?it/s]"
      ]
     },
     "metadata": {},
     "output_type": "display_data"
    },
    {
     "data": {
      "application/vnd.jupyter.widget-view+json": {
       "model_id": "62f9e1f9b3654ff0b0dc2bff92367123",
       "version_major": 2,
       "version_minor": 0
      },
      "text/plain": [
       "Computing signatures of population 2:   0%|          | 0/50 [00:00<?, ?it/s]"
      ]
     },
     "metadata": {},
     "output_type": "display_data"
    },
    {
     "data": {
      "application/vnd.jupyter.widget-view+json": {
       "model_id": "9b8be4fe94b947e6adb84b6ce8093cf5",
       "version_major": 2,
       "version_minor": 0
      },
      "text/plain": [
       "Computing signatures of population 1:   0%|          | 0/50 [00:00<?, ?it/s]"
      ]
     },
     "metadata": {},
     "output_type": "display_data"
    },
    {
     "data": {
      "application/vnd.jupyter.widget-view+json": {
       "model_id": "c131e718b746446789218e6b556d0f0b",
       "version_major": 2,
       "version_minor": 0
      },
      "text/plain": [
       "Computing signatures of population 2:   0%|          | 0/50 [00:00<?, ?it/s]"
      ]
     },
     "metadata": {},
     "output_type": "display_data"
    },
    {
     "name": "stdout",
     "output_type": "stream",
     "text": [
      "Pass for same\n",
      "Pass for different\n",
      "Step 47\n"
     ]
    },
    {
     "data": {
      "application/vnd.jupyter.widget-view+json": {
       "model_id": "900b7e5794da4653bbaeb78aaf87c550",
       "version_major": 2,
       "version_minor": 0
      },
      "text/plain": [
       "Computing signatures of population 1:   0%|          | 0/50 [00:00<?, ?it/s]"
      ]
     },
     "metadata": {},
     "output_type": "display_data"
    },
    {
     "data": {
      "application/vnd.jupyter.widget-view+json": {
       "model_id": "a42e894b6945455883d1171a9f180f0c",
       "version_major": 2,
       "version_minor": 0
      },
      "text/plain": [
       "Computing signatures of population 2:   0%|          | 0/50 [00:00<?, ?it/s]"
      ]
     },
     "metadata": {},
     "output_type": "display_data"
    },
    {
     "data": {
      "application/vnd.jupyter.widget-view+json": {
       "model_id": "7d9a9e9edfef423da1f577bc015768a3",
       "version_major": 2,
       "version_minor": 0
      },
      "text/plain": [
       "Computing signatures of population 1:   0%|          | 0/50 [00:00<?, ?it/s]"
      ]
     },
     "metadata": {},
     "output_type": "display_data"
    },
    {
     "data": {
      "application/vnd.jupyter.widget-view+json": {
       "model_id": "d3a7675c86ea46bf9dee604a80b9757e",
       "version_major": 2,
       "version_minor": 0
      },
      "text/plain": [
       "Computing signatures of population 2:   0%|          | 0/50 [00:00<?, ?it/s]"
      ]
     },
     "metadata": {},
     "output_type": "display_data"
    },
    {
     "name": "stdout",
     "output_type": "stream",
     "text": [
      "Pass for same\n",
      "Pass for different\n",
      "Step 48\n"
     ]
    },
    {
     "data": {
      "application/vnd.jupyter.widget-view+json": {
       "model_id": "4e4e73e7b0c6408d920b0fbbd065f1b3",
       "version_major": 2,
       "version_minor": 0
      },
      "text/plain": [
       "Computing signatures of population 1:   0%|          | 0/50 [00:00<?, ?it/s]"
      ]
     },
     "metadata": {},
     "output_type": "display_data"
    },
    {
     "data": {
      "application/vnd.jupyter.widget-view+json": {
       "model_id": "920a743c116449e981239f4242ef4b21",
       "version_major": 2,
       "version_minor": 0
      },
      "text/plain": [
       "Computing signatures of population 2:   0%|          | 0/50 [00:00<?, ?it/s]"
      ]
     },
     "metadata": {},
     "output_type": "display_data"
    },
    {
     "data": {
      "application/vnd.jupyter.widget-view+json": {
       "model_id": "c2a721e416524b8e87de9c9a272c11df",
       "version_major": 2,
       "version_minor": 0
      },
      "text/plain": [
       "Computing signatures of population 1:   0%|          | 0/50 [00:00<?, ?it/s]"
      ]
     },
     "metadata": {},
     "output_type": "display_data"
    },
    {
     "data": {
      "application/vnd.jupyter.widget-view+json": {
       "model_id": "7069fc050cf34298bee7a45432ce6604",
       "version_major": 2,
       "version_minor": 0
      },
      "text/plain": [
       "Computing signatures of population 2:   0%|          | 0/50 [00:00<?, ?it/s]"
      ]
     },
     "metadata": {},
     "output_type": "display_data"
    },
    {
     "name": "stdout",
     "output_type": "stream",
     "text": [
      "Pass for same\n",
      "Pass for different\n",
      "Step 49\n"
     ]
    },
    {
     "data": {
      "application/vnd.jupyter.widget-view+json": {
       "model_id": "872d9b6a0c2a45a1b164600f9f7d55e3",
       "version_major": 2,
       "version_minor": 0
      },
      "text/plain": [
       "Computing signatures of population 1:   0%|          | 0/50 [00:00<?, ?it/s]"
      ]
     },
     "metadata": {},
     "output_type": "display_data"
    },
    {
     "data": {
      "application/vnd.jupyter.widget-view+json": {
       "model_id": "dcaf6c6e88e44a6ebfaf0c3b1bc55e9a",
       "version_major": 2,
       "version_minor": 0
      },
      "text/plain": [
       "Computing signatures of population 2:   0%|          | 0/50 [00:00<?, ?it/s]"
      ]
     },
     "metadata": {},
     "output_type": "display_data"
    },
    {
     "data": {
      "application/vnd.jupyter.widget-view+json": {
       "model_id": "777519617f374322a91989ca7deb9118",
       "version_major": 2,
       "version_minor": 0
      },
      "text/plain": [
       "Computing signatures of population 1:   0%|          | 0/50 [00:00<?, ?it/s]"
      ]
     },
     "metadata": {},
     "output_type": "display_data"
    },
    {
     "data": {
      "application/vnd.jupyter.widget-view+json": {
       "model_id": "7b78ee8df92b405290d5962c87992610",
       "version_major": 2,
       "version_minor": 0
      },
      "text/plain": [
       "Computing signatures of population 2:   0%|          | 0/50 [00:00<?, ?it/s]"
      ]
     },
     "metadata": {},
     "output_type": "display_data"
    },
    {
     "name": "stdout",
     "output_type": "stream",
     "text": [
      "Pass for same\n",
      "Pass for different\n",
      "===================================END DIV 0.25\n",
      "Step 0\n"
     ]
    },
    {
     "data": {
      "application/vnd.jupyter.widget-view+json": {
       "model_id": "cb5d99cbdf0b47418091497c1cb5e530",
       "version_major": 2,
       "version_minor": 0
      },
      "text/plain": [
       "Computing signatures of population 1:   0%|          | 0/50 [00:00<?, ?it/s]"
      ]
     },
     "metadata": {},
     "output_type": "display_data"
    },
    {
     "data": {
      "application/vnd.jupyter.widget-view+json": {
       "model_id": "8aea2141480c41a4a1981024e7241e13",
       "version_major": 2,
       "version_minor": 0
      },
      "text/plain": [
       "Computing signatures of population 2:   0%|          | 0/50 [00:00<?, ?it/s]"
      ]
     },
     "metadata": {},
     "output_type": "display_data"
    },
    {
     "data": {
      "application/vnd.jupyter.widget-view+json": {
       "model_id": "fc640369cc6844ac9d7f37615fd63a98",
       "version_major": 2,
       "version_minor": 0
      },
      "text/plain": [
       "Computing signatures of population 1:   0%|          | 0/50 [00:00<?, ?it/s]"
      ]
     },
     "metadata": {},
     "output_type": "display_data"
    },
    {
     "data": {
      "application/vnd.jupyter.widget-view+json": {
       "model_id": "130af01622c94ce1b583a20555ac23ef",
       "version_major": 2,
       "version_minor": 0
      },
      "text/plain": [
       "Computing signatures of population 2:   0%|          | 0/50 [00:00<?, ?it/s]"
      ]
     },
     "metadata": {},
     "output_type": "display_data"
    },
    {
     "name": "stdout",
     "output_type": "stream",
     "text": [
      "Pass for same\n",
      "Pass for different\n",
      "Step 1\n"
     ]
    },
    {
     "data": {
      "application/vnd.jupyter.widget-view+json": {
       "model_id": "d3160b71d8bd4163b33f9082285b62bc",
       "version_major": 2,
       "version_minor": 0
      },
      "text/plain": [
       "Computing signatures of population 1:   0%|          | 0/50 [00:00<?, ?it/s]"
      ]
     },
     "metadata": {},
     "output_type": "display_data"
    },
    {
     "data": {
      "application/vnd.jupyter.widget-view+json": {
       "model_id": "e6682e04b36c4910b9a87c62911e2a84",
       "version_major": 2,
       "version_minor": 0
      },
      "text/plain": [
       "Computing signatures of population 2:   0%|          | 0/50 [00:00<?, ?it/s]"
      ]
     },
     "metadata": {},
     "output_type": "display_data"
    },
    {
     "data": {
      "application/vnd.jupyter.widget-view+json": {
       "model_id": "026310b81af04a359e2679a1d0ad9e2a",
       "version_major": 2,
       "version_minor": 0
      },
      "text/plain": [
       "Computing signatures of population 1:   0%|          | 0/50 [00:00<?, ?it/s]"
      ]
     },
     "metadata": {},
     "output_type": "display_data"
    },
    {
     "data": {
      "application/vnd.jupyter.widget-view+json": {
       "model_id": "f22e375397a14a6ebbf039cf0e0dc751",
       "version_major": 2,
       "version_minor": 0
      },
      "text/plain": [
       "Computing signatures of population 2:   0%|          | 0/50 [00:00<?, ?it/s]"
      ]
     },
     "metadata": {},
     "output_type": "display_data"
    },
    {
     "name": "stdout",
     "output_type": "stream",
     "text": [
      "Pass for same\n",
      "Pass for different\n",
      "Step 2\n"
     ]
    },
    {
     "data": {
      "application/vnd.jupyter.widget-view+json": {
       "model_id": "befce04643694a1b80f62f1d138c1471",
       "version_major": 2,
       "version_minor": 0
      },
      "text/plain": [
       "Computing signatures of population 1:   0%|          | 0/50 [00:00<?, ?it/s]"
      ]
     },
     "metadata": {},
     "output_type": "display_data"
    },
    {
     "data": {
      "application/vnd.jupyter.widget-view+json": {
       "model_id": "3540a50495e14a7baaa4944de751522b",
       "version_major": 2,
       "version_minor": 0
      },
      "text/plain": [
       "Computing signatures of population 2:   0%|          | 0/50 [00:00<?, ?it/s]"
      ]
     },
     "metadata": {},
     "output_type": "display_data"
    },
    {
     "data": {
      "application/vnd.jupyter.widget-view+json": {
       "model_id": "b168525672d6490dbfacdd29e4462ddd",
       "version_major": 2,
       "version_minor": 0
      },
      "text/plain": [
       "Computing signatures of population 1:   0%|          | 0/50 [00:00<?, ?it/s]"
      ]
     },
     "metadata": {},
     "output_type": "display_data"
    },
    {
     "data": {
      "application/vnd.jupyter.widget-view+json": {
       "model_id": "fc2fdb62b8f8441ca99a42caae493aa0",
       "version_major": 2,
       "version_minor": 0
      },
      "text/plain": [
       "Computing signatures of population 2:   0%|          | 0/50 [00:00<?, ?it/s]"
      ]
     },
     "metadata": {},
     "output_type": "display_data"
    },
    {
     "name": "stdout",
     "output_type": "stream",
     "text": [
      "Mistake for same\n",
      "Pass for different\n",
      "Step 3\n"
     ]
    },
    {
     "data": {
      "application/vnd.jupyter.widget-view+json": {
       "model_id": "232692a8a73049498bdcffa40ceeedae",
       "version_major": 2,
       "version_minor": 0
      },
      "text/plain": [
       "Computing signatures of population 1:   0%|          | 0/50 [00:00<?, ?it/s]"
      ]
     },
     "metadata": {},
     "output_type": "display_data"
    },
    {
     "data": {
      "application/vnd.jupyter.widget-view+json": {
       "model_id": "3eaf76c807e74a8899223f0d8f443f26",
       "version_major": 2,
       "version_minor": 0
      },
      "text/plain": [
       "Computing signatures of population 2:   0%|          | 0/50 [00:00<?, ?it/s]"
      ]
     },
     "metadata": {},
     "output_type": "display_data"
    },
    {
     "data": {
      "application/vnd.jupyter.widget-view+json": {
       "model_id": "f81d1399f9af49478e1e9106d0855cb5",
       "version_major": 2,
       "version_minor": 0
      },
      "text/plain": [
       "Computing signatures of population 1:   0%|          | 0/50 [00:00<?, ?it/s]"
      ]
     },
     "metadata": {},
     "output_type": "display_data"
    },
    {
     "data": {
      "application/vnd.jupyter.widget-view+json": {
       "model_id": "34e0358d019140a1b27caf1e613f899d",
       "version_major": 2,
       "version_minor": 0
      },
      "text/plain": [
       "Computing signatures of population 2:   0%|          | 0/50 [00:00<?, ?it/s]"
      ]
     },
     "metadata": {},
     "output_type": "display_data"
    },
    {
     "name": "stdout",
     "output_type": "stream",
     "text": [
      "Pass for same\n",
      "Pass for different\n",
      "Step 4\n"
     ]
    },
    {
     "data": {
      "application/vnd.jupyter.widget-view+json": {
       "model_id": "b85135d9cc7945629efcadc75a9e403e",
       "version_major": 2,
       "version_minor": 0
      },
      "text/plain": [
       "Computing signatures of population 1:   0%|          | 0/50 [00:00<?, ?it/s]"
      ]
     },
     "metadata": {},
     "output_type": "display_data"
    },
    {
     "data": {
      "application/vnd.jupyter.widget-view+json": {
       "model_id": "ec68585c7b014d198eb5462054f12fe2",
       "version_major": 2,
       "version_minor": 0
      },
      "text/plain": [
       "Computing signatures of population 2:   0%|          | 0/50 [00:00<?, ?it/s]"
      ]
     },
     "metadata": {},
     "output_type": "display_data"
    },
    {
     "data": {
      "application/vnd.jupyter.widget-view+json": {
       "model_id": "34839f24e0b3432aadf86d7f925285bb",
       "version_major": 2,
       "version_minor": 0
      },
      "text/plain": [
       "Computing signatures of population 1:   0%|          | 0/50 [00:00<?, ?it/s]"
      ]
     },
     "metadata": {},
     "output_type": "display_data"
    },
    {
     "data": {
      "application/vnd.jupyter.widget-view+json": {
       "model_id": "f58eb522136840c2926a15a9be697bee",
       "version_major": 2,
       "version_minor": 0
      },
      "text/plain": [
       "Computing signatures of population 2:   0%|          | 0/50 [00:00<?, ?it/s]"
      ]
     },
     "metadata": {},
     "output_type": "display_data"
    },
    {
     "name": "stdout",
     "output_type": "stream",
     "text": [
      "Pass for same\n",
      "Pass for different\n",
      "Step 5\n"
     ]
    },
    {
     "data": {
      "application/vnd.jupyter.widget-view+json": {
       "model_id": "3b5cc01db1a64d0aab44be7e21181dd3",
       "version_major": 2,
       "version_minor": 0
      },
      "text/plain": [
       "Computing signatures of population 1:   0%|          | 0/50 [00:00<?, ?it/s]"
      ]
     },
     "metadata": {},
     "output_type": "display_data"
    },
    {
     "data": {
      "application/vnd.jupyter.widget-view+json": {
       "model_id": "aaba2049c6d240449fb744fb55d3ea4c",
       "version_major": 2,
       "version_minor": 0
      },
      "text/plain": [
       "Computing signatures of population 2:   0%|          | 0/50 [00:00<?, ?it/s]"
      ]
     },
     "metadata": {},
     "output_type": "display_data"
    },
    {
     "data": {
      "application/vnd.jupyter.widget-view+json": {
       "model_id": "4bf5cb6fa1d24fd9856827277e8dbed1",
       "version_major": 2,
       "version_minor": 0
      },
      "text/plain": [
       "Computing signatures of population 1:   0%|          | 0/50 [00:00<?, ?it/s]"
      ]
     },
     "metadata": {},
     "output_type": "display_data"
    },
    {
     "data": {
      "application/vnd.jupyter.widget-view+json": {
       "model_id": "8738a19b6a5b402bb6bda197251394c2",
       "version_major": 2,
       "version_minor": 0
      },
      "text/plain": [
       "Computing signatures of population 2:   0%|          | 0/50 [00:00<?, ?it/s]"
      ]
     },
     "metadata": {},
     "output_type": "display_data"
    },
    {
     "name": "stdout",
     "output_type": "stream",
     "text": [
      "Pass for same\n",
      "Pass for different\n",
      "Step 6\n"
     ]
    },
    {
     "data": {
      "application/vnd.jupyter.widget-view+json": {
       "model_id": "03e441d7a37c483291cc4dc80ac1f66f",
       "version_major": 2,
       "version_minor": 0
      },
      "text/plain": [
       "Computing signatures of population 1:   0%|          | 0/50 [00:00<?, ?it/s]"
      ]
     },
     "metadata": {},
     "output_type": "display_data"
    },
    {
     "data": {
      "application/vnd.jupyter.widget-view+json": {
       "model_id": "3710da9bfd5e45cdb06e4daf190bf576",
       "version_major": 2,
       "version_minor": 0
      },
      "text/plain": [
       "Computing signatures of population 2:   0%|          | 0/50 [00:00<?, ?it/s]"
      ]
     },
     "metadata": {},
     "output_type": "display_data"
    },
    {
     "data": {
      "application/vnd.jupyter.widget-view+json": {
       "model_id": "2b214d8a66d1466bb20454d2877e6414",
       "version_major": 2,
       "version_minor": 0
      },
      "text/plain": [
       "Computing signatures of population 1:   0%|          | 0/50 [00:00<?, ?it/s]"
      ]
     },
     "metadata": {},
     "output_type": "display_data"
    },
    {
     "data": {
      "application/vnd.jupyter.widget-view+json": {
       "model_id": "f34c3024eae94e128a2d831d2afec202",
       "version_major": 2,
       "version_minor": 0
      },
      "text/plain": [
       "Computing signatures of population 2:   0%|          | 0/50 [00:00<?, ?it/s]"
      ]
     },
     "metadata": {},
     "output_type": "display_data"
    },
    {
     "name": "stdout",
     "output_type": "stream",
     "text": [
      "Pass for same\n",
      "Pass for different\n",
      "Step 7\n"
     ]
    },
    {
     "data": {
      "application/vnd.jupyter.widget-view+json": {
       "model_id": "b0ff0e847623408683b4bff114ddaef6",
       "version_major": 2,
       "version_minor": 0
      },
      "text/plain": [
       "Computing signatures of population 1:   0%|          | 0/50 [00:00<?, ?it/s]"
      ]
     },
     "metadata": {},
     "output_type": "display_data"
    },
    {
     "data": {
      "application/vnd.jupyter.widget-view+json": {
       "model_id": "ca67bc3f137d4dba8f8741577d69de21",
       "version_major": 2,
       "version_minor": 0
      },
      "text/plain": [
       "Computing signatures of population 2:   0%|          | 0/50 [00:00<?, ?it/s]"
      ]
     },
     "metadata": {},
     "output_type": "display_data"
    },
    {
     "data": {
      "application/vnd.jupyter.widget-view+json": {
       "model_id": "eb65cb276e92417190323ed8d875321f",
       "version_major": 2,
       "version_minor": 0
      },
      "text/plain": [
       "Computing signatures of population 1:   0%|          | 0/50 [00:00<?, ?it/s]"
      ]
     },
     "metadata": {},
     "output_type": "display_data"
    },
    {
     "data": {
      "application/vnd.jupyter.widget-view+json": {
       "model_id": "90cad239018c45ecae3ab44dbd43f30e",
       "version_major": 2,
       "version_minor": 0
      },
      "text/plain": [
       "Computing signatures of population 2:   0%|          | 0/50 [00:00<?, ?it/s]"
      ]
     },
     "metadata": {},
     "output_type": "display_data"
    },
    {
     "name": "stdout",
     "output_type": "stream",
     "text": [
      "Pass for same\n",
      "Pass for different\n",
      "Step 8\n"
     ]
    },
    {
     "data": {
      "application/vnd.jupyter.widget-view+json": {
       "model_id": "77b5557533854b5caf67054ebfb717b4",
       "version_major": 2,
       "version_minor": 0
      },
      "text/plain": [
       "Computing signatures of population 1:   0%|          | 0/50 [00:00<?, ?it/s]"
      ]
     },
     "metadata": {},
     "output_type": "display_data"
    },
    {
     "data": {
      "application/vnd.jupyter.widget-view+json": {
       "model_id": "46e4170240504efda21ae36d76b9b475",
       "version_major": 2,
       "version_minor": 0
      },
      "text/plain": [
       "Computing signatures of population 2:   0%|          | 0/50 [00:00<?, ?it/s]"
      ]
     },
     "metadata": {},
     "output_type": "display_data"
    },
    {
     "data": {
      "application/vnd.jupyter.widget-view+json": {
       "model_id": "b8fd7c283bda4da58fe20b981ed30f25",
       "version_major": 2,
       "version_minor": 0
      },
      "text/plain": [
       "Computing signatures of population 1:   0%|          | 0/50 [00:00<?, ?it/s]"
      ]
     },
     "metadata": {},
     "output_type": "display_data"
    },
    {
     "data": {
      "application/vnd.jupyter.widget-view+json": {
       "model_id": "03f9d5ddc6274b9e920ce179b841088e",
       "version_major": 2,
       "version_minor": 0
      },
      "text/plain": [
       "Computing signatures of population 2:   0%|          | 0/50 [00:00<?, ?it/s]"
      ]
     },
     "metadata": {},
     "output_type": "display_data"
    },
    {
     "name": "stdout",
     "output_type": "stream",
     "text": [
      "Pass for same\n",
      "Pass for different\n",
      "Step 9\n"
     ]
    },
    {
     "data": {
      "application/vnd.jupyter.widget-view+json": {
       "model_id": "1d3db764bf5f4f3387f39e691a5459c5",
       "version_major": 2,
       "version_minor": 0
      },
      "text/plain": [
       "Computing signatures of population 1:   0%|          | 0/50 [00:00<?, ?it/s]"
      ]
     },
     "metadata": {},
     "output_type": "display_data"
    },
    {
     "data": {
      "application/vnd.jupyter.widget-view+json": {
       "model_id": "bdcb37eaea3e4ca0adda439c3cbfe0dc",
       "version_major": 2,
       "version_minor": 0
      },
      "text/plain": [
       "Computing signatures of population 2:   0%|          | 0/50 [00:00<?, ?it/s]"
      ]
     },
     "metadata": {},
     "output_type": "display_data"
    },
    {
     "data": {
      "application/vnd.jupyter.widget-view+json": {
       "model_id": "78557095743a42bda00297a47019e952",
       "version_major": 2,
       "version_minor": 0
      },
      "text/plain": [
       "Computing signatures of population 1:   0%|          | 0/50 [00:00<?, ?it/s]"
      ]
     },
     "metadata": {},
     "output_type": "display_data"
    },
    {
     "data": {
      "application/vnd.jupyter.widget-view+json": {
       "model_id": "191b6e631adc4be888ce188b52acb9bb",
       "version_major": 2,
       "version_minor": 0
      },
      "text/plain": [
       "Computing signatures of population 2:   0%|          | 0/50 [00:00<?, ?it/s]"
      ]
     },
     "metadata": {},
     "output_type": "display_data"
    },
    {
     "name": "stdout",
     "output_type": "stream",
     "text": [
      "Pass for same\n",
      "Pass for different\n",
      "Step 10\n"
     ]
    },
    {
     "data": {
      "application/vnd.jupyter.widget-view+json": {
       "model_id": "0dd8773da85e45bea8165b0e70fa0619",
       "version_major": 2,
       "version_minor": 0
      },
      "text/plain": [
       "Computing signatures of population 1:   0%|          | 0/50 [00:00<?, ?it/s]"
      ]
     },
     "metadata": {},
     "output_type": "display_data"
    },
    {
     "data": {
      "application/vnd.jupyter.widget-view+json": {
       "model_id": "9e063bebc207478ba2eed472411faccf",
       "version_major": 2,
       "version_minor": 0
      },
      "text/plain": [
       "Computing signatures of population 2:   0%|          | 0/50 [00:00<?, ?it/s]"
      ]
     },
     "metadata": {},
     "output_type": "display_data"
    },
    {
     "data": {
      "application/vnd.jupyter.widget-view+json": {
       "model_id": "0ba7cf911c104a91b85579360c3e0059",
       "version_major": 2,
       "version_minor": 0
      },
      "text/plain": [
       "Computing signatures of population 1:   0%|          | 0/50 [00:00<?, ?it/s]"
      ]
     },
     "metadata": {},
     "output_type": "display_data"
    },
    {
     "data": {
      "application/vnd.jupyter.widget-view+json": {
       "model_id": "a8697c0e00cb4914925fcb9881298f93",
       "version_major": 2,
       "version_minor": 0
      },
      "text/plain": [
       "Computing signatures of population 2:   0%|          | 0/50 [00:00<?, ?it/s]"
      ]
     },
     "metadata": {},
     "output_type": "display_data"
    },
    {
     "name": "stdout",
     "output_type": "stream",
     "text": [
      "Pass for same\n",
      "Pass for different\n",
      "Step 11\n"
     ]
    },
    {
     "data": {
      "application/vnd.jupyter.widget-view+json": {
       "model_id": "cbdacec869594575a713f72448729aa6",
       "version_major": 2,
       "version_minor": 0
      },
      "text/plain": [
       "Computing signatures of population 1:   0%|          | 0/50 [00:00<?, ?it/s]"
      ]
     },
     "metadata": {},
     "output_type": "display_data"
    },
    {
     "data": {
      "application/vnd.jupyter.widget-view+json": {
       "model_id": "77eeddfd2c124e8aac94654ce41f0090",
       "version_major": 2,
       "version_minor": 0
      },
      "text/plain": [
       "Computing signatures of population 2:   0%|          | 0/50 [00:00<?, ?it/s]"
      ]
     },
     "metadata": {},
     "output_type": "display_data"
    },
    {
     "data": {
      "application/vnd.jupyter.widget-view+json": {
       "model_id": "24bb162b319544edb26be1e0700b6bae",
       "version_major": 2,
       "version_minor": 0
      },
      "text/plain": [
       "Computing signatures of population 1:   0%|          | 0/50 [00:00<?, ?it/s]"
      ]
     },
     "metadata": {},
     "output_type": "display_data"
    },
    {
     "data": {
      "application/vnd.jupyter.widget-view+json": {
       "model_id": "0f7f5cd3e2ce4be3b69346afed13239f",
       "version_major": 2,
       "version_minor": 0
      },
      "text/plain": [
       "Computing signatures of population 2:   0%|          | 0/50 [00:00<?, ?it/s]"
      ]
     },
     "metadata": {},
     "output_type": "display_data"
    },
    {
     "name": "stdout",
     "output_type": "stream",
     "text": [
      "Pass for same\n",
      "Pass for different\n",
      "Step 12\n"
     ]
    },
    {
     "data": {
      "application/vnd.jupyter.widget-view+json": {
       "model_id": "2090de82898b4ddab8b35d87efcd8007",
       "version_major": 2,
       "version_minor": 0
      },
      "text/plain": [
       "Computing signatures of population 1:   0%|          | 0/50 [00:00<?, ?it/s]"
      ]
     },
     "metadata": {},
     "output_type": "display_data"
    },
    {
     "data": {
      "application/vnd.jupyter.widget-view+json": {
       "model_id": "0e23cf6969da48d6a338cc1a23e50e37",
       "version_major": 2,
       "version_minor": 0
      },
      "text/plain": [
       "Computing signatures of population 2:   0%|          | 0/50 [00:00<?, ?it/s]"
      ]
     },
     "metadata": {},
     "output_type": "display_data"
    },
    {
     "data": {
      "application/vnd.jupyter.widget-view+json": {
       "model_id": "8ab3cde4f4754a85943184bd1b5676e7",
       "version_major": 2,
       "version_minor": 0
      },
      "text/plain": [
       "Computing signatures of population 1:   0%|          | 0/50 [00:00<?, ?it/s]"
      ]
     },
     "metadata": {},
     "output_type": "display_data"
    },
    {
     "data": {
      "application/vnd.jupyter.widget-view+json": {
       "model_id": "9048b6d3cf8e4362bd4f943e4f4dbb91",
       "version_major": 2,
       "version_minor": 0
      },
      "text/plain": [
       "Computing signatures of population 2:   0%|          | 0/50 [00:00<?, ?it/s]"
      ]
     },
     "metadata": {},
     "output_type": "display_data"
    },
    {
     "name": "stdout",
     "output_type": "stream",
     "text": [
      "Pass for same\n",
      "Pass for different\n",
      "Step 13\n"
     ]
    },
    {
     "data": {
      "application/vnd.jupyter.widget-view+json": {
       "model_id": "fb3825414b534e0ab8a04df976f0aff0",
       "version_major": 2,
       "version_minor": 0
      },
      "text/plain": [
       "Computing signatures of population 1:   0%|          | 0/50 [00:00<?, ?it/s]"
      ]
     },
     "metadata": {},
     "output_type": "display_data"
    },
    {
     "data": {
      "application/vnd.jupyter.widget-view+json": {
       "model_id": "d909f3f7a0a24dd99a97425e3e5be95f",
       "version_major": 2,
       "version_minor": 0
      },
      "text/plain": [
       "Computing signatures of population 2:   0%|          | 0/50 [00:00<?, ?it/s]"
      ]
     },
     "metadata": {},
     "output_type": "display_data"
    },
    {
     "data": {
      "application/vnd.jupyter.widget-view+json": {
       "model_id": "b9f1609debd04a1fb7e44d92e51c94b6",
       "version_major": 2,
       "version_minor": 0
      },
      "text/plain": [
       "Computing signatures of population 1:   0%|          | 0/50 [00:00<?, ?it/s]"
      ]
     },
     "metadata": {},
     "output_type": "display_data"
    },
    {
     "data": {
      "application/vnd.jupyter.widget-view+json": {
       "model_id": "0356ff3eebec4976bd113fc37f02ff6d",
       "version_major": 2,
       "version_minor": 0
      },
      "text/plain": [
       "Computing signatures of population 2:   0%|          | 0/50 [00:00<?, ?it/s]"
      ]
     },
     "metadata": {},
     "output_type": "display_data"
    },
    {
     "name": "stdout",
     "output_type": "stream",
     "text": [
      "Pass for same\n",
      "Pass for different\n",
      "Step 14\n"
     ]
    },
    {
     "data": {
      "application/vnd.jupyter.widget-view+json": {
       "model_id": "392dd035ed354d03be216f6ab47af235",
       "version_major": 2,
       "version_minor": 0
      },
      "text/plain": [
       "Computing signatures of population 1:   0%|          | 0/50 [00:00<?, ?it/s]"
      ]
     },
     "metadata": {},
     "output_type": "display_data"
    },
    {
     "data": {
      "application/vnd.jupyter.widget-view+json": {
       "model_id": "d0101b801464433c87c1e08ab3019770",
       "version_major": 2,
       "version_minor": 0
      },
      "text/plain": [
       "Computing signatures of population 2:   0%|          | 0/50 [00:00<?, ?it/s]"
      ]
     },
     "metadata": {},
     "output_type": "display_data"
    },
    {
     "data": {
      "application/vnd.jupyter.widget-view+json": {
       "model_id": "8e1a753e96ff46a8a7d6995d682fdf4b",
       "version_major": 2,
       "version_minor": 0
      },
      "text/plain": [
       "Computing signatures of population 1:   0%|          | 0/50 [00:00<?, ?it/s]"
      ]
     },
     "metadata": {},
     "output_type": "display_data"
    },
    {
     "data": {
      "application/vnd.jupyter.widget-view+json": {
       "model_id": "9ed474a486c44385b7b0e734aa509372",
       "version_major": 2,
       "version_minor": 0
      },
      "text/plain": [
       "Computing signatures of population 2:   0%|          | 0/50 [00:00<?, ?it/s]"
      ]
     },
     "metadata": {},
     "output_type": "display_data"
    },
    {
     "name": "stdout",
     "output_type": "stream",
     "text": [
      "Mistake for same\n",
      "Pass for different\n",
      "Step 15\n"
     ]
    },
    {
     "data": {
      "application/vnd.jupyter.widget-view+json": {
       "model_id": "faebbd6fde69401d948dad7c86adeb64",
       "version_major": 2,
       "version_minor": 0
      },
      "text/plain": [
       "Computing signatures of population 1:   0%|          | 0/50 [00:00<?, ?it/s]"
      ]
     },
     "metadata": {},
     "output_type": "display_data"
    },
    {
     "data": {
      "application/vnd.jupyter.widget-view+json": {
       "model_id": "0d6f59345016427c96e9aea9c98eefb7",
       "version_major": 2,
       "version_minor": 0
      },
      "text/plain": [
       "Computing signatures of population 2:   0%|          | 0/50 [00:00<?, ?it/s]"
      ]
     },
     "metadata": {},
     "output_type": "display_data"
    },
    {
     "data": {
      "application/vnd.jupyter.widget-view+json": {
       "model_id": "3d199f2b32d24670a50171f9f8847a69",
       "version_major": 2,
       "version_minor": 0
      },
      "text/plain": [
       "Computing signatures of population 1:   0%|          | 0/50 [00:00<?, ?it/s]"
      ]
     },
     "metadata": {},
     "output_type": "display_data"
    },
    {
     "data": {
      "application/vnd.jupyter.widget-view+json": {
       "model_id": "8209b818ec904dca82ce0e00113f181d",
       "version_major": 2,
       "version_minor": 0
      },
      "text/plain": [
       "Computing signatures of population 2:   0%|          | 0/50 [00:00<?, ?it/s]"
      ]
     },
     "metadata": {},
     "output_type": "display_data"
    },
    {
     "name": "stdout",
     "output_type": "stream",
     "text": [
      "Pass for same\n",
      "Pass for different\n",
      "Step 16\n"
     ]
    },
    {
     "data": {
      "application/vnd.jupyter.widget-view+json": {
       "model_id": "059b65d4c2994200ade685ff9d668fc2",
       "version_major": 2,
       "version_minor": 0
      },
      "text/plain": [
       "Computing signatures of population 1:   0%|          | 0/50 [00:00<?, ?it/s]"
      ]
     },
     "metadata": {},
     "output_type": "display_data"
    },
    {
     "data": {
      "application/vnd.jupyter.widget-view+json": {
       "model_id": "bcea4e5cf0ed4b18b065c2e27125ddac",
       "version_major": 2,
       "version_minor": 0
      },
      "text/plain": [
       "Computing signatures of population 2:   0%|          | 0/50 [00:00<?, ?it/s]"
      ]
     },
     "metadata": {},
     "output_type": "display_data"
    },
    {
     "data": {
      "application/vnd.jupyter.widget-view+json": {
       "model_id": "f9cd52faca8f412a86809d3fa9b03c7a",
       "version_major": 2,
       "version_minor": 0
      },
      "text/plain": [
       "Computing signatures of population 1:   0%|          | 0/50 [00:00<?, ?it/s]"
      ]
     },
     "metadata": {},
     "output_type": "display_data"
    },
    {
     "data": {
      "application/vnd.jupyter.widget-view+json": {
       "model_id": "2650378b0bad4071a7544d6ff1f96943",
       "version_major": 2,
       "version_minor": 0
      },
      "text/plain": [
       "Computing signatures of population 2:   0%|          | 0/50 [00:00<?, ?it/s]"
      ]
     },
     "metadata": {},
     "output_type": "display_data"
    },
    {
     "name": "stdout",
     "output_type": "stream",
     "text": [
      "Pass for same\n",
      "Pass for different\n",
      "Step 17\n"
     ]
    },
    {
     "data": {
      "application/vnd.jupyter.widget-view+json": {
       "model_id": "eee35a60cfa849b4a5e9883534c0ff13",
       "version_major": 2,
       "version_minor": 0
      },
      "text/plain": [
       "Computing signatures of population 1:   0%|          | 0/50 [00:00<?, ?it/s]"
      ]
     },
     "metadata": {},
     "output_type": "display_data"
    },
    {
     "data": {
      "application/vnd.jupyter.widget-view+json": {
       "model_id": "d167515188c645edae3d9660e03bce6f",
       "version_major": 2,
       "version_minor": 0
      },
      "text/plain": [
       "Computing signatures of population 2:   0%|          | 0/50 [00:00<?, ?it/s]"
      ]
     },
     "metadata": {},
     "output_type": "display_data"
    },
    {
     "data": {
      "application/vnd.jupyter.widget-view+json": {
       "model_id": "f55987a00c2e44da9d34021e04a9c6b1",
       "version_major": 2,
       "version_minor": 0
      },
      "text/plain": [
       "Computing signatures of population 1:   0%|          | 0/50 [00:00<?, ?it/s]"
      ]
     },
     "metadata": {},
     "output_type": "display_data"
    },
    {
     "data": {
      "application/vnd.jupyter.widget-view+json": {
       "model_id": "9f05466c028443c79c19fe181f2216a1",
       "version_major": 2,
       "version_minor": 0
      },
      "text/plain": [
       "Computing signatures of population 2:   0%|          | 0/50 [00:00<?, ?it/s]"
      ]
     },
     "metadata": {},
     "output_type": "display_data"
    },
    {
     "name": "stdout",
     "output_type": "stream",
     "text": [
      "Pass for same\n",
      "Pass for different\n",
      "Step 18\n"
     ]
    },
    {
     "data": {
      "application/vnd.jupyter.widget-view+json": {
       "model_id": "d6b4902bf2464b9cbb33abf3ee016ae1",
       "version_major": 2,
       "version_minor": 0
      },
      "text/plain": [
       "Computing signatures of population 1:   0%|          | 0/50 [00:00<?, ?it/s]"
      ]
     },
     "metadata": {},
     "output_type": "display_data"
    },
    {
     "data": {
      "application/vnd.jupyter.widget-view+json": {
       "model_id": "dc7b5c387cf44992b8625624b80d6b2a",
       "version_major": 2,
       "version_minor": 0
      },
      "text/plain": [
       "Computing signatures of population 2:   0%|          | 0/50 [00:00<?, ?it/s]"
      ]
     },
     "metadata": {},
     "output_type": "display_data"
    },
    {
     "data": {
      "application/vnd.jupyter.widget-view+json": {
       "model_id": "af71bf6dcf6d4becb567692f932273cf",
       "version_major": 2,
       "version_minor": 0
      },
      "text/plain": [
       "Computing signatures of population 1:   0%|          | 0/50 [00:00<?, ?it/s]"
      ]
     },
     "metadata": {},
     "output_type": "display_data"
    },
    {
     "data": {
      "application/vnd.jupyter.widget-view+json": {
       "model_id": "30460e7995354b45a02719f8dac27dd0",
       "version_major": 2,
       "version_minor": 0
      },
      "text/plain": [
       "Computing signatures of population 2:   0%|          | 0/50 [00:00<?, ?it/s]"
      ]
     },
     "metadata": {},
     "output_type": "display_data"
    },
    {
     "name": "stdout",
     "output_type": "stream",
     "text": [
      "Mistake for same\n",
      "Pass for different\n",
      "Step 19\n"
     ]
    },
    {
     "data": {
      "application/vnd.jupyter.widget-view+json": {
       "model_id": "39af6693d06f457d8e0f18cc8b3c0e6f",
       "version_major": 2,
       "version_minor": 0
      },
      "text/plain": [
       "Computing signatures of population 1:   0%|          | 0/50 [00:00<?, ?it/s]"
      ]
     },
     "metadata": {},
     "output_type": "display_data"
    },
    {
     "data": {
      "application/vnd.jupyter.widget-view+json": {
       "model_id": "5cbd029cc80b4c89b62efb98ed5355f7",
       "version_major": 2,
       "version_minor": 0
      },
      "text/plain": [
       "Computing signatures of population 2:   0%|          | 0/50 [00:00<?, ?it/s]"
      ]
     },
     "metadata": {},
     "output_type": "display_data"
    },
    {
     "data": {
      "application/vnd.jupyter.widget-view+json": {
       "model_id": "815f57554069439b8ba7cd851b86a0b4",
       "version_major": 2,
       "version_minor": 0
      },
      "text/plain": [
       "Computing signatures of population 1:   0%|          | 0/50 [00:00<?, ?it/s]"
      ]
     },
     "metadata": {},
     "output_type": "display_data"
    },
    {
     "data": {
      "application/vnd.jupyter.widget-view+json": {
       "model_id": "2e363ac8fd394ccba1cd8944b44006be",
       "version_major": 2,
       "version_minor": 0
      },
      "text/plain": [
       "Computing signatures of population 2:   0%|          | 0/50 [00:00<?, ?it/s]"
      ]
     },
     "metadata": {},
     "output_type": "display_data"
    },
    {
     "name": "stdout",
     "output_type": "stream",
     "text": [
      "Mistake for same\n",
      "Pass for different\n",
      "Step 20\n"
     ]
    },
    {
     "data": {
      "application/vnd.jupyter.widget-view+json": {
       "model_id": "0409db0e0c8d4d70a729079bcdaf9a1c",
       "version_major": 2,
       "version_minor": 0
      },
      "text/plain": [
       "Computing signatures of population 1:   0%|          | 0/50 [00:00<?, ?it/s]"
      ]
     },
     "metadata": {},
     "output_type": "display_data"
    },
    {
     "data": {
      "application/vnd.jupyter.widget-view+json": {
       "model_id": "9cfd979358c14cd1b67efaab3e309eff",
       "version_major": 2,
       "version_minor": 0
      },
      "text/plain": [
       "Computing signatures of population 2:   0%|          | 0/50 [00:00<?, ?it/s]"
      ]
     },
     "metadata": {},
     "output_type": "display_data"
    },
    {
     "data": {
      "application/vnd.jupyter.widget-view+json": {
       "model_id": "cdaa3ba2a3ff4d1f81d508a26d9fcd18",
       "version_major": 2,
       "version_minor": 0
      },
      "text/plain": [
       "Computing signatures of population 1:   0%|          | 0/50 [00:00<?, ?it/s]"
      ]
     },
     "metadata": {},
     "output_type": "display_data"
    },
    {
     "data": {
      "application/vnd.jupyter.widget-view+json": {
       "model_id": "228de952c7434c77aa609ff4f62dfacd",
       "version_major": 2,
       "version_minor": 0
      },
      "text/plain": [
       "Computing signatures of population 2:   0%|          | 0/50 [00:00<?, ?it/s]"
      ]
     },
     "metadata": {},
     "output_type": "display_data"
    },
    {
     "name": "stdout",
     "output_type": "stream",
     "text": [
      "Pass for same\n",
      "Pass for different\n",
      "Step 21\n"
     ]
    },
    {
     "data": {
      "application/vnd.jupyter.widget-view+json": {
       "model_id": "ccd88ac0f5924e51888f81051a13b4a9",
       "version_major": 2,
       "version_minor": 0
      },
      "text/plain": [
       "Computing signatures of population 1:   0%|          | 0/50 [00:00<?, ?it/s]"
      ]
     },
     "metadata": {},
     "output_type": "display_data"
    },
    {
     "data": {
      "application/vnd.jupyter.widget-view+json": {
       "model_id": "4b1ce7383d40435eae895e10b30a9dce",
       "version_major": 2,
       "version_minor": 0
      },
      "text/plain": [
       "Computing signatures of population 2:   0%|          | 0/50 [00:00<?, ?it/s]"
      ]
     },
     "metadata": {},
     "output_type": "display_data"
    },
    {
     "data": {
      "application/vnd.jupyter.widget-view+json": {
       "model_id": "fb4faa960a87458387ea073ff287c3fe",
       "version_major": 2,
       "version_minor": 0
      },
      "text/plain": [
       "Computing signatures of population 1:   0%|          | 0/50 [00:00<?, ?it/s]"
      ]
     },
     "metadata": {},
     "output_type": "display_data"
    },
    {
     "data": {
      "application/vnd.jupyter.widget-view+json": {
       "model_id": "71e6866effc8412e8d5441e80e8089be",
       "version_major": 2,
       "version_minor": 0
      },
      "text/plain": [
       "Computing signatures of population 2:   0%|          | 0/50 [00:00<?, ?it/s]"
      ]
     },
     "metadata": {},
     "output_type": "display_data"
    },
    {
     "name": "stdout",
     "output_type": "stream",
     "text": [
      "Pass for same\n",
      "Pass for different\n",
      "Step 22\n"
     ]
    },
    {
     "data": {
      "application/vnd.jupyter.widget-view+json": {
       "model_id": "c250352ac6ee45a58e1de7912e0a85d5",
       "version_major": 2,
       "version_minor": 0
      },
      "text/plain": [
       "Computing signatures of population 1:   0%|          | 0/50 [00:00<?, ?it/s]"
      ]
     },
     "metadata": {},
     "output_type": "display_data"
    },
    {
     "data": {
      "application/vnd.jupyter.widget-view+json": {
       "model_id": "a201379014dc46f5bd075be7e3f5df28",
       "version_major": 2,
       "version_minor": 0
      },
      "text/plain": [
       "Computing signatures of population 2:   0%|          | 0/50 [00:00<?, ?it/s]"
      ]
     },
     "metadata": {},
     "output_type": "display_data"
    },
    {
     "data": {
      "application/vnd.jupyter.widget-view+json": {
       "model_id": "8e771635fc3f493e8b25e4f384dea7eb",
       "version_major": 2,
       "version_minor": 0
      },
      "text/plain": [
       "Computing signatures of population 1:   0%|          | 0/50 [00:00<?, ?it/s]"
      ]
     },
     "metadata": {},
     "output_type": "display_data"
    },
    {
     "data": {
      "application/vnd.jupyter.widget-view+json": {
       "model_id": "2096a33ba9b2407fab0a9134693bedd7",
       "version_major": 2,
       "version_minor": 0
      },
      "text/plain": [
       "Computing signatures of population 2:   0%|          | 0/50 [00:00<?, ?it/s]"
      ]
     },
     "metadata": {},
     "output_type": "display_data"
    },
    {
     "name": "stdout",
     "output_type": "stream",
     "text": [
      "Pass for same\n",
      "Pass for different\n",
      "Step 23\n"
     ]
    },
    {
     "data": {
      "application/vnd.jupyter.widget-view+json": {
       "model_id": "0ea2de156ae248b19f695091a8cb3c02",
       "version_major": 2,
       "version_minor": 0
      },
      "text/plain": [
       "Computing signatures of population 1:   0%|          | 0/50 [00:00<?, ?it/s]"
      ]
     },
     "metadata": {},
     "output_type": "display_data"
    },
    {
     "data": {
      "application/vnd.jupyter.widget-view+json": {
       "model_id": "4d7adf33c07b4112a5ee1f40c83652ff",
       "version_major": 2,
       "version_minor": 0
      },
      "text/plain": [
       "Computing signatures of population 2:   0%|          | 0/50 [00:00<?, ?it/s]"
      ]
     },
     "metadata": {},
     "output_type": "display_data"
    },
    {
     "data": {
      "application/vnd.jupyter.widget-view+json": {
       "model_id": "c959c1842ccb4e939e320db63d4c6136",
       "version_major": 2,
       "version_minor": 0
      },
      "text/plain": [
       "Computing signatures of population 1:   0%|          | 0/50 [00:00<?, ?it/s]"
      ]
     },
     "metadata": {},
     "output_type": "display_data"
    },
    {
     "data": {
      "application/vnd.jupyter.widget-view+json": {
       "model_id": "3de7e9d13e3847c1a3be2db704e574c1",
       "version_major": 2,
       "version_minor": 0
      },
      "text/plain": [
       "Computing signatures of population 2:   0%|          | 0/50 [00:00<?, ?it/s]"
      ]
     },
     "metadata": {},
     "output_type": "display_data"
    },
    {
     "name": "stdout",
     "output_type": "stream",
     "text": [
      "Pass for same\n",
      "Pass for different\n",
      "Step 24\n"
     ]
    },
    {
     "data": {
      "application/vnd.jupyter.widget-view+json": {
       "model_id": "b56a3d85845448639c2b2e6d8285ab05",
       "version_major": 2,
       "version_minor": 0
      },
      "text/plain": [
       "Computing signatures of population 1:   0%|          | 0/50 [00:00<?, ?it/s]"
      ]
     },
     "metadata": {},
     "output_type": "display_data"
    },
    {
     "data": {
      "application/vnd.jupyter.widget-view+json": {
       "model_id": "6e2c8b39f6384932a36dd4fe0635b58a",
       "version_major": 2,
       "version_minor": 0
      },
      "text/plain": [
       "Computing signatures of population 2:   0%|          | 0/50 [00:00<?, ?it/s]"
      ]
     },
     "metadata": {},
     "output_type": "display_data"
    },
    {
     "data": {
      "application/vnd.jupyter.widget-view+json": {
       "model_id": "603a703c4ca248e1ae002b2424d310c6",
       "version_major": 2,
       "version_minor": 0
      },
      "text/plain": [
       "Computing signatures of population 1:   0%|          | 0/50 [00:00<?, ?it/s]"
      ]
     },
     "metadata": {},
     "output_type": "display_data"
    },
    {
     "data": {
      "application/vnd.jupyter.widget-view+json": {
       "model_id": "9495e4a818b64c49855f27154916b802",
       "version_major": 2,
       "version_minor": 0
      },
      "text/plain": [
       "Computing signatures of population 2:   0%|          | 0/50 [00:00<?, ?it/s]"
      ]
     },
     "metadata": {},
     "output_type": "display_data"
    },
    {
     "name": "stdout",
     "output_type": "stream",
     "text": [
      "Pass for same\n",
      "Pass for different\n",
      "Step 25\n"
     ]
    },
    {
     "data": {
      "application/vnd.jupyter.widget-view+json": {
       "model_id": "f9ad0e6cab9b45cea792ea43f94590d9",
       "version_major": 2,
       "version_minor": 0
      },
      "text/plain": [
       "Computing signatures of population 1:   0%|          | 0/50 [00:00<?, ?it/s]"
      ]
     },
     "metadata": {},
     "output_type": "display_data"
    },
    {
     "data": {
      "application/vnd.jupyter.widget-view+json": {
       "model_id": "79cbb8f1ca724acabaf171c72f9b9196",
       "version_major": 2,
       "version_minor": 0
      },
      "text/plain": [
       "Computing signatures of population 2:   0%|          | 0/50 [00:00<?, ?it/s]"
      ]
     },
     "metadata": {},
     "output_type": "display_data"
    },
    {
     "data": {
      "application/vnd.jupyter.widget-view+json": {
       "model_id": "562e2a4546144393a55e69ff040bc37f",
       "version_major": 2,
       "version_minor": 0
      },
      "text/plain": [
       "Computing signatures of population 1:   0%|          | 0/50 [00:00<?, ?it/s]"
      ]
     },
     "metadata": {},
     "output_type": "display_data"
    },
    {
     "data": {
      "application/vnd.jupyter.widget-view+json": {
       "model_id": "78e11864ffc346029f51e814f5dc9ac3",
       "version_major": 2,
       "version_minor": 0
      },
      "text/plain": [
       "Computing signatures of population 2:   0%|          | 0/50 [00:00<?, ?it/s]"
      ]
     },
     "metadata": {},
     "output_type": "display_data"
    },
    {
     "name": "stdout",
     "output_type": "stream",
     "text": [
      "Mistake for same\n",
      "Pass for different\n",
      "Step 26\n"
     ]
    },
    {
     "data": {
      "application/vnd.jupyter.widget-view+json": {
       "model_id": "4ec79a160f9d4e2f821554ca53c0c08e",
       "version_major": 2,
       "version_minor": 0
      },
      "text/plain": [
       "Computing signatures of population 1:   0%|          | 0/50 [00:00<?, ?it/s]"
      ]
     },
     "metadata": {},
     "output_type": "display_data"
    },
    {
     "data": {
      "application/vnd.jupyter.widget-view+json": {
       "model_id": "113614086d964075b9cbaa26545b6b4f",
       "version_major": 2,
       "version_minor": 0
      },
      "text/plain": [
       "Computing signatures of population 2:   0%|          | 0/50 [00:00<?, ?it/s]"
      ]
     },
     "metadata": {},
     "output_type": "display_data"
    },
    {
     "data": {
      "application/vnd.jupyter.widget-view+json": {
       "model_id": "be8f4dfc47204cc7b5e026734eb3186a",
       "version_major": 2,
       "version_minor": 0
      },
      "text/plain": [
       "Computing signatures of population 1:   0%|          | 0/50 [00:00<?, ?it/s]"
      ]
     },
     "metadata": {},
     "output_type": "display_data"
    },
    {
     "data": {
      "application/vnd.jupyter.widget-view+json": {
       "model_id": "2c8ecf67882449118c0a11fcd5900618",
       "version_major": 2,
       "version_minor": 0
      },
      "text/plain": [
       "Computing signatures of population 2:   0%|          | 0/50 [00:00<?, ?it/s]"
      ]
     },
     "metadata": {},
     "output_type": "display_data"
    },
    {
     "name": "stdout",
     "output_type": "stream",
     "text": [
      "Pass for same\n",
      "Pass for different\n",
      "Step 27\n"
     ]
    },
    {
     "data": {
      "application/vnd.jupyter.widget-view+json": {
       "model_id": "3dd01b62233a49e1be19e5bfbd0fb225",
       "version_major": 2,
       "version_minor": 0
      },
      "text/plain": [
       "Computing signatures of population 1:   0%|          | 0/50 [00:00<?, ?it/s]"
      ]
     },
     "metadata": {},
     "output_type": "display_data"
    },
    {
     "data": {
      "application/vnd.jupyter.widget-view+json": {
       "model_id": "52973c4eee5746b5ac57f0d42b8a7065",
       "version_major": 2,
       "version_minor": 0
      },
      "text/plain": [
       "Computing signatures of population 2:   0%|          | 0/50 [00:00<?, ?it/s]"
      ]
     },
     "metadata": {},
     "output_type": "display_data"
    },
    {
     "data": {
      "application/vnd.jupyter.widget-view+json": {
       "model_id": "b5d19c4ec1de43feb8d65c077fc33d18",
       "version_major": 2,
       "version_minor": 0
      },
      "text/plain": [
       "Computing signatures of population 1:   0%|          | 0/50 [00:00<?, ?it/s]"
      ]
     },
     "metadata": {},
     "output_type": "display_data"
    },
    {
     "data": {
      "application/vnd.jupyter.widget-view+json": {
       "model_id": "ad04e308ab4945c39662eb378c1f4598",
       "version_major": 2,
       "version_minor": 0
      },
      "text/plain": [
       "Computing signatures of population 2:   0%|          | 0/50 [00:00<?, ?it/s]"
      ]
     },
     "metadata": {},
     "output_type": "display_data"
    },
    {
     "name": "stdout",
     "output_type": "stream",
     "text": [
      "Pass for same\n",
      "Pass for different\n",
      "Step 28\n"
     ]
    },
    {
     "data": {
      "application/vnd.jupyter.widget-view+json": {
       "model_id": "40c8e7b03bd44c86994e74827b1c4809",
       "version_major": 2,
       "version_minor": 0
      },
      "text/plain": [
       "Computing signatures of population 1:   0%|          | 0/50 [00:00<?, ?it/s]"
      ]
     },
     "metadata": {},
     "output_type": "display_data"
    },
    {
     "data": {
      "application/vnd.jupyter.widget-view+json": {
       "model_id": "a4c015af9b4042dba16ecc41a1e6dd4a",
       "version_major": 2,
       "version_minor": 0
      },
      "text/plain": [
       "Computing signatures of population 2:   0%|          | 0/50 [00:00<?, ?it/s]"
      ]
     },
     "metadata": {},
     "output_type": "display_data"
    },
    {
     "data": {
      "application/vnd.jupyter.widget-view+json": {
       "model_id": "45952be48d3c409182bd490beeb55d03",
       "version_major": 2,
       "version_minor": 0
      },
      "text/plain": [
       "Computing signatures of population 1:   0%|          | 0/50 [00:00<?, ?it/s]"
      ]
     },
     "metadata": {},
     "output_type": "display_data"
    },
    {
     "data": {
      "application/vnd.jupyter.widget-view+json": {
       "model_id": "6a4a5f682a0049b795ac9e7b8e2a34cb",
       "version_major": 2,
       "version_minor": 0
      },
      "text/plain": [
       "Computing signatures of population 2:   0%|          | 0/50 [00:00<?, ?it/s]"
      ]
     },
     "metadata": {},
     "output_type": "display_data"
    },
    {
     "name": "stdout",
     "output_type": "stream",
     "text": [
      "Pass for same\n",
      "Pass for different\n",
      "Step 29\n"
     ]
    },
    {
     "data": {
      "application/vnd.jupyter.widget-view+json": {
       "model_id": "74770229dcab4da1bfc87f47959c8a3e",
       "version_major": 2,
       "version_minor": 0
      },
      "text/plain": [
       "Computing signatures of population 1:   0%|          | 0/50 [00:00<?, ?it/s]"
      ]
     },
     "metadata": {},
     "output_type": "display_data"
    },
    {
     "data": {
      "application/vnd.jupyter.widget-view+json": {
       "model_id": "83b72d6e816a466e8d99c5d6882eb71b",
       "version_major": 2,
       "version_minor": 0
      },
      "text/plain": [
       "Computing signatures of population 2:   0%|          | 0/50 [00:00<?, ?it/s]"
      ]
     },
     "metadata": {},
     "output_type": "display_data"
    },
    {
     "data": {
      "application/vnd.jupyter.widget-view+json": {
       "model_id": "4fc99738a7ab4835b5c0989c38617611",
       "version_major": 2,
       "version_minor": 0
      },
      "text/plain": [
       "Computing signatures of population 1:   0%|          | 0/50 [00:00<?, ?it/s]"
      ]
     },
     "metadata": {},
     "output_type": "display_data"
    },
    {
     "data": {
      "application/vnd.jupyter.widget-view+json": {
       "model_id": "009b2d9a51fa4f408608b727a3f53f8c",
       "version_major": 2,
       "version_minor": 0
      },
      "text/plain": [
       "Computing signatures of population 2:   0%|          | 0/50 [00:00<?, ?it/s]"
      ]
     },
     "metadata": {},
     "output_type": "display_data"
    },
    {
     "name": "stdout",
     "output_type": "stream",
     "text": [
      "Mistake for same\n",
      "Pass for different\n",
      "Step 30\n"
     ]
    },
    {
     "data": {
      "application/vnd.jupyter.widget-view+json": {
       "model_id": "f06d42fbd34d4e42b3994059c9ba0f18",
       "version_major": 2,
       "version_minor": 0
      },
      "text/plain": [
       "Computing signatures of population 1:   0%|          | 0/50 [00:00<?, ?it/s]"
      ]
     },
     "metadata": {},
     "output_type": "display_data"
    },
    {
     "data": {
      "application/vnd.jupyter.widget-view+json": {
       "model_id": "c1a066de609f44c09653575cb0e1d80e",
       "version_major": 2,
       "version_minor": 0
      },
      "text/plain": [
       "Computing signatures of population 2:   0%|          | 0/50 [00:00<?, ?it/s]"
      ]
     },
     "metadata": {},
     "output_type": "display_data"
    },
    {
     "data": {
      "application/vnd.jupyter.widget-view+json": {
       "model_id": "4b4de3703dcd422ca712234b95504207",
       "version_major": 2,
       "version_minor": 0
      },
      "text/plain": [
       "Computing signatures of population 1:   0%|          | 0/50 [00:00<?, ?it/s]"
      ]
     },
     "metadata": {},
     "output_type": "display_data"
    },
    {
     "data": {
      "application/vnd.jupyter.widget-view+json": {
       "model_id": "e7a7558bab6f4be3bbe78944eec8fe67",
       "version_major": 2,
       "version_minor": 0
      },
      "text/plain": [
       "Computing signatures of population 2:   0%|          | 0/50 [00:00<?, ?it/s]"
      ]
     },
     "metadata": {},
     "output_type": "display_data"
    },
    {
     "name": "stdout",
     "output_type": "stream",
     "text": [
      "Pass for same\n",
      "Pass for different\n",
      "Step 31\n"
     ]
    },
    {
     "data": {
      "application/vnd.jupyter.widget-view+json": {
       "model_id": "ad6e4b5a0e454944a03f9a3b7ee00b6c",
       "version_major": 2,
       "version_minor": 0
      },
      "text/plain": [
       "Computing signatures of population 1:   0%|          | 0/50 [00:00<?, ?it/s]"
      ]
     },
     "metadata": {},
     "output_type": "display_data"
    },
    {
     "data": {
      "application/vnd.jupyter.widget-view+json": {
       "model_id": "e09ddfaf3a644700960a582c39466689",
       "version_major": 2,
       "version_minor": 0
      },
      "text/plain": [
       "Computing signatures of population 2:   0%|          | 0/50 [00:00<?, ?it/s]"
      ]
     },
     "metadata": {},
     "output_type": "display_data"
    },
    {
     "data": {
      "application/vnd.jupyter.widget-view+json": {
       "model_id": "97733b0d0bdc4ba698cc44d211a8d86e",
       "version_major": 2,
       "version_minor": 0
      },
      "text/plain": [
       "Computing signatures of population 1:   0%|          | 0/50 [00:00<?, ?it/s]"
      ]
     },
     "metadata": {},
     "output_type": "display_data"
    },
    {
     "data": {
      "application/vnd.jupyter.widget-view+json": {
       "model_id": "acb636d7d4844e569f97be9dc5146ccd",
       "version_major": 2,
       "version_minor": 0
      },
      "text/plain": [
       "Computing signatures of population 2:   0%|          | 0/50 [00:00<?, ?it/s]"
      ]
     },
     "metadata": {},
     "output_type": "display_data"
    },
    {
     "name": "stdout",
     "output_type": "stream",
     "text": [
      "Pass for same\n",
      "Pass for different\n",
      "Step 32\n"
     ]
    },
    {
     "data": {
      "application/vnd.jupyter.widget-view+json": {
       "model_id": "7e32c599af5e4a67b7fe3cada875e5c0",
       "version_major": 2,
       "version_minor": 0
      },
      "text/plain": [
       "Computing signatures of population 1:   0%|          | 0/50 [00:00<?, ?it/s]"
      ]
     },
     "metadata": {},
     "output_type": "display_data"
    },
    {
     "data": {
      "application/vnd.jupyter.widget-view+json": {
       "model_id": "69117cd6fce64193bff827128ff07475",
       "version_major": 2,
       "version_minor": 0
      },
      "text/plain": [
       "Computing signatures of population 2:   0%|          | 0/50 [00:00<?, ?it/s]"
      ]
     },
     "metadata": {},
     "output_type": "display_data"
    },
    {
     "data": {
      "application/vnd.jupyter.widget-view+json": {
       "model_id": "59cb18a82f904a5a8b51658ee0fae888",
       "version_major": 2,
       "version_minor": 0
      },
      "text/plain": [
       "Computing signatures of population 1:   0%|          | 0/50 [00:00<?, ?it/s]"
      ]
     },
     "metadata": {},
     "output_type": "display_data"
    },
    {
     "data": {
      "application/vnd.jupyter.widget-view+json": {
       "model_id": "ee5346015fb24014afe29e3937b5c6c2",
       "version_major": 2,
       "version_minor": 0
      },
      "text/plain": [
       "Computing signatures of population 2:   0%|          | 0/50 [00:00<?, ?it/s]"
      ]
     },
     "metadata": {},
     "output_type": "display_data"
    },
    {
     "name": "stdout",
     "output_type": "stream",
     "text": [
      "Mistake for same\n",
      "Pass for different\n",
      "Step 33\n"
     ]
    },
    {
     "data": {
      "application/vnd.jupyter.widget-view+json": {
       "model_id": "87e725177ead45f88afec75c9cabe87b",
       "version_major": 2,
       "version_minor": 0
      },
      "text/plain": [
       "Computing signatures of population 1:   0%|          | 0/50 [00:00<?, ?it/s]"
      ]
     },
     "metadata": {},
     "output_type": "display_data"
    },
    {
     "data": {
      "application/vnd.jupyter.widget-view+json": {
       "model_id": "a1600276b8514297937234a7637938a2",
       "version_major": 2,
       "version_minor": 0
      },
      "text/plain": [
       "Computing signatures of population 2:   0%|          | 0/50 [00:00<?, ?it/s]"
      ]
     },
     "metadata": {},
     "output_type": "display_data"
    },
    {
     "data": {
      "application/vnd.jupyter.widget-view+json": {
       "model_id": "5465a3883c04401fa7f2bed4ac75b5f0",
       "version_major": 2,
       "version_minor": 0
      },
      "text/plain": [
       "Computing signatures of population 1:   0%|          | 0/50 [00:00<?, ?it/s]"
      ]
     },
     "metadata": {},
     "output_type": "display_data"
    },
    {
     "data": {
      "application/vnd.jupyter.widget-view+json": {
       "model_id": "6dcccc6898fe4cd0a094d88bbbb8cd22",
       "version_major": 2,
       "version_minor": 0
      },
      "text/plain": [
       "Computing signatures of population 2:   0%|          | 0/50 [00:00<?, ?it/s]"
      ]
     },
     "metadata": {},
     "output_type": "display_data"
    },
    {
     "name": "stdout",
     "output_type": "stream",
     "text": [
      "Pass for same\n",
      "Pass for different\n",
      "Step 34\n"
     ]
    },
    {
     "data": {
      "application/vnd.jupyter.widget-view+json": {
       "model_id": "fe9b501ad06342098e68759732a2db4b",
       "version_major": 2,
       "version_minor": 0
      },
      "text/plain": [
       "Computing signatures of population 1:   0%|          | 0/50 [00:00<?, ?it/s]"
      ]
     },
     "metadata": {},
     "output_type": "display_data"
    },
    {
     "data": {
      "application/vnd.jupyter.widget-view+json": {
       "model_id": "acc3a49faba3408184e9f3b032946d34",
       "version_major": 2,
       "version_minor": 0
      },
      "text/plain": [
       "Computing signatures of population 2:   0%|          | 0/50 [00:00<?, ?it/s]"
      ]
     },
     "metadata": {},
     "output_type": "display_data"
    },
    {
     "data": {
      "application/vnd.jupyter.widget-view+json": {
       "model_id": "db038170414f4b7d92a187f5db025379",
       "version_major": 2,
       "version_minor": 0
      },
      "text/plain": [
       "Computing signatures of population 1:   0%|          | 0/50 [00:00<?, ?it/s]"
      ]
     },
     "metadata": {},
     "output_type": "display_data"
    },
    {
     "data": {
      "application/vnd.jupyter.widget-view+json": {
       "model_id": "a82b123eeae84f6a87e117ada45ee6c2",
       "version_major": 2,
       "version_minor": 0
      },
      "text/plain": [
       "Computing signatures of population 2:   0%|          | 0/50 [00:00<?, ?it/s]"
      ]
     },
     "metadata": {},
     "output_type": "display_data"
    },
    {
     "name": "stdout",
     "output_type": "stream",
     "text": [
      "Pass for same\n",
      "Pass for different\n",
      "Step 35\n"
     ]
    },
    {
     "data": {
      "application/vnd.jupyter.widget-view+json": {
       "model_id": "482d77bd1ab84c95951e715367c46d4a",
       "version_major": 2,
       "version_minor": 0
      },
      "text/plain": [
       "Computing signatures of population 1:   0%|          | 0/50 [00:00<?, ?it/s]"
      ]
     },
     "metadata": {},
     "output_type": "display_data"
    },
    {
     "data": {
      "application/vnd.jupyter.widget-view+json": {
       "model_id": "29a4f9bafa0c4fd7969a7e052623430d",
       "version_major": 2,
       "version_minor": 0
      },
      "text/plain": [
       "Computing signatures of population 2:   0%|          | 0/50 [00:00<?, ?it/s]"
      ]
     },
     "metadata": {},
     "output_type": "display_data"
    },
    {
     "data": {
      "application/vnd.jupyter.widget-view+json": {
       "model_id": "9fe8dab3e0614724aeca845f21343f46",
       "version_major": 2,
       "version_minor": 0
      },
      "text/plain": [
       "Computing signatures of population 1:   0%|          | 0/50 [00:00<?, ?it/s]"
      ]
     },
     "metadata": {},
     "output_type": "display_data"
    },
    {
     "data": {
      "application/vnd.jupyter.widget-view+json": {
       "model_id": "75ab7d8e9b51459f868a6dd2a96084c5",
       "version_major": 2,
       "version_minor": 0
      },
      "text/plain": [
       "Computing signatures of population 2:   0%|          | 0/50 [00:00<?, ?it/s]"
      ]
     },
     "metadata": {},
     "output_type": "display_data"
    },
    {
     "name": "stdout",
     "output_type": "stream",
     "text": [
      "Pass for same\n",
      "Pass for different\n",
      "Step 36\n"
     ]
    },
    {
     "data": {
      "application/vnd.jupyter.widget-view+json": {
       "model_id": "a03c798c290d440ca92c6376acc0b7b6",
       "version_major": 2,
       "version_minor": 0
      },
      "text/plain": [
       "Computing signatures of population 1:   0%|          | 0/50 [00:00<?, ?it/s]"
      ]
     },
     "metadata": {},
     "output_type": "display_data"
    },
    {
     "data": {
      "application/vnd.jupyter.widget-view+json": {
       "model_id": "c2f8156183a9408ebf3ac134e3cb358a",
       "version_major": 2,
       "version_minor": 0
      },
      "text/plain": [
       "Computing signatures of population 2:   0%|          | 0/50 [00:00<?, ?it/s]"
      ]
     },
     "metadata": {},
     "output_type": "display_data"
    },
    {
     "data": {
      "application/vnd.jupyter.widget-view+json": {
       "model_id": "c12866024b05451ab0a46e08300f22d0",
       "version_major": 2,
       "version_minor": 0
      },
      "text/plain": [
       "Computing signatures of population 1:   0%|          | 0/50 [00:00<?, ?it/s]"
      ]
     },
     "metadata": {},
     "output_type": "display_data"
    },
    {
     "data": {
      "application/vnd.jupyter.widget-view+json": {
       "model_id": "9dcc5ca2f3ce43919eb4bc4e98c3a2aa",
       "version_major": 2,
       "version_minor": 0
      },
      "text/plain": [
       "Computing signatures of population 2:   0%|          | 0/50 [00:00<?, ?it/s]"
      ]
     },
     "metadata": {},
     "output_type": "display_data"
    },
    {
     "name": "stdout",
     "output_type": "stream",
     "text": [
      "Pass for same\n",
      "Pass for different\n",
      "Step 37\n"
     ]
    },
    {
     "data": {
      "application/vnd.jupyter.widget-view+json": {
       "model_id": "14e9e5ff17ad44198d4c652532076601",
       "version_major": 2,
       "version_minor": 0
      },
      "text/plain": [
       "Computing signatures of population 1:   0%|          | 0/50 [00:00<?, ?it/s]"
      ]
     },
     "metadata": {},
     "output_type": "display_data"
    },
    {
     "data": {
      "application/vnd.jupyter.widget-view+json": {
       "model_id": "091b2a45ecf94f8d904c86c74c097920",
       "version_major": 2,
       "version_minor": 0
      },
      "text/plain": [
       "Computing signatures of population 2:   0%|          | 0/50 [00:00<?, ?it/s]"
      ]
     },
     "metadata": {},
     "output_type": "display_data"
    },
    {
     "data": {
      "application/vnd.jupyter.widget-view+json": {
       "model_id": "568a4202fa9d4fadb2605353c058beef",
       "version_major": 2,
       "version_minor": 0
      },
      "text/plain": [
       "Computing signatures of population 1:   0%|          | 0/50 [00:00<?, ?it/s]"
      ]
     },
     "metadata": {},
     "output_type": "display_data"
    },
    {
     "data": {
      "application/vnd.jupyter.widget-view+json": {
       "model_id": "b988930b3551476d8b4ec76b7ad42bf4",
       "version_major": 2,
       "version_minor": 0
      },
      "text/plain": [
       "Computing signatures of population 2:   0%|          | 0/50 [00:00<?, ?it/s]"
      ]
     },
     "metadata": {},
     "output_type": "display_data"
    },
    {
     "name": "stdout",
     "output_type": "stream",
     "text": [
      "Pass for same\n",
      "Pass for different\n",
      "Step 38\n"
     ]
    },
    {
     "data": {
      "application/vnd.jupyter.widget-view+json": {
       "model_id": "d550001b90d44e64b453fe5bbde82146",
       "version_major": 2,
       "version_minor": 0
      },
      "text/plain": [
       "Computing signatures of population 1:   0%|          | 0/50 [00:00<?, ?it/s]"
      ]
     },
     "metadata": {},
     "output_type": "display_data"
    },
    {
     "data": {
      "application/vnd.jupyter.widget-view+json": {
       "model_id": "8d168ef691ab4b2fbf0a0ed249be219b",
       "version_major": 2,
       "version_minor": 0
      },
      "text/plain": [
       "Computing signatures of population 2:   0%|          | 0/50 [00:00<?, ?it/s]"
      ]
     },
     "metadata": {},
     "output_type": "display_data"
    },
    {
     "data": {
      "application/vnd.jupyter.widget-view+json": {
       "model_id": "9b6f104a6a0f4b8592422a2cd2e4cfda",
       "version_major": 2,
       "version_minor": 0
      },
      "text/plain": [
       "Computing signatures of population 1:   0%|          | 0/50 [00:00<?, ?it/s]"
      ]
     },
     "metadata": {},
     "output_type": "display_data"
    },
    {
     "data": {
      "application/vnd.jupyter.widget-view+json": {
       "model_id": "11129a29529747d092c1bc0febbcbea8",
       "version_major": 2,
       "version_minor": 0
      },
      "text/plain": [
       "Computing signatures of population 2:   0%|          | 0/50 [00:00<?, ?it/s]"
      ]
     },
     "metadata": {},
     "output_type": "display_data"
    },
    {
     "name": "stdout",
     "output_type": "stream",
     "text": [
      "Mistake for same\n",
      "Pass for different\n",
      "Step 39\n"
     ]
    },
    {
     "data": {
      "application/vnd.jupyter.widget-view+json": {
       "model_id": "494834226b524058800f98b817f15c6c",
       "version_major": 2,
       "version_minor": 0
      },
      "text/plain": [
       "Computing signatures of population 1:   0%|          | 0/50 [00:00<?, ?it/s]"
      ]
     },
     "metadata": {},
     "output_type": "display_data"
    },
    {
     "data": {
      "application/vnd.jupyter.widget-view+json": {
       "model_id": "8057cfa4c38f42dfb2f11223b00fc92f",
       "version_major": 2,
       "version_minor": 0
      },
      "text/plain": [
       "Computing signatures of population 2:   0%|          | 0/50 [00:00<?, ?it/s]"
      ]
     },
     "metadata": {},
     "output_type": "display_data"
    },
    {
     "data": {
      "application/vnd.jupyter.widget-view+json": {
       "model_id": "9a500fd1572e4f78a25eb6f12e2b4ba9",
       "version_major": 2,
       "version_minor": 0
      },
      "text/plain": [
       "Computing signatures of population 1:   0%|          | 0/50 [00:00<?, ?it/s]"
      ]
     },
     "metadata": {},
     "output_type": "display_data"
    },
    {
     "data": {
      "application/vnd.jupyter.widget-view+json": {
       "model_id": "e1be3aa271ce410c8a130bf62c352ed8",
       "version_major": 2,
       "version_minor": 0
      },
      "text/plain": [
       "Computing signatures of population 2:   0%|          | 0/50 [00:00<?, ?it/s]"
      ]
     },
     "metadata": {},
     "output_type": "display_data"
    },
    {
     "name": "stdout",
     "output_type": "stream",
     "text": [
      "Mistake for same\n",
      "Pass for different\n",
      "Step 40\n"
     ]
    },
    {
     "data": {
      "application/vnd.jupyter.widget-view+json": {
       "model_id": "3f64c546d91e47dd941db701c623bcd1",
       "version_major": 2,
       "version_minor": 0
      },
      "text/plain": [
       "Computing signatures of population 1:   0%|          | 0/50 [00:00<?, ?it/s]"
      ]
     },
     "metadata": {},
     "output_type": "display_data"
    },
    {
     "data": {
      "application/vnd.jupyter.widget-view+json": {
       "model_id": "cd311e1d5af442dea9d61867b966a080",
       "version_major": 2,
       "version_minor": 0
      },
      "text/plain": [
       "Computing signatures of population 2:   0%|          | 0/50 [00:00<?, ?it/s]"
      ]
     },
     "metadata": {},
     "output_type": "display_data"
    },
    {
     "data": {
      "application/vnd.jupyter.widget-view+json": {
       "model_id": "e3da8b1f40ae4465847f2f907666d7ad",
       "version_major": 2,
       "version_minor": 0
      },
      "text/plain": [
       "Computing signatures of population 1:   0%|          | 0/50 [00:00<?, ?it/s]"
      ]
     },
     "metadata": {},
     "output_type": "display_data"
    },
    {
     "data": {
      "application/vnd.jupyter.widget-view+json": {
       "model_id": "1473933a0e49466aa8e1174f6d06fe3f",
       "version_major": 2,
       "version_minor": 0
      },
      "text/plain": [
       "Computing signatures of population 2:   0%|          | 0/50 [00:00<?, ?it/s]"
      ]
     },
     "metadata": {},
     "output_type": "display_data"
    },
    {
     "name": "stdout",
     "output_type": "stream",
     "text": [
      "Pass for same\n",
      "Pass for different\n",
      "Step 41\n"
     ]
    },
    {
     "data": {
      "application/vnd.jupyter.widget-view+json": {
       "model_id": "20bc2ca59992452d84843a84252cf47e",
       "version_major": 2,
       "version_minor": 0
      },
      "text/plain": [
       "Computing signatures of population 1:   0%|          | 0/50 [00:00<?, ?it/s]"
      ]
     },
     "metadata": {},
     "output_type": "display_data"
    },
    {
     "data": {
      "application/vnd.jupyter.widget-view+json": {
       "model_id": "aced8c063d2c4bbcabc6172fddec2a97",
       "version_major": 2,
       "version_minor": 0
      },
      "text/plain": [
       "Computing signatures of population 2:   0%|          | 0/50 [00:00<?, ?it/s]"
      ]
     },
     "metadata": {},
     "output_type": "display_data"
    },
    {
     "data": {
      "application/vnd.jupyter.widget-view+json": {
       "model_id": "1a554cd456ac4fa29bbe54a208582204",
       "version_major": 2,
       "version_minor": 0
      },
      "text/plain": [
       "Computing signatures of population 1:   0%|          | 0/50 [00:00<?, ?it/s]"
      ]
     },
     "metadata": {},
     "output_type": "display_data"
    },
    {
     "data": {
      "application/vnd.jupyter.widget-view+json": {
       "model_id": "5487e2a2ac2a41f5b0e086ebe3a750f7",
       "version_major": 2,
       "version_minor": 0
      },
      "text/plain": [
       "Computing signatures of population 2:   0%|          | 0/50 [00:00<?, ?it/s]"
      ]
     },
     "metadata": {},
     "output_type": "display_data"
    },
    {
     "name": "stdout",
     "output_type": "stream",
     "text": [
      "Pass for same\n",
      "Pass for different\n",
      "Step 42\n"
     ]
    },
    {
     "data": {
      "application/vnd.jupyter.widget-view+json": {
       "model_id": "46ff880294324a75a93c6cdb88e15623",
       "version_major": 2,
       "version_minor": 0
      },
      "text/plain": [
       "Computing signatures of population 1:   0%|          | 0/50 [00:00<?, ?it/s]"
      ]
     },
     "metadata": {},
     "output_type": "display_data"
    },
    {
     "data": {
      "application/vnd.jupyter.widget-view+json": {
       "model_id": "e0c1e0cc31e84dc7b95e57caff34aee5",
       "version_major": 2,
       "version_minor": 0
      },
      "text/plain": [
       "Computing signatures of population 2:   0%|          | 0/50 [00:00<?, ?it/s]"
      ]
     },
     "metadata": {},
     "output_type": "display_data"
    },
    {
     "data": {
      "application/vnd.jupyter.widget-view+json": {
       "model_id": "b847db8ea59044b7a80d81c8b5ff03eb",
       "version_major": 2,
       "version_minor": 0
      },
      "text/plain": [
       "Computing signatures of population 1:   0%|          | 0/50 [00:00<?, ?it/s]"
      ]
     },
     "metadata": {},
     "output_type": "display_data"
    },
    {
     "data": {
      "application/vnd.jupyter.widget-view+json": {
       "model_id": "58c617943ddc47dda18e6e74ae10c632",
       "version_major": 2,
       "version_minor": 0
      },
      "text/plain": [
       "Computing signatures of population 2:   0%|          | 0/50 [00:00<?, ?it/s]"
      ]
     },
     "metadata": {},
     "output_type": "display_data"
    },
    {
     "name": "stdout",
     "output_type": "stream",
     "text": [
      "Pass for same\n",
      "Pass for different\n",
      "Step 43\n"
     ]
    },
    {
     "data": {
      "application/vnd.jupyter.widget-view+json": {
       "model_id": "1f4076042a7a4038b6e9bf45b2f37f9f",
       "version_major": 2,
       "version_minor": 0
      },
      "text/plain": [
       "Computing signatures of population 1:   0%|          | 0/50 [00:00<?, ?it/s]"
      ]
     },
     "metadata": {},
     "output_type": "display_data"
    },
    {
     "data": {
      "application/vnd.jupyter.widget-view+json": {
       "model_id": "e1e1cb347eb742e48bba87309c75b98f",
       "version_major": 2,
       "version_minor": 0
      },
      "text/plain": [
       "Computing signatures of population 2:   0%|          | 0/50 [00:00<?, ?it/s]"
      ]
     },
     "metadata": {},
     "output_type": "display_data"
    },
    {
     "data": {
      "application/vnd.jupyter.widget-view+json": {
       "model_id": "c3c86fb1547e411e9220c822c2068c3f",
       "version_major": 2,
       "version_minor": 0
      },
      "text/plain": [
       "Computing signatures of population 1:   0%|          | 0/50 [00:00<?, ?it/s]"
      ]
     },
     "metadata": {},
     "output_type": "display_data"
    },
    {
     "data": {
      "application/vnd.jupyter.widget-view+json": {
       "model_id": "176df88409994601bebe38757a9013bb",
       "version_major": 2,
       "version_minor": 0
      },
      "text/plain": [
       "Computing signatures of population 2:   0%|          | 0/50 [00:00<?, ?it/s]"
      ]
     },
     "metadata": {},
     "output_type": "display_data"
    },
    {
     "name": "stdout",
     "output_type": "stream",
     "text": [
      "Pass for same\n",
      "Pass for different\n",
      "Step 44\n"
     ]
    },
    {
     "data": {
      "application/vnd.jupyter.widget-view+json": {
       "model_id": "0613baa532f94f75be07113a84b130ff",
       "version_major": 2,
       "version_minor": 0
      },
      "text/plain": [
       "Computing signatures of population 1:   0%|          | 0/50 [00:00<?, ?it/s]"
      ]
     },
     "metadata": {},
     "output_type": "display_data"
    },
    {
     "data": {
      "application/vnd.jupyter.widget-view+json": {
       "model_id": "418e5a2ebfbb476e87e7bd2b1e20c292",
       "version_major": 2,
       "version_minor": 0
      },
      "text/plain": [
       "Computing signatures of population 2:   0%|          | 0/50 [00:00<?, ?it/s]"
      ]
     },
     "metadata": {},
     "output_type": "display_data"
    },
    {
     "data": {
      "application/vnd.jupyter.widget-view+json": {
       "model_id": "01a8a151ee514dde8124ecd13bde8a51",
       "version_major": 2,
       "version_minor": 0
      },
      "text/plain": [
       "Computing signatures of population 1:   0%|          | 0/50 [00:00<?, ?it/s]"
      ]
     },
     "metadata": {},
     "output_type": "display_data"
    },
    {
     "data": {
      "application/vnd.jupyter.widget-view+json": {
       "model_id": "00e5a1e09d2a48cc96621f331a4f0335",
       "version_major": 2,
       "version_minor": 0
      },
      "text/plain": [
       "Computing signatures of population 2:   0%|          | 0/50 [00:00<?, ?it/s]"
      ]
     },
     "metadata": {},
     "output_type": "display_data"
    },
    {
     "name": "stdout",
     "output_type": "stream",
     "text": [
      "Pass for same\n",
      "Pass for different\n",
      "Step 45\n"
     ]
    },
    {
     "data": {
      "application/vnd.jupyter.widget-view+json": {
       "model_id": "937c1391e94b45fab09a456e66120cdc",
       "version_major": 2,
       "version_minor": 0
      },
      "text/plain": [
       "Computing signatures of population 1:   0%|          | 0/50 [00:00<?, ?it/s]"
      ]
     },
     "metadata": {},
     "output_type": "display_data"
    },
    {
     "data": {
      "application/vnd.jupyter.widget-view+json": {
       "model_id": "d234aaf80df64fd1bc3cfff37cad6f1b",
       "version_major": 2,
       "version_minor": 0
      },
      "text/plain": [
       "Computing signatures of population 2:   0%|          | 0/50 [00:00<?, ?it/s]"
      ]
     },
     "metadata": {},
     "output_type": "display_data"
    },
    {
     "data": {
      "application/vnd.jupyter.widget-view+json": {
       "model_id": "668d375365254becb4dbcb450cdcabb9",
       "version_major": 2,
       "version_minor": 0
      },
      "text/plain": [
       "Computing signatures of population 1:   0%|          | 0/50 [00:00<?, ?it/s]"
      ]
     },
     "metadata": {},
     "output_type": "display_data"
    },
    {
     "data": {
      "application/vnd.jupyter.widget-view+json": {
       "model_id": "4084a85733de459096c2c4c9e5cf6ed4",
       "version_major": 2,
       "version_minor": 0
      },
      "text/plain": [
       "Computing signatures of population 2:   0%|          | 0/50 [00:00<?, ?it/s]"
      ]
     },
     "metadata": {},
     "output_type": "display_data"
    },
    {
     "name": "stdout",
     "output_type": "stream",
     "text": [
      "Mistake for same\n",
      "Pass for different\n",
      "Step 46\n"
     ]
    },
    {
     "data": {
      "application/vnd.jupyter.widget-view+json": {
       "model_id": "85ee23e7ebb7446b8a2bd804ce8ba9da",
       "version_major": 2,
       "version_minor": 0
      },
      "text/plain": [
       "Computing signatures of population 1:   0%|          | 0/50 [00:00<?, ?it/s]"
      ]
     },
     "metadata": {},
     "output_type": "display_data"
    },
    {
     "data": {
      "application/vnd.jupyter.widget-view+json": {
       "model_id": "8d183946973549d5b4042d61dc65ecdc",
       "version_major": 2,
       "version_minor": 0
      },
      "text/plain": [
       "Computing signatures of population 2:   0%|          | 0/50 [00:00<?, ?it/s]"
      ]
     },
     "metadata": {},
     "output_type": "display_data"
    },
    {
     "data": {
      "application/vnd.jupyter.widget-view+json": {
       "model_id": "a5f71a29d83047b784b4f4b055297f14",
       "version_major": 2,
       "version_minor": 0
      },
      "text/plain": [
       "Computing signatures of population 1:   0%|          | 0/50 [00:00<?, ?it/s]"
      ]
     },
     "metadata": {},
     "output_type": "display_data"
    },
    {
     "data": {
      "application/vnd.jupyter.widget-view+json": {
       "model_id": "fe122a98d7814b61abd0b2c0b54d05a4",
       "version_major": 2,
       "version_minor": 0
      },
      "text/plain": [
       "Computing signatures of population 2:   0%|          | 0/50 [00:00<?, ?it/s]"
      ]
     },
     "metadata": {},
     "output_type": "display_data"
    },
    {
     "name": "stdout",
     "output_type": "stream",
     "text": [
      "Pass for same\n",
      "Pass for different\n",
      "Step 47\n"
     ]
    },
    {
     "data": {
      "application/vnd.jupyter.widget-view+json": {
       "model_id": "42b3fdaedefd402085df42be28ee5cad",
       "version_major": 2,
       "version_minor": 0
      },
      "text/plain": [
       "Computing signatures of population 1:   0%|          | 0/50 [00:00<?, ?it/s]"
      ]
     },
     "metadata": {},
     "output_type": "display_data"
    },
    {
     "data": {
      "application/vnd.jupyter.widget-view+json": {
       "model_id": "a6cd183b88bd4a7891bba12e96327072",
       "version_major": 2,
       "version_minor": 0
      },
      "text/plain": [
       "Computing signatures of population 2:   0%|          | 0/50 [00:00<?, ?it/s]"
      ]
     },
     "metadata": {},
     "output_type": "display_data"
    },
    {
     "data": {
      "application/vnd.jupyter.widget-view+json": {
       "model_id": "aa2b241622b24d5ba60d1c2e80c8a7c7",
       "version_major": 2,
       "version_minor": 0
      },
      "text/plain": [
       "Computing signatures of population 1:   0%|          | 0/50 [00:00<?, ?it/s]"
      ]
     },
     "metadata": {},
     "output_type": "display_data"
    },
    {
     "data": {
      "application/vnd.jupyter.widget-view+json": {
       "model_id": "2bd3549b5d824c04b7b9b53b22ce1a8c",
       "version_major": 2,
       "version_minor": 0
      },
      "text/plain": [
       "Computing signatures of population 2:   0%|          | 0/50 [00:00<?, ?it/s]"
      ]
     },
     "metadata": {},
     "output_type": "display_data"
    },
    {
     "name": "stdout",
     "output_type": "stream",
     "text": [
      "Mistake for same\n",
      "Pass for different\n",
      "Step 48\n"
     ]
    },
    {
     "data": {
      "application/vnd.jupyter.widget-view+json": {
       "model_id": "2178d1e28b544f40b520061f2ed40582",
       "version_major": 2,
       "version_minor": 0
      },
      "text/plain": [
       "Computing signatures of population 1:   0%|          | 0/50 [00:00<?, ?it/s]"
      ]
     },
     "metadata": {},
     "output_type": "display_data"
    },
    {
     "data": {
      "application/vnd.jupyter.widget-view+json": {
       "model_id": "76a3cac98e4d4ac584a186989a8254b0",
       "version_major": 2,
       "version_minor": 0
      },
      "text/plain": [
       "Computing signatures of population 2:   0%|          | 0/50 [00:00<?, ?it/s]"
      ]
     },
     "metadata": {},
     "output_type": "display_data"
    },
    {
     "data": {
      "application/vnd.jupyter.widget-view+json": {
       "model_id": "383dc7c6cbad41a886ff9ea4f8b7c1d6",
       "version_major": 2,
       "version_minor": 0
      },
      "text/plain": [
       "Computing signatures of population 1:   0%|          | 0/50 [00:00<?, ?it/s]"
      ]
     },
     "metadata": {},
     "output_type": "display_data"
    },
    {
     "data": {
      "application/vnd.jupyter.widget-view+json": {
       "model_id": "407ce12d1d92455893e66a7213115a32",
       "version_major": 2,
       "version_minor": 0
      },
      "text/plain": [
       "Computing signatures of population 2:   0%|          | 0/50 [00:00<?, ?it/s]"
      ]
     },
     "metadata": {},
     "output_type": "display_data"
    },
    {
     "name": "stdout",
     "output_type": "stream",
     "text": [
      "Pass for same\n",
      "Pass for different\n",
      "Step 49\n"
     ]
    },
    {
     "data": {
      "application/vnd.jupyter.widget-view+json": {
       "model_id": "6f2702f6064e45e29a02185fdbef1401",
       "version_major": 2,
       "version_minor": 0
      },
      "text/plain": [
       "Computing signatures of population 1:   0%|          | 0/50 [00:00<?, ?it/s]"
      ]
     },
     "metadata": {},
     "output_type": "display_data"
    },
    {
     "data": {
      "application/vnd.jupyter.widget-view+json": {
       "model_id": "3e1141796cce4efcb06995f2ccffcb67",
       "version_major": 2,
       "version_minor": 0
      },
      "text/plain": [
       "Computing signatures of population 2:   0%|          | 0/50 [00:00<?, ?it/s]"
      ]
     },
     "metadata": {},
     "output_type": "display_data"
    },
    {
     "data": {
      "application/vnd.jupyter.widget-view+json": {
       "model_id": "532823d4add747dd8bfc7daa2a4fe405",
       "version_major": 2,
       "version_minor": 0
      },
      "text/plain": [
       "Computing signatures of population 1:   0%|          | 0/50 [00:00<?, ?it/s]"
      ]
     },
     "metadata": {},
     "output_type": "display_data"
    },
    {
     "data": {
      "application/vnd.jupyter.widget-view+json": {
       "model_id": "c3cd97e73d51416bae0872089957f092",
       "version_major": 2,
       "version_minor": 0
      },
      "text/plain": [
       "Computing signatures of population 2:   0%|          | 0/50 [00:00<?, ?it/s]"
      ]
     },
     "metadata": {},
     "output_type": "display_data"
    },
    {
     "name": "stdout",
     "output_type": "stream",
     "text": [
      "Pass for same\n",
      "Pass for different\n",
      "===================================END DIV 0.5\n",
      "Step 0\n"
     ]
    },
    {
     "data": {
      "application/vnd.jupyter.widget-view+json": {
       "model_id": "a6be7e9b0b054606b6ac13fe3dc6647a",
       "version_major": 2,
       "version_minor": 0
      },
      "text/plain": [
       "Computing signatures of population 1:   0%|          | 0/50 [00:00<?, ?it/s]"
      ]
     },
     "metadata": {},
     "output_type": "display_data"
    },
    {
     "data": {
      "application/vnd.jupyter.widget-view+json": {
       "model_id": "8baefb5139234676a3c60a5ac64d59bb",
       "version_major": 2,
       "version_minor": 0
      },
      "text/plain": [
       "Computing signatures of population 2:   0%|          | 0/50 [00:00<?, ?it/s]"
      ]
     },
     "metadata": {},
     "output_type": "display_data"
    },
    {
     "data": {
      "application/vnd.jupyter.widget-view+json": {
       "model_id": "dbf082abbf874a46ab785316e263836a",
       "version_major": 2,
       "version_minor": 0
      },
      "text/plain": [
       "Computing signatures of population 1:   0%|          | 0/50 [00:00<?, ?it/s]"
      ]
     },
     "metadata": {},
     "output_type": "display_data"
    },
    {
     "data": {
      "application/vnd.jupyter.widget-view+json": {
       "model_id": "e6a3c6c50b4d42a4967350a3a392ee9d",
       "version_major": 2,
       "version_minor": 0
      },
      "text/plain": [
       "Computing signatures of population 2:   0%|          | 0/50 [00:00<?, ?it/s]"
      ]
     },
     "metadata": {},
     "output_type": "display_data"
    },
    {
     "name": "stdout",
     "output_type": "stream",
     "text": [
      "Pass for same\n",
      "Pass for different\n",
      "Step 1\n"
     ]
    },
    {
     "data": {
      "application/vnd.jupyter.widget-view+json": {
       "model_id": "d93a314be619426fb87901ed72019090",
       "version_major": 2,
       "version_minor": 0
      },
      "text/plain": [
       "Computing signatures of population 1:   0%|          | 0/50 [00:00<?, ?it/s]"
      ]
     },
     "metadata": {},
     "output_type": "display_data"
    },
    {
     "data": {
      "application/vnd.jupyter.widget-view+json": {
       "model_id": "b9d9d2a20565498e8671de91a16f3d97",
       "version_major": 2,
       "version_minor": 0
      },
      "text/plain": [
       "Computing signatures of population 2:   0%|          | 0/50 [00:00<?, ?it/s]"
      ]
     },
     "metadata": {},
     "output_type": "display_data"
    },
    {
     "data": {
      "application/vnd.jupyter.widget-view+json": {
       "model_id": "06cfe4d931954465b687c4805ca36c78",
       "version_major": 2,
       "version_minor": 0
      },
      "text/plain": [
       "Computing signatures of population 1:   0%|          | 0/50 [00:00<?, ?it/s]"
      ]
     },
     "metadata": {},
     "output_type": "display_data"
    },
    {
     "data": {
      "application/vnd.jupyter.widget-view+json": {
       "model_id": "18e7b02891374331ab9e4b7b60050221",
       "version_major": 2,
       "version_minor": 0
      },
      "text/plain": [
       "Computing signatures of population 2:   0%|          | 0/50 [00:00<?, ?it/s]"
      ]
     },
     "metadata": {},
     "output_type": "display_data"
    },
    {
     "name": "stdout",
     "output_type": "stream",
     "text": [
      "Pass for same\n",
      "Pass for different\n",
      "Step 2\n"
     ]
    },
    {
     "data": {
      "application/vnd.jupyter.widget-view+json": {
       "model_id": "8067c4a9eca7427ea3ca7468eed93e86",
       "version_major": 2,
       "version_minor": 0
      },
      "text/plain": [
       "Computing signatures of population 1:   0%|          | 0/50 [00:00<?, ?it/s]"
      ]
     },
     "metadata": {},
     "output_type": "display_data"
    },
    {
     "data": {
      "application/vnd.jupyter.widget-view+json": {
       "model_id": "424fc46d2ea240fda7b7695d3540befa",
       "version_major": 2,
       "version_minor": 0
      },
      "text/plain": [
       "Computing signatures of population 2:   0%|          | 0/50 [00:00<?, ?it/s]"
      ]
     },
     "metadata": {},
     "output_type": "display_data"
    },
    {
     "data": {
      "application/vnd.jupyter.widget-view+json": {
       "model_id": "e28475a57e4e407781131854345a246e",
       "version_major": 2,
       "version_minor": 0
      },
      "text/plain": [
       "Computing signatures of population 1:   0%|          | 0/50 [00:00<?, ?it/s]"
      ]
     },
     "metadata": {},
     "output_type": "display_data"
    },
    {
     "data": {
      "application/vnd.jupyter.widget-view+json": {
       "model_id": "ef7e2719a45e4f49b503680833e8b4d0",
       "version_major": 2,
       "version_minor": 0
      },
      "text/plain": [
       "Computing signatures of population 2:   0%|          | 0/50 [00:00<?, ?it/s]"
      ]
     },
     "metadata": {},
     "output_type": "display_data"
    },
    {
     "name": "stdout",
     "output_type": "stream",
     "text": [
      "Pass for same\n",
      "Pass for different\n",
      "Step 3\n"
     ]
    },
    {
     "data": {
      "application/vnd.jupyter.widget-view+json": {
       "model_id": "eefd93e9972d416e949ee6b02db2d5fd",
       "version_major": 2,
       "version_minor": 0
      },
      "text/plain": [
       "Computing signatures of population 1:   0%|          | 0/50 [00:00<?, ?it/s]"
      ]
     },
     "metadata": {},
     "output_type": "display_data"
    },
    {
     "data": {
      "application/vnd.jupyter.widget-view+json": {
       "model_id": "b882cf994ec449e98e3f4a61d36a0d61",
       "version_major": 2,
       "version_minor": 0
      },
      "text/plain": [
       "Computing signatures of population 2:   0%|          | 0/50 [00:00<?, ?it/s]"
      ]
     },
     "metadata": {},
     "output_type": "display_data"
    },
    {
     "data": {
      "application/vnd.jupyter.widget-view+json": {
       "model_id": "8957835ee69a4753ad4b5af80a796576",
       "version_major": 2,
       "version_minor": 0
      },
      "text/plain": [
       "Computing signatures of population 1:   0%|          | 0/50 [00:00<?, ?it/s]"
      ]
     },
     "metadata": {},
     "output_type": "display_data"
    },
    {
     "data": {
      "application/vnd.jupyter.widget-view+json": {
       "model_id": "e787e85e2940490f81a5c80fb64a8cbf",
       "version_major": 2,
       "version_minor": 0
      },
      "text/plain": [
       "Computing signatures of population 2:   0%|          | 0/50 [00:00<?, ?it/s]"
      ]
     },
     "metadata": {},
     "output_type": "display_data"
    },
    {
     "name": "stdout",
     "output_type": "stream",
     "text": [
      "Pass for same\n",
      "Pass for different\n",
      "Step 4\n"
     ]
    },
    {
     "data": {
      "application/vnd.jupyter.widget-view+json": {
       "model_id": "20c35b3938604f4a889b068aedcd8419",
       "version_major": 2,
       "version_minor": 0
      },
      "text/plain": [
       "Computing signatures of population 1:   0%|          | 0/50 [00:00<?, ?it/s]"
      ]
     },
     "metadata": {},
     "output_type": "display_data"
    },
    {
     "data": {
      "application/vnd.jupyter.widget-view+json": {
       "model_id": "2da60517b72240ce9f2e505248d7de7a",
       "version_major": 2,
       "version_minor": 0
      },
      "text/plain": [
       "Computing signatures of population 2:   0%|          | 0/50 [00:00<?, ?it/s]"
      ]
     },
     "metadata": {},
     "output_type": "display_data"
    },
    {
     "data": {
      "application/vnd.jupyter.widget-view+json": {
       "model_id": "7c5534bee64140d18932cbf26230a282",
       "version_major": 2,
       "version_minor": 0
      },
      "text/plain": [
       "Computing signatures of population 1:   0%|          | 0/50 [00:00<?, ?it/s]"
      ]
     },
     "metadata": {},
     "output_type": "display_data"
    },
    {
     "data": {
      "application/vnd.jupyter.widget-view+json": {
       "model_id": "1a9981fb0b90435595d4f93a22f5c368",
       "version_major": 2,
       "version_minor": 0
      },
      "text/plain": [
       "Computing signatures of population 2:   0%|          | 0/50 [00:00<?, ?it/s]"
      ]
     },
     "metadata": {},
     "output_type": "display_data"
    },
    {
     "name": "stdout",
     "output_type": "stream",
     "text": [
      "Pass for same\n",
      "Pass for different\n",
      "Step 5\n"
     ]
    },
    {
     "data": {
      "application/vnd.jupyter.widget-view+json": {
       "model_id": "6fe143fb21794c5aaa37a176f0dc43fa",
       "version_major": 2,
       "version_minor": 0
      },
      "text/plain": [
       "Computing signatures of population 1:   0%|          | 0/50 [00:00<?, ?it/s]"
      ]
     },
     "metadata": {},
     "output_type": "display_data"
    },
    {
     "data": {
      "application/vnd.jupyter.widget-view+json": {
       "model_id": "d1768ce0819448bd88042758ddb59885",
       "version_major": 2,
       "version_minor": 0
      },
      "text/plain": [
       "Computing signatures of population 2:   0%|          | 0/50 [00:00<?, ?it/s]"
      ]
     },
     "metadata": {},
     "output_type": "display_data"
    },
    {
     "data": {
      "application/vnd.jupyter.widget-view+json": {
       "model_id": "548e15ad62d843c7bd16fd6e06463c26",
       "version_major": 2,
       "version_minor": 0
      },
      "text/plain": [
       "Computing signatures of population 1:   0%|          | 0/50 [00:00<?, ?it/s]"
      ]
     },
     "metadata": {},
     "output_type": "display_data"
    },
    {
     "data": {
      "application/vnd.jupyter.widget-view+json": {
       "model_id": "04d7b9bfb22c42248e2f9b685a92c262",
       "version_major": 2,
       "version_minor": 0
      },
      "text/plain": [
       "Computing signatures of population 2:   0%|          | 0/50 [00:00<?, ?it/s]"
      ]
     },
     "metadata": {},
     "output_type": "display_data"
    },
    {
     "name": "stdout",
     "output_type": "stream",
     "text": [
      "Pass for same\n",
      "Pass for different\n",
      "Step 6\n"
     ]
    },
    {
     "data": {
      "application/vnd.jupyter.widget-view+json": {
       "model_id": "66b7a729c3f4422c971a38bdc1e6097a",
       "version_major": 2,
       "version_minor": 0
      },
      "text/plain": [
       "Computing signatures of population 1:   0%|          | 0/50 [00:00<?, ?it/s]"
      ]
     },
     "metadata": {},
     "output_type": "display_data"
    },
    {
     "data": {
      "application/vnd.jupyter.widget-view+json": {
       "model_id": "21fae8199cb74f39a3d38ccd65f7e4ca",
       "version_major": 2,
       "version_minor": 0
      },
      "text/plain": [
       "Computing signatures of population 2:   0%|          | 0/50 [00:00<?, ?it/s]"
      ]
     },
     "metadata": {},
     "output_type": "display_data"
    },
    {
     "data": {
      "application/vnd.jupyter.widget-view+json": {
       "model_id": "9f3a326660f64ec7872f8bc64e77e1e0",
       "version_major": 2,
       "version_minor": 0
      },
      "text/plain": [
       "Computing signatures of population 1:   0%|          | 0/50 [00:00<?, ?it/s]"
      ]
     },
     "metadata": {},
     "output_type": "display_data"
    },
    {
     "data": {
      "application/vnd.jupyter.widget-view+json": {
       "model_id": "85a62f68c89549deb8e06111837501d4",
       "version_major": 2,
       "version_minor": 0
      },
      "text/plain": [
       "Computing signatures of population 2:   0%|          | 0/50 [00:00<?, ?it/s]"
      ]
     },
     "metadata": {},
     "output_type": "display_data"
    },
    {
     "name": "stdout",
     "output_type": "stream",
     "text": [
      "Pass for same\n",
      "Pass for different\n",
      "Step 7\n"
     ]
    },
    {
     "data": {
      "application/vnd.jupyter.widget-view+json": {
       "model_id": "41ab76b41fe5417fa355f47163fb08c5",
       "version_major": 2,
       "version_minor": 0
      },
      "text/plain": [
       "Computing signatures of population 1:   0%|          | 0/50 [00:00<?, ?it/s]"
      ]
     },
     "metadata": {},
     "output_type": "display_data"
    },
    {
     "data": {
      "application/vnd.jupyter.widget-view+json": {
       "model_id": "67e07c97e6e94c0a83c23b99f6a60ac9",
       "version_major": 2,
       "version_minor": 0
      },
      "text/plain": [
       "Computing signatures of population 2:   0%|          | 0/50 [00:00<?, ?it/s]"
      ]
     },
     "metadata": {},
     "output_type": "display_data"
    },
    {
     "data": {
      "application/vnd.jupyter.widget-view+json": {
       "model_id": "4fc113b7158843be9c348497f8110b3e",
       "version_major": 2,
       "version_minor": 0
      },
      "text/plain": [
       "Computing signatures of population 1:   0%|          | 0/50 [00:00<?, ?it/s]"
      ]
     },
     "metadata": {},
     "output_type": "display_data"
    },
    {
     "data": {
      "application/vnd.jupyter.widget-view+json": {
       "model_id": "161c97a7bd37439394eaea8121681ea6",
       "version_major": 2,
       "version_minor": 0
      },
      "text/plain": [
       "Computing signatures of population 2:   0%|          | 0/50 [00:00<?, ?it/s]"
      ]
     },
     "metadata": {},
     "output_type": "display_data"
    },
    {
     "name": "stdout",
     "output_type": "stream",
     "text": [
      "Pass for same\n",
      "Pass for different\n",
      "Step 8\n"
     ]
    },
    {
     "data": {
      "application/vnd.jupyter.widget-view+json": {
       "model_id": "7e6e081c1346421e9f6cd04e4f1a61b9",
       "version_major": 2,
       "version_minor": 0
      },
      "text/plain": [
       "Computing signatures of population 1:   0%|          | 0/50 [00:00<?, ?it/s]"
      ]
     },
     "metadata": {},
     "output_type": "display_data"
    },
    {
     "data": {
      "application/vnd.jupyter.widget-view+json": {
       "model_id": "261d18c4a9b242a88d2331e1733bcef4",
       "version_major": 2,
       "version_minor": 0
      },
      "text/plain": [
       "Computing signatures of population 2:   0%|          | 0/50 [00:00<?, ?it/s]"
      ]
     },
     "metadata": {},
     "output_type": "display_data"
    },
    {
     "data": {
      "application/vnd.jupyter.widget-view+json": {
       "model_id": "a03b7298e1e24528b90c67093c50a56e",
       "version_major": 2,
       "version_minor": 0
      },
      "text/plain": [
       "Computing signatures of population 1:   0%|          | 0/50 [00:00<?, ?it/s]"
      ]
     },
     "metadata": {},
     "output_type": "display_data"
    },
    {
     "data": {
      "application/vnd.jupyter.widget-view+json": {
       "model_id": "90340d71931247c995a8eaa320e761e1",
       "version_major": 2,
       "version_minor": 0
      },
      "text/plain": [
       "Computing signatures of population 2:   0%|          | 0/50 [00:00<?, ?it/s]"
      ]
     },
     "metadata": {},
     "output_type": "display_data"
    },
    {
     "name": "stdout",
     "output_type": "stream",
     "text": [
      "Pass for same\n",
      "Pass for different\n",
      "Step 9\n"
     ]
    },
    {
     "data": {
      "application/vnd.jupyter.widget-view+json": {
       "model_id": "38f384fa350944b08c7987533c132ddd",
       "version_major": 2,
       "version_minor": 0
      },
      "text/plain": [
       "Computing signatures of population 1:   0%|          | 0/50 [00:00<?, ?it/s]"
      ]
     },
     "metadata": {},
     "output_type": "display_data"
    },
    {
     "data": {
      "application/vnd.jupyter.widget-view+json": {
       "model_id": "70bc1a95bb7a4cd2b4d9a35968f63b79",
       "version_major": 2,
       "version_minor": 0
      },
      "text/plain": [
       "Computing signatures of population 2:   0%|          | 0/50 [00:00<?, ?it/s]"
      ]
     },
     "metadata": {},
     "output_type": "display_data"
    },
    {
     "data": {
      "application/vnd.jupyter.widget-view+json": {
       "model_id": "3ad843aa7f994387856430a3cc4891e9",
       "version_major": 2,
       "version_minor": 0
      },
      "text/plain": [
       "Computing signatures of population 1:   0%|          | 0/50 [00:00<?, ?it/s]"
      ]
     },
     "metadata": {},
     "output_type": "display_data"
    },
    {
     "data": {
      "application/vnd.jupyter.widget-view+json": {
       "model_id": "2ef788bffb4644c8a127bca08c609507",
       "version_major": 2,
       "version_minor": 0
      },
      "text/plain": [
       "Computing signatures of population 2:   0%|          | 0/50 [00:00<?, ?it/s]"
      ]
     },
     "metadata": {},
     "output_type": "display_data"
    },
    {
     "name": "stdout",
     "output_type": "stream",
     "text": [
      "Pass for same\n",
      "Pass for different\n",
      "Step 10\n"
     ]
    },
    {
     "data": {
      "application/vnd.jupyter.widget-view+json": {
       "model_id": "74fbcc4dce9643eb8d1ab0b112bf95b1",
       "version_major": 2,
       "version_minor": 0
      },
      "text/plain": [
       "Computing signatures of population 1:   0%|          | 0/50 [00:00<?, ?it/s]"
      ]
     },
     "metadata": {},
     "output_type": "display_data"
    },
    {
     "data": {
      "application/vnd.jupyter.widget-view+json": {
       "model_id": "c00d3dde341949e6a28116da2f29b9fe",
       "version_major": 2,
       "version_minor": 0
      },
      "text/plain": [
       "Computing signatures of population 2:   0%|          | 0/50 [00:00<?, ?it/s]"
      ]
     },
     "metadata": {},
     "output_type": "display_data"
    },
    {
     "data": {
      "application/vnd.jupyter.widget-view+json": {
       "model_id": "2d5974969e8c4249adb8c72a69e2bbea",
       "version_major": 2,
       "version_minor": 0
      },
      "text/plain": [
       "Computing signatures of population 1:   0%|          | 0/50 [00:00<?, ?it/s]"
      ]
     },
     "metadata": {},
     "output_type": "display_data"
    },
    {
     "data": {
      "application/vnd.jupyter.widget-view+json": {
       "model_id": "baa9591dbfe547ba82eb917b01e0308d",
       "version_major": 2,
       "version_minor": 0
      },
      "text/plain": [
       "Computing signatures of population 2:   0%|          | 0/50 [00:00<?, ?it/s]"
      ]
     },
     "metadata": {},
     "output_type": "display_data"
    },
    {
     "name": "stdout",
     "output_type": "stream",
     "text": [
      "Pass for same\n",
      "Pass for different\n",
      "Step 11\n"
     ]
    },
    {
     "data": {
      "application/vnd.jupyter.widget-view+json": {
       "model_id": "1b09ec8e6ee3414190532d02d283a8b8",
       "version_major": 2,
       "version_minor": 0
      },
      "text/plain": [
       "Computing signatures of population 1:   0%|          | 0/50 [00:00<?, ?it/s]"
      ]
     },
     "metadata": {},
     "output_type": "display_data"
    },
    {
     "data": {
      "application/vnd.jupyter.widget-view+json": {
       "model_id": "c7d473076384494ea8ef83d2f926e14f",
       "version_major": 2,
       "version_minor": 0
      },
      "text/plain": [
       "Computing signatures of population 2:   0%|          | 0/50 [00:00<?, ?it/s]"
      ]
     },
     "metadata": {},
     "output_type": "display_data"
    },
    {
     "data": {
      "application/vnd.jupyter.widget-view+json": {
       "model_id": "2f5248d259cf4993974660eea36ec2e0",
       "version_major": 2,
       "version_minor": 0
      },
      "text/plain": [
       "Computing signatures of population 1:   0%|          | 0/50 [00:00<?, ?it/s]"
      ]
     },
     "metadata": {},
     "output_type": "display_data"
    },
    {
     "data": {
      "application/vnd.jupyter.widget-view+json": {
       "model_id": "16fb2de5fe2a41d7b78e032c82b58f37",
       "version_major": 2,
       "version_minor": 0
      },
      "text/plain": [
       "Computing signatures of population 2:   0%|          | 0/50 [00:00<?, ?it/s]"
      ]
     },
     "metadata": {},
     "output_type": "display_data"
    },
    {
     "name": "stdout",
     "output_type": "stream",
     "text": [
      "Pass for same\n",
      "Pass for different\n",
      "Step 12\n"
     ]
    },
    {
     "data": {
      "application/vnd.jupyter.widget-view+json": {
       "model_id": "7e5de9df1dd947d0b5a355331299f8b6",
       "version_major": 2,
       "version_minor": 0
      },
      "text/plain": [
       "Computing signatures of population 1:   0%|          | 0/50 [00:00<?, ?it/s]"
      ]
     },
     "metadata": {},
     "output_type": "display_data"
    },
    {
     "data": {
      "application/vnd.jupyter.widget-view+json": {
       "model_id": "b6dec877b4f442b3b76d8c458b06c7eb",
       "version_major": 2,
       "version_minor": 0
      },
      "text/plain": [
       "Computing signatures of population 2:   0%|          | 0/50 [00:00<?, ?it/s]"
      ]
     },
     "metadata": {},
     "output_type": "display_data"
    },
    {
     "data": {
      "application/vnd.jupyter.widget-view+json": {
       "model_id": "42bbe3dc3ae84b94863d0c34d6350ca6",
       "version_major": 2,
       "version_minor": 0
      },
      "text/plain": [
       "Computing signatures of population 1:   0%|          | 0/50 [00:00<?, ?it/s]"
      ]
     },
     "metadata": {},
     "output_type": "display_data"
    },
    {
     "data": {
      "application/vnd.jupyter.widget-view+json": {
       "model_id": "e7173e9dfb4343eaacf36f3c3c94d895",
       "version_major": 2,
       "version_minor": 0
      },
      "text/plain": [
       "Computing signatures of population 2:   0%|          | 0/50 [00:00<?, ?it/s]"
      ]
     },
     "metadata": {},
     "output_type": "display_data"
    },
    {
     "name": "stdout",
     "output_type": "stream",
     "text": [
      "Pass for same\n",
      "Pass for different\n",
      "Step 13\n"
     ]
    },
    {
     "data": {
      "application/vnd.jupyter.widget-view+json": {
       "model_id": "b35bad4f7ac64dcda220b662f19f344f",
       "version_major": 2,
       "version_minor": 0
      },
      "text/plain": [
       "Computing signatures of population 1:   0%|          | 0/50 [00:00<?, ?it/s]"
      ]
     },
     "metadata": {},
     "output_type": "display_data"
    },
    {
     "data": {
      "application/vnd.jupyter.widget-view+json": {
       "model_id": "42fea6fe8ccf45c886482955875e61c3",
       "version_major": 2,
       "version_minor": 0
      },
      "text/plain": [
       "Computing signatures of population 2:   0%|          | 0/50 [00:00<?, ?it/s]"
      ]
     },
     "metadata": {},
     "output_type": "display_data"
    },
    {
     "data": {
      "application/vnd.jupyter.widget-view+json": {
       "model_id": "c5088ab832294423882f4363ecd5144d",
       "version_major": 2,
       "version_minor": 0
      },
      "text/plain": [
       "Computing signatures of population 1:   0%|          | 0/50 [00:00<?, ?it/s]"
      ]
     },
     "metadata": {},
     "output_type": "display_data"
    },
    {
     "data": {
      "application/vnd.jupyter.widget-view+json": {
       "model_id": "9c6a7a8972f74e3693374bc75d18dfaf",
       "version_major": 2,
       "version_minor": 0
      },
      "text/plain": [
       "Computing signatures of population 2:   0%|          | 0/50 [00:00<?, ?it/s]"
      ]
     },
     "metadata": {},
     "output_type": "display_data"
    },
    {
     "name": "stdout",
     "output_type": "stream",
     "text": [
      "Pass for same\n",
      "Pass for different\n",
      "Step 14\n"
     ]
    },
    {
     "data": {
      "application/vnd.jupyter.widget-view+json": {
       "model_id": "8ef3718cc8a34196aabf4413588c70b7",
       "version_major": 2,
       "version_minor": 0
      },
      "text/plain": [
       "Computing signatures of population 1:   0%|          | 0/50 [00:00<?, ?it/s]"
      ]
     },
     "metadata": {},
     "output_type": "display_data"
    },
    {
     "data": {
      "application/vnd.jupyter.widget-view+json": {
       "model_id": "928e931f887a458c85cef4ce22ad6961",
       "version_major": 2,
       "version_minor": 0
      },
      "text/plain": [
       "Computing signatures of population 2:   0%|          | 0/50 [00:00<?, ?it/s]"
      ]
     },
     "metadata": {},
     "output_type": "display_data"
    },
    {
     "data": {
      "application/vnd.jupyter.widget-view+json": {
       "model_id": "58a8c9606d5e4c7ba734262aa9e03aea",
       "version_major": 2,
       "version_minor": 0
      },
      "text/plain": [
       "Computing signatures of population 1:   0%|          | 0/50 [00:00<?, ?it/s]"
      ]
     },
     "metadata": {},
     "output_type": "display_data"
    },
    {
     "data": {
      "application/vnd.jupyter.widget-view+json": {
       "model_id": "6d855a9902ee4663adcfc5c92f63f8b4",
       "version_major": 2,
       "version_minor": 0
      },
      "text/plain": [
       "Computing signatures of population 2:   0%|          | 0/50 [00:00<?, ?it/s]"
      ]
     },
     "metadata": {},
     "output_type": "display_data"
    },
    {
     "name": "stdout",
     "output_type": "stream",
     "text": [
      "Pass for same\n",
      "Pass for different\n",
      "Step 15\n"
     ]
    },
    {
     "data": {
      "application/vnd.jupyter.widget-view+json": {
       "model_id": "d9603b807f8f494d9ebaf653c9fb3155",
       "version_major": 2,
       "version_minor": 0
      },
      "text/plain": [
       "Computing signatures of population 1:   0%|          | 0/50 [00:00<?, ?it/s]"
      ]
     },
     "metadata": {},
     "output_type": "display_data"
    },
    {
     "data": {
      "application/vnd.jupyter.widget-view+json": {
       "model_id": "bc5d00f8354849828bdc17878964ce9d",
       "version_major": 2,
       "version_minor": 0
      },
      "text/plain": [
       "Computing signatures of population 2:   0%|          | 0/50 [00:00<?, ?it/s]"
      ]
     },
     "metadata": {},
     "output_type": "display_data"
    },
    {
     "data": {
      "application/vnd.jupyter.widget-view+json": {
       "model_id": "7cc3aa79c14a4f56a397adc5518a412b",
       "version_major": 2,
       "version_minor": 0
      },
      "text/plain": [
       "Computing signatures of population 1:   0%|          | 0/50 [00:00<?, ?it/s]"
      ]
     },
     "metadata": {},
     "output_type": "display_data"
    },
    {
     "data": {
      "application/vnd.jupyter.widget-view+json": {
       "model_id": "b9e6205afe774e5d927b9aa906dbc93a",
       "version_major": 2,
       "version_minor": 0
      },
      "text/plain": [
       "Computing signatures of population 2:   0%|          | 0/50 [00:00<?, ?it/s]"
      ]
     },
     "metadata": {},
     "output_type": "display_data"
    },
    {
     "name": "stdout",
     "output_type": "stream",
     "text": [
      "Pass for same\n",
      "Pass for different\n",
      "Step 16\n"
     ]
    },
    {
     "data": {
      "application/vnd.jupyter.widget-view+json": {
       "model_id": "14d184daeafa4fd4be5e51fb823ce7a3",
       "version_major": 2,
       "version_minor": 0
      },
      "text/plain": [
       "Computing signatures of population 1:   0%|          | 0/50 [00:00<?, ?it/s]"
      ]
     },
     "metadata": {},
     "output_type": "display_data"
    },
    {
     "data": {
      "application/vnd.jupyter.widget-view+json": {
       "model_id": "f02a82f3963e4ab2bb7bce63a42608a4",
       "version_major": 2,
       "version_minor": 0
      },
      "text/plain": [
       "Computing signatures of population 2:   0%|          | 0/50 [00:00<?, ?it/s]"
      ]
     },
     "metadata": {},
     "output_type": "display_data"
    },
    {
     "data": {
      "application/vnd.jupyter.widget-view+json": {
       "model_id": "ad73a849464a4033aa6db67754eb16e0",
       "version_major": 2,
       "version_minor": 0
      },
      "text/plain": [
       "Computing signatures of population 1:   0%|          | 0/50 [00:00<?, ?it/s]"
      ]
     },
     "metadata": {},
     "output_type": "display_data"
    },
    {
     "data": {
      "application/vnd.jupyter.widget-view+json": {
       "model_id": "5cb24dc9f9a44e89854b2b383fe96a06",
       "version_major": 2,
       "version_minor": 0
      },
      "text/plain": [
       "Computing signatures of population 2:   0%|          | 0/50 [00:00<?, ?it/s]"
      ]
     },
     "metadata": {},
     "output_type": "display_data"
    },
    {
     "name": "stdout",
     "output_type": "stream",
     "text": [
      "Mistake for same\n",
      "Pass for different\n",
      "Step 17\n"
     ]
    },
    {
     "data": {
      "application/vnd.jupyter.widget-view+json": {
       "model_id": "53663a12674e4f839b608eae07a60c52",
       "version_major": 2,
       "version_minor": 0
      },
      "text/plain": [
       "Computing signatures of population 1:   0%|          | 0/50 [00:00<?, ?it/s]"
      ]
     },
     "metadata": {},
     "output_type": "display_data"
    },
    {
     "data": {
      "application/vnd.jupyter.widget-view+json": {
       "model_id": "b521b7d21f1748ffb8a016b7f2c0ba55",
       "version_major": 2,
       "version_minor": 0
      },
      "text/plain": [
       "Computing signatures of population 2:   0%|          | 0/50 [00:00<?, ?it/s]"
      ]
     },
     "metadata": {},
     "output_type": "display_data"
    },
    {
     "data": {
      "application/vnd.jupyter.widget-view+json": {
       "model_id": "f9d60cb73fed4f3fb018b9b8c7446738",
       "version_major": 2,
       "version_minor": 0
      },
      "text/plain": [
       "Computing signatures of population 1:   0%|          | 0/50 [00:00<?, ?it/s]"
      ]
     },
     "metadata": {},
     "output_type": "display_data"
    },
    {
     "data": {
      "application/vnd.jupyter.widget-view+json": {
       "model_id": "fd9da3b4163a470f96ae6fbc347b59a1",
       "version_major": 2,
       "version_minor": 0
      },
      "text/plain": [
       "Computing signatures of population 2:   0%|          | 0/50 [00:00<?, ?it/s]"
      ]
     },
     "metadata": {},
     "output_type": "display_data"
    },
    {
     "name": "stdout",
     "output_type": "stream",
     "text": [
      "Pass for same\n",
      "Pass for different\n",
      "Step 18\n"
     ]
    },
    {
     "data": {
      "application/vnd.jupyter.widget-view+json": {
       "model_id": "43a779fbf2714665a2c1cb838744a8ba",
       "version_major": 2,
       "version_minor": 0
      },
      "text/plain": [
       "Computing signatures of population 1:   0%|          | 0/50 [00:00<?, ?it/s]"
      ]
     },
     "metadata": {},
     "output_type": "display_data"
    },
    {
     "data": {
      "application/vnd.jupyter.widget-view+json": {
       "model_id": "61ab029051944c90a01aae7402abd160",
       "version_major": 2,
       "version_minor": 0
      },
      "text/plain": [
       "Computing signatures of population 2:   0%|          | 0/50 [00:00<?, ?it/s]"
      ]
     },
     "metadata": {},
     "output_type": "display_data"
    },
    {
     "data": {
      "application/vnd.jupyter.widget-view+json": {
       "model_id": "29369d59c3e84a1e9d2a42c718388b48",
       "version_major": 2,
       "version_minor": 0
      },
      "text/plain": [
       "Computing signatures of population 1:   0%|          | 0/50 [00:00<?, ?it/s]"
      ]
     },
     "metadata": {},
     "output_type": "display_data"
    },
    {
     "data": {
      "application/vnd.jupyter.widget-view+json": {
       "model_id": "2270e99264fa4c67befdff0fb6565626",
       "version_major": 2,
       "version_minor": 0
      },
      "text/plain": [
       "Computing signatures of population 2:   0%|          | 0/50 [00:00<?, ?it/s]"
      ]
     },
     "metadata": {},
     "output_type": "display_data"
    },
    {
     "name": "stdout",
     "output_type": "stream",
     "text": [
      "Pass for same\n",
      "Pass for different\n",
      "Step 19\n"
     ]
    },
    {
     "data": {
      "application/vnd.jupyter.widget-view+json": {
       "model_id": "04e3dfc518f1493c850209bab982c91b",
       "version_major": 2,
       "version_minor": 0
      },
      "text/plain": [
       "Computing signatures of population 1:   0%|          | 0/50 [00:00<?, ?it/s]"
      ]
     },
     "metadata": {},
     "output_type": "display_data"
    },
    {
     "data": {
      "application/vnd.jupyter.widget-view+json": {
       "model_id": "d2bac0992283460981f5d4376d9157b9",
       "version_major": 2,
       "version_minor": 0
      },
      "text/plain": [
       "Computing signatures of population 2:   0%|          | 0/50 [00:00<?, ?it/s]"
      ]
     },
     "metadata": {},
     "output_type": "display_data"
    },
    {
     "data": {
      "application/vnd.jupyter.widget-view+json": {
       "model_id": "40e92e290c60465cb90d01ef4ac5bd2b",
       "version_major": 2,
       "version_minor": 0
      },
      "text/plain": [
       "Computing signatures of population 1:   0%|          | 0/50 [00:00<?, ?it/s]"
      ]
     },
     "metadata": {},
     "output_type": "display_data"
    },
    {
     "data": {
      "application/vnd.jupyter.widget-view+json": {
       "model_id": "f637e7fb83cb4d2e809f3451120557c8",
       "version_major": 2,
       "version_minor": 0
      },
      "text/plain": [
       "Computing signatures of population 2:   0%|          | 0/50 [00:00<?, ?it/s]"
      ]
     },
     "metadata": {},
     "output_type": "display_data"
    },
    {
     "name": "stdout",
     "output_type": "stream",
     "text": [
      "Pass for same\n",
      "Pass for different\n",
      "Step 20\n"
     ]
    },
    {
     "data": {
      "application/vnd.jupyter.widget-view+json": {
       "model_id": "a1f27b6935fd4e82864f7bd928e16d33",
       "version_major": 2,
       "version_minor": 0
      },
      "text/plain": [
       "Computing signatures of population 1:   0%|          | 0/50 [00:00<?, ?it/s]"
      ]
     },
     "metadata": {},
     "output_type": "display_data"
    },
    {
     "data": {
      "application/vnd.jupyter.widget-view+json": {
       "model_id": "cb3b50df55c04f8f9f010f19364b0bc7",
       "version_major": 2,
       "version_minor": 0
      },
      "text/plain": [
       "Computing signatures of population 2:   0%|          | 0/50 [00:00<?, ?it/s]"
      ]
     },
     "metadata": {},
     "output_type": "display_data"
    },
    {
     "data": {
      "application/vnd.jupyter.widget-view+json": {
       "model_id": "cc4bb11ef93d444eb2769c39cb4f6c53",
       "version_major": 2,
       "version_minor": 0
      },
      "text/plain": [
       "Computing signatures of population 1:   0%|          | 0/50 [00:00<?, ?it/s]"
      ]
     },
     "metadata": {},
     "output_type": "display_data"
    },
    {
     "data": {
      "application/vnd.jupyter.widget-view+json": {
       "model_id": "5b31af4923d94a4bbcc383a99d973c65",
       "version_major": 2,
       "version_minor": 0
      },
      "text/plain": [
       "Computing signatures of population 2:   0%|          | 0/50 [00:00<?, ?it/s]"
      ]
     },
     "metadata": {},
     "output_type": "display_data"
    },
    {
     "name": "stdout",
     "output_type": "stream",
     "text": [
      "Pass for same\n",
      "Pass for different\n",
      "Step 21\n"
     ]
    },
    {
     "data": {
      "application/vnd.jupyter.widget-view+json": {
       "model_id": "8d9b5dc0a82447e08911c113d5c6e559",
       "version_major": 2,
       "version_minor": 0
      },
      "text/plain": [
       "Computing signatures of population 1:   0%|          | 0/50 [00:00<?, ?it/s]"
      ]
     },
     "metadata": {},
     "output_type": "display_data"
    },
    {
     "data": {
      "application/vnd.jupyter.widget-view+json": {
       "model_id": "556c40100a3b42bea2249f71f96e5058",
       "version_major": 2,
       "version_minor": 0
      },
      "text/plain": [
       "Computing signatures of population 2:   0%|          | 0/50 [00:00<?, ?it/s]"
      ]
     },
     "metadata": {},
     "output_type": "display_data"
    },
    {
     "data": {
      "application/vnd.jupyter.widget-view+json": {
       "model_id": "e4f45f0415334e90a824b256f2bfa46c",
       "version_major": 2,
       "version_minor": 0
      },
      "text/plain": [
       "Computing signatures of population 1:   0%|          | 0/50 [00:00<?, ?it/s]"
      ]
     },
     "metadata": {},
     "output_type": "display_data"
    },
    {
     "data": {
      "application/vnd.jupyter.widget-view+json": {
       "model_id": "f629cc6db245482fbdeb6705d6859a8e",
       "version_major": 2,
       "version_minor": 0
      },
      "text/plain": [
       "Computing signatures of population 2:   0%|          | 0/50 [00:00<?, ?it/s]"
      ]
     },
     "metadata": {},
     "output_type": "display_data"
    },
    {
     "name": "stdout",
     "output_type": "stream",
     "text": [
      "Pass for same\n",
      "Pass for different\n",
      "Step 22\n"
     ]
    },
    {
     "data": {
      "application/vnd.jupyter.widget-view+json": {
       "model_id": "469664b307a1493f8e187f7960fa0c4e",
       "version_major": 2,
       "version_minor": 0
      },
      "text/plain": [
       "Computing signatures of population 1:   0%|          | 0/50 [00:00<?, ?it/s]"
      ]
     },
     "metadata": {},
     "output_type": "display_data"
    },
    {
     "data": {
      "application/vnd.jupyter.widget-view+json": {
       "model_id": "7ccf09ee1f13490b956342648af8a83b",
       "version_major": 2,
       "version_minor": 0
      },
      "text/plain": [
       "Computing signatures of population 2:   0%|          | 0/50 [00:00<?, ?it/s]"
      ]
     },
     "metadata": {},
     "output_type": "display_data"
    },
    {
     "data": {
      "application/vnd.jupyter.widget-view+json": {
       "model_id": "9c82c119d25e43d4ad27bfeb37ac8cd7",
       "version_major": 2,
       "version_minor": 0
      },
      "text/plain": [
       "Computing signatures of population 1:   0%|          | 0/50 [00:00<?, ?it/s]"
      ]
     },
     "metadata": {},
     "output_type": "display_data"
    },
    {
     "data": {
      "application/vnd.jupyter.widget-view+json": {
       "model_id": "d9d0830c5a8c4676b88f035549a82edd",
       "version_major": 2,
       "version_minor": 0
      },
      "text/plain": [
       "Computing signatures of population 2:   0%|          | 0/50 [00:00<?, ?it/s]"
      ]
     },
     "metadata": {},
     "output_type": "display_data"
    },
    {
     "name": "stdout",
     "output_type": "stream",
     "text": [
      "Pass for same\n",
      "Pass for different\n",
      "Step 23\n"
     ]
    },
    {
     "data": {
      "application/vnd.jupyter.widget-view+json": {
       "model_id": "48c1512ee7024be78bb5e079bc5a7d66",
       "version_major": 2,
       "version_minor": 0
      },
      "text/plain": [
       "Computing signatures of population 1:   0%|          | 0/50 [00:00<?, ?it/s]"
      ]
     },
     "metadata": {},
     "output_type": "display_data"
    },
    {
     "data": {
      "application/vnd.jupyter.widget-view+json": {
       "model_id": "4a9be3849a1240cf98b6657a251de37c",
       "version_major": 2,
       "version_minor": 0
      },
      "text/plain": [
       "Computing signatures of population 2:   0%|          | 0/50 [00:00<?, ?it/s]"
      ]
     },
     "metadata": {},
     "output_type": "display_data"
    },
    {
     "data": {
      "application/vnd.jupyter.widget-view+json": {
       "model_id": "cf23c2fdb0104cf7be613ea5ffc3c0db",
       "version_major": 2,
       "version_minor": 0
      },
      "text/plain": [
       "Computing signatures of population 1:   0%|          | 0/50 [00:00<?, ?it/s]"
      ]
     },
     "metadata": {},
     "output_type": "display_data"
    },
    {
     "data": {
      "application/vnd.jupyter.widget-view+json": {
       "model_id": "7cd23196d22e48249fe33d5c6d17ead5",
       "version_major": 2,
       "version_minor": 0
      },
      "text/plain": [
       "Computing signatures of population 2:   0%|          | 0/50 [00:00<?, ?it/s]"
      ]
     },
     "metadata": {},
     "output_type": "display_data"
    },
    {
     "name": "stdout",
     "output_type": "stream",
     "text": [
      "Pass for same\n",
      "Pass for different\n",
      "Step 24\n"
     ]
    },
    {
     "data": {
      "application/vnd.jupyter.widget-view+json": {
       "model_id": "74277331ebda4c249c049ce510efdc85",
       "version_major": 2,
       "version_minor": 0
      },
      "text/plain": [
       "Computing signatures of population 1:   0%|          | 0/50 [00:00<?, ?it/s]"
      ]
     },
     "metadata": {},
     "output_type": "display_data"
    },
    {
     "data": {
      "application/vnd.jupyter.widget-view+json": {
       "model_id": "7532018767ed43238c48af796458f274",
       "version_major": 2,
       "version_minor": 0
      },
      "text/plain": [
       "Computing signatures of population 2:   0%|          | 0/50 [00:00<?, ?it/s]"
      ]
     },
     "metadata": {},
     "output_type": "display_data"
    },
    {
     "data": {
      "application/vnd.jupyter.widget-view+json": {
       "model_id": "140c772c67bb479ca01d8c178f7d27bf",
       "version_major": 2,
       "version_minor": 0
      },
      "text/plain": [
       "Computing signatures of population 1:   0%|          | 0/50 [00:00<?, ?it/s]"
      ]
     },
     "metadata": {},
     "output_type": "display_data"
    },
    {
     "data": {
      "application/vnd.jupyter.widget-view+json": {
       "model_id": "daa489ab46c04dbcac46a40f370e1785",
       "version_major": 2,
       "version_minor": 0
      },
      "text/plain": [
       "Computing signatures of population 2:   0%|          | 0/50 [00:00<?, ?it/s]"
      ]
     },
     "metadata": {},
     "output_type": "display_data"
    },
    {
     "name": "stdout",
     "output_type": "stream",
     "text": [
      "Pass for same\n",
      "Pass for different\n",
      "Step 25\n"
     ]
    },
    {
     "data": {
      "application/vnd.jupyter.widget-view+json": {
       "model_id": "a5b4f670f7f34e94b960d45ded01ea64",
       "version_major": 2,
       "version_minor": 0
      },
      "text/plain": [
       "Computing signatures of population 1:   0%|          | 0/50 [00:00<?, ?it/s]"
      ]
     },
     "metadata": {},
     "output_type": "display_data"
    },
    {
     "data": {
      "application/vnd.jupyter.widget-view+json": {
       "model_id": "8db2b2b434c74e3689c74f0b5350b5c3",
       "version_major": 2,
       "version_minor": 0
      },
      "text/plain": [
       "Computing signatures of population 2:   0%|          | 0/50 [00:00<?, ?it/s]"
      ]
     },
     "metadata": {},
     "output_type": "display_data"
    },
    {
     "data": {
      "application/vnd.jupyter.widget-view+json": {
       "model_id": "5a2e5f571be2466f838af391807f7b48",
       "version_major": 2,
       "version_minor": 0
      },
      "text/plain": [
       "Computing signatures of population 1:   0%|          | 0/50 [00:00<?, ?it/s]"
      ]
     },
     "metadata": {},
     "output_type": "display_data"
    },
    {
     "data": {
      "application/vnd.jupyter.widget-view+json": {
       "model_id": "134b812963c24bf88302e5f4e04cdb45",
       "version_major": 2,
       "version_minor": 0
      },
      "text/plain": [
       "Computing signatures of population 2:   0%|          | 0/50 [00:00<?, ?it/s]"
      ]
     },
     "metadata": {},
     "output_type": "display_data"
    },
    {
     "name": "stdout",
     "output_type": "stream",
     "text": [
      "Pass for same\n",
      "Pass for different\n",
      "Step 26\n"
     ]
    },
    {
     "data": {
      "application/vnd.jupyter.widget-view+json": {
       "model_id": "e5f2e60393c147b183543b879e5c5cc2",
       "version_major": 2,
       "version_minor": 0
      },
      "text/plain": [
       "Computing signatures of population 1:   0%|          | 0/50 [00:00<?, ?it/s]"
      ]
     },
     "metadata": {},
     "output_type": "display_data"
    },
    {
     "data": {
      "application/vnd.jupyter.widget-view+json": {
       "model_id": "8bc9f484e6054b56ba72b4b9da4d30e0",
       "version_major": 2,
       "version_minor": 0
      },
      "text/plain": [
       "Computing signatures of population 2:   0%|          | 0/50 [00:00<?, ?it/s]"
      ]
     },
     "metadata": {},
     "output_type": "display_data"
    },
    {
     "data": {
      "application/vnd.jupyter.widget-view+json": {
       "model_id": "a663c5917d8e47779ab1914a0836d75b",
       "version_major": 2,
       "version_minor": 0
      },
      "text/plain": [
       "Computing signatures of population 1:   0%|          | 0/50 [00:00<?, ?it/s]"
      ]
     },
     "metadata": {},
     "output_type": "display_data"
    },
    {
     "data": {
      "application/vnd.jupyter.widget-view+json": {
       "model_id": "7623962795d1420194cf67ac7d2e231c",
       "version_major": 2,
       "version_minor": 0
      },
      "text/plain": [
       "Computing signatures of population 2:   0%|          | 0/50 [00:00<?, ?it/s]"
      ]
     },
     "metadata": {},
     "output_type": "display_data"
    },
    {
     "name": "stdout",
     "output_type": "stream",
     "text": [
      "Pass for same\n",
      "Pass for different\n",
      "Step 27\n"
     ]
    },
    {
     "data": {
      "application/vnd.jupyter.widget-view+json": {
       "model_id": "b98c07e9f66146a4852bdcb9276c0528",
       "version_major": 2,
       "version_minor": 0
      },
      "text/plain": [
       "Computing signatures of population 1:   0%|          | 0/50 [00:00<?, ?it/s]"
      ]
     },
     "metadata": {},
     "output_type": "display_data"
    },
    {
     "data": {
      "application/vnd.jupyter.widget-view+json": {
       "model_id": "51b7d650218749ba8ae050f7d44e99ac",
       "version_major": 2,
       "version_minor": 0
      },
      "text/plain": [
       "Computing signatures of population 2:   0%|          | 0/50 [00:00<?, ?it/s]"
      ]
     },
     "metadata": {},
     "output_type": "display_data"
    },
    {
     "data": {
      "application/vnd.jupyter.widget-view+json": {
       "model_id": "57bf902c616e4eda84f8fd232ffe32d9",
       "version_major": 2,
       "version_minor": 0
      },
      "text/plain": [
       "Computing signatures of population 1:   0%|          | 0/50 [00:00<?, ?it/s]"
      ]
     },
     "metadata": {},
     "output_type": "display_data"
    },
    {
     "data": {
      "application/vnd.jupyter.widget-view+json": {
       "model_id": "b5f0859aa2584012a74bff6ead15dd5a",
       "version_major": 2,
       "version_minor": 0
      },
      "text/plain": [
       "Computing signatures of population 2:   0%|          | 0/50 [00:00<?, ?it/s]"
      ]
     },
     "metadata": {},
     "output_type": "display_data"
    },
    {
     "name": "stdout",
     "output_type": "stream",
     "text": [
      "Pass for same\n",
      "Pass for different\n",
      "Step 28\n"
     ]
    },
    {
     "data": {
      "application/vnd.jupyter.widget-view+json": {
       "model_id": "92aa76f25001460db62eebbe17135fc3",
       "version_major": 2,
       "version_minor": 0
      },
      "text/plain": [
       "Computing signatures of population 1:   0%|          | 0/50 [00:00<?, ?it/s]"
      ]
     },
     "metadata": {},
     "output_type": "display_data"
    },
    {
     "data": {
      "application/vnd.jupyter.widget-view+json": {
       "model_id": "f817212d32d043aba7f639dbd9fb4627",
       "version_major": 2,
       "version_minor": 0
      },
      "text/plain": [
       "Computing signatures of population 2:   0%|          | 0/50 [00:00<?, ?it/s]"
      ]
     },
     "metadata": {},
     "output_type": "display_data"
    },
    {
     "data": {
      "application/vnd.jupyter.widget-view+json": {
       "model_id": "06cd698e53164e5fb4b99d659ec03f32",
       "version_major": 2,
       "version_minor": 0
      },
      "text/plain": [
       "Computing signatures of population 1:   0%|          | 0/50 [00:00<?, ?it/s]"
      ]
     },
     "metadata": {},
     "output_type": "display_data"
    },
    {
     "data": {
      "application/vnd.jupyter.widget-view+json": {
       "model_id": "0ec0975a00084cb5b5d68626c09f7049",
       "version_major": 2,
       "version_minor": 0
      },
      "text/plain": [
       "Computing signatures of population 2:   0%|          | 0/50 [00:00<?, ?it/s]"
      ]
     },
     "metadata": {},
     "output_type": "display_data"
    },
    {
     "name": "stdout",
     "output_type": "stream",
     "text": [
      "Pass for same\n",
      "Pass for different\n",
      "Step 29\n"
     ]
    },
    {
     "data": {
      "application/vnd.jupyter.widget-view+json": {
       "model_id": "62bb83a28f5f4530bffcb43b02824730",
       "version_major": 2,
       "version_minor": 0
      },
      "text/plain": [
       "Computing signatures of population 1:   0%|          | 0/50 [00:00<?, ?it/s]"
      ]
     },
     "metadata": {},
     "output_type": "display_data"
    },
    {
     "data": {
      "application/vnd.jupyter.widget-view+json": {
       "model_id": "57ae4910e67d44f098b7548b1f8438b9",
       "version_major": 2,
       "version_minor": 0
      },
      "text/plain": [
       "Computing signatures of population 2:   0%|          | 0/50 [00:00<?, ?it/s]"
      ]
     },
     "metadata": {},
     "output_type": "display_data"
    },
    {
     "data": {
      "application/vnd.jupyter.widget-view+json": {
       "model_id": "9c646d668a23479092dec4038b49fec9",
       "version_major": 2,
       "version_minor": 0
      },
      "text/plain": [
       "Computing signatures of population 1:   0%|          | 0/50 [00:00<?, ?it/s]"
      ]
     },
     "metadata": {},
     "output_type": "display_data"
    },
    {
     "data": {
      "application/vnd.jupyter.widget-view+json": {
       "model_id": "c442fae2894b42a0851f5c4da0528b02",
       "version_major": 2,
       "version_minor": 0
      },
      "text/plain": [
       "Computing signatures of population 2:   0%|          | 0/50 [00:00<?, ?it/s]"
      ]
     },
     "metadata": {},
     "output_type": "display_data"
    },
    {
     "name": "stdout",
     "output_type": "stream",
     "text": [
      "Pass for same\n",
      "Pass for different\n",
      "Step 30\n"
     ]
    },
    {
     "data": {
      "application/vnd.jupyter.widget-view+json": {
       "model_id": "aee2aa0cccde40b2827b62f59b808dad",
       "version_major": 2,
       "version_minor": 0
      },
      "text/plain": [
       "Computing signatures of population 1:   0%|          | 0/50 [00:00<?, ?it/s]"
      ]
     },
     "metadata": {},
     "output_type": "display_data"
    },
    {
     "data": {
      "application/vnd.jupyter.widget-view+json": {
       "model_id": "129a032f9d5846ed87170e6feda3d7ee",
       "version_major": 2,
       "version_minor": 0
      },
      "text/plain": [
       "Computing signatures of population 2:   0%|          | 0/50 [00:00<?, ?it/s]"
      ]
     },
     "metadata": {},
     "output_type": "display_data"
    },
    {
     "data": {
      "application/vnd.jupyter.widget-view+json": {
       "model_id": "ef10d11de4304b98a56895210c92f30c",
       "version_major": 2,
       "version_minor": 0
      },
      "text/plain": [
       "Computing signatures of population 1:   0%|          | 0/50 [00:00<?, ?it/s]"
      ]
     },
     "metadata": {},
     "output_type": "display_data"
    },
    {
     "data": {
      "application/vnd.jupyter.widget-view+json": {
       "model_id": "b7919bf8812f4976b912a72c4948eb17",
       "version_major": 2,
       "version_minor": 0
      },
      "text/plain": [
       "Computing signatures of population 2:   0%|          | 0/50 [00:00<?, ?it/s]"
      ]
     },
     "metadata": {},
     "output_type": "display_data"
    },
    {
     "name": "stdout",
     "output_type": "stream",
     "text": [
      "Mistake for same\n",
      "Pass for different\n",
      "Step 31\n"
     ]
    },
    {
     "data": {
      "application/vnd.jupyter.widget-view+json": {
       "model_id": "dd6814ca7a044b7ab9c957e535bdedfb",
       "version_major": 2,
       "version_minor": 0
      },
      "text/plain": [
       "Computing signatures of population 1:   0%|          | 0/50 [00:00<?, ?it/s]"
      ]
     },
     "metadata": {},
     "output_type": "display_data"
    },
    {
     "data": {
      "application/vnd.jupyter.widget-view+json": {
       "model_id": "36ccb0e1ebb6451a991aefd078dc33ac",
       "version_major": 2,
       "version_minor": 0
      },
      "text/plain": [
       "Computing signatures of population 2:   0%|          | 0/50 [00:00<?, ?it/s]"
      ]
     },
     "metadata": {},
     "output_type": "display_data"
    },
    {
     "data": {
      "application/vnd.jupyter.widget-view+json": {
       "model_id": "d0db584ca8e243c3bbad13a9515a3fb6",
       "version_major": 2,
       "version_minor": 0
      },
      "text/plain": [
       "Computing signatures of population 1:   0%|          | 0/50 [00:00<?, ?it/s]"
      ]
     },
     "metadata": {},
     "output_type": "display_data"
    },
    {
     "data": {
      "application/vnd.jupyter.widget-view+json": {
       "model_id": "1fb6c76527344cb5a9a391d941a43eac",
       "version_major": 2,
       "version_minor": 0
      },
      "text/plain": [
       "Computing signatures of population 2:   0%|          | 0/50 [00:00<?, ?it/s]"
      ]
     },
     "metadata": {},
     "output_type": "display_data"
    },
    {
     "name": "stdout",
     "output_type": "stream",
     "text": [
      "Mistake for same\n",
      "Pass for different\n",
      "Step 32\n"
     ]
    },
    {
     "data": {
      "application/vnd.jupyter.widget-view+json": {
       "model_id": "2a3ffbf1d4e24a2abea20d7a9ae4897a",
       "version_major": 2,
       "version_minor": 0
      },
      "text/plain": [
       "Computing signatures of population 1:   0%|          | 0/50 [00:00<?, ?it/s]"
      ]
     },
     "metadata": {},
     "output_type": "display_data"
    },
    {
     "data": {
      "application/vnd.jupyter.widget-view+json": {
       "model_id": "2d8ca789bbe84f02b90fd83b3ca670a3",
       "version_major": 2,
       "version_minor": 0
      },
      "text/plain": [
       "Computing signatures of population 2:   0%|          | 0/50 [00:00<?, ?it/s]"
      ]
     },
     "metadata": {},
     "output_type": "display_data"
    },
    {
     "data": {
      "application/vnd.jupyter.widget-view+json": {
       "model_id": "0ee5ce967d394ec8b66e33346fdcf270",
       "version_major": 2,
       "version_minor": 0
      },
      "text/plain": [
       "Computing signatures of population 1:   0%|          | 0/50 [00:00<?, ?it/s]"
      ]
     },
     "metadata": {},
     "output_type": "display_data"
    },
    {
     "data": {
      "application/vnd.jupyter.widget-view+json": {
       "model_id": "467d665f2b1943a8a2a618010e3dbf81",
       "version_major": 2,
       "version_minor": 0
      },
      "text/plain": [
       "Computing signatures of population 2:   0%|          | 0/50 [00:00<?, ?it/s]"
      ]
     },
     "metadata": {},
     "output_type": "display_data"
    },
    {
     "name": "stdout",
     "output_type": "stream",
     "text": [
      "Pass for same\n",
      "Pass for different\n",
      "Step 33\n"
     ]
    },
    {
     "data": {
      "application/vnd.jupyter.widget-view+json": {
       "model_id": "8c3723c2e5e3410ea57d6850bb029269",
       "version_major": 2,
       "version_minor": 0
      },
      "text/plain": [
       "Computing signatures of population 1:   0%|          | 0/50 [00:00<?, ?it/s]"
      ]
     },
     "metadata": {},
     "output_type": "display_data"
    },
    {
     "data": {
      "application/vnd.jupyter.widget-view+json": {
       "model_id": "be85b58096d547bf8f477ff8d7438e4f",
       "version_major": 2,
       "version_minor": 0
      },
      "text/plain": [
       "Computing signatures of population 2:   0%|          | 0/50 [00:00<?, ?it/s]"
      ]
     },
     "metadata": {},
     "output_type": "display_data"
    },
    {
     "data": {
      "application/vnd.jupyter.widget-view+json": {
       "model_id": "329997e8e0884c6b9d3e13998345fc82",
       "version_major": 2,
       "version_minor": 0
      },
      "text/plain": [
       "Computing signatures of population 1:   0%|          | 0/50 [00:00<?, ?it/s]"
      ]
     },
     "metadata": {},
     "output_type": "display_data"
    },
    {
     "data": {
      "application/vnd.jupyter.widget-view+json": {
       "model_id": "11d19949acfc4ebcb6ecee0068686700",
       "version_major": 2,
       "version_minor": 0
      },
      "text/plain": [
       "Computing signatures of population 2:   0%|          | 0/50 [00:00<?, ?it/s]"
      ]
     },
     "metadata": {},
     "output_type": "display_data"
    },
    {
     "name": "stdout",
     "output_type": "stream",
     "text": [
      "Mistake for same\n",
      "Pass for different\n",
      "Step 34\n"
     ]
    },
    {
     "data": {
      "application/vnd.jupyter.widget-view+json": {
       "model_id": "b1bed04ce6e54b79bf5b4bd7ca066081",
       "version_major": 2,
       "version_minor": 0
      },
      "text/plain": [
       "Computing signatures of population 1:   0%|          | 0/50 [00:00<?, ?it/s]"
      ]
     },
     "metadata": {},
     "output_type": "display_data"
    },
    {
     "data": {
      "application/vnd.jupyter.widget-view+json": {
       "model_id": "e0c6530ea81541b191814ca4a07d9779",
       "version_major": 2,
       "version_minor": 0
      },
      "text/plain": [
       "Computing signatures of population 2:   0%|          | 0/50 [00:00<?, ?it/s]"
      ]
     },
     "metadata": {},
     "output_type": "display_data"
    },
    {
     "data": {
      "application/vnd.jupyter.widget-view+json": {
       "model_id": "eaba4cf26d5c4dfead372737bbbe2541",
       "version_major": 2,
       "version_minor": 0
      },
      "text/plain": [
       "Computing signatures of population 1:   0%|          | 0/50 [00:00<?, ?it/s]"
      ]
     },
     "metadata": {},
     "output_type": "display_data"
    },
    {
     "data": {
      "application/vnd.jupyter.widget-view+json": {
       "model_id": "8fec855be3c6489a938757e27dbad8dd",
       "version_major": 2,
       "version_minor": 0
      },
      "text/plain": [
       "Computing signatures of population 2:   0%|          | 0/50 [00:00<?, ?it/s]"
      ]
     },
     "metadata": {},
     "output_type": "display_data"
    },
    {
     "name": "stdout",
     "output_type": "stream",
     "text": [
      "Mistake for same\n",
      "Pass for different\n",
      "Step 35\n"
     ]
    },
    {
     "data": {
      "application/vnd.jupyter.widget-view+json": {
       "model_id": "be2a62e6cb7946f78276782e42a86803",
       "version_major": 2,
       "version_minor": 0
      },
      "text/plain": [
       "Computing signatures of population 1:   0%|          | 0/50 [00:00<?, ?it/s]"
      ]
     },
     "metadata": {},
     "output_type": "display_data"
    },
    {
     "data": {
      "application/vnd.jupyter.widget-view+json": {
       "model_id": "6d2fee6b7478431b8a93ccb758124792",
       "version_major": 2,
       "version_minor": 0
      },
      "text/plain": [
       "Computing signatures of population 2:   0%|          | 0/50 [00:00<?, ?it/s]"
      ]
     },
     "metadata": {},
     "output_type": "display_data"
    },
    {
     "data": {
      "application/vnd.jupyter.widget-view+json": {
       "model_id": "965cd60f6352408781200cb415746bf5",
       "version_major": 2,
       "version_minor": 0
      },
      "text/plain": [
       "Computing signatures of population 1:   0%|          | 0/50 [00:00<?, ?it/s]"
      ]
     },
     "metadata": {},
     "output_type": "display_data"
    },
    {
     "data": {
      "application/vnd.jupyter.widget-view+json": {
       "model_id": "d2ba0eb2a7704a66b3a53db5ad674d53",
       "version_major": 2,
       "version_minor": 0
      },
      "text/plain": [
       "Computing signatures of population 2:   0%|          | 0/50 [00:00<?, ?it/s]"
      ]
     },
     "metadata": {},
     "output_type": "display_data"
    },
    {
     "name": "stdout",
     "output_type": "stream",
     "text": [
      "Pass for same\n",
      "Pass for different\n",
      "Step 36\n"
     ]
    },
    {
     "data": {
      "application/vnd.jupyter.widget-view+json": {
       "model_id": "b2bffed757ff456c80e95863947c96f2",
       "version_major": 2,
       "version_minor": 0
      },
      "text/plain": [
       "Computing signatures of population 1:   0%|          | 0/50 [00:00<?, ?it/s]"
      ]
     },
     "metadata": {},
     "output_type": "display_data"
    },
    {
     "data": {
      "application/vnd.jupyter.widget-view+json": {
       "model_id": "0215dccdba55404faea4c8ee3c332a9c",
       "version_major": 2,
       "version_minor": 0
      },
      "text/plain": [
       "Computing signatures of population 2:   0%|          | 0/50 [00:00<?, ?it/s]"
      ]
     },
     "metadata": {},
     "output_type": "display_data"
    },
    {
     "data": {
      "application/vnd.jupyter.widget-view+json": {
       "model_id": "52439de4b49d4541808e0366bcf6cccc",
       "version_major": 2,
       "version_minor": 0
      },
      "text/plain": [
       "Computing signatures of population 1:   0%|          | 0/50 [00:00<?, ?it/s]"
      ]
     },
     "metadata": {},
     "output_type": "display_data"
    },
    {
     "data": {
      "application/vnd.jupyter.widget-view+json": {
       "model_id": "09024985d8e841c98eee53cc4233cbe1",
       "version_major": 2,
       "version_minor": 0
      },
      "text/plain": [
       "Computing signatures of population 2:   0%|          | 0/50 [00:00<?, ?it/s]"
      ]
     },
     "metadata": {},
     "output_type": "display_data"
    },
    {
     "name": "stdout",
     "output_type": "stream",
     "text": [
      "Pass for same\n",
      "Pass for different\n",
      "Step 37\n"
     ]
    },
    {
     "data": {
      "application/vnd.jupyter.widget-view+json": {
       "model_id": "97c2a702c7d1409fa06ff21d3896afc4",
       "version_major": 2,
       "version_minor": 0
      },
      "text/plain": [
       "Computing signatures of population 1:   0%|          | 0/50 [00:00<?, ?it/s]"
      ]
     },
     "metadata": {},
     "output_type": "display_data"
    },
    {
     "data": {
      "application/vnd.jupyter.widget-view+json": {
       "model_id": "b1e0a51f8cf946fc9345077bff8876a5",
       "version_major": 2,
       "version_minor": 0
      },
      "text/plain": [
       "Computing signatures of population 2:   0%|          | 0/50 [00:00<?, ?it/s]"
      ]
     },
     "metadata": {},
     "output_type": "display_data"
    },
    {
     "data": {
      "application/vnd.jupyter.widget-view+json": {
       "model_id": "1af2e755e16d49218eaa58352c75e457",
       "version_major": 2,
       "version_minor": 0
      },
      "text/plain": [
       "Computing signatures of population 1:   0%|          | 0/50 [00:00<?, ?it/s]"
      ]
     },
     "metadata": {},
     "output_type": "display_data"
    },
    {
     "data": {
      "application/vnd.jupyter.widget-view+json": {
       "model_id": "9840169f7d484aa9950ed64cea3741ee",
       "version_major": 2,
       "version_minor": 0
      },
      "text/plain": [
       "Computing signatures of population 2:   0%|          | 0/50 [00:00<?, ?it/s]"
      ]
     },
     "metadata": {},
     "output_type": "display_data"
    },
    {
     "name": "stdout",
     "output_type": "stream",
     "text": [
      "Mistake for same\n",
      "Pass for different\n",
      "Step 38\n"
     ]
    },
    {
     "data": {
      "application/vnd.jupyter.widget-view+json": {
       "model_id": "fdea5ec436f241b6bc92d8d64a21194a",
       "version_major": 2,
       "version_minor": 0
      },
      "text/plain": [
       "Computing signatures of population 1:   0%|          | 0/50 [00:00<?, ?it/s]"
      ]
     },
     "metadata": {},
     "output_type": "display_data"
    },
    {
     "data": {
      "application/vnd.jupyter.widget-view+json": {
       "model_id": "b253be5cd5af4f10b3511429ea32dee7",
       "version_major": 2,
       "version_minor": 0
      },
      "text/plain": [
       "Computing signatures of population 2:   0%|          | 0/50 [00:00<?, ?it/s]"
      ]
     },
     "metadata": {},
     "output_type": "display_data"
    },
    {
     "data": {
      "application/vnd.jupyter.widget-view+json": {
       "model_id": "b62f78de3a7b419394a06f14b37a6fc9",
       "version_major": 2,
       "version_minor": 0
      },
      "text/plain": [
       "Computing signatures of population 1:   0%|          | 0/50 [00:00<?, ?it/s]"
      ]
     },
     "metadata": {},
     "output_type": "display_data"
    },
    {
     "data": {
      "application/vnd.jupyter.widget-view+json": {
       "model_id": "f53026b9e0e444d7a9903557ded16d53",
       "version_major": 2,
       "version_minor": 0
      },
      "text/plain": [
       "Computing signatures of population 2:   0%|          | 0/50 [00:00<?, ?it/s]"
      ]
     },
     "metadata": {},
     "output_type": "display_data"
    },
    {
     "name": "stdout",
     "output_type": "stream",
     "text": [
      "Mistake for same\n",
      "Pass for different\n",
      "Step 39\n"
     ]
    },
    {
     "data": {
      "application/vnd.jupyter.widget-view+json": {
       "model_id": "076ef91b28d44f1489962bd91fa98543",
       "version_major": 2,
       "version_minor": 0
      },
      "text/plain": [
       "Computing signatures of population 1:   0%|          | 0/50 [00:00<?, ?it/s]"
      ]
     },
     "metadata": {},
     "output_type": "display_data"
    },
    {
     "data": {
      "application/vnd.jupyter.widget-view+json": {
       "model_id": "e071d2cefdf240f7890742631073c50b",
       "version_major": 2,
       "version_minor": 0
      },
      "text/plain": [
       "Computing signatures of population 2:   0%|          | 0/50 [00:00<?, ?it/s]"
      ]
     },
     "metadata": {},
     "output_type": "display_data"
    },
    {
     "data": {
      "application/vnd.jupyter.widget-view+json": {
       "model_id": "a2320018c1024ded9c199b914073206d",
       "version_major": 2,
       "version_minor": 0
      },
      "text/plain": [
       "Computing signatures of population 1:   0%|          | 0/50 [00:00<?, ?it/s]"
      ]
     },
     "metadata": {},
     "output_type": "display_data"
    },
    {
     "data": {
      "application/vnd.jupyter.widget-view+json": {
       "model_id": "d76b13a1518d459496f39bfc6e5a1c5d",
       "version_major": 2,
       "version_minor": 0
      },
      "text/plain": [
       "Computing signatures of population 2:   0%|          | 0/50 [00:00<?, ?it/s]"
      ]
     },
     "metadata": {},
     "output_type": "display_data"
    },
    {
     "name": "stdout",
     "output_type": "stream",
     "text": [
      "Mistake for same\n",
      "Pass for different\n",
      "Step 40\n"
     ]
    },
    {
     "data": {
      "application/vnd.jupyter.widget-view+json": {
       "model_id": "93c0a9eea52044ea9c4451e612d01794",
       "version_major": 2,
       "version_minor": 0
      },
      "text/plain": [
       "Computing signatures of population 1:   0%|          | 0/50 [00:00<?, ?it/s]"
      ]
     },
     "metadata": {},
     "output_type": "display_data"
    },
    {
     "data": {
      "application/vnd.jupyter.widget-view+json": {
       "model_id": "d0937e241b8843d38af3a8193dcf5882",
       "version_major": 2,
       "version_minor": 0
      },
      "text/plain": [
       "Computing signatures of population 2:   0%|          | 0/50 [00:00<?, ?it/s]"
      ]
     },
     "metadata": {},
     "output_type": "display_data"
    },
    {
     "data": {
      "application/vnd.jupyter.widget-view+json": {
       "model_id": "c9421645c01c41b796c32f5d127ec017",
       "version_major": 2,
       "version_minor": 0
      },
      "text/plain": [
       "Computing signatures of population 1:   0%|          | 0/50 [00:00<?, ?it/s]"
      ]
     },
     "metadata": {},
     "output_type": "display_data"
    },
    {
     "data": {
      "application/vnd.jupyter.widget-view+json": {
       "model_id": "34909dfb133e4568bd4a102b1f2d240c",
       "version_major": 2,
       "version_minor": 0
      },
      "text/plain": [
       "Computing signatures of population 2:   0%|          | 0/50 [00:00<?, ?it/s]"
      ]
     },
     "metadata": {},
     "output_type": "display_data"
    },
    {
     "name": "stdout",
     "output_type": "stream",
     "text": [
      "Pass for same\n",
      "Pass for different\n",
      "Step 41\n"
     ]
    },
    {
     "data": {
      "application/vnd.jupyter.widget-view+json": {
       "model_id": "4a4ce1913de04dc9b87f71003183515e",
       "version_major": 2,
       "version_minor": 0
      },
      "text/plain": [
       "Computing signatures of population 1:   0%|          | 0/50 [00:00<?, ?it/s]"
      ]
     },
     "metadata": {},
     "output_type": "display_data"
    },
    {
     "data": {
      "application/vnd.jupyter.widget-view+json": {
       "model_id": "d6528e3654274aafa2ed830cc7c4d918",
       "version_major": 2,
       "version_minor": 0
      },
      "text/plain": [
       "Computing signatures of population 2:   0%|          | 0/50 [00:00<?, ?it/s]"
      ]
     },
     "metadata": {},
     "output_type": "display_data"
    },
    {
     "data": {
      "application/vnd.jupyter.widget-view+json": {
       "model_id": "d51fe589ab3d4a2fa61a6d3493ac4bbf",
       "version_major": 2,
       "version_minor": 0
      },
      "text/plain": [
       "Computing signatures of population 1:   0%|          | 0/50 [00:00<?, ?it/s]"
      ]
     },
     "metadata": {},
     "output_type": "display_data"
    },
    {
     "data": {
      "application/vnd.jupyter.widget-view+json": {
       "model_id": "1b2e0cf504c54ac48709a19b0b052ca5",
       "version_major": 2,
       "version_minor": 0
      },
      "text/plain": [
       "Computing signatures of population 2:   0%|          | 0/50 [00:00<?, ?it/s]"
      ]
     },
     "metadata": {},
     "output_type": "display_data"
    },
    {
     "name": "stdout",
     "output_type": "stream",
     "text": [
      "Pass for same\n",
      "Pass for different\n",
      "Step 42\n"
     ]
    },
    {
     "data": {
      "application/vnd.jupyter.widget-view+json": {
       "model_id": "4bfe85c8e75a44edbb300ba520640c44",
       "version_major": 2,
       "version_minor": 0
      },
      "text/plain": [
       "Computing signatures of population 1:   0%|          | 0/50 [00:00<?, ?it/s]"
      ]
     },
     "metadata": {},
     "output_type": "display_data"
    },
    {
     "data": {
      "application/vnd.jupyter.widget-view+json": {
       "model_id": "42ba8ed13c564c94bc88c4e27bceb3ed",
       "version_major": 2,
       "version_minor": 0
      },
      "text/plain": [
       "Computing signatures of population 2:   0%|          | 0/50 [00:00<?, ?it/s]"
      ]
     },
     "metadata": {},
     "output_type": "display_data"
    },
    {
     "data": {
      "application/vnd.jupyter.widget-view+json": {
       "model_id": "7a98e5147b0d49aca687c62c6648632c",
       "version_major": 2,
       "version_minor": 0
      },
      "text/plain": [
       "Computing signatures of population 1:   0%|          | 0/50 [00:00<?, ?it/s]"
      ]
     },
     "metadata": {},
     "output_type": "display_data"
    },
    {
     "data": {
      "application/vnd.jupyter.widget-view+json": {
       "model_id": "3b41bd3f0f35427b8c060d6907e941ba",
       "version_major": 2,
       "version_minor": 0
      },
      "text/plain": [
       "Computing signatures of population 2:   0%|          | 0/50 [00:00<?, ?it/s]"
      ]
     },
     "metadata": {},
     "output_type": "display_data"
    },
    {
     "name": "stdout",
     "output_type": "stream",
     "text": [
      "Pass for same\n",
      "Pass for different\n",
      "Step 43\n"
     ]
    },
    {
     "data": {
      "application/vnd.jupyter.widget-view+json": {
       "model_id": "6d376cd5b2fe4c00974d51e571707dec",
       "version_major": 2,
       "version_minor": 0
      },
      "text/plain": [
       "Computing signatures of population 1:   0%|          | 0/50 [00:00<?, ?it/s]"
      ]
     },
     "metadata": {},
     "output_type": "display_data"
    },
    {
     "data": {
      "application/vnd.jupyter.widget-view+json": {
       "model_id": "211929be392544868cfb086953d1244b",
       "version_major": 2,
       "version_minor": 0
      },
      "text/plain": [
       "Computing signatures of population 2:   0%|          | 0/50 [00:00<?, ?it/s]"
      ]
     },
     "metadata": {},
     "output_type": "display_data"
    },
    {
     "data": {
      "application/vnd.jupyter.widget-view+json": {
       "model_id": "837c50f67e65499aa5b7f76eb7c2ae2d",
       "version_major": 2,
       "version_minor": 0
      },
      "text/plain": [
       "Computing signatures of population 1:   0%|          | 0/50 [00:00<?, ?it/s]"
      ]
     },
     "metadata": {},
     "output_type": "display_data"
    },
    {
     "data": {
      "application/vnd.jupyter.widget-view+json": {
       "model_id": "bfb50f27030a4120b6ba1e3aecd12e66",
       "version_major": 2,
       "version_minor": 0
      },
      "text/plain": [
       "Computing signatures of population 2:   0%|          | 0/50 [00:00<?, ?it/s]"
      ]
     },
     "metadata": {},
     "output_type": "display_data"
    },
    {
     "name": "stdout",
     "output_type": "stream",
     "text": [
      "Mistake for same\n",
      "Pass for different\n",
      "Step 44\n"
     ]
    },
    {
     "data": {
      "application/vnd.jupyter.widget-view+json": {
       "model_id": "6b94fc5c50304c859ff1a4bf58ec6f4e",
       "version_major": 2,
       "version_minor": 0
      },
      "text/plain": [
       "Computing signatures of population 1:   0%|          | 0/50 [00:00<?, ?it/s]"
      ]
     },
     "metadata": {},
     "output_type": "display_data"
    },
    {
     "data": {
      "application/vnd.jupyter.widget-view+json": {
       "model_id": "1bad28dbaf354bcfaf9fa6ac37596a8b",
       "version_major": 2,
       "version_minor": 0
      },
      "text/plain": [
       "Computing signatures of population 2:   0%|          | 0/50 [00:00<?, ?it/s]"
      ]
     },
     "metadata": {},
     "output_type": "display_data"
    },
    {
     "data": {
      "application/vnd.jupyter.widget-view+json": {
       "model_id": "9d2c042f923f49a489534af11410f093",
       "version_major": 2,
       "version_minor": 0
      },
      "text/plain": [
       "Computing signatures of population 1:   0%|          | 0/50 [00:00<?, ?it/s]"
      ]
     },
     "metadata": {},
     "output_type": "display_data"
    },
    {
     "data": {
      "application/vnd.jupyter.widget-view+json": {
       "model_id": "0f957bcbf52f4a1da5056f915129d205",
       "version_major": 2,
       "version_minor": 0
      },
      "text/plain": [
       "Computing signatures of population 2:   0%|          | 0/50 [00:00<?, ?it/s]"
      ]
     },
     "metadata": {},
     "output_type": "display_data"
    },
    {
     "name": "stdout",
     "output_type": "stream",
     "text": [
      "Pass for same\n",
      "Pass for different\n",
      "Step 45\n"
     ]
    },
    {
     "data": {
      "application/vnd.jupyter.widget-view+json": {
       "model_id": "1e57cd8b9d0a4505bae69e407363e3ef",
       "version_major": 2,
       "version_minor": 0
      },
      "text/plain": [
       "Computing signatures of population 1:   0%|          | 0/50 [00:00<?, ?it/s]"
      ]
     },
     "metadata": {},
     "output_type": "display_data"
    },
    {
     "data": {
      "application/vnd.jupyter.widget-view+json": {
       "model_id": "bd500133b1e54f95ad4a5ab67386112e",
       "version_major": 2,
       "version_minor": 0
      },
      "text/plain": [
       "Computing signatures of population 2:   0%|          | 0/50 [00:00<?, ?it/s]"
      ]
     },
     "metadata": {},
     "output_type": "display_data"
    },
    {
     "data": {
      "application/vnd.jupyter.widget-view+json": {
       "model_id": "730a409b5bf444c4bdf29406bc118a0f",
       "version_major": 2,
       "version_minor": 0
      },
      "text/plain": [
       "Computing signatures of population 1:   0%|          | 0/50 [00:00<?, ?it/s]"
      ]
     },
     "metadata": {},
     "output_type": "display_data"
    },
    {
     "data": {
      "application/vnd.jupyter.widget-view+json": {
       "model_id": "39f590699f3f47a69f1601148a98dfde",
       "version_major": 2,
       "version_minor": 0
      },
      "text/plain": [
       "Computing signatures of population 2:   0%|          | 0/50 [00:00<?, ?it/s]"
      ]
     },
     "metadata": {},
     "output_type": "display_data"
    },
    {
     "name": "stdout",
     "output_type": "stream",
     "text": [
      "Pass for same\n",
      "Pass for different\n",
      "Step 46\n"
     ]
    },
    {
     "data": {
      "application/vnd.jupyter.widget-view+json": {
       "model_id": "230600e626414bdba633f3f5db22ed49",
       "version_major": 2,
       "version_minor": 0
      },
      "text/plain": [
       "Computing signatures of population 1:   0%|          | 0/50 [00:00<?, ?it/s]"
      ]
     },
     "metadata": {},
     "output_type": "display_data"
    },
    {
     "data": {
      "application/vnd.jupyter.widget-view+json": {
       "model_id": "afc1500a462141c1baf57f019a42913f",
       "version_major": 2,
       "version_minor": 0
      },
      "text/plain": [
       "Computing signatures of population 2:   0%|          | 0/50 [00:00<?, ?it/s]"
      ]
     },
     "metadata": {},
     "output_type": "display_data"
    },
    {
     "data": {
      "application/vnd.jupyter.widget-view+json": {
       "model_id": "57093ab69df648b7b9ac75eca6a9bd9d",
       "version_major": 2,
       "version_minor": 0
      },
      "text/plain": [
       "Computing signatures of population 1:   0%|          | 0/50 [00:00<?, ?it/s]"
      ]
     },
     "metadata": {},
     "output_type": "display_data"
    },
    {
     "data": {
      "application/vnd.jupyter.widget-view+json": {
       "model_id": "c98efea8ba4a4baa9514f82194e2739f",
       "version_major": 2,
       "version_minor": 0
      },
      "text/plain": [
       "Computing signatures of population 2:   0%|          | 0/50 [00:00<?, ?it/s]"
      ]
     },
     "metadata": {},
     "output_type": "display_data"
    },
    {
     "name": "stdout",
     "output_type": "stream",
     "text": [
      "Pass for same\n",
      "Pass for different\n",
      "Step 47\n"
     ]
    },
    {
     "data": {
      "application/vnd.jupyter.widget-view+json": {
       "model_id": "49d15f53647a4bf0aba78035b9e9aac8",
       "version_major": 2,
       "version_minor": 0
      },
      "text/plain": [
       "Computing signatures of population 1:   0%|          | 0/50 [00:00<?, ?it/s]"
      ]
     },
     "metadata": {},
     "output_type": "display_data"
    },
    {
     "data": {
      "application/vnd.jupyter.widget-view+json": {
       "model_id": "b204cd0d4d2448c6a5f29985f816ca9d",
       "version_major": 2,
       "version_minor": 0
      },
      "text/plain": [
       "Computing signatures of population 2:   0%|          | 0/50 [00:00<?, ?it/s]"
      ]
     },
     "metadata": {},
     "output_type": "display_data"
    },
    {
     "data": {
      "application/vnd.jupyter.widget-view+json": {
       "model_id": "9ef8577b1d2045fe924762247ae90f18",
       "version_major": 2,
       "version_minor": 0
      },
      "text/plain": [
       "Computing signatures of population 1:   0%|          | 0/50 [00:00<?, ?it/s]"
      ]
     },
     "metadata": {},
     "output_type": "display_data"
    },
    {
     "data": {
      "application/vnd.jupyter.widget-view+json": {
       "model_id": "b8586368e9ea46c597ab2d0edeeb7706",
       "version_major": 2,
       "version_minor": 0
      },
      "text/plain": [
       "Computing signatures of population 2:   0%|          | 0/50 [00:00<?, ?it/s]"
      ]
     },
     "metadata": {},
     "output_type": "display_data"
    },
    {
     "name": "stdout",
     "output_type": "stream",
     "text": [
      "Pass for same\n",
      "Pass for different\n",
      "Step 48\n"
     ]
    },
    {
     "data": {
      "application/vnd.jupyter.widget-view+json": {
       "model_id": "b008522cfec2417fbe10930037dc9867",
       "version_major": 2,
       "version_minor": 0
      },
      "text/plain": [
       "Computing signatures of population 1:   0%|          | 0/50 [00:00<?, ?it/s]"
      ]
     },
     "metadata": {},
     "output_type": "display_data"
    },
    {
     "data": {
      "application/vnd.jupyter.widget-view+json": {
       "model_id": "d9599ea95b8e4082a4b73a4900fd1b5e",
       "version_major": 2,
       "version_minor": 0
      },
      "text/plain": [
       "Computing signatures of population 2:   0%|          | 0/50 [00:00<?, ?it/s]"
      ]
     },
     "metadata": {},
     "output_type": "display_data"
    },
    {
     "data": {
      "application/vnd.jupyter.widget-view+json": {
       "model_id": "c9261eadc4ec447e9a955e3341467e82",
       "version_major": 2,
       "version_minor": 0
      },
      "text/plain": [
       "Computing signatures of population 1:   0%|          | 0/50 [00:00<?, ?it/s]"
      ]
     },
     "metadata": {},
     "output_type": "display_data"
    },
    {
     "data": {
      "application/vnd.jupyter.widget-view+json": {
       "model_id": "ab07ab925eb1409dab14892a80ccc724",
       "version_major": 2,
       "version_minor": 0
      },
      "text/plain": [
       "Computing signatures of population 2:   0%|          | 0/50 [00:00<?, ?it/s]"
      ]
     },
     "metadata": {},
     "output_type": "display_data"
    },
    {
     "name": "stdout",
     "output_type": "stream",
     "text": [
      "Pass for same\n",
      "Pass for different\n",
      "Step 49\n"
     ]
    },
    {
     "data": {
      "application/vnd.jupyter.widget-view+json": {
       "model_id": "f8885d77258c4c0db2f9e3368d9003dc",
       "version_major": 2,
       "version_minor": 0
      },
      "text/plain": [
       "Computing signatures of population 1:   0%|          | 0/50 [00:00<?, ?it/s]"
      ]
     },
     "metadata": {},
     "output_type": "display_data"
    },
    {
     "data": {
      "application/vnd.jupyter.widget-view+json": {
       "model_id": "49f3272a1190454dba0a4ff430dfc30e",
       "version_major": 2,
       "version_minor": 0
      },
      "text/plain": [
       "Computing signatures of population 2:   0%|          | 0/50 [00:00<?, ?it/s]"
      ]
     },
     "metadata": {},
     "output_type": "display_data"
    },
    {
     "data": {
      "application/vnd.jupyter.widget-view+json": {
       "model_id": "870e900a413f4e81b4fb60cfcda0b3ad",
       "version_major": 2,
       "version_minor": 0
      },
      "text/plain": [
       "Computing signatures of population 1:   0%|          | 0/50 [00:00<?, ?it/s]"
      ]
     },
     "metadata": {},
     "output_type": "display_data"
    },
    {
     "data": {
      "application/vnd.jupyter.widget-view+json": {
       "model_id": "375d551c28424b6290dda319badd226f",
       "version_major": 2,
       "version_minor": 0
      },
      "text/plain": [
       "Computing signatures of population 2:   0%|          | 0/50 [00:00<?, ?it/s]"
      ]
     },
     "metadata": {},
     "output_type": "display_data"
    },
    {
     "name": "stdout",
     "output_type": "stream",
     "text": [
      "Pass for same\n",
      "Pass for different\n",
      "===================================END DIV 1\n"
     ]
    }
   ],
   "source": [
    "for DIV in [0.25, 0.5, 1]:\n",
    "    results[DIV] = {\n",
    "        'same' : [],\n",
    "        'different' : []\n",
    "    }\n",
    "    for i in range(NO_SAMPLES):\n",
    "        print('Step', i)\n",
    "        gbm_dist_1_samples, gbm_dist_1_samples_id = gen_processes.generate_gbm_iid_samples(0, 3, 8, n_paths = N_PATHS, m_time_points = NLEN)\n",
    "        dist_1_samples_list = [gbm_dist_1_samples[i, :, :].numpy()/DIV for i in range(gbm_dist_1_samples.shape[0])]\n",
    "        dist_1_samples_id_list = [gbm_dist_1_samples_id[i, :, :].numpy()/DIV for i in range(gbm_dist_1_samples.shape[0])]\n",
    "\n",
    "        gbm_dist_2_samples, _ = gen_processes.generate_gbm_iid_samples(0, 1, 3, n_paths = N_PATHS, m_time_points = NLEN)\n",
    "        dist_2_samples_list = [gbm_dist_2_samples[i, :, :].numpy()/DIV for i in range(gbm_dist_2_samples.shape[0])]\n",
    "        \n",
    "        results[DIV]['same'].append(process_discriminator.test(dist_1_samples_list, dist_1_samples_id_list, 10))\n",
    "        results[DIV]['different'].append(process_discriminator.test(dist_1_samples_list, dist_2_samples_list, 10))\n",
    "        \n",
    "        if results[DIV]['same'][-1]:\n",
    "            print('Mistake for same')\n",
    "        else:\n",
    "            print('Pass for same')\n",
    "            \n",
    "        if results[DIV]['different'][-1]:\n",
    "            print('Pass for different')\n",
    "        else:\n",
    "            print('Mistake for different')\n",
    "        \n",
    "    print('===================================END DIV', DIV)\n",
    "        \n",
    "    \n",
    "\n"
   ]
  },
  {
   "cell_type": "code",
   "execution_count": 14,
   "id": "d2bd9dad",
   "metadata": {},
   "outputs": [],
   "source": [
    "import datetime"
   ]
  },
  {
   "cell_type": "code",
   "execution_count": 39,
   "id": "5038f2fc",
   "metadata": {},
   "outputs": [],
   "source": [
    "import pickle\n",
    "\n",
    "with open('mmd_vs_path_scaling_results_low_divisors_2022-04-12_12.11.47.377702.pickle', 'rb') as f:\n",
    "#with open('mmd_norm_sig_vs_path_scaling_results_low_divisors_2022-04-12_11.27.26.131367.pickle', 'rb') as f:\n",
    "#with open('mmd_unnorm_pde_sig_vs_path_scaling_results_low_divisors_2022-04-12_11.11.18.026304.pickle', 'rb') as f:\n",
    "    results = pickle.load(f)"
   ]
  },
  {
   "cell_type": "code",
   "execution_count": 44,
   "id": "a6655611",
   "metadata": {},
   "outputs": [
    {
     "data": {
      "text/plain": [
       "50"
      ]
     },
     "execution_count": 44,
     "metadata": {},
     "output_type": "execute_result"
    }
   ],
   "source": [
    "len(results[DIV]['same'])"
   ]
  },
  {
   "cell_type": "code",
   "execution_count": 40,
   "id": "cd046146",
   "metadata": {},
   "outputs": [
    {
     "name": "stdout",
     "output_type": "stream",
     "text": [
      "0.25\n",
      "Type 1 error: 0.46\n",
      "Type 2 error: 0.0\n",
      "0.5\n",
      "Type 1 error: 0.22\n",
      "Type 2 error: 0.0\n",
      "1\n",
      "Type 1 error: 0.18\n",
      "Type 2 error: 0.0\n",
      "2\n",
      "Type 1 error: 0.04\n",
      "Type 2 error: 0.040000000000000036\n",
      "5\n",
      "Type 1 error: 0.02\n",
      "Type 2 error: 0.5\n",
      "6\n",
      "Type 1 error: 0.0\n",
      "Type 2 error: 0.72\n",
      "7\n",
      "Type 1 error: 0.0\n",
      "Type 2 error: 0.6599999999999999\n",
      "15\n",
      "Type 1 error: 0.0\n",
      "Type 2 error: 1.0\n",
      "22\n",
      "Type 1 error: 0.0\n",
      "Type 2 error: 1.0\n",
      "24\n",
      "Type 1 error: 0.0\n",
      "Type 2 error: 1.0\n"
     ]
    }
   ],
   "source": [
    "for DIV in sorted(results.keys()):\n",
    "    print(DIV)\n",
    "    print('Type 1 error: {}'.format(np.array(results[DIV]['same']).sum()/NO_SAMPLES))\n",
    "    print('Type 2 error: {}'.format(1-np.array(results[DIV]['different']).sum()/NO_SAMPLES))"
   ]
  },
  {
   "cell_type": "code",
   "execution_count": 53,
   "id": "8795a0b8",
   "metadata": {},
   "outputs": [
    {
     "data": {
      "image/png": "[encoded data removed]",
      "text/plain": [
       "<Figure size 6000x3600 with 1 Axes>"
      ]
     },
     "metadata": {
      "needs_background": "light"
     },
     "output_type": "display_data"
    }
   ],
   "source": [
    "plt.figure(figsize =(10, 6), dpi = 600)\n",
    "plt.title('')\n",
    "plt.scatter(sorted(results.keys()), [np.array(results[DIV]['same']).sum()/NO_SAMPLES for DIV in sorted(results.keys())], label = 'Type 1 error')\n",
    "plt.scatter(sorted(results.keys()), [1-np.array(results[DIV]['different']).sum()/NO_SAMPLES for DIV in sorted(results.keys())], label = 'Type 2 error')\n",
    "plt.legend()\n",
    "plt.ylabel('Error magnitude')\n",
    "plt.xlabel('Input paths scaling')\n",
    "plt.title(\"Error estimates averaged over 50 independent test results.\\nEach test result computed using samples of size 50.\")\n",
    "plt.xscale('log', base = 2)\n",
    "plt.savefig('mmd_test_error_vs_path_scaling.png')"
   ]
  },
  {
   "cell_type": "code",
   "execution_count": 18,
   "id": "151307c7",
   "metadata": {},
   "outputs": [],
   "source": [
    "def plot_sigs_for_samples(samples):\n",
    "    dist_2_samples_list = [samples[i, :, :].numpy() for i in range(samples.shape[0])]\n",
    "    sigs = np.zeros((len(dist_2_samples_list), lsig))\n",
    "    for i, sample in enumerate(dist_2_samples_list):\n",
    "        sigs[i] = esig.stream2sig(sample, 10)\n",
    "    mean_sig = sigs.mean(axis = 0)\n",
    "    plt.plot(sigs[0])\n",
    "    plt.plot(sigs[1])\n",
    "    plt.plot(sigs[2])\n",
    "    plt.xscale('log')"
   ]
  },
  {
   "cell_type": "code",
   "execution_count": 19,
   "id": "e56a75ae",
   "metadata": {},
   "outputs": [],
   "source": [
    "xd1, _ = gen_processes.generate_gbm_iid_samples(0, 1, 3, n_paths = 5000, m_time_points = 50)"
   ]
  },
  {
   "cell_type": "code",
   "execution_count": 20,
   "id": "e27f2b76",
   "metadata": {},
   "outputs": [
    {
     "ename": "NameError",
     "evalue": "name 'lsig' is not defined",
     "output_type": "error",
     "traceback": [
      "\u001b[0;31m---------------------------------------------------------------------------\u001b[0m",
      "\u001b[0;31mNameError\u001b[0m                                 Traceback (most recent call last)",
      "\u001b[0;32m/tmp/ipykernel_20636/1958939534.py\u001b[0m in \u001b[0;36m<module>\u001b[0;34m\u001b[0m\n\u001b[0;32m----> 1\u001b[0;31m \u001b[0mplot_sigs_for_samples\u001b[0m\u001b[0;34m(\u001b[0m\u001b[0mxd1\u001b[0m\u001b[0;34m)\u001b[0m\u001b[0;34m\u001b[0m\u001b[0;34m\u001b[0m\u001b[0m\n\u001b[0m",
      "\u001b[0;32m/tmp/ipykernel_20636/95927806.py\u001b[0m in \u001b[0;36mplot_sigs_for_samples\u001b[0;34m(samples)\u001b[0m\n\u001b[1;32m      1\u001b[0m \u001b[0;32mdef\u001b[0m \u001b[0mplot_sigs_for_samples\u001b[0m\u001b[0;34m(\u001b[0m\u001b[0msamples\u001b[0m\u001b[0;34m)\u001b[0m\u001b[0;34m:\u001b[0m\u001b[0;34m\u001b[0m\u001b[0;34m\u001b[0m\u001b[0m\n\u001b[1;32m      2\u001b[0m     \u001b[0mdist_2_samples_list\u001b[0m \u001b[0;34m=\u001b[0m \u001b[0;34m[\u001b[0m\u001b[0msamples\u001b[0m\u001b[0;34m[\u001b[0m\u001b[0mi\u001b[0m\u001b[0;34m,\u001b[0m \u001b[0;34m:\u001b[0m\u001b[0;34m,\u001b[0m \u001b[0;34m:\u001b[0m\u001b[0;34m]\u001b[0m\u001b[0;34m.\u001b[0m\u001b[0mnumpy\u001b[0m\u001b[0;34m(\u001b[0m\u001b[0;34m)\u001b[0m \u001b[0;32mfor\u001b[0m \u001b[0mi\u001b[0m \u001b[0;32min\u001b[0m \u001b[0mrange\u001b[0m\u001b[0;34m(\u001b[0m\u001b[0msamples\u001b[0m\u001b[0;34m.\u001b[0m\u001b[0mshape\u001b[0m\u001b[0;34m[\u001b[0m\u001b[0;36m0\u001b[0m\u001b[0;34m]\u001b[0m\u001b[0;34m)\u001b[0m\u001b[0;34m]\u001b[0m\u001b[0;34m\u001b[0m\u001b[0;34m\u001b[0m\u001b[0m\n\u001b[0;32m----> 3\u001b[0;31m     \u001b[0msigs\u001b[0m \u001b[0;34m=\u001b[0m \u001b[0mnp\u001b[0m\u001b[0;34m.\u001b[0m\u001b[0mzeros\u001b[0m\u001b[0;34m(\u001b[0m\u001b[0;34m(\u001b[0m\u001b[0mlen\u001b[0m\u001b[0;34m(\u001b[0m\u001b[0mdist_2_samples_list\u001b[0m\u001b[0;34m)\u001b[0m\u001b[0;34m,\u001b[0m \u001b[0mlsig\u001b[0m\u001b[0;34m)\u001b[0m\u001b[0;34m)\u001b[0m\u001b[0;34m\u001b[0m\u001b[0;34m\u001b[0m\u001b[0m\n\u001b[0m\u001b[1;32m      4\u001b[0m     \u001b[0;32mfor\u001b[0m \u001b[0mi\u001b[0m\u001b[0;34m,\u001b[0m \u001b[0msample\u001b[0m \u001b[0;32min\u001b[0m \u001b[0menumerate\u001b[0m\u001b[0;34m(\u001b[0m\u001b[0mdist_2_samples_list\u001b[0m\u001b[0;34m)\u001b[0m\u001b[0;34m:\u001b[0m\u001b[0;34m\u001b[0m\u001b[0;34m\u001b[0m\u001b[0m\n\u001b[1;32m      5\u001b[0m         \u001b[0msigs\u001b[0m\u001b[0;34m[\u001b[0m\u001b[0mi\u001b[0m\u001b[0;34m]\u001b[0m \u001b[0;34m=\u001b[0m \u001b[0mesig\u001b[0m\u001b[0;34m.\u001b[0m\u001b[0mstream2sig\u001b[0m\u001b[0;34m(\u001b[0m\u001b[0msample\u001b[0m\u001b[0;34m,\u001b[0m \u001b[0;36m10\u001b[0m\u001b[0;34m)\u001b[0m\u001b[0;34m\u001b[0m\u001b[0;34m\u001b[0m\u001b[0m\n",
      "\u001b[0;31mNameError\u001b[0m: name 'lsig' is not defined"
     ]
    }
   ],
   "source": [
    "plot_sigs_for_samples(xd1)"
   ]
  },
  {
   "cell_type": "code",
   "execution_count": 101,
   "id": "e953d147",
   "metadata": {},
   "outputs": [
    {
     "data": {
      "text/plain": [
       "[<matplotlib.lines.Line2D at 0x7f1252f72ad0>]"
      ]
     },
     "execution_count": 101,
     "metadata": {},
     "output_type": "execute_result"
    },
    {
     "data": {
      "image/png": "[encoded data removed]",
      "text/plain": [
       "<Figure size 432x288 with 1 Axes>"
      ]
     },
     "metadata": {
      "needs_background": "light"
     },
     "output_type": "display_data"
    }
   ],
   "source": [
    "plt.plot(xd1[0, :, 0])\n",
    "plt.plot(xd1[1, :, 0])\n",
    "plt.plot(xd1[2, :, 0])"
   ]
  },
  {
   "cell_type": "code",
   "execution_count": 102,
   "id": "9ddbcfd2",
   "metadata": {},
   "outputs": [],
   "source": [
    "xd2, _ = gen_processes.generate_gbm_iid_samples(0, 1, 0.5, n_paths = 5000, m_time_points = 50)"
   ]
  },
  {
   "cell_type": "code",
   "execution_count": 103,
   "id": "f307fe16",
   "metadata": {},
   "outputs": [
    {
     "data": {
      "image/png": "[encoded data removed]",
      "text/plain": [
       "<Figure size 432x288 with 1 Axes>"
      ]
     },
     "metadata": {
      "needs_background": "light"
     },
     "output_type": "display_data"
    }
   ],
   "source": [
    "plot_sigs_for_samples(xd2)"
   ]
  },
  {
   "cell_type": "code",
   "execution_count": 104,
   "id": "b7cc4172",
   "metadata": {},
   "outputs": [
    {
     "data": {
      "text/plain": [
       "[<matplotlib.lines.Line2D at 0x7f1252dce3d0>]"
      ]
     },
     "execution_count": 104,
     "metadata": {},
     "output_type": "execute_result"
    },
    {
     "data": {
      "image/png": "[encoded data removed]",
      "text/plain": [
       "<Figure size 432x288 with 1 Axes>"
      ]
     },
     "metadata": {
      "needs_background": "light"
     },
     "output_type": "display_data"
    }
   ],
   "source": [
    "plt.plot(xd2[0, :, 0])\n",
    "plt.plot(xd2[1, :, 0])\n",
    "plt.plot(xd2[2, :, 0])"
   ]
  },
  {
   "cell_type": "code",
   "execution_count": 105,
   "id": "facebc8b",
   "metadata": {},
   "outputs": [
    {
     "data": {
      "text/plain": [
       "2047"
      ]
     },
     "execution_count": 105,
     "metadata": {},
     "output_type": "execute_result"
    }
   ],
   "source": [
    "lsig"
   ]
  },
  {
   "cell_type": "code",
   "execution_count": 109,
   "id": "e010583f",
   "metadata": {},
   "outputs": [],
   "source": [
    "sig_norms = {}\n",
    "N_PATHS = 300"
   ]
  },
  {
   "cell_type": "code",
   "execution_count": 110,
   "id": "407e3ee2",
   "metadata": {},
   "outputs": [
    {
     "name": "stdout",
     "output_type": "stream",
     "text": [
      "===================================END DIV 0.25\n",
      "===================================END DIV 0.5\n",
      "===================================END DIV 1\n",
      "===================================END DIV 2\n",
      "===================================END DIV 6\n",
      "===================================END DIV 7\n",
      "===================================END DIV 15\n",
      "===================================END DIV 22\n",
      "===================================END DIV 24\n"
     ]
    }
   ],
   "source": [
    "for DIV in [0.25, 0.5, 1, 2, 6, 7, 15, 22, 24]:\n",
    "    sig_norms[DIV] = {\n",
    "        'dist1' : np.zeros(N_PATHS),\n",
    "        'dist2' : np.zeros(N_PATHS)\n",
    "    }\n",
    "    \n",
    "    gbm_dist_1_samples, gbm_dist_1_samples_id = gen_processes.generate_gbm_iid_samples(0, 3, 8, n_paths = N_PATHS, m_time_points = NLEN)\n",
    "    dist_1_samples_id_list = [gbm_dist_1_samples_id[i, :, :].numpy()/DIV for i in range(gbm_dist_1_samples.shape[0])]\n",
    "\n",
    "    gbm_dist_2_samples, _ = gen_processes.generate_gbm_iid_samples(0, 1, 3, n_paths = N_PATHS, m_time_points = NLEN)\n",
    "    dist_2_samples_list = [gbm_dist_2_samples[i, :, :].numpy()/DIV for i in range(gbm_dist_2_samples.shape[0])]\n",
    "\n",
    "    for i, sample in enumerate(dist_1_samples_id_list):\n",
    "        sig = esig.stream2sig(sample, 10)\n",
    "        sig_norms[DIV]['dist1'][i] = np.sqrt(sig @ sig)\n",
    "\n",
    "    for i, sample in enumerate(dist_2_samples_list):\n",
    "        sig = esig.stream2sig(sample, 10)\n",
    "        sig_norms[DIV]['dist2'][i] = np.sqrt(sig @ sig)\n",
    "\n",
    "    print('===================================END DIV', DIV)\n",
    "        \n",
    "    \n",
    "\n"
   ]
  },
  {
   "cell_type": "code",
   "execution_count": 117,
   "id": "2e65e54b",
   "metadata": {},
   "outputs": [
    {
     "name": "stdout",
     "output_type": "stream",
     "text": [
      "2.7292062283314953e+28\n",
      "49108803287545.56\n",
      "223058616326969.4\n",
      "5.655085105261585e+19\n",
      "24070385473.147472\n",
      "59566.69415047064\n",
      "20229916.312330417\n",
      "1.7667567759342273\n",
      "15.03572258686113\n"
     ]
    },
    {
     "data": {
      "image/png": "[encoded data removed]",
      "text/plain": [
       "<Figure size 432x288 with 1 Axes>"
      ]
     },
     "metadata": {
      "needs_background": "light"
     },
     "output_type": "display_data"
    },
    {
     "data": {
      "image/png": "[encoded data removed]",
      "text/plain": [
       "<Figure size 432x288 with 1 Axes>"
      ]
     },
     "metadata": {
      "needs_background": "light"
     },
     "output_type": "display_data"
    },
    {
     "data": {
      "image/png": "[encoded data removed]",
      "text/plain": [
       "<Figure size 432x288 with 1 Axes>"
      ]
     },
     "metadata": {
      "needs_background": "light"
     },
     "output_type": "display_data"
    },
    {
     "data": {
      "image/png": "[encoded data removed]",
      "text/plain": [
       "<Figure size 432x288 with 1 Axes>"
      ]
     },
     "metadata": {
      "needs_background": "light"
     },
     "output_type": "display_data"
    },
    {
     "data": {
      "image/png": "[encoded data removed]",
      "text/plain": [
       "<Figure size 432x288 with 1 Axes>"
      ]
     },
     "metadata": {
      "needs_background": "light"
     },
     "output_type": "display_data"
    },
    {
     "data": {
      "image/png": "[encoded data removed]",
      "text/plain": [
       "<Figure size 432x288 with 1 Axes>"
      ]
     },
     "metadata": {
      "needs_background": "light"
     },
     "output_type": "display_data"
    },
    {
     "data": {
      "image/png": "[encoded data removed]",
      "text/plain": [
       "<Figure size 432x288 with 1 Axes>"
      ]
     },
     "metadata": {
      "needs_background": "light"
     },
     "output_type": "display_data"
    },
    {
     "data": {
      "image/png": "[encoded data removed]",
      "text/plain": [
       "<Figure size 432x288 with 1 Axes>"
      ]
     },
     "metadata": {
      "needs_background": "light"
     },
     "output_type": "display_data"
    },
    {
     "data": {
      "image/png": "[encoded data removed]",
      "text/plain": [
       "<Figure size 432x288 with 1 Axes>"
      ]
     },
     "metadata": {
      "needs_background": "light"
     },
     "output_type": "display_data"
    }
   ],
   "source": [
    "for DIV in [0.25, 0.5, 1, 2, 6, 7, 15, 22, 24]:\n",
    "    plt.figure()\n",
    "    plt.hist(sig_norms[DIV]['dist2'], bins = 100)\n",
    "    plt.yscale('log')\n",
    "    print(sig_norms[DIV]['dist2'].mean())\n",
    "    #plt.hist(sig_norms[DIV]['dist2'])"
   ]
  },
  {
   "cell_type": "code",
   "execution_count": null,
   "id": "661cf9be",
   "metadata": {},
   "outputs": [],
   "source": []
  }
 ],
 "metadata": {
  "kernelspec": {
   "display_name": "Python 3 (ipykernel)",
   "language": "python",
   "name": "python3"
  },
  "language_info": {
   "codemirror_mode": {
    "name": "ipython",
    "version": 3
   },
   "file_extension": ".py",
   "mimetype": "text/x-python",
   "name": "python",
   "nbconvert_exporter": "python",
   "pygments_lexer": "ipython3",
   "version": "3.7.11"
  }
 },
 "nbformat": 4,
 "nbformat_minor": 5
}
