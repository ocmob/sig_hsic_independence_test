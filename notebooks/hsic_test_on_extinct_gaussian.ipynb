{
 "cells": [
  {
   "cell_type": "code",
   "execution_count": 7,
   "id": "529b5d4b",
   "metadata": {},
   "outputs": [],
   "source": [
    "import os\n",
    "import sys"
   ]
  },
  {
   "cell_type": "code",
   "execution_count": 8,
   "id": "077be733",
   "metadata": {},
   "outputs": [],
   "source": [
    "sys.path.append('../lib')"
   ]
  },
  {
   "cell_type": "code",
   "execution_count": 9,
   "id": "c3d582b2",
   "metadata": {},
   "outputs": [],
   "source": [
    "import cov_independence_test\n",
    "import hsic_independence_test\n",
    "import gen_processes"
   ]
  },
  {
   "cell_type": "code",
   "execution_count": 10,
   "id": "0e10e19c",
   "metadata": {},
   "outputs": [],
   "source": [
    "from importlib import reload"
   ]
  },
  {
   "cell_type": "code",
   "execution_count": 11,
   "id": "9e687d2c",
   "metadata": {},
   "outputs": [],
   "source": [
    "reload(cov_independence_test);\n",
    "reload(hsic_independence_test);\n",
    "reload(gen_processes);"
   ]
  },
  {
   "cell_type": "code",
   "execution_count": 12,
   "id": "eb2d182e",
   "metadata": {},
   "outputs": [],
   "source": [
    "import numpy as np\n",
    "import matplotlib.pyplot as plt\n",
    "import statsmodels.tsa.ar_model as ar\n",
    "import torch\n",
    "torch.set_default_dtype(torch.double)\n",
    "import sigkernel"
   ]
  },
  {
   "cell_type": "code",
   "execution_count": 13,
   "id": "984ac2a4",
   "metadata": {},
   "outputs": [],
   "source": [
    "import pprint\n",
    "pp = pprint.PrettyPrinter(indent = 4)"
   ]
  },
  {
   "cell_type": "code",
   "execution_count": 20,
   "id": "2f057170",
   "metadata": {},
   "outputs": [],
   "source": [
    "import matplotlib.pyplot as plt\n",
    "import pickle"
   ]
  },
  {
   "cell_type": "code",
   "execution_count": 21,
   "id": "6cfce883",
   "metadata": {},
   "outputs": [],
   "source": [
    "rng = np.random.default_rng(1234)"
   ]
  },
  {
   "cell_type": "code",
   "execution_count": 22,
   "id": "8a57c1d0",
   "metadata": {},
   "outputs": [],
   "source": [
    "with open('pickles/comparison_ds_for_normalized_sig_pde_kernel.pickle', 'rb') as inf:\n",
    "    INPUT = pickle.load(inf)"
   ]
  },
  {
   "cell_type": "code",
   "execution_count": 39,
   "id": "b010b93d",
   "metadata": {},
   "outputs": [],
   "source": [
    "paths_ll = torch.tensor(INPUT['processes_lead_lag'])"
   ]
  },
  {
   "cell_type": "code",
   "execution_count": 19,
   "id": "307cea9b",
   "metadata": {},
   "outputs": [],
   "source": [
    "def psi(x, M=4, a=1):\n",
    "    x = x ** 2\n",
    "\n",
    "    if x <= M:\n",
    "        return x\n",
    "\n",
    "    return M + M ** (1 + a) * (M ** (-a) - x ** (-a)) / a"
   ]
  },
  {
   "cell_type": "code",
   "execution_count": 26,
   "id": "c2c3ccc2",
   "metadata": {},
   "outputs": [
    {
     "name": "stdout",
     "output_type": "stream",
     "text": [
      "Process indices: Sample, Time, Lead/Lag\n",
      "(20, 30, 2)\n"
     ]
    }
   ],
   "source": [
    "print(INPUT['comment'])\n",
    "print(paths_ll.shape)"
   ]
  },
  {
   "cell_type": "code",
   "execution_count": 32,
   "id": "21bd60d6",
   "metadata": {},
   "outputs": [],
   "source": [
    "sig_kernel = sigkernel.SigKernel(sigkernel.LinearKernel(), 1)"
   ]
  },
  {
   "cell_type": "code",
   "execution_count": 38,
   "id": "3867609e",
   "metadata": {},
   "outputs": [
    {
     "name": "stdout",
     "output_type": "stream",
     "text": [
      "2\n",
      "2\n",
      "2\n",
      "2\n",
      "2\n",
      "2\n",
      "2\n",
      "2\n",
      "2\n",
      "2\n",
      "2\n",
      "2\n",
      "2\n",
      "2\n",
      "2\n",
      "2\n",
      "2\n",
      "2\n",
      "2\n",
      "2\n",
      "2\n",
      "2\n",
      "2\n",
      "2\n",
      "2\n",
      "2\n",
      "2\n",
      "2\n"
     ]
    }
   ],
   "source": [
    "for i in range(2, 30):\n",
    "    print(paths_ll[0:1, :i+1, :].shape[2])"
   ]
  },
  {
   "cell_type": "code",
   "execution_count": 40,
   "id": "a51adca4",
   "metadata": {},
   "outputs": [],
   "source": [
    "kernel_vs_time = [sig_kernel.compute_kernel(paths_ll[0:1, :i+1, :], paths_ll[0:1, :i+1, :]) for i in range(1, 30)]"
   ]
  },
  {
   "cell_type": "code",
   "execution_count": 59,
   "id": "73cee60c",
   "metadata": {},
   "outputs": [],
   "source": [
    "normalized_kernel_vs_time = [psi(torch.sqrt(k)) for k in kernel_vs_time]"
   ]
  },
  {
   "cell_type": "code",
   "execution_count": 51,
   "id": "1a6dbaa3",
   "metadata": {},
   "outputs": [],
   "source": [
    "def get_tv_of_path(path):\n",
    "    lin_ker_values = paths_ll[0] @ paths_ll[0].T\n",
    "    vct_of_sq_distances = torch.diagonal(lin_ker_values)[:-1] + torch.diagonal(lin_ker_values)[1:] - 2*torch.diagonal(lin_ker_values, offset = 1)\n",
    "    return torch.sqrt(vct_of_sq_distances).sum()"
   ]
  },
  {
   "cell_type": "code",
   "execution_count": 65,
   "id": "8d255f7a",
   "metadata": {},
   "outputs": [],
   "source": [
    "tv_path = get_tv_of_path(paths_ll[0, :, :]).item()"
   ]
  },
  {
   "cell_type": "code",
   "execution_count": 75,
   "id": "7c66c784",
   "metadata": {},
   "outputs": [
    {
     "data": {
      "text/plain": [
       "9.9237479739895"
      ]
     },
     "execution_count": 75,
     "metadata": {},
     "output_type": "execute_result"
    }
   ],
   "source": [
    "tv_path"
   ]
  },
  {
   "cell_type": "code",
   "execution_count": 96,
   "id": "faf1565b",
   "metadata": {},
   "outputs": [
    {
     "data": {
      "text/plain": [
       "tensor([15.6600])"
      ]
     },
     "execution_count": 96,
     "metadata": {},
     "output_type": "execute_result"
    }
   ],
   "source": [
    "kernel_vs_time[-1]"
   ]
  },
  {
   "cell_type": "code",
   "execution_count": 64,
   "id": "ed38ba14",
   "metadata": {},
   "outputs": [],
   "source": [
    "kernel_last_ts = normalized_kernel_vs_time[-1].item()"
   ]
  },
  {
   "cell_type": "code",
   "execution_count": 95,
   "id": "c1158f61",
   "metadata": {},
   "outputs": [
    {
     "data": {
      "text/plain": [
       "6.9782870722007795"
      ]
     },
     "execution_count": 95,
     "metadata": {},
     "output_type": "execute_result"
    }
   ],
   "source": [
    "kernel_last_ts"
   ]
  },
  {
   "cell_type": "code",
   "execution_count": 70,
   "id": "a1397dc9",
   "metadata": {},
   "outputs": [],
   "source": [
    "import scipy as scp\n",
    "from scipy.optimize import brentq\n",
    "from scipy.special import iv"
   ]
  },
  {
   "cell_type": "code",
   "execution_count": 92,
   "id": "088a3093",
   "metadata": {},
   "outputs": [],
   "source": [
    "f = lambda lam: 12.3 - iv(0, 2*12.3*lam)"
   ]
  },
  {
   "cell_type": "code",
   "execution_count": 93,
   "id": "cb9116a6",
   "metadata": {},
   "outputs": [
    {
     "data": {
      "text/plain": [
       "0.8649975046483256"
      ]
     },
     "execution_count": 93,
     "metadata": {},
     "output_type": "execute_result"
    }
   ],
   "source": [
    "brentq(f,  0, 1.001)"
   ]
  },
  {
   "cell_type": "code",
   "execution_count": 101,
   "id": "745fe92a",
   "metadata": {},
   "outputs": [
    {
     "data": {
      "text/plain": [
       "-18317778.53106583"
      ]
     },
     "execution_count": 101,
     "metadata": {},
     "output_type": "execute_result"
    }
   ],
   "source": [
    "12.3 - iv(0, 0.96287837*tv_path*2)"
   ]
  },
  {
   "cell_type": "code",
   "execution_count": null,
   "id": "bd08b4be",
   "metadata": {},
   "outputs": [],
   "source": []
  }
 ],
 "metadata": {
  "kernelspec": {
   "display_name": "Python 3 (ipykernel)",
   "language": "python",
   "name": "python3"
  },
  "language_info": {
   "codemirror_mode": {
    "name": "ipython",
    "version": 3
   },
   "file_extension": ".py",
   "mimetype": "text/x-python",
   "name": "python",
   "nbconvert_exporter": "python",
   "pygments_lexer": "ipython3",
   "version": "3.7.11"
  }
 },
 "nbformat": 4,
 "nbformat_minor": 5
}
