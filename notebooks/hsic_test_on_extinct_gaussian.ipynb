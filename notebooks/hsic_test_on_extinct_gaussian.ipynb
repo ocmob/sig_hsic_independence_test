{
 "cells": [
  {
   "cell_type": "code",
   "execution_count": 1,
   "id": "529b5d4b",
   "metadata": {},
   "outputs": [],
   "source": [
    "import os\n",
    "import sys"
   ]
  },
  {
   "cell_type": "code",
   "execution_count": 2,
   "id": "077be733",
   "metadata": {},
   "outputs": [],
   "source": [
    "sys.path.append('../lib')\n",
    "sys.path.append('../lib/sigkernel')"
   ]
  },
  {
   "cell_type": "code",
   "execution_count": 3,
   "id": "c3d582b2",
   "metadata": {},
   "outputs": [],
   "source": [
    "import cov_independence_test\n",
    "import hsic_independence_test\n",
    "import gen_processes"
   ]
  },
  {
   "cell_type": "code",
   "execution_count": 4,
   "id": "0e10e19c",
   "metadata": {},
   "outputs": [],
   "source": [
    "from importlib import reload"
   ]
  },
  {
   "cell_type": "code",
   "execution_count": 54,
   "id": "9e687d2c",
   "metadata": {},
   "outputs": [],
   "source": [
    "reload(cov_independence_test);\n",
    "reload(hsic_independence_test);\n",
    "reload(gen_processes);"
   ]
  },
  {
   "cell_type": "code",
   "execution_count": 6,
   "id": "eb2d182e",
   "metadata": {},
   "outputs": [],
   "source": [
    "import numpy as np\n",
    "import matplotlib.pyplot as plt\n",
    "import statsmodels.tsa.ar_model as ar\n",
    "import torch\n",
    "torch.set_default_dtype(torch.double)\n",
    "import sigkernel_scale"
   ]
  },
  {
   "cell_type": "code",
   "execution_count": 7,
   "id": "984ac2a4",
   "metadata": {},
   "outputs": [],
   "source": [
    "import pprint\n",
    "pp = pprint.PrettyPrinter(indent = 4)"
   ]
  },
  {
   "cell_type": "code",
   "execution_count": 8,
   "id": "8899319f",
   "metadata": {},
   "outputs": [],
   "source": [
    "import scipy.stats as stats"
   ]
  },
  {
   "cell_type": "code",
   "execution_count": 9,
   "id": "863dd4e4",
   "metadata": {},
   "outputs": [],
   "source": [
    "from tqdm import tqdm"
   ]
  },
  {
   "cell_type": "code",
   "execution_count": 10,
   "id": "b1a815b2",
   "metadata": {},
   "outputs": [],
   "source": [
    "from itertools import product"
   ]
  },
  {
   "cell_type": "code",
   "execution_count": 11,
   "id": "2f057170",
   "metadata": {},
   "outputs": [],
   "source": [
    "import matplotlib.pyplot as plt"
   ]
  },
  {
   "cell_type": "code",
   "execution_count": 12,
   "id": "bb880ad5",
   "metadata": {},
   "outputs": [],
   "source": [
    "from scipy.optimize import brentq"
   ]
  },
  {
   "cell_type": "code",
   "execution_count": 13,
   "id": "6cfce883",
   "metadata": {},
   "outputs": [],
   "source": [
    "rng = np.random.default_rng(1234)"
   ]
  },
  {
   "cell_type": "code",
   "execution_count": 14,
   "id": "0c7ecab9",
   "metadata": {},
   "outputs": [],
   "source": [
    "BIG_RESULT_MEMORY_PLACE = []"
   ]
  },
  {
   "cell_type": "code",
   "execution_count": 82,
   "id": "9a34a751",
   "metadata": {},
   "outputs": [],
   "source": [
    "N_TIMESTEPS = 1800\n",
    "SIG_KERNEL_SAMPLES_NO = 300\n",
    "M_RUNS = 50\n",
    "EXTINCTION_RATES = [0.05, 0.1, 0.2, 0.3, 0.4]\n",
    "#EXTINCTION_RATES = [1]\n",
    "PROC_DIV = 32\n",
    "RBF_SIGMA = 2\n",
    "A=0.8"
   ]
  },
  {
   "cell_type": "code",
   "execution_count": 80,
   "id": "16928dcd",
   "metadata": {},
   "outputs": [],
   "source": [
    "assert N_TIMESTEPS % SIG_KERNEL_SAMPLES_NO == 0, 'Cannot reshape such array properly'"
   ]
  },
  {
   "cell_type": "code",
   "execution_count": 18,
   "id": "5a3f93b7",
   "metadata": {},
   "outputs": [],
   "source": [
    "processes = gen_processes.gen_ar_iid_samples_extinct_gaussian_burn_in(N_TIMESTEPS+1, M_RUNS, a = 0.2, extinction_rate = 1)"
   ]
  },
  {
   "cell_type": "code",
   "execution_count": 27,
   "id": "5cbf3b49",
   "metadata": {},
   "outputs": [],
   "source": [
    "def psi(x, M=4, a=1):\n",
    "    x = x ** 2\n",
    "\n",
    "    if x <= M:\n",
    "        return x\n",
    "\n",
    "    return M + M ** (1 + a) * (M ** (-a) - x ** (-a)) / a"
   ]
  },
  {
   "cell_type": "code",
   "execution_count": 28,
   "id": "2cf5f417",
   "metadata": {},
   "outputs": [],
   "source": [
    "def normalize_paths_linear_static_kernel(paths, kernel):\n",
    "    path_norm = torch.zeros_like(paths)\n",
    "    for i in range(paths.shape[0]):\n",
    "        kernel_xx = kernel.compute_kernel(paths[i:i+1, :, :], paths[i:i+1, :, :])\n",
    "       # print(kernel_xx)\n",
    "        target = psi(np.sqrt(kernel_xx.item()))\n",
    "        f = lambda lam: target - kernel.compute_kernel(lam*paths[i:i+1, :, :], lam*paths[i:i+1, :, :]).item()\n",
    "        lam = min(max(brentq(f, 0., 1.1, xtol=1e-300, maxiter = 1000), 0), 1)\n",
    "        print(lam)\n",
    "        path_norm[i:i+1, :, :] = lam*paths[i:i+1, :, :]\n",
    "    return path_norm"
   ]
  },
  {
   "cell_type": "code",
   "execution_count": 38,
   "id": "ed65716f",
   "metadata": {},
   "outputs": [],
   "source": [
    "def get_postscale_for_batch(paths, kernel):\n",
    "    postscale = torch.zeros(paths.shape[0])\n",
    "    for i in range(paths.shape[0]):\n",
    "        kernel_xx = kernel.compute_kernel(paths[i:i+1, :, :], paths[i:i+1, :, :])\n",
    "        target = psi(np.sqrt(kernel_xx.item()))\n",
    "        f = lambda lam: target - kernel.compute_kernel(paths[i:i+1, :, :], paths[i:i+1, :, :], torch.tensor([lam]), torch.tensor([lam])).item()\n",
    "        lam = min(max(brentq(f, 0., 1.1, xtol=1e-300, maxiter = 1000), 0), 1)\n",
    "        # print(lam)\n",
    "        postscale[i] = lam\n",
    "    return postscale"
   ]
  },
  {
   "cell_type": "code",
   "execution_count": 30,
   "id": "40e7a52e",
   "metadata": {},
   "outputs": [],
   "source": [
    "X_raw = processes[:, :30, 0]\n",
    "X_lead_lag_chopped = torch.stack((X_raw[:, 1:], X_raw[:, :-1]), axis = 2)"
   ]
  },
  {
   "cell_type": "code",
   "execution_count": 40,
   "id": "a49e3436",
   "metadata": {},
   "outputs": [
    {
     "name": "stderr",
     "output_type": "stream",
     "text": [
      "/home/ocmob/miniconda3/envs/signatures/lib/python3.7/site-packages/ipykernel_launcher.py:5: RuntimeWarning: invalid value encountered in sqrt\n",
      "  \"\"\"\n"
     ]
    },
    {
     "name": "stdout",
     "output_type": "stream",
     "text": [
      "tensor([ 2.3651e-01,  2.4424e-01,  2.4075e-01,  3.1807e-01,  2.2210e-01,\n",
      "         2.4562e-01,  2.2163e-01,  2.7048e-01,  2.6393e-01,  2.5573e-01,\n",
      "         2.4920e-01,  2.7223e-01,  2.2698e-01,  2.3243e-01,  2.3647e-01,\n",
      "         2.1233e-01,  2.2136e-01,  2.0867e-01,  2.5611e-01,  1.7769e-01,\n",
      "         2.5784e-01,  2.2052e-01,  2.4436e-01,  2.4680e-01,  2.6226e-01,\n",
      "         2.2800e-01,  2.3171e-01,  2.9558e-01,  2.2727e-01,  2.9208e-01,\n",
      "         2.2296e-01,  2.1858e-01,  2.4246e-01,  1.9289e-01,  2.0471e-01,\n",
      "        8.2127e-301,  2.4034e-01,  2.2357e-01,  2.4987e-01,  2.3493e-01,\n",
      "         2.4172e-01,  3.0037e-01,  2.2054e-01,  2.0706e-01,  2.4541e-01,\n",
      "         2.4172e-01,  2.4374e-01,  2.3357e-01,  2.9610e-01,  2.2723e-01])\n"
     ]
    }
   ],
   "source": [
    "postscale = get_postscale_for_batch(X_lead_lag_chopped, sigkernel_scale.SigKernel(sigkernel_scale.LinearKernel(), 4));\n",
    "print(postscale)"
   ]
  },
  {
   "cell_type": "code",
   "execution_count": 35,
   "id": "6801e422",
   "metadata": {},
   "outputs": [
    {
     "name": "stdout",
     "output_type": "stream",
     "text": [
      "0.23651101262140004\n",
      "0.2442401970773998\n",
      "0.24074917316318217\n",
      "0.3180697808242205\n",
      "0.22209826351591538\n",
      "0.2456205127513375\n",
      "0.22162637979601238\n",
      "0.2704835724220783\n",
      "0.2639303551026473\n",
      "0.2557305274937912\n",
      "0.2492002998969417\n",
      "0.27222549092701365\n",
      "0.22698399421800622\n",
      "0.2324288962782536\n",
      "0.23647257136792224\n",
      "0.21233070699099524\n",
      "0.2213591034315024\n",
      "0.20867544549916703\n",
      "0.2561115909702358\n",
      "0.1776932137875526\n",
      "0.2578439259788326\n",
      "0.22052452133180447\n",
      "0.24435873955319123\n",
      "0.24679990544100666\n",
      "0.26225544178996213\n",
      "0.2280076245288934\n",
      "0.23171098430970666\n",
      "0.29558665708317844\n",
      "0.22727042749863008\n",
      "0.2920829554255021\n",
      "0.22295532508343757\n",
      "0.21858262388825317\n",
      "0.24245590774349438\n",
      "0.1928880677378644\n",
      "0.20470662671870268\n",
      "0.22886220772173896\n",
      "0.2403389894100098\n",
      "0.22356866072227216\n",
      "0.24986798815445427\n",
      "0.2349321507375503\n",
      "0.2417250094265373\n",
      "0.30036526313649203\n",
      "0.22054440381119597\n",
      "0.20706292244233668\n",
      "0.2454131011621797\n",
      "0.2417212695621564\n",
      "0.24374333387587865\n",
      "0.23357443271593034\n",
      "0.2961017647131738\n",
      "0.2272358995379378\n"
     ]
    }
   ],
   "source": [
    "normalize_paths_linear_static_kernel(X_lead_lag_chopped, sigkernel_scale.SigKernel(sigkernel_scale.LinearKernel(), 5));"
   ]
  },
  {
   "cell_type": "code",
   "execution_count": 169,
   "id": "d3f4e148",
   "metadata": {},
   "outputs": [
    {
     "data": {
      "image/png": "[encoded data removed]",
      "text/plain": [
       "<Figure size 432x288 with 1 Axes>"
      ]
     },
     "metadata": {
      "needs_background": "light"
     },
     "output_type": "display_data"
    }
   ],
   "source": [
    "plt.plot(processes[rng.integers(0, M_RUNS), :30, 0])\n",
    "plt.plot(processes[rng.integers(0, M_RUNS), :30, 1]);"
   ]
  },
  {
   "cell_type": "code",
   "execution_count": 170,
   "id": "d089e663",
   "metadata": {},
   "outputs": [],
   "source": [
    "def get_bootstrap_samples_lead_lag(X_raw, Y_raw):\n",
    "    single_sample_length = int(N_TIMESTEPS / SIG_KERNEL_SAMPLES_NO)\n",
    "        \n",
    "    x_bootstrap_samples = torch.zeros(SIG_KERNEL_SAMPLES_NO, single_sample_length, 2)\n",
    "    y_bootstrap_samples = torch.zeros(SIG_KERNEL_SAMPLES_NO, single_sample_length, 2)\n",
    "    \n",
    "    rng = np.random.default_rng(1234)\n",
    "    \n",
    "    for i in range(SIG_KERNEL_SAMPLES_NO):\n",
    "        idx_low = rng.integers(0, N_TIMESTEPS - single_sample_length + 1)\n",
    "        x_bootstrap_samples[i, :, 0] = X_raw[idx_low+1 : idx_low+single_sample_length+1]\n",
    "        x_bootstrap_samples[i, :, 1] = X_raw[idx_low : idx_low+single_sample_length]\n",
    "        y_bootstrap_samples[i, :, 0] = Y_raw[idx_low+1 : idx_low+single_sample_length+1]\n",
    "        y_bootstrap_samples[i, :, 1] = Y_raw[idx_low : idx_low+single_sample_length]\n",
    "\n",
    "    return x_bootstrap_samples, y_bootstrap_samples"
   ]
  },
  {
   "cell_type": "code",
   "execution_count": 171,
   "id": "5136f0d9",
   "metadata": {},
   "outputs": [
    {
     "ename": "NameError",
     "evalue": "name 'hsic_results' is not defined",
     "output_type": "error",
     "traceback": [
      "\u001b[0;31m---------------------------------------------------------------------------\u001b[0m",
      "\u001b[0;31mNameError\u001b[0m                                 Traceback (most recent call last)",
      "\u001b[0;32m/tmp/ipykernel_30634/3865030128.py\u001b[0m in \u001b[0;36m<module>\u001b[0;34m\u001b[0m\n\u001b[1;32m      1\u001b[0m \u001b[0;32mfor\u001b[0m \u001b[0mrate\u001b[0m \u001b[0;32min\u001b[0m \u001b[0mEXTINCTION_RATES\u001b[0m\u001b[0;34m:\u001b[0m\u001b[0;31m#[0, 0.3, 0.8]:\u001b[0m\u001b[0;34m\u001b[0m\u001b[0;34m\u001b[0m\u001b[0m\n\u001b[0;32m----> 2\u001b[0;31m     \u001b[0mhsic_results\u001b[0m\u001b[0;34m[\u001b[0m\u001b[0mrate\u001b[0m\u001b[0;34m]\u001b[0m \u001b[0;34m=\u001b[0m \u001b[0;34m[\u001b[0m\u001b[0;34m]\u001b[0m\u001b[0;34m\u001b[0m\u001b[0;34m\u001b[0m\u001b[0m\n\u001b[0m\u001b[1;32m      3\u001b[0m     \u001b[0mcov_results\u001b[0m\u001b[0;34m[\u001b[0m\u001b[0mrate\u001b[0m\u001b[0;34m]\u001b[0m \u001b[0;34m=\u001b[0m \u001b[0;34m[\u001b[0m\u001b[0;34m]\u001b[0m\u001b[0;34m\u001b[0m\u001b[0;34m\u001b[0m\u001b[0m\n\u001b[1;32m      4\u001b[0m     \u001b[0;32mfor\u001b[0m \u001b[0mrun\u001b[0m \u001b[0;32min\u001b[0m \u001b[0mrange\u001b[0m\u001b[0;34m(\u001b[0m\u001b[0;36m5\u001b[0m\u001b[0;34m)\u001b[0m\u001b[0;34m:\u001b[0m\u001b[0;34m\u001b[0m\u001b[0;34m\u001b[0m\u001b[0m\n\u001b[1;32m      5\u001b[0m         \u001b[0mprocesses\u001b[0m \u001b[0;34m=\u001b[0m \u001b[0mgen_processes\u001b[0m\u001b[0;34m.\u001b[0m\u001b[0mgen_ar_iid_samples_extinct_gaussian_burn_in\u001b[0m\u001b[0;34m(\u001b[0m\u001b[0;36m30\u001b[0m\u001b[0;34m,\u001b[0m \u001b[0mSIG_KERNEL_SAMPLES_NO\u001b[0m\u001b[0;34m,\u001b[0m \u001b[0ma\u001b[0m\u001b[0;34m=\u001b[0m\u001b[0mA\u001b[0m\u001b[0;34m,\u001b[0m \u001b[0mextinction_rate\u001b[0m\u001b[0;34m=\u001b[0m\u001b[0mrate\u001b[0m\u001b[0;34m)\u001b[0m\u001b[0;34m\u001b[0m\u001b[0;34m\u001b[0m\u001b[0m\n",
      "\u001b[0;31mNameError\u001b[0m: name 'hsic_results' is not defined"
     ]
    }
   ],
   "source": [
    "for rate in EXTINCTION_RATES:#[0, 0.3, 0.8]:    \n",
    "    hsic_results[rate] = []\n",
    "    cov_results[rate] = []\n",
    "    for run in range(5):\n",
    "        processes = gen_processes.gen_ar_iid_samples_extinct_gaussian_burn_in(30, SIG_KERNEL_SAMPLES_NO, a=A, extinction_rate=rate)\n",
    "        X_raw = processes[:, :, 0]\n",
    "        X_lead_lag_chopped = torch.stack((X_raw[:, 1:], X_raw[:, :-1]), axis = 2)\n",
    "        \n",
    "        processes_p = gen_processes.gen_ar_iid_samples_extinct_gaussian_burn_in(30, SIG_KERNEL_SAMPLES_NO, a=A, extinction_rate=rate)\n",
    "        Y_raw = processes_p[:, :, 0]\n",
    "        Y_lead_lag_chopped = torch.stack((Y_raw[:, 1:], Y_raw[:, :-1]), axis = 2)\n",
    "        \n",
    "        #processes_p = gen_processes.gen_ar_iid_samples_extinct_gaussian_burn_in(30, SIG_KERNEL_SAMPLES_NO, a=0.8, extinction_rate=rate)\n",
    "        #Y_raw = processes_p[:, :, 0]\n",
    "        #Y_lead_lag_chopped = torch.stack((Y_raw[:, 1:], Y_raw[:, :-1]), axis = 2)\n",
    "\n",
    "        #idy = torch.randperm(processes.shape[0])\n",
    "        print(X_lead_lag_chopped.max())\n",
    "        #sigkernel.hypothesis_test(processes/8, torch.stack((processes[:, :, 0], processes[idy, :, 1]), axis = 2)/8, static_kernel=  sigkernel.RBFKernel(sigma = 1))\n",
    "        #sigkernel.hypothesis_test(X_lead_lag_chopped/4, Y_lead_lag_chopped/4, static_kernel = sigkernel.RBFKernel(sigma = 1), dyadic_order = 1)\n",
    "        #sigkernel.hypothesis_test(X_lead_lag_chopped/8, Y_lead_lag_chopped/8, static_kernel = sigkernel.LinearKernel(), dyadic_order = 1)\n",
    "        \n",
    "        #hsic_test_result = hsic_independence_test.get_test_result_matrix_shuffle(X_lead_lag_chopped/PROC_DIV, Y_lead_lag_chopped/PROC_DIV, static_kernel = sigkernel.RBFKernel(sigma = RBF_SIGMA))\n",
    "        #hsic_test_result = hsic_independence_test.get_test_result_matrix_shuffle(X_lead_lag_chopped/PROC_DIV, Y_lead_lag_chopped/PROC_DIV, static_kernel = sigkernel.RBFKernel(sigma = RBF_SIGMA))\n",
    "        #cov_test_result = cov_independence_test.get_test_result(X, Y)\n",
    "        print('RUN:', run)\n",
    "        print('HSIC:', hsic_test_result[1:])\n",
    "        #print('COV:', cov_test_result)\n",
    "\n",
    "        hsic_results[rate].append(hsic_test_result)\n",
    "        #cov_results[rate].append(cov_test_result)\n",
    "        \n",
    "    print('==================== END RATE {} ================='.format(rate))"
   ]
  },
  {
   "cell_type": "code",
   "execution_count": 72,
   "id": "e590470d",
   "metadata": {},
   "outputs": [],
   "source": [
    "hsic_results = {}\n",
    "cov_results = {}"
   ]
  },
  {
   "cell_type": "code",
   "execution_count": 69,
   "id": "fba88f30",
   "metadata": {
    "scrolled": true
   },
   "outputs": [
    {
     "name": "stderr",
     "output_type": "stream",
     "text": [
      "100%|██████████████████████████████████████████████████████████████████████████████████████████████████████████████████████████████████████████████████████████████| 50/50 [00:00<00:00, 53.07it/s]\n"
     ]
    },
    {
     "name": "stdout",
     "output_type": "stream",
     "text": [
      "RUN: 0\n",
      "HSIC: (0.6442308948297368, 0.0)\n"
     ]
    },
    {
     "name": "stderr",
     "output_type": "stream",
     "text": [
      "100%|██████████████████████████████████████████████████████████████████████████████████████████████████████████████████████████████████████████████████████████████| 50/50 [00:01<00:00, 48.39it/s]\n"
     ]
    },
    {
     "name": "stdout",
     "output_type": "stream",
     "text": [
      "RUN: 1\n",
      "HSIC: (0.6229694481374048, 0.0)\n"
     ]
    },
    {
     "name": "stderr",
     "output_type": "stream",
     "text": [
      "100%|██████████████████████████████████████████████████████████████████████████████████████████████████████████████████████████████████████████████████████████████| 50/50 [00:01<00:00, 49.04it/s]\n"
     ]
    },
    {
     "name": "stdout",
     "output_type": "stream",
     "text": [
      "RUN: 2\n",
      "HSIC: (0.6384320420058236, 0.0)\n"
     ]
    },
    {
     "name": "stderr",
     "output_type": "stream",
     "text": [
      "100%|██████████████████████████████████████████████████████████████████████████████████████████████████████████████████████████████████████████████████████████████| 50/50 [00:01<00:00, 47.89it/s]\n"
     ]
    },
    {
     "name": "stdout",
     "output_type": "stream",
     "text": [
      "RUN: 3\n",
      "HSIC: (0.6701717573782213, 0.0)\n"
     ]
    },
    {
     "name": "stderr",
     "output_type": "stream",
     "text": [
      "100%|██████████████████████████████████████████████████████████████████████████████████████████████████████████████████████████████████████████████████████████████| 50/50 [00:01<00:00, 47.83it/s]\n"
     ]
    },
    {
     "name": "stdout",
     "output_type": "stream",
     "text": [
      "RUN: 4\n",
      "HSIC: (0.6646305988771255, 0.0)\n"
     ]
    },
    {
     "name": "stderr",
     "output_type": "stream",
     "text": [
      "100%|██████████████████████████████████████████████████████████████████████████████████████████████████████████████████████████████████████████████████████████████| 50/50 [00:01<00:00, 46.01it/s]\n"
     ]
    },
    {
     "name": "stdout",
     "output_type": "stream",
     "text": [
      "RUN: 5\n",
      "HSIC: (0.6320047457621012, 0.0)\n"
     ]
    },
    {
     "ename": "KeyboardInterrupt",
     "evalue": "",
     "output_type": "error",
     "traceback": [
      "\u001b[0;31m---------------------------------------------------------------------------\u001b[0m",
      "\u001b[0;31mKeyboardInterrupt\u001b[0m                         Traceback (most recent call last)",
      "\u001b[0;32m/tmp/ipykernel_38014/569985605.py\u001b[0m in \u001b[0;36m<module>\u001b[0;34m\u001b[0m\n\u001b[1;32m     17\u001b[0m         \u001b[0mY_lead_lag_chopped\u001b[0m \u001b[0;34m=\u001b[0m \u001b[0mtorch\u001b[0m\u001b[0;34m.\u001b[0m\u001b[0mstack\u001b[0m\u001b[0;34m(\u001b[0m\u001b[0;34m(\u001b[0m\u001b[0mY_raw\u001b[0m\u001b[0;34m[\u001b[0m\u001b[0;34m:\u001b[0m\u001b[0;34m,\u001b[0m \u001b[0;36m1\u001b[0m\u001b[0;34m:\u001b[0m\u001b[0;34m]\u001b[0m\u001b[0;34m,\u001b[0m \u001b[0mY_raw\u001b[0m\u001b[0;34m[\u001b[0m\u001b[0;34m:\u001b[0m\u001b[0;34m,\u001b[0m \u001b[0;34m:\u001b[0m\u001b[0;34m-\u001b[0m\u001b[0;36m1\u001b[0m\u001b[0;34m]\u001b[0m\u001b[0;34m)\u001b[0m\u001b[0;34m,\u001b[0m \u001b[0maxis\u001b[0m \u001b[0;34m=\u001b[0m \u001b[0;36m2\u001b[0m\u001b[0;34m)\u001b[0m\u001b[0;34m\u001b[0m\u001b[0;34m\u001b[0m\u001b[0m\n\u001b[1;32m     18\u001b[0m \u001b[0;34m\u001b[0m\u001b[0m\n\u001b[0;32m---> 19\u001b[0;31m         \u001b[0mpostscale_x\u001b[0m \u001b[0;34m=\u001b[0m \u001b[0mget_postscale_for_batch\u001b[0m\u001b[0;34m(\u001b[0m\u001b[0mX_lead_lag_chopped\u001b[0m\u001b[0;34m,\u001b[0m \u001b[0msigkernel_scale\u001b[0m\u001b[0;34m.\u001b[0m\u001b[0mSigKernel\u001b[0m\u001b[0;34m(\u001b[0m\u001b[0msigkernel_scale\u001b[0m\u001b[0;34m.\u001b[0m\u001b[0mRBFKernel\u001b[0m\u001b[0;34m(\u001b[0m\u001b[0;36m2\u001b[0m\u001b[0;34m)\u001b[0m\u001b[0;34m,\u001b[0m \u001b[0;36m4\u001b[0m\u001b[0;34m)\u001b[0m\u001b[0;34m)\u001b[0m\u001b[0;34m;\u001b[0m\u001b[0;34m\u001b[0m\u001b[0;34m\u001b[0m\u001b[0m\n\u001b[0m\u001b[1;32m     20\u001b[0m         \u001b[0mpostscale_y\u001b[0m \u001b[0;34m=\u001b[0m \u001b[0mget_postscale_for_batch\u001b[0m\u001b[0;34m(\u001b[0m\u001b[0mY_lead_lag_chopped\u001b[0m\u001b[0;34m,\u001b[0m \u001b[0msigkernel_scale\u001b[0m\u001b[0;34m.\u001b[0m\u001b[0mSigKernel\u001b[0m\u001b[0;34m(\u001b[0m\u001b[0msigkernel_scale\u001b[0m\u001b[0;34m.\u001b[0m\u001b[0mRBFKernel\u001b[0m\u001b[0;34m(\u001b[0m\u001b[0;36m2\u001b[0m\u001b[0;34m)\u001b[0m\u001b[0;34m,\u001b[0m \u001b[0;36m4\u001b[0m\u001b[0;34m)\u001b[0m\u001b[0;34m)\u001b[0m\u001b[0;34m;\u001b[0m\u001b[0;34m\u001b[0m\u001b[0;34m\u001b[0m\u001b[0m\n\u001b[1;32m     21\u001b[0m \u001b[0;34m\u001b[0m\u001b[0m\n",
      "\u001b[0;32m/tmp/ipykernel_38014/3210760713.py\u001b[0m in \u001b[0;36mget_postscale_for_batch\u001b[0;34m(paths, kernel)\u001b[0m\n\u001b[1;32m      5\u001b[0m         \u001b[0mtarget\u001b[0m \u001b[0;34m=\u001b[0m \u001b[0mpsi\u001b[0m\u001b[0;34m(\u001b[0m\u001b[0mnp\u001b[0m\u001b[0;34m.\u001b[0m\u001b[0msqrt\u001b[0m\u001b[0;34m(\u001b[0m\u001b[0mkernel_xx\u001b[0m\u001b[0;34m.\u001b[0m\u001b[0mitem\u001b[0m\u001b[0;34m(\u001b[0m\u001b[0;34m)\u001b[0m\u001b[0;34m)\u001b[0m\u001b[0;34m)\u001b[0m\u001b[0;34m\u001b[0m\u001b[0;34m\u001b[0m\u001b[0m\n\u001b[1;32m      6\u001b[0m         \u001b[0mf\u001b[0m \u001b[0;34m=\u001b[0m \u001b[0;32mlambda\u001b[0m \u001b[0mlam\u001b[0m\u001b[0;34m:\u001b[0m \u001b[0mtarget\u001b[0m \u001b[0;34m-\u001b[0m \u001b[0mkernel\u001b[0m\u001b[0;34m.\u001b[0m\u001b[0mcompute_kernel\u001b[0m\u001b[0;34m(\u001b[0m\u001b[0mpaths\u001b[0m\u001b[0;34m[\u001b[0m\u001b[0mi\u001b[0m\u001b[0;34m:\u001b[0m\u001b[0mi\u001b[0m\u001b[0;34m+\u001b[0m\u001b[0;36m1\u001b[0m\u001b[0;34m,\u001b[0m \u001b[0;34m:\u001b[0m\u001b[0;34m,\u001b[0m \u001b[0;34m:\u001b[0m\u001b[0;34m]\u001b[0m\u001b[0;34m,\u001b[0m \u001b[0mpaths\u001b[0m\u001b[0;34m[\u001b[0m\u001b[0mi\u001b[0m\u001b[0;34m:\u001b[0m\u001b[0mi\u001b[0m\u001b[0;34m+\u001b[0m\u001b[0;36m1\u001b[0m\u001b[0;34m,\u001b[0m \u001b[0;34m:\u001b[0m\u001b[0;34m,\u001b[0m \u001b[0;34m:\u001b[0m\u001b[0;34m]\u001b[0m\u001b[0;34m,\u001b[0m \u001b[0mtorch\u001b[0m\u001b[0;34m.\u001b[0m\u001b[0mtensor\u001b[0m\u001b[0;34m(\u001b[0m\u001b[0;34m[\u001b[0m\u001b[0mlam\u001b[0m\u001b[0;34m]\u001b[0m\u001b[0;34m)\u001b[0m\u001b[0;34m,\u001b[0m \u001b[0mtorch\u001b[0m\u001b[0;34m.\u001b[0m\u001b[0mtensor\u001b[0m\u001b[0;34m(\u001b[0m\u001b[0;34m[\u001b[0m\u001b[0mlam\u001b[0m\u001b[0;34m]\u001b[0m\u001b[0;34m)\u001b[0m\u001b[0;34m)\u001b[0m\u001b[0;34m.\u001b[0m\u001b[0mitem\u001b[0m\u001b[0;34m(\u001b[0m\u001b[0;34m)\u001b[0m\u001b[0;34m\u001b[0m\u001b[0;34m\u001b[0m\u001b[0m\n\u001b[0;32m----> 7\u001b[0;31m         \u001b[0mlam\u001b[0m \u001b[0;34m=\u001b[0m \u001b[0mmin\u001b[0m\u001b[0;34m(\u001b[0m\u001b[0mmax\u001b[0m\u001b[0;34m(\u001b[0m\u001b[0mbrentq\u001b[0m\u001b[0;34m(\u001b[0m\u001b[0mf\u001b[0m\u001b[0;34m,\u001b[0m \u001b[0;36m0.\u001b[0m\u001b[0;34m,\u001b[0m \u001b[0;36m1.1\u001b[0m\u001b[0;34m,\u001b[0m \u001b[0mxtol\u001b[0m\u001b[0;34m=\u001b[0m\u001b[0;36m1e-300\u001b[0m\u001b[0;34m,\u001b[0m \u001b[0mmaxiter\u001b[0m \u001b[0;34m=\u001b[0m \u001b[0;36m1000\u001b[0m\u001b[0;34m)\u001b[0m\u001b[0;34m,\u001b[0m \u001b[0;36m0\u001b[0m\u001b[0;34m)\u001b[0m\u001b[0;34m,\u001b[0m \u001b[0;36m1\u001b[0m\u001b[0;34m)\u001b[0m\u001b[0;34m\u001b[0m\u001b[0;34m\u001b[0m\u001b[0m\n\u001b[0m\u001b[1;32m      8\u001b[0m         \u001b[0;31m# print(lam)\u001b[0m\u001b[0;34m\u001b[0m\u001b[0;34m\u001b[0m\u001b[0;34m\u001b[0m\u001b[0m\n\u001b[1;32m      9\u001b[0m         \u001b[0mpostscale\u001b[0m\u001b[0;34m[\u001b[0m\u001b[0mi\u001b[0m\u001b[0;34m]\u001b[0m \u001b[0;34m=\u001b[0m \u001b[0mlam\u001b[0m\u001b[0;34m\u001b[0m\u001b[0;34m\u001b[0m\u001b[0m\n",
      "\u001b[0;32m~/miniconda3/envs/signatures/lib/python3.7/site-packages/scipy/optimize/zeros.py\u001b[0m in \u001b[0;36mbrentq\u001b[0;34m(f, a, b, args, xtol, rtol, maxiter, full_output, disp)\u001b[0m\n\u001b[1;32m    774\u001b[0m     \u001b[0;32mif\u001b[0m \u001b[0mrtol\u001b[0m \u001b[0;34m<\u001b[0m \u001b[0m_rtol\u001b[0m\u001b[0;34m:\u001b[0m\u001b[0;34m\u001b[0m\u001b[0;34m\u001b[0m\u001b[0m\n\u001b[1;32m    775\u001b[0m         \u001b[0;32mraise\u001b[0m \u001b[0mValueError\u001b[0m\u001b[0;34m(\u001b[0m\u001b[0;34m\"rtol too small (%g < %g)\"\u001b[0m \u001b[0;34m%\u001b[0m \u001b[0;34m(\u001b[0m\u001b[0mrtol\u001b[0m\u001b[0;34m,\u001b[0m \u001b[0m_rtol\u001b[0m\u001b[0;34m)\u001b[0m\u001b[0;34m)\u001b[0m\u001b[0;34m\u001b[0m\u001b[0;34m\u001b[0m\u001b[0m\n\u001b[0;32m--> 776\u001b[0;31m     \u001b[0mr\u001b[0m \u001b[0;34m=\u001b[0m \u001b[0m_zeros\u001b[0m\u001b[0;34m.\u001b[0m\u001b[0m_brentq\u001b[0m\u001b[0;34m(\u001b[0m\u001b[0mf\u001b[0m\u001b[0;34m,\u001b[0m \u001b[0ma\u001b[0m\u001b[0;34m,\u001b[0m \u001b[0mb\u001b[0m\u001b[0;34m,\u001b[0m \u001b[0mxtol\u001b[0m\u001b[0;34m,\u001b[0m \u001b[0mrtol\u001b[0m\u001b[0;34m,\u001b[0m \u001b[0mmaxiter\u001b[0m\u001b[0;34m,\u001b[0m \u001b[0margs\u001b[0m\u001b[0;34m,\u001b[0m \u001b[0mfull_output\u001b[0m\u001b[0;34m,\u001b[0m \u001b[0mdisp\u001b[0m\u001b[0;34m)\u001b[0m\u001b[0;34m\u001b[0m\u001b[0;34m\u001b[0m\u001b[0m\n\u001b[0m\u001b[1;32m    777\u001b[0m     \u001b[0;32mreturn\u001b[0m \u001b[0mresults_c\u001b[0m\u001b[0;34m(\u001b[0m\u001b[0mfull_output\u001b[0m\u001b[0;34m,\u001b[0m \u001b[0mr\u001b[0m\u001b[0;34m)\u001b[0m\u001b[0;34m\u001b[0m\u001b[0;34m\u001b[0m\u001b[0m\n\u001b[1;32m    778\u001b[0m \u001b[0;34m\u001b[0m\u001b[0m\n",
      "\u001b[0;32m/tmp/ipykernel_38014/3210760713.py\u001b[0m in \u001b[0;36m<lambda>\u001b[0;34m(lam)\u001b[0m\n\u001b[1;32m      4\u001b[0m         \u001b[0mkernel_xx\u001b[0m \u001b[0;34m=\u001b[0m \u001b[0mkernel\u001b[0m\u001b[0;34m.\u001b[0m\u001b[0mcompute_kernel\u001b[0m\u001b[0;34m(\u001b[0m\u001b[0mpaths\u001b[0m\u001b[0;34m[\u001b[0m\u001b[0mi\u001b[0m\u001b[0;34m:\u001b[0m\u001b[0mi\u001b[0m\u001b[0;34m+\u001b[0m\u001b[0;36m1\u001b[0m\u001b[0;34m,\u001b[0m \u001b[0;34m:\u001b[0m\u001b[0;34m,\u001b[0m \u001b[0;34m:\u001b[0m\u001b[0;34m]\u001b[0m\u001b[0;34m,\u001b[0m \u001b[0mpaths\u001b[0m\u001b[0;34m[\u001b[0m\u001b[0mi\u001b[0m\u001b[0;34m:\u001b[0m\u001b[0mi\u001b[0m\u001b[0;34m+\u001b[0m\u001b[0;36m1\u001b[0m\u001b[0;34m,\u001b[0m \u001b[0;34m:\u001b[0m\u001b[0;34m,\u001b[0m \u001b[0;34m:\u001b[0m\u001b[0;34m]\u001b[0m\u001b[0;34m)\u001b[0m\u001b[0;34m\u001b[0m\u001b[0;34m\u001b[0m\u001b[0m\n\u001b[1;32m      5\u001b[0m         \u001b[0mtarget\u001b[0m \u001b[0;34m=\u001b[0m \u001b[0mpsi\u001b[0m\u001b[0;34m(\u001b[0m\u001b[0mnp\u001b[0m\u001b[0;34m.\u001b[0m\u001b[0msqrt\u001b[0m\u001b[0;34m(\u001b[0m\u001b[0mkernel_xx\u001b[0m\u001b[0;34m.\u001b[0m\u001b[0mitem\u001b[0m\u001b[0;34m(\u001b[0m\u001b[0;34m)\u001b[0m\u001b[0;34m)\u001b[0m\u001b[0;34m)\u001b[0m\u001b[0;34m\u001b[0m\u001b[0;34m\u001b[0m\u001b[0m\n\u001b[0;32m----> 6\u001b[0;31m         \u001b[0mf\u001b[0m \u001b[0;34m=\u001b[0m \u001b[0;32mlambda\u001b[0m \u001b[0mlam\u001b[0m\u001b[0;34m:\u001b[0m \u001b[0mtarget\u001b[0m \u001b[0;34m-\u001b[0m \u001b[0mkernel\u001b[0m\u001b[0;34m.\u001b[0m\u001b[0mcompute_kernel\u001b[0m\u001b[0;34m(\u001b[0m\u001b[0mpaths\u001b[0m\u001b[0;34m[\u001b[0m\u001b[0mi\u001b[0m\u001b[0;34m:\u001b[0m\u001b[0mi\u001b[0m\u001b[0;34m+\u001b[0m\u001b[0;36m1\u001b[0m\u001b[0;34m,\u001b[0m \u001b[0;34m:\u001b[0m\u001b[0;34m,\u001b[0m \u001b[0;34m:\u001b[0m\u001b[0;34m]\u001b[0m\u001b[0;34m,\u001b[0m \u001b[0mpaths\u001b[0m\u001b[0;34m[\u001b[0m\u001b[0mi\u001b[0m\u001b[0;34m:\u001b[0m\u001b[0mi\u001b[0m\u001b[0;34m+\u001b[0m\u001b[0;36m1\u001b[0m\u001b[0;34m,\u001b[0m \u001b[0;34m:\u001b[0m\u001b[0;34m,\u001b[0m \u001b[0;34m:\u001b[0m\u001b[0;34m]\u001b[0m\u001b[0;34m,\u001b[0m \u001b[0mtorch\u001b[0m\u001b[0;34m.\u001b[0m\u001b[0mtensor\u001b[0m\u001b[0;34m(\u001b[0m\u001b[0;34m[\u001b[0m\u001b[0mlam\u001b[0m\u001b[0;34m]\u001b[0m\u001b[0;34m)\u001b[0m\u001b[0;34m,\u001b[0m \u001b[0mtorch\u001b[0m\u001b[0;34m.\u001b[0m\u001b[0mtensor\u001b[0m\u001b[0;34m(\u001b[0m\u001b[0;34m[\u001b[0m\u001b[0mlam\u001b[0m\u001b[0;34m]\u001b[0m\u001b[0;34m)\u001b[0m\u001b[0;34m)\u001b[0m\u001b[0;34m.\u001b[0m\u001b[0mitem\u001b[0m\u001b[0;34m(\u001b[0m\u001b[0;34m)\u001b[0m\u001b[0;34m\u001b[0m\u001b[0;34m\u001b[0m\u001b[0m\n\u001b[0m\u001b[1;32m      7\u001b[0m         \u001b[0mlam\u001b[0m \u001b[0;34m=\u001b[0m \u001b[0mmin\u001b[0m\u001b[0;34m(\u001b[0m\u001b[0mmax\u001b[0m\u001b[0;34m(\u001b[0m\u001b[0mbrentq\u001b[0m\u001b[0;34m(\u001b[0m\u001b[0mf\u001b[0m\u001b[0;34m,\u001b[0m \u001b[0;36m0.\u001b[0m\u001b[0;34m,\u001b[0m \u001b[0;36m1.1\u001b[0m\u001b[0;34m,\u001b[0m \u001b[0mxtol\u001b[0m\u001b[0;34m=\u001b[0m\u001b[0;36m1e-300\u001b[0m\u001b[0;34m,\u001b[0m \u001b[0mmaxiter\u001b[0m \u001b[0;34m=\u001b[0m \u001b[0;36m1000\u001b[0m\u001b[0;34m)\u001b[0m\u001b[0;34m,\u001b[0m \u001b[0;36m0\u001b[0m\u001b[0;34m)\u001b[0m\u001b[0;34m,\u001b[0m \u001b[0;36m1\u001b[0m\u001b[0;34m)\u001b[0m\u001b[0;34m\u001b[0m\u001b[0;34m\u001b[0m\u001b[0m\n\u001b[1;32m      8\u001b[0m         \u001b[0;31m# print(lam)\u001b[0m\u001b[0;34m\u001b[0m\u001b[0;34m\u001b[0m\u001b[0;34m\u001b[0m\u001b[0m\n",
      "\u001b[0;32m~/learning/thesis/src/proper_test_eval/lib/sigkernel/sigkernel_scale.py\u001b[0m in \u001b[0;36mcompute_kernel\u001b[0;34m(self, X, Y, post_scale_static_x, post_scale_static_y)\u001b[0m\n\u001b[1;32m    126\u001b[0m                   \u001b[0;34m-\u001b[0m \u001b[0mvector\u001b[0m \u001b[0mk\u001b[0m\u001b[0;34m(\u001b[0m\u001b[0mX\u001b[0m\u001b[0;34m^\u001b[0m\u001b[0mi_T\u001b[0m\u001b[0;34m,\u001b[0m\u001b[0mY\u001b[0m\u001b[0;34m^\u001b[0m\u001b[0mi_T\u001b[0m\u001b[0;34m)\u001b[0m \u001b[0mof\u001b[0m \u001b[0mshape\u001b[0m \u001b[0;34m(\u001b[0m\u001b[0mbatch\u001b[0m\u001b[0;34m,\u001b[0m\u001b[0;34m)\u001b[0m\u001b[0;34m\u001b[0m\u001b[0;34m\u001b[0m\u001b[0m\n\u001b[1;32m    127\u001b[0m         \"\"\"\n\u001b[0;32m--> 128\u001b[0;31m         \u001b[0;32mreturn\u001b[0m \u001b[0m_SigKernel\u001b[0m\u001b[0;34m.\u001b[0m\u001b[0mapply\u001b[0m\u001b[0;34m(\u001b[0m\u001b[0mX\u001b[0m\u001b[0;34m,\u001b[0m \u001b[0mY\u001b[0m\u001b[0;34m,\u001b[0m \u001b[0mself\u001b[0m\u001b[0;34m.\u001b[0m\u001b[0mstatic_kernel\u001b[0m\u001b[0;34m,\u001b[0m \u001b[0mself\u001b[0m\u001b[0;34m.\u001b[0m\u001b[0mdyadic_order\u001b[0m\u001b[0;34m,\u001b[0m \u001b[0mself\u001b[0m\u001b[0;34m.\u001b[0m\u001b[0m_naive_solver\u001b[0m\u001b[0;34m,\u001b[0m \u001b[0mpost_scale_static_x\u001b[0m\u001b[0;34m,\u001b[0m \u001b[0mpost_scale_static_y\u001b[0m\u001b[0;34m)\u001b[0m\u001b[0;34m\u001b[0m\u001b[0;34m\u001b[0m\u001b[0m\n\u001b[0m\u001b[1;32m    129\u001b[0m \u001b[0;34m\u001b[0m\u001b[0m\n\u001b[1;32m    130\u001b[0m     \u001b[0;32mdef\u001b[0m \u001b[0mcompute_Gram\u001b[0m\u001b[0;34m(\u001b[0m\u001b[0mself\u001b[0m\u001b[0;34m,\u001b[0m \u001b[0mX\u001b[0m\u001b[0;34m,\u001b[0m \u001b[0mY\u001b[0m\u001b[0;34m,\u001b[0m \u001b[0mpost_scale_static_x\u001b[0m \u001b[0;34m=\u001b[0m \u001b[0;32mNone\u001b[0m\u001b[0;34m,\u001b[0m \u001b[0mpost_scale_static_y\u001b[0m \u001b[0;34m=\u001b[0m \u001b[0;32mNone\u001b[0m\u001b[0;34m,\u001b[0m \u001b[0msym\u001b[0m \u001b[0;34m=\u001b[0m \u001b[0;32mFalse\u001b[0m\u001b[0;34m)\u001b[0m\u001b[0;34m:\u001b[0m\u001b[0;34m\u001b[0m\u001b[0;34m\u001b[0m\u001b[0m\n",
      "\u001b[0;32m~/learning/thesis/src/proper_test_eval/lib/sigkernel/sigkernel_scale.py\u001b[0m in \u001b[0;36mforward\u001b[0;34m(ctx, X, Y, static_kernel, dyadic_order, _naive_solver, post_scale_static_x, post_scale_static_y)\u001b[0m\n\u001b[1;32m    215\u001b[0m         \u001b[0;31m# if on CPU\u001b[0m\u001b[0;34m\u001b[0m\u001b[0;34m\u001b[0m\u001b[0;34m\u001b[0m\u001b[0m\n\u001b[1;32m    216\u001b[0m         \u001b[0;32melse\u001b[0m\u001b[0;34m:\u001b[0m\u001b[0;34m\u001b[0m\u001b[0;34m\u001b[0m\u001b[0m\n\u001b[0;32m--> 217\u001b[0;31m             \u001b[0mK\u001b[0m \u001b[0;34m=\u001b[0m \u001b[0mtorch\u001b[0m\u001b[0;34m.\u001b[0m\u001b[0mtensor\u001b[0m\u001b[0;34m(\u001b[0m\u001b[0msig_kernel_batch_varpar\u001b[0m\u001b[0;34m(\u001b[0m\u001b[0mG_static_\u001b[0m\u001b[0;34m.\u001b[0m\u001b[0mdetach\u001b[0m\u001b[0;34m(\u001b[0m\u001b[0;34m)\u001b[0m\u001b[0;34m.\u001b[0m\u001b[0mnumpy\u001b[0m\u001b[0;34m(\u001b[0m\u001b[0;34m)\u001b[0m\u001b[0;34m,\u001b[0m \u001b[0m_naive_solver\u001b[0m\u001b[0;34m)\u001b[0m\u001b[0;34m,\u001b[0m \u001b[0mdtype\u001b[0m\u001b[0;34m=\u001b[0m\u001b[0mG_static\u001b[0m\u001b[0;34m.\u001b[0m\u001b[0mdtype\u001b[0m\u001b[0;34m,\u001b[0m \u001b[0mdevice\u001b[0m\u001b[0;34m=\u001b[0m\u001b[0mG_static\u001b[0m\u001b[0;34m.\u001b[0m\u001b[0mdevice\u001b[0m\u001b[0;34m)\u001b[0m\u001b[0;34m\u001b[0m\u001b[0;34m\u001b[0m\u001b[0m\n\u001b[0m\u001b[1;32m    218\u001b[0m \u001b[0;34m\u001b[0m\u001b[0m\n\u001b[1;32m    219\u001b[0m         \u001b[0mctx\u001b[0m\u001b[0;34m.\u001b[0m\u001b[0msave_for_backward\u001b[0m\u001b[0;34m(\u001b[0m\u001b[0mX\u001b[0m\u001b[0;34m,\u001b[0m\u001b[0mY\u001b[0m\u001b[0;34m,\u001b[0m\u001b[0mG_static\u001b[0m\u001b[0;34m,\u001b[0m\u001b[0mK\u001b[0m\u001b[0;34m)\u001b[0m\u001b[0;34m\u001b[0m\u001b[0;34m\u001b[0m\u001b[0m\n",
      "\u001b[0;31mKeyboardInterrupt\u001b[0m: "
     ]
    }
   ],
   "source": [
    "for rate in EXTINCTION_RATES:#[0, 0.3, 0.8]:    \n",
    "    #processes = gen_processes.gen_ar_iid_samples_extinct_gaussian_burn_in(N_TIMESTEPS+1, M_RUNS, a=A, extinction_rate=rate)\n",
    "    hsic_results[rate] = []\n",
    "    cov_results[rate] = []\n",
    "    for run in range(M_RUNS):\n",
    "        #X_raw = processes[run, :, 0]\n",
    "        #Y_raw = processes[run, :, 1]\n",
    "        #X_lead_lag_chopped, Y_lead_lag_chopped = get_bootstrap_samples_lead_lag(X_raw, Y_raw)\n",
    "        \n",
    "        #X = X_raw[:N_TIMESTEPS]\n",
    "        #Y = Y_raw[:N_TIMESTEPS]\n",
    "        #processes = gen_processes.gen_ar_iid_samples_extinct_gaussian_burn_in(3, SIG_KERNEL_SAMPLES_NO, a=A, extinction_rate=rate)\n",
    "        processes = gen_processes.gen_ar_iid_samples_burn_in(6, SIG_KERNEL_SAMPLES_NO, a = 0.8, corr=rate)\n",
    "        X_raw = processes[:, :, 0]\n",
    "        Y_raw = processes[:, :, 1]\n",
    "        X_lead_lag_chopped = torch.stack((X_raw[:, 1:], X_raw[:, :-1]), axis = 2)\n",
    "        Y_lead_lag_chopped = torch.stack((Y_raw[:, 1:], Y_raw[:, :-1]), axis = 2)\n",
    "        \n",
    "        postscale_x = get_postscale_for_batch(X_lead_lag_chopped, sigkernel_scale.SigKernel(sigkernel_scale.RBFKernel(RBF_SIGMA), 4));\n",
    "        postscale_y = get_postscale_for_batch(Y_lead_lag_chopped, sigkernel_scale.SigKernel(sigkernel_scale.RBFKernel(RBF_SIGMA), 4));\n",
    "        \n",
    "        #hsic_test_result = hsic_independence_test.get_test_result_matrix_shuffle(X_lead_lag_chopped/PROC_DIV, Y_lead_lag_chopped/PROC_DIV, static_kernel = sigkernel.RBFKernel(sigma = RBF_SIGMA))\n",
    "        hsic_test_result = hsic_independence_test.get_test_result_matrix_shuffle(X_lead_lag_chopped, Y_lead_lag_chopped, static_kernel = sigkernel_scale.RBFKernel(RBF_SIGMA), postscale_x = postscale_x, postscale_y = postscale_y)\n",
    "        #cov_test_result = cov_independence_test.get_test_result(X, Y)\n",
    "        print('RUN:', run)\n",
    "        print('HSIC:', hsic_test_result[1:])\n",
    "        #print('COV:', cov_test_result)\n",
    "\n",
    "        hsic_results[rate].append(hsic_test_result)\n",
    "        #cov_results[rate].append(cov_test_result)\n",
    "        \n",
    "    print('==================== END RATE {} ================='.format(rate))"
   ]
  },
  {
   "cell_type": "code",
   "execution_count": 234,
   "id": "4a28fec3",
   "metadata": {},
   "outputs": [],
   "source": [
    "def get_null_rejection_rate(results):\n",
    "    a = 0\n",
    "    for tup in results:\n",
    "        a += (tup[2] < 0.025) or (tup[2] > 0.975)\n",
    "    return a / len(results)"
   ]
  },
  {
   "cell_type": "code",
   "execution_count": 235,
   "id": "1f4b10ac",
   "metadata": {},
   "outputs": [],
   "source": [
    "def get_null_sampling_approx_from_all_results(all_results):\n",
    "    null_approx = None\n",
    "    for rate in all_results.keys():\n",
    "        for tup in all_results[rate]:\n",
    "            if null_approx == None:\n",
    "                null_approx = tup[0]\n",
    "            else:\n",
    "                null_approx = torch.cat((null_approx, tup[0]), dim = 0)\n",
    "    null =  np.array([item.item() for item in null_approx])\n",
    "    null.sort()\n",
    "    return null"
   ]
  },
  {
   "cell_type": "code",
   "execution_count": 236,
   "id": "35cf1ac4",
   "metadata": {},
   "outputs": [],
   "source": [
    "def get_test_statistic_dists_from_all_results(all_results):\n",
    "    hsic_dist = {}\n",
    "    a = 0\n",
    "    for rate in all_results.keys():\n",
    "        hsic_dist[rate] = []\n",
    "        for tup in all_results[rate]:\n",
    "            hsic_dist[rate].append(tup[1])\n",
    "        hsic_dist[rate] = np.array(hsic_dist[rate])\n",
    "    return hsic_dist"
   ]
  },
  {
   "cell_type": "code",
   "execution_count": 237,
   "id": "f7d721f3",
   "metadata": {},
   "outputs": [],
   "source": [
    "def get_cov_null_rejection_rate(results):\n",
    "    a = 0\n",
    "    for tup in results:\n",
    "        a += (tup[1] < 0.025) or (tup[1] > 0.975)\n",
    "    return a / len(results)"
   ]
  },
  {
   "cell_type": "code",
   "execution_count": 238,
   "id": "010a0c76",
   "metadata": {},
   "outputs": [],
   "source": [
    "def get_test_cutoff_thresholds_for_null(null):\n",
    "    return (null[int((len(null)-1)*0.025)], null[int((len(null)-1)*0.975)])"
   ]
  },
  {
   "cell_type": "code",
   "execution_count": 239,
   "id": "b1ae8eb0",
   "metadata": {},
   "outputs": [],
   "source": [
    "null = get_null_sampling_approx_from_all_results(hsic_results)\n",
    "test_statistic_dists = get_test_statistic_dists_from_all_results(hsic_results)\n",
    "low_thresh, high_thresh = get_test_cutoff_thresholds_for_null(null)"
   ]
  },
  {
   "cell_type": "code",
   "execution_count": 245,
   "id": "6586c1dd",
   "metadata": {},
   "outputs": [
    {
     "data": {
      "text/plain": [
       "<matplotlib.collections.PathCollection at 0x7fb035e83c50>"
      ]
     },
     "execution_count": 245,
     "metadata": {},
     "output_type": "execute_result"
    },
    {
     "data": {
      "image/png": "[encoded data removed]",
      "text/plain": [
       "<Figure size 432x288 with 1 Axes>"
      ]
     },
     "metadata": {
      "needs_background": "light"
     },
     "output_type": "display_data"
    }
   ],
   "source": [
    "plt.scatter(EXTINCTION_RATES, [get_null_rejection_rate(hsic_results[rate]) for rate in [0.3, 0.8]])\n",
    "plt.scatter(EXTINCTION_RATES, [get_cov_null_rejection_rate(cov_results[rate]) for rate in [0.3, 0.8]])"
   ]
  },
  {
   "cell_type": "code",
   "execution_count": 242,
   "id": "0e9c3def",
   "metadata": {},
   "outputs": [
    {
     "data": {
      "text/plain": [
       "<matplotlib.lines.Line2D at 0x7fb02d17e510>"
      ]
     },
     "execution_count": 242,
     "metadata": {},
     "output_type": "execute_result"
    },
    {
     "data": {
      "image/png": "[encoded data removed]",
      "text/plain": [
       "<Figure size 432x288 with 1 Axes>"
      ]
     },
     "metadata": {
      "needs_background": "light"
     },
     "output_type": "display_data"
    }
   ],
   "source": [
    "plt.hist(null, bins = 100, density = True);\n",
    "plt.hist(test_statistic_dists[0.3], bins = 20, density = True, alpha = 0.8)\n",
    "plt.axvline(low_thresh, alpha = 0.3, color = 'red')\n",
    "plt.axvline(high_thresh, alpha = 0.3, color = 'red')"
   ]
  },
  {
   "cell_type": "code",
   "execution_count": 158,
   "id": "db065935",
   "metadata": {},
   "outputs": [],
   "source": [
    "def push_results():\n",
    "    BIG_RESULT_MEMORY_PLACE.append({\n",
    "        'N_TIMESTEPS' : N_TIMESTEPS,\n",
    "        'NO_TIMESTEPS_PER_SAMPLE' : int(N_TIMESTEPS / SIG_KERNEL_SAMPLES_NO),\n",
    "        'SIG_KERNEL_SAMPLES_NO' : SIG_KERNEL_SAMPLES_NO,\n",
    "        'M_RUNS' : M_RUNS,\n",
    "        'COVS' : COVS,\n",
    "        'COV RESULTS' : cov_results,\n",
    "        'RBF_SIGMA' : RBF_SIGMA,\n",
    "        'NULL' : null,\n",
    "        'A' : A,\n",
    "        'TEST DISTS' : test_statistic_dists,\n",
    "        'TEST HIGH LOW THRES': (high_thresh, low_thresh),\n",
    "        'COMMENT' : 'Normalized kernel, this is '\n",
    "    })\n",
    "    pp.pprint(BIG_RESULT_MEMORY_PLACE[-1])"
   ]
  },
  {
   "cell_type": "code",
   "execution_count": 159,
   "id": "06adf85f",
   "metadata": {},
   "outputs": [
    {
     "name": "stdout",
     "output_type": "stream",
     "text": [
      "{   'A': 0.2,\n",
      "    'COMMENT': 'Using the V_statistic now, faster and also seems reliable',\n",
      "    'COV RESULTS': {   0.8: [   (tensor(-0.0143), 0.6843193812019681),\n",
      "                                (tensor(0.0237), 0.21211053013423442),\n",
      "                                (tensor(0.0332), 0.13140236300723074),\n",
      "                                (tensor(6.2296e-05), 0.4991988066445927),\n",
      "                                (tensor(-0.0121), 0.6524937915668025),\n",
      "                                (tensor(0.0111), 0.3556742167565139),\n",
      "                                (tensor(0.0020), 0.47409369728552864),\n",
      "                                (tensor(-0.0372), 0.893824006489681),\n",
      "                                (tensor(-0.0205), 0.7432498589020573),\n",
      "                                (tensor(0.0703), 0.008883144447755953),\n",
      "                                (tensor(0.0005), 0.4934650016553316),\n",
      "                                (tensor(-0.0083), 0.6066225784336718),\n",
      "                                (tensor(-0.0283), 0.8195920867825666),\n",
      "                                (tensor(-0.0046), 0.558754170277554),\n",
      "                                (tensor(-0.0271), 0.809760159847484),\n",
      "                                (tensor(-0.0012), 0.5164416297371548),\n",
      "                                (tensor(-0.0304), 0.8287582242607836),\n",
      "                                (tensor(0.0021), 0.47261624561255045),\n",
      "                                (tensor(0.0098), 0.3656960508644378),\n",
      "                                (tensor(0.0212), 0.24298023730836804),\n",
      "                                (tensor(-0.0321), 0.8578655546476642),\n",
      "                                (tensor(-0.0386), 0.8937398093096351),\n",
      "                                (tensor(0.0146), 0.3207765681178387),\n",
      "                                (tensor(0.0051), 0.4319941191590314),\n",
      "                                (tensor(0.0254), 0.20018297760058645),\n",
      "                                (tensor(-0.0432), 0.9124141868331541),\n",
      "                                (tensor(-0.0037), 0.5466220400638879),\n",
      "                                (tensor(-0.0209), 0.7471864214818043),\n",
      "                                (tensor(0.0162), 0.29170758512394523),\n",
      "                                (tensor(-0.0489), 0.958416741156634),\n",
      "                                (tensor(0.0044), 0.4434110635186529),\n",
      "                                (tensor(0.0192), 0.26658624813038556),\n",
      "                                (tensor(0.0420), 0.08460303856504825),\n",
      "                                (tensor(0.0045), 0.4420385727470505),\n",
      "                                (tensor(-0.0183), 0.7269070151446995),\n",
      "                                (tensor(-0.0106), 0.6370611027779208),\n",
      "                                (tensor(0.0609), 0.0184840980782377),\n",
      "                                (tensor(-0.0288), 0.8275031812487681),\n",
      "                                (tensor(0.0198), 0.26452587536539107),\n",
      "                                (tensor(0.0023), 0.46959114687953696),\n",
      "                                (tensor(0.0537), 0.03841094460929617),\n",
      "                                (tensor(-0.0492), 0.9489141480707485),\n",
      "                                (tensor(-0.0234), 0.7816795200006705),\n",
      "                                (tensor(-0.0244), 0.7810600934832715),\n",
      "                                (tensor(-0.0722), 0.9917422435109184),\n",
      "                                (tensor(-0.0299), 0.8345284672487621),\n",
      "                                (tensor(0.0326), 0.14498855078939),\n",
      "                                (tensor(0.0173), 0.2876350472278726),\n",
      "                                (tensor(0.0387), 0.10091848267781156),\n",
      "                                (tensor(0.0371), 0.11460337433724566)]},\n",
      "    'COVS': [0, 0.05, 0.1, 0.2, 0.3, 0.4],\n",
      "    'M_RUNS': 50,\n",
      "    'NO_TIMESTEPS_PER_SAMPLE': 6,\n",
      "    'NULL': array([3.10687528e-06, 3.25848339e-06, 3.26116933e-06, ...,\n",
      "       9.18332260e-05, 1.05789637e-04, 1.22429892e-04]),\n",
      "    'N_TIMESTEPS': 1800,\n",
      "    'PROC_DIV': 8,\n",
      "    'RBF_SIGMA': 2,\n",
      "    'SIG_KERNEL_SAMPLES_NO': 300,\n",
      "    'TEST DISTS': {   0.8: array([2.10383065e-05, 3.67911051e-05, 1.23580538e-05, 3.49686836e-05,\n",
      "       1.73522010e-05, 1.10644645e-05, 2.25235404e-05, 2.55797821e-05,\n",
      "       2.45817276e-05, 6.23488162e-05, 9.82569836e-06, 3.18751545e-05,\n",
      "       4.66054145e-05, 1.18235422e-05, 2.42806783e-05, 2.50550982e-05,\n",
      "       5.03643635e-05, 2.30465800e-05, 1.39386112e-05, 1.16278472e-05,\n",
      "       4.40082489e-05, 3.11724052e-05, 1.06226422e-05, 2.30477140e-05,\n",
      "       4.81774897e-05, 1.62582634e-05, 1.27227637e-05, 5.02162434e-06,\n",
      "       1.44593410e-05, 1.31074664e-05, 2.67784526e-05, 3.02100323e-05,\n",
      "       2.33244143e-05, 7.17105901e-05, 2.14917873e-05, 5.78703062e-06,\n",
      "       7.12252305e-05, 2.71630958e-05, 2.52664518e-05, 4.16083400e-05,\n",
      "       1.64934138e-05, 4.18639853e-05, 3.18420528e-05, 5.09470010e-05,\n",
      "       2.10078524e-05, 1.85490429e-05, 3.91439316e-05, 3.44332236e-05,\n",
      "       1.03827508e-05, 1.00794037e-05])},\n",
      "    'TEST HIGH LOW THRES': (5.73580731095813e-05, 5.7959358166215225e-06)}\n"
     ]
    }
   ],
   "source": [
    "push_results()"
   ]
  },
  {
   "cell_type": "code",
   "execution_count": 160,
   "id": "286569ac",
   "metadata": {},
   "outputs": [],
   "source": [
    "import datetime"
   ]
  },
  {
   "cell_type": "code",
   "execution_count": 161,
   "id": "f5504dd0",
   "metadata": {},
   "outputs": [],
   "source": [
    "import pickle\n",
    "with open('./hsic_test_on_extinct_gaussian_BIG_RESULTS_{}.pickle'.format(datetime.datetime.today()).replace(' ', '_').replace(':', '.'), 'wb') as f:\n",
    "    pickle.dump(BIG_RESULT_MEMORY_PLACE, f)"
   ]
  },
  {
   "cell_type": "code",
   "execution_count": null,
   "id": "8d255f7a",
   "metadata": {},
   "outputs": [],
   "source": []
  }
 ],
 "metadata": {
  "kernelspec": {
   "display_name": "Python 3 (ipykernel)",
   "language": "python",
   "name": "python3"
  },
  "language_info": {
   "codemirror_mode": {
    "name": "ipython",
    "version": 3
   },
   "file_extension": ".py",
   "mimetype": "text/x-python",
   "name": "python",
   "nbconvert_exporter": "python",
   "pygments_lexer": "ipython3",
   "version": "3.7.11"
  }
 },
 "nbformat": 4,
 "nbformat_minor": 5
}
