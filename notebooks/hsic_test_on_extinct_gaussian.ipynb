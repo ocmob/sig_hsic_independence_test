{
 "cells": [
  {
   "cell_type": "code",
   "execution_count": 1,
   "id": "529b5d4b",
   "metadata": {},
   "outputs": [],
   "source": [
    "import os\n",
    "import sys"
   ]
  },
  {
   "cell_type": "code",
   "execution_count": 2,
   "id": "077be733",
   "metadata": {},
   "outputs": [],
   "source": [
    "sys.path.append('../lib')\n",
    "sys.path.append('../lib/sigkernel')"
   ]
  },
  {
   "cell_type": "code",
   "execution_count": 3,
   "id": "c3d582b2",
   "metadata": {},
   "outputs": [],
   "source": [
    "import cov_independence_test\n",
    "import hsic_independence_test\n",
    "import gen_processes"
   ]
  },
  {
   "cell_type": "code",
   "execution_count": 4,
   "id": "0e10e19c",
   "metadata": {},
   "outputs": [],
   "source": [
    "from importlib import reload"
   ]
  },
  {
   "cell_type": "code",
   "execution_count": 5,
   "id": "9e687d2c",
   "metadata": {},
   "outputs": [],
   "source": [
    "reload(cov_independence_test);\n",
    "reload(hsic_independence_test);\n",
    "reload(gen_processes);"
   ]
  },
  {
   "cell_type": "code",
   "execution_count": 6,
   "id": "eb2d182e",
   "metadata": {},
   "outputs": [],
   "source": [
    "import numpy as np\n",
    "import matplotlib.pyplot as plt\n",
    "import statsmodels.tsa.ar_model as ar\n",
    "import torch\n",
    "torch.set_default_dtype(torch.double)\n",
    "import sigkernel_scale"
   ]
  },
  {
   "cell_type": "code",
   "execution_count": 7,
   "id": "984ac2a4",
   "metadata": {},
   "outputs": [],
   "source": [
    "import pprint\n",
    "pp = pprint.PrettyPrinter(indent = 4)"
   ]
  },
  {
   "cell_type": "code",
   "execution_count": 8,
   "id": "8899319f",
   "metadata": {},
   "outputs": [],
   "source": [
    "import scipy.stats as stats"
   ]
  },
  {
   "cell_type": "code",
   "execution_count": 9,
   "id": "863dd4e4",
   "metadata": {},
   "outputs": [],
   "source": [
    "from tqdm import tqdm"
   ]
  },
  {
   "cell_type": "code",
   "execution_count": 10,
   "id": "b1a815b2",
   "metadata": {},
   "outputs": [],
   "source": [
    "from itertools import product"
   ]
  },
  {
   "cell_type": "code",
   "execution_count": 11,
   "id": "2f057170",
   "metadata": {},
   "outputs": [],
   "source": [
    "import matplotlib.pyplot as plt"
   ]
  },
  {
   "cell_type": "code",
   "execution_count": 12,
   "id": "49ffc749",
   "metadata": {},
   "outputs": [],
   "source": [
    "from scipy.optimize import brentq"
   ]
  },
  {
   "cell_type": "code",
   "execution_count": 13,
   "id": "6cfce883",
   "metadata": {},
   "outputs": [],
   "source": [
    "rng = np.random.default_rng(1234)"
   ]
  },
  {
   "cell_type": "code",
   "execution_count": 14,
   "id": "0c7ecab9",
   "metadata": {},
   "outputs": [],
   "source": [
    "BIG_RESULT_MEMORY_PLACE = []"
   ]
  },
  {
   "cell_type": "code",
   "execution_count": 175,
   "id": "9a34a751",
   "metadata": {},
   "outputs": [],
   "source": [
    "N_TIMESTEPS = 1800\n",
    "SIG_KERNEL_SAMPLES_NO = 300\n",
    "M_RUNS = 50\n",
    "EXTINCTION_RATES = [0.9]\n",
    "#EXTINCTION_RATES = [1]\n",
    "PROC_DIV = 32\n",
    "RBF_SIGMA = 4\n",
    "A=0."
   ]
  },
  {
   "cell_type": "code",
   "execution_count": 81,
   "id": "16928dcd",
   "metadata": {},
   "outputs": [],
   "source": [
    "assert N_TIMESTEPS % SIG_KERNEL_SAMPLES_NO == 0, 'Cannot reshape such array properly'"
   ]
  },
  {
   "cell_type": "code",
   "execution_count": 108,
   "id": "5a3f93b7",
   "metadata": {},
   "outputs": [],
   "source": [
    "processes = gen_processes.gen_ar_iid_samples_extinct_gaussian_burn_in(N_TIMESTEPS+1, M_RUNS, a = 0.2, extinction_rate = 1)"
   ]
  },
  {
   "cell_type": "code",
   "execution_count": 17,
   "id": "5a912956",
   "metadata": {},
   "outputs": [],
   "source": [
    "def psi(x, M=4, a=1):\n",
    "    x = x ** 2\n",
    "\n",
    "    if x <= M:\n",
    "        return x\n",
    "\n",
    "    return M + M ** (1 + a) * (M ** (-a) - x ** (-a)) / a"
   ]
  },
  {
   "cell_type": "code",
   "execution_count": 18,
   "id": "418438a2",
   "metadata": {},
   "outputs": [],
   "source": [
    "def normalize_paths_linear_static_kernel(paths, kernel):\n",
    "    path_norm = torch.zeros_like(paths)\n",
    "    for i in range(paths.shape[0]):\n",
    "        kernel_xx = kernel.compute_kernel(paths[i:i+1, :, :], paths[i:i+1, :, :])\n",
    "       # print(kernel_xx)\n",
    "        target = psi(np.sqrt(kernel_xx.item()))\n",
    "        f = lambda lam: target - kernel.compute_kernel(lam*paths[i:i+1, :, :], lam*paths[i:i+1, :, :]).item()\n",
    "        lam = min(max(brentq(f, 0., 1.1, xtol=1e-300, maxiter = 1000), 0), 1)\n",
    "        print(lam)\n",
    "        path_norm[i:i+1, :, :] = lam*paths[i:i+1, :, :]\n",
    "    return path_norm"
   ]
  },
  {
   "cell_type": "code",
   "execution_count": 19,
   "id": "dc769402",
   "metadata": {},
   "outputs": [],
   "source": [
    "def get_postscale_for_batch(paths, kernel):\n",
    "    postscale = torch.zeros(paths.shape[0])\n",
    "    for i in range(paths.shape[0]):\n",
    "        kernel_xx = kernel.compute_kernel(paths[i:i+1, :, :], paths[i:i+1, :, :])\n",
    "        target = psi(np.sqrt(kernel_xx.item()))\n",
    "        f = lambda lam: target - kernel.compute_kernel(paths[i:i+1, :, :], paths[i:i+1, :, :], torch.tensor([lam]), torch.tensor([lam])).item()\n",
    "        lam = min(max(brentq(f, 0., 1.1, xtol=1e-300, maxiter = 1000), 0), 1)\n",
    "        # print(lam)\n",
    "        postscale[i] = lam\n",
    "    return postscale"
   ]
  },
  {
   "cell_type": "code",
   "execution_count": 109,
   "id": "16e9cd7e",
   "metadata": {},
   "outputs": [],
   "source": [
    "X_raw = processes[:, :30, 0]\n",
    "X_lead_lag_chopped = torch.stack((X_raw[:, 1:], X_raw[:, :-1]), axis = 2)"
   ]
  },
  {
   "cell_type": "code",
   "execution_count": 110,
   "id": "c40c6bea",
   "metadata": {},
   "outputs": [
    {
     "data": {
      "text/plain": [
       "tensor(1.2504)"
      ]
     },
     "execution_count": 110,
     "metadata": {},
     "output_type": "execute_result"
    }
   ],
   "source": [
    "X_lead_lag_chopped.std()"
   ]
  },
  {
   "cell_type": "code",
   "execution_count": 144,
   "id": "9319df04",
   "metadata": {},
   "outputs": [
    {
     "name": "stdout",
     "output_type": "stream",
     "text": [
      "tensor([0.4820, 0.3559, 0.6982, 0.3614, 0.8294, 0.7254, 0.9711, 0.3764, 0.3203,\n",
      "        0.5471, 0.5262, 0.3960, 0.5318, 0.3824, 0.8511, 0.4225, 0.6285, 0.4533,\n",
      "        0.4820, 0.8192, 0.2775, 0.7109, 0.6600, 0.9661, 0.7371, 0.6261, 0.2999,\n",
      "        0.9524, 0.8237, 0.4022, 0.9941, 1.0000, 0.4712, 0.6251, 0.3371, 0.5749,\n",
      "        0.8945, 0.2335, 0.6072, 0.3233, 0.4476, 0.5790, 0.9982, 0.4193, 0.3681,\n",
      "        0.4373, 0.7110, 0.4293, 0.3426, 0.5575, 0.6258, 0.4809, 0.6851, 0.6654,\n",
      "        0.7667, 0.3376, 0.7984, 0.5324, 0.4680, 0.5932, 0.4527, 0.7242, 0.5155,\n",
      "        0.8464, 0.4133, 0.3532, 0.6594, 0.6676, 0.3988, 0.8436, 1.0000, 0.3587,\n",
      "        0.6299, 0.4373, 0.5244, 1.0000, 0.5198, 0.3380, 0.3669, 0.8159, 0.5048,\n",
      "        0.4935, 0.4038, 1.0000, 0.4470, 0.3298, 0.3492, 0.7727, 0.3405, 0.3499,\n",
      "        0.6264, 0.6876, 1.0000, 0.3861, 0.4874, 0.9656, 0.4140, 0.3167, 0.5003,\n",
      "        0.4128, 0.7543, 0.2780, 0.7098, 0.6186, 0.9713, 0.8180, 0.2547, 0.3784,\n",
      "        0.4790, 0.5818, 0.4848, 0.4213, 0.6928, 0.6330, 0.7676, 0.5175, 0.5636,\n",
      "        0.9435, 0.3578, 0.7145, 0.3924, 0.3930, 0.3861, 0.6180, 0.8958, 0.5771,\n",
      "        0.6879, 0.4419, 0.9111, 0.6657, 0.3056, 0.9352, 0.4239, 0.6524, 0.6888,\n",
      "        0.3029, 0.8444, 0.3604, 0.5675, 0.5582, 0.5575, 0.9725, 0.2298, 0.5909,\n",
      "        0.2414, 0.4975, 0.3495, 0.8425, 0.5735, 0.3853, 0.3449, 0.3546, 0.6829,\n",
      "        0.4785, 0.2300, 0.7023, 0.4159, 0.4060, 0.3252, 0.5216, 0.9646, 0.3548,\n",
      "        0.5757, 0.4370, 0.7923, 0.7900, 1.0000, 0.7192, 0.6002, 0.3742, 0.7944,\n",
      "        0.8340, 0.5376, 0.7335, 0.5283, 1.0000, 0.4667, 0.6301, 0.3779, 0.2429,\n",
      "        0.4230, 0.3335, 0.5060, 0.5796, 0.4327, 0.8785, 0.2768, 0.3690, 0.4156,\n",
      "        0.9635, 0.3646, 0.6454, 1.0000, 0.8132, 1.0000, 0.7364, 0.9789, 0.3684,\n",
      "        0.4009, 0.3897, 0.5461, 0.4234, 0.4778, 0.4099, 0.7333, 0.4497, 0.7964,\n",
      "        0.3803, 0.4206, 0.8833, 0.3262, 0.5082, 0.7298, 0.7227, 0.9406, 0.5770,\n",
      "        0.9529, 0.6761, 0.3814, 0.4410, 0.7437, 0.8556, 0.7176, 0.6122, 0.2220,\n",
      "        0.3880, 0.5426, 0.7094, 0.3193, 0.5376, 0.6147, 0.4916, 0.8151, 0.9397,\n",
      "        0.5812, 1.0000, 1.0000, 0.8636, 0.8251, 0.6312, 0.6063, 0.6144, 0.5938,\n",
      "        0.4329, 0.5977, 0.6012, 0.7173, 0.2570, 0.5478, 0.5411, 0.3642, 0.5689,\n",
      "        0.4990, 0.6905, 0.5843, 0.8054, 0.3652, 0.4927, 0.4617, 0.4447, 1.0000,\n",
      "        0.6627, 0.3612, 0.7982, 0.3361, 0.3789, 0.6654, 0.4187, 0.4570, 0.6920,\n",
      "        0.4491, 0.3969, 0.4143, 0.5701, 1.0000, 0.9143, 0.4071, 0.8074, 0.4190,\n",
      "        0.4325, 0.8252, 1.0000, 0.8115, 0.8487, 0.9316, 0.4475, 0.5819, 0.8885,\n",
      "        0.3063, 0.5598, 0.3482, 0.3979, 0.3460, 0.5061, 0.3471, 0.5101, 0.8901,\n",
      "        0.5749, 0.8697, 0.5287])\n"
     ]
    }
   ],
   "source": [
    "postscale = get_postscale_for_batch(X_lead_lag_chopped, sigkernel_scale.SigKernel(sigkernel_scale.LinearKernel(), 3));\n",
    "print(postscale)"
   ]
  },
  {
   "cell_type": "code",
   "execution_count": 141,
   "id": "f8ad1d83",
   "metadata": {},
   "outputs": [
    {
     "name": "stdout",
     "output_type": "stream",
     "text": [
      "0.48206104923343607\n",
      "0.3559155748807181\n",
      "0.698264914665494\n",
      "0.3613938825940339\n",
      "0.8294654947335619\n",
      "0.7255798407993553\n",
      "0.9711588209483977\n",
      "0.37642533990855576\n",
      "0.3203931178197912\n",
      "0.5471894855429348\n",
      "0.5263309431882435\n",
      "0.396202393910791\n",
      "0.5319533642233943\n",
      "0.3823982510330728\n",
      "0.8511837407137315\n",
      "0.42256564929198576\n",
      "0.6285093042120063\n",
      "0.45336447562692533\n",
      "0.4820232237039548\n",
      "0.8192615457328751\n",
      "0.2775296120335226\n",
      "0.7109571730618564\n",
      "0.6602352629223538\n",
      "0.96613341477904\n",
      "0.7372079594007381\n",
      "0.6262895271273873\n",
      "0.2999351394436188\n",
      "0.9524591156014784\n",
      "0.8237650072510924\n",
      "0.4021930849410681\n",
      "0.9940958158064089\n",
      "1\n",
      "0.4712005813725182\n",
      "0.6252443821879488\n",
      "0.3371510969879823\n",
      "0.5749003546903946\n",
      "0.8946134059725215\n",
      "0.23354302288828707\n",
      "0.6074717441810946\n",
      "0.323278831169733\n",
      "0.4476533446291667\n",
      "0.579056515346449\n",
      "0.9982498588494474\n",
      "0.4193760349741703\n",
      "0.3681623993726764\n",
      "0.4373541038900667\n",
      "0.7110519447214734\n",
      "0.42935412569182313\n",
      "0.3426278925896357\n",
      "0.5575283117656523\n",
      "0.6258791980338565\n",
      "0.4810087695568247\n",
      "0.6851406980605792\n",
      "0.6654633900706469\n",
      "0.7667727616222009\n",
      "0.3376069860212111\n",
      "0.7985927662174462\n",
      "0.5324971190403058\n",
      "0.4682853982449439\n",
      "0.5933683308866582\n",
      "0.45273752958442787\n",
      "0.7242735911476151\n",
      "0.5155415782592155\n",
      "0.8460801411074027\n",
      "0.41339130590400003\n",
      "0.35322645209845405\n",
      "0.659699123086539\n",
      "0.6676609270508236\n",
      "0.3988475122642564\n",
      "0.8437698387921095\n",
      "0.9999999999999919\n",
      "0.35876993566053805\n",
      "0.6300828084356432\n",
      "0.4373074805302867\n",
      "0.5245214439638098\n",
      "1\n",
      "0.5199098443345394\n",
      "0.3380232292636691\n",
      "0.3669731757430394\n",
      "0.8161022242780644\n",
      "0.5048294985291089\n",
      "0.4936271049153571\n",
      "0.4038428563188012\n",
      "0.9999999999997304\n",
      "0.44705147299228054\n",
      "0.3298299983778026\n",
      "0.3492319728400299\n",
      "0.7727495358107241\n",
      "0.3404770743187457\n",
      "0.34992392474060674\n",
      "0.6264092066056735\n",
      "0.6876136734430175\n",
      "0.9999999999998974\n",
      "0.3861077786439722\n",
      "0.4875290132696552\n",
      "0.9672856083106078\n",
      "0.4140191720543611\n",
      "0.3167550741837534\n",
      "0.5003874853243053\n",
      "0.4128442595957015\n",
      "0.7544449775028264\n",
      "0.2780184287828083\n",
      "0.7098162675133979\n",
      "0.6185445614172915\n",
      "0.9712902861279714\n",
      "0.8182799079033355\n",
      "0.2547315926904554\n",
      "0.3784702127404592\n",
      "0.4790985624359973\n",
      "0.5821113723360439\n",
      "0.48483269216711306\n",
      "0.42134786045795025\n",
      "0.693296800319078\n",
      "0.6331022973314433\n",
      "0.7676208188339801\n",
      "0.5176130180972617\n",
      "0.5636574466659752\n",
      "0.9436663090954183\n",
      "0.357789287968313\n",
      "0.7145685127173476\n",
      "0.3924421709067531\n",
      "0.39309311428240784\n",
      "0.3861316677651153\n",
      "0.6182404353949396\n",
      "0.8958746526574991\n",
      "0.5773156862212563\n",
      "0.6880230218684056\n",
      "0.441997674133644\n",
      "0.9112531121195943\n",
      "0.6657507743860859\n",
      "0.3056361387286361\n",
      "0.9353328198943884\n",
      "0.4239086602051718\n",
      "0.6524601171408496\n",
      "0.6889207548008177\n",
      "0.30297430267577863\n",
      "0.8446050215280514\n",
      "0.3604159935270378\n",
      "0.5675814838189147\n",
      "0.5584347220865107\n",
      "0.5575085783037955\n",
      "0.9728685286166594\n",
      "0.22981818013396785\n",
      "0.5909150643582411\n",
      "0.24142216034095693\n",
      "0.49754351341200836\n",
      "0.34953266231390445\n",
      "0.8424531125210977\n",
      "0.5736647756518451\n",
      "0.38528632794942375\n",
      "0.3449639902388254\n",
      "0.35467412862186853\n",
      "0.6830108193708025\n",
      "0.47852545828042703\n",
      "0.230044929127372\n",
      "0.7024414866430293\n",
      "0.4159417514014907\n",
      "0.40607406537467705\n",
      "0.32530078974372456\n",
      "0.5217384611930216\n",
      "0.9646098308589257\n",
      "0.35483881498914344\n",
      "0.575860881401509\n",
      "0.43703808761293717\n",
      "0.792386719930304\n",
      "0.7901553825182646\n",
      "0.999999999999602\n",
      "0.7197774669049765\n",
      "0.6003603188627259\n",
      "0.37426742272601904\n",
      "0.7945366406662397\n",
      "0.8345948704276851\n",
      "0.5377294535184706\n",
      "0.733807671043001\n",
      "0.5283958427148551\n",
      "0.9999999999999416\n",
      "0.4667685371000868\n",
      "0.6301912571407213\n",
      "0.377950297218688\n",
      "0.24286892301103025\n",
      "0.4230682445546897\n",
      "0.3335209123689587\n",
      "0.5060631685087613\n",
      "0.5796436983668303\n",
      "0.43279734958736327\n",
      "0.8788119693708945\n",
      "0.27684978410411176\n",
      "0.36902624664488215\n",
      "0.41559872577194035\n",
      "0.963555084901814\n",
      "0.36461814275336174\n",
      "0.6454756663546146\n",
      "1\n",
      "0.8132396795308704\n",
      "0.9999999999994222\n",
      "0.7365311205296372\n",
      "0.9788603439842724\n",
      "0.36843795892773257\n",
      "0.4009110553445757\n",
      "0.38971033978166875\n",
      "0.5462095615026935\n",
      "0.4234484756635376\n",
      "0.4778925207509386\n",
      "0.4099088038223361\n",
      "0.7334119594529033\n",
      "0.44978703776340156\n",
      "0.7965215278118608\n",
      "0.3803269221063746\n",
      "0.4206468062921822\n",
      "0.8833602976248358\n",
      "0.32627303541980174\n",
      "0.5082673729533813\n",
      "0.7299273447245668\n",
      "0.7229727440956724\n",
      "0.9408053681736281\n",
      "0.5770246093093161\n",
      "0.9530550856722376\n",
      "0.6761292326762485\n",
      "0.38139013536960065\n",
      "0.4410686640142613\n",
      "0.7438827966895699\n",
      "0.8557194996675933\n",
      "0.7177584866519711\n",
      "0.6124646118663711\n",
      "0.2219708501153133\n",
      "0.3880418061141792\n",
      "0.5428060333696844\n",
      "0.7094761214952265\n",
      "0.3193559729062321\n",
      "0.5377042702671474\n",
      "0.6147049852910507\n",
      "0.4916513722178219\n",
      "0.8153744443432186\n",
      "0.9399446659448494\n",
      "0.5812949694227441\n",
      "0.9999999999998412\n",
      "0.9999999999980458\n",
      "0.8636197789198236\n",
      "0.8251687302275899\n",
      "0.6314544206354302\n",
      "0.6067096179881811\n",
      "0.6146538578610962\n",
      "0.5938450140593476\n",
      "0.43295074019421365\n",
      "0.5977189720827614\n",
      "0.6012175694410115\n",
      "0.7173297575743942\n",
      "0.2569887661036399\n",
      "0.5479639517575389\n",
      "0.5411717987803704\n",
      "0.3642324834267831\n",
      "0.5689895285472159\n",
      "0.4991025305097716\n",
      "0.6905834678549245\n",
      "0.5843942578385114\n",
      "0.8054678008623087\n",
      "0.36525110795994664\n",
      "0.4927115718994584\n",
      "0.4617159893449319\n",
      "0.4447799179804871\n",
      "1\n",
      "0.662789653277192\n",
      "0.3612289169389952\n",
      "0.798048322175965\n",
      "0.3361608393589368\n",
      "0.37896059173971297\n",
      "0.6655282884050453\n",
      "0.41872963064977975\n",
      "0.45700616251142046\n",
      "0.6920618729327828\n",
      "0.44922046740316757\n",
      "0.3970429714809993\n",
      "0.4143762031136511\n",
      "0.5702270208023669\n",
      "0.9999999999998304\n",
      "0.9142457530082906\n",
      "0.4071078396209774\n",
      "0.8074057213619936\n",
      "0.41899021049000756\n",
      "0.43258403350069\n",
      "0.8250286966206062\n",
      "1\n",
      "0.8116700149518479\n",
      "0.84875955024666\n",
      "0.9318159537075351\n",
      "0.4475589186091853\n",
      "0.5819398630540837\n",
      "0.8886163126018292\n",
      "0.3063141332276781\n",
      "0.5599694479022553\n",
      "0.3482873309546579\n",
      "0.39793218517002554\n",
      "0.34604824966708764\n",
      "0.5061192795255783\n",
      "0.347110234418464\n",
      "0.5101322401163623\n",
      "0.8907007019732048\n",
      "0.5749573311179379\n",
      "0.870528025133031\n",
      "0.5287422244931407\n"
     ]
    }
   ],
   "source": [
    "normalize_paths_linear_static_kernel(X_lead_lag_chopped, sigkernel_scale.SigKernel(sigkernel_scale.LinearKernel(), 5));"
   ]
  },
  {
   "cell_type": "code",
   "execution_count": 169,
   "id": "d3f4e148",
   "metadata": {},
   "outputs": [
    {
     "data": {
      "image/png": "[encoded data removed]",
      "text/plain": [
       "<Figure size 432x288 with 1 Axes>"
      ]
     },
     "metadata": {
      "needs_background": "light"
     },
     "output_type": "display_data"
    }
   ],
   "source": [
    "plt.plot(processes[rng.integers(0, M_RUNS), :30, 0])\n",
    "plt.plot(processes[rng.integers(0, M_RUNS), :30, 1]);"
   ]
  },
  {
   "cell_type": "code",
   "execution_count": 21,
   "id": "d089e663",
   "metadata": {},
   "outputs": [],
   "source": [
    "def get_bootstrap_samples_lead_lag(X_raw, Y_raw):\n",
    "    single_sample_length = int(N_TIMESTEPS / SIG_KERNEL_SAMPLES_NO)\n",
    "        \n",
    "    x_bootstrap_samples = torch.zeros(SIG_KERNEL_SAMPLES_NO, single_sample_length, 2)\n",
    "    y_bootstrap_samples = torch.zeros(SIG_KERNEL_SAMPLES_NO, single_sample_length, 2)\n",
    "    \n",
    "    rng = np.random.default_rng(1234)\n",
    "    \n",
    "    for i in range(SIG_KERNEL_SAMPLES_NO):\n",
    "        idx_low = rng.integers(0, N_TIMESTEPS - single_sample_length + 1)\n",
    "        x_bootstrap_samples[i, :, 0] = X_raw[idx_low+1 : idx_low+single_sample_length+1]\n",
    "        x_bootstrap_samples[i, :, 1] = X_raw[idx_low : idx_low+single_sample_length]\n",
    "        y_bootstrap_samples[i, :, 0] = Y_raw[idx_low+1 : idx_low+single_sample_length+1]\n",
    "        y_bootstrap_samples[i, :, 1] = Y_raw[idx_low : idx_low+single_sample_length]\n",
    "\n",
    "    return x_bootstrap_samples, y_bootstrap_samples"
   ]
  },
  {
   "cell_type": "code",
   "execution_count": 171,
   "id": "5136f0d9",
   "metadata": {},
   "outputs": [
    {
     "ename": "NameError",
     "evalue": "name 'hsic_results' is not defined",
     "output_type": "error",
     "traceback": [
      "\u001b[0;31m---------------------------------------------------------------------------\u001b[0m",
      "\u001b[0;31mNameError\u001b[0m                                 Traceback (most recent call last)",
      "\u001b[0;32m/tmp/ipykernel_30634/3865030128.py\u001b[0m in \u001b[0;36m<module>\u001b[0;34m\u001b[0m\n\u001b[1;32m      1\u001b[0m \u001b[0;32mfor\u001b[0m \u001b[0mrate\u001b[0m \u001b[0;32min\u001b[0m \u001b[0mEXTINCTION_RATES\u001b[0m\u001b[0;34m:\u001b[0m\u001b[0;31m#[0, 0.3, 0.8]:\u001b[0m\u001b[0;34m\u001b[0m\u001b[0;34m\u001b[0m\u001b[0m\n\u001b[0;32m----> 2\u001b[0;31m     \u001b[0mhsic_results\u001b[0m\u001b[0;34m[\u001b[0m\u001b[0mrate\u001b[0m\u001b[0;34m]\u001b[0m \u001b[0;34m=\u001b[0m \u001b[0;34m[\u001b[0m\u001b[0;34m]\u001b[0m\u001b[0;34m\u001b[0m\u001b[0;34m\u001b[0m\u001b[0m\n\u001b[0m\u001b[1;32m      3\u001b[0m     \u001b[0mcov_results\u001b[0m\u001b[0;34m[\u001b[0m\u001b[0mrate\u001b[0m\u001b[0;34m]\u001b[0m \u001b[0;34m=\u001b[0m \u001b[0;34m[\u001b[0m\u001b[0;34m]\u001b[0m\u001b[0;34m\u001b[0m\u001b[0;34m\u001b[0m\u001b[0m\n\u001b[1;32m      4\u001b[0m     \u001b[0;32mfor\u001b[0m \u001b[0mrun\u001b[0m \u001b[0;32min\u001b[0m \u001b[0mrange\u001b[0m\u001b[0;34m(\u001b[0m\u001b[0;36m5\u001b[0m\u001b[0;34m)\u001b[0m\u001b[0;34m:\u001b[0m\u001b[0;34m\u001b[0m\u001b[0;34m\u001b[0m\u001b[0m\n\u001b[1;32m      5\u001b[0m         \u001b[0mprocesses\u001b[0m \u001b[0;34m=\u001b[0m \u001b[0mgen_processes\u001b[0m\u001b[0;34m.\u001b[0m\u001b[0mgen_ar_iid_samples_extinct_gaussian_burn_in\u001b[0m\u001b[0;34m(\u001b[0m\u001b[0;36m30\u001b[0m\u001b[0;34m,\u001b[0m \u001b[0mSIG_KERNEL_SAMPLES_NO\u001b[0m\u001b[0;34m,\u001b[0m \u001b[0ma\u001b[0m\u001b[0;34m=\u001b[0m\u001b[0mA\u001b[0m\u001b[0;34m,\u001b[0m \u001b[0mextinction_rate\u001b[0m\u001b[0;34m=\u001b[0m\u001b[0mrate\u001b[0m\u001b[0;34m)\u001b[0m\u001b[0;34m\u001b[0m\u001b[0;34m\u001b[0m\u001b[0m\n",
      "\u001b[0;31mNameError\u001b[0m: name 'hsic_results' is not defined"
     ]
    }
   ],
   "source": [
    "for rate in EXTINCTION_RATES:#[0, 0.3, 0.8]:    \n",
    "    hsic_results[rate] = []\n",
    "    cov_results[rate] = []\n",
    "    for run in range(5):\n",
    "        processes = gen_processes.gen_ar_iid_samples_extinct_gaussian_burn_in(30, SIG_KERNEL_SAMPLES_NO, a=A, extinction_rate=rate)\n",
    "        X_raw = processes[:, :, 0]\n",
    "        X_lead_lag_chopped = torch.stack((X_raw[:, 1:], X_raw[:, :-1]), axis = 2)\n",
    "        \n",
    "        processes_p = gen_processes.gen_ar_iid_samples_extinct_gaussian_burn_in(30, SIG_KERNEL_SAMPLES_NO, a=A, extinction_rate=rate)\n",
    "        Y_raw = processes_p[:, :, 0]\n",
    "        Y_lead_lag_chopped = torch.stack((Y_raw[:, 1:], Y_raw[:, :-1]), axis = 2)\n",
    "        \n",
    "        #processes_p = gen_processes.gen_ar_iid_samples_extinct_gaussian_burn_in(30, SIG_KERNEL_SAMPLES_NO, a=0.8, extinction_rate=rate)\n",
    "        #Y_raw = processes_p[:, :, 0]\n",
    "        #Y_lead_lag_chopped = torch.stack((Y_raw[:, 1:], Y_raw[:, :-1]), axis = 2)\n",
    "\n",
    "        #idy = torch.randperm(processes.shape[0])\n",
    "        print(X_lead_lag_chopped.max())\n",
    "        #sigkernel.hypothesis_test(processes/8, torch.stack((processes[:, :, 0], processes[idy, :, 1]), axis = 2)/8, static_kernel=  sigkernel.RBFKernel(sigma = 1))\n",
    "        #sigkernel.hypothesis_test(X_lead_lag_chopped/4, Y_lead_lag_chopped/4, static_kernel = sigkernel.RBFKernel(sigma = 1), dyadic_order = 1)\n",
    "        #sigkernel.hypothesis_test(X_lead_lag_chopped/8, Y_lead_lag_chopped/8, static_kernel = sigkernel.LinearKernel(), dyadic_order = 1)\n",
    "        \n",
    "        #hsic_test_result = hsic_independence_test.get_test_result_matrix_shuffle(X_lead_lag_chopped/PROC_DIV, Y_lead_lag_chopped/PROC_DIV, static_kernel = sigkernel.RBFKernel(sigma = RBF_SIGMA))\n",
    "        #hsic_test_result = hsic_independence_test.get_test_result_matrix_shuffle(X_lead_lag_chopped/PROC_DIV, Y_lead_lag_chopped/PROC_DIV, static_kernel = sigkernel.RBFKernel(sigma = RBF_SIGMA))\n",
    "        #cov_test_result = cov_independence_test.get_test_result(X, Y)\n",
    "        print('RUN:', run)\n",
    "        print('HSIC:', hsic_test_result[1:])\n",
    "        #print('COV:', cov_test_result)\n",
    "\n",
    "        hsic_results[rate].append(hsic_test_result)\n",
    "        #cov_results[rate].append(cov_test_result)\n",
    "        \n",
    "    print('==================== END RATE {} ================='.format(rate))"
   ]
  },
  {
   "cell_type": "code",
   "execution_count": 176,
   "id": "e590470d",
   "metadata": {},
   "outputs": [],
   "source": [
    "hsic_results = {}\n",
    "cov_results = {}"
   ]
  },
  {
   "cell_type": "code",
   "execution_count": 206,
   "id": "fba88f30",
   "metadata": {
    "scrolled": true
   },
   "outputs": [
    {
     "name": "stderr",
     "output_type": "stream",
     "text": [
      "100%|██████████████████████████████████████████████████████████████████████████████████████████████████████████████████████████████████████████████████████████████| 50/50 [00:21<00:00,  2.36it/s]\n"
     ]
    },
    {
     "name": "stdout",
     "output_type": "stream",
     "text": [
      "RUN: 0\n",
      "HSIC: (0.005140802070553896, 0.5)\n"
     ]
    },
    {
     "name": "stderr",
     "output_type": "stream",
     "text": [
      "100%|██████████████████████████████████████████████████████████████████████████████████████████████████████████████████████████████████████████████████████████████| 50/50 [00:21<00:00,  2.28it/s]\n"
     ]
    },
    {
     "name": "stdout",
     "output_type": "stream",
     "text": [
      "RUN: 1\n",
      "HSIC: (0.006748343120614786, 0.08)\n"
     ]
    },
    {
     "name": "stderr",
     "output_type": "stream",
     "text": [
      "100%|██████████████████████████████████████████████████████████████████████████████████████████████████████████████████████████████████████████████████████████████| 50/50 [00:21<00:00,  2.33it/s]\n"
     ]
    },
    {
     "name": "stdout",
     "output_type": "stream",
     "text": [
      "RUN: 2\n",
      "HSIC: (0.0038694106671570694, 0.84)\n"
     ]
    },
    {
     "ename": "KeyboardInterrupt",
     "evalue": "",
     "output_type": "error",
     "traceback": [
      "\u001b[0;31m---------------------------------------------------------------------------\u001b[0m",
      "\u001b[0;31mKeyboardInterrupt\u001b[0m                         Traceback (most recent call last)",
      "\u001b[0;32m/tmp/ipykernel_41563/151503309.py\u001b[0m in \u001b[0;36m<module>\u001b[0;34m\u001b[0m\n\u001b[1;32m     21\u001b[0m \u001b[0;34m\u001b[0m\u001b[0m\n\u001b[1;32m     22\u001b[0m         \u001b[0;31m#hsic_test_result = hsic_independence_test.get_test_result_matrix_shuffle(X_lead_lag_chopped/PROC_DIV, Y_lead_lag_chopped/PROC_DIV, static_kernel = sigkernel.RBFKernel(sigma = RBF_SIGMA))\u001b[0m\u001b[0;34m\u001b[0m\u001b[0;34m\u001b[0m\u001b[0;34m\u001b[0m\u001b[0m\n\u001b[0;32m---> 23\u001b[0;31m         \u001b[0mhsic_test_result\u001b[0m \u001b[0;34m=\u001b[0m \u001b[0mhsic_independence_test\u001b[0m\u001b[0;34m.\u001b[0m\u001b[0mget_test_result_matrix_shuffle\u001b[0m\u001b[0;34m(\u001b[0m\u001b[0mX_lead_lag_chopped\u001b[0m\u001b[0;34m,\u001b[0m \u001b[0mY_lead_lag_chopped\u001b[0m\u001b[0;34m,\u001b[0m \u001b[0mstatic_kernel\u001b[0m \u001b[0;34m=\u001b[0m \u001b[0msigkernel_scale\u001b[0m\u001b[0;34m.\u001b[0m\u001b[0mLinearKernel\u001b[0m\u001b[0;34m(\u001b[0m\u001b[0;34m)\u001b[0m\u001b[0;34m,\u001b[0m \u001b[0mdyadic_order\u001b[0m \u001b[0;34m=\u001b[0m \u001b[0;36m2\u001b[0m\u001b[0;34m,\u001b[0m \u001b[0mpostscale_x\u001b[0m \u001b[0;34m=\u001b[0m \u001b[0mpostscale_x\u001b[0m\u001b[0;34m,\u001b[0m \u001b[0mpostscale_y\u001b[0m \u001b[0;34m=\u001b[0m \u001b[0mpostscale_y\u001b[0m\u001b[0;34m)\u001b[0m\u001b[0;34m\u001b[0m\u001b[0;34m\u001b[0m\u001b[0m\n\u001b[0m\u001b[1;32m     24\u001b[0m         \u001b[0;31m#cov_test_result = cov_independence_test.get_test_result(X, Y)\u001b[0m\u001b[0;34m\u001b[0m\u001b[0;34m\u001b[0m\u001b[0;34m\u001b[0m\u001b[0m\n\u001b[1;32m     25\u001b[0m         \u001b[0mprint\u001b[0m\u001b[0;34m(\u001b[0m\u001b[0;34m'RUN:'\u001b[0m\u001b[0;34m,\u001b[0m \u001b[0mrun\u001b[0m\u001b[0;34m)\u001b[0m\u001b[0;34m\u001b[0m\u001b[0;34m\u001b[0m\u001b[0m\n",
      "\u001b[0;32m~/learning/thesis/src/proper_test_eval/lib/hsic_independence_test.py\u001b[0m in \u001b[0;36mget_test_result_matrix_shuffle\u001b[0;34m(X, Y, dyadic_order, static_kernel, no_shuffles, postscale_x, postscale_y)\u001b[0m\n\u001b[1;32m    127\u001b[0m \u001b[0;34m\u001b[0m\u001b[0m\n\u001b[1;32m    128\u001b[0m \u001b[0;32mdef\u001b[0m \u001b[0mget_test_result_matrix_shuffle\u001b[0m\u001b[0;34m(\u001b[0m\u001b[0mX\u001b[0m\u001b[0;34m,\u001b[0m \u001b[0mY\u001b[0m\u001b[0;34m,\u001b[0m \u001b[0mdyadic_order\u001b[0m \u001b[0;34m=\u001b[0m \u001b[0;36m1\u001b[0m\u001b[0;34m,\u001b[0m \u001b[0mstatic_kernel\u001b[0m \u001b[0;34m=\u001b[0m \u001b[0msigkernel_scale\u001b[0m\u001b[0;34m.\u001b[0m\u001b[0mRBFKernel\u001b[0m\u001b[0;34m(\u001b[0m\u001b[0msigma\u001b[0m\u001b[0;34m=\u001b[0m\u001b[0;36m0.5\u001b[0m\u001b[0;34m)\u001b[0m\u001b[0;34m,\u001b[0m \u001b[0mno_shuffles\u001b[0m \u001b[0;34m=\u001b[0m \u001b[0;36m50\u001b[0m\u001b[0;34m,\u001b[0m \u001b[0mpostscale_x\u001b[0m \u001b[0;34m=\u001b[0m \u001b[0;32mNone\u001b[0m\u001b[0;34m,\u001b[0m \u001b[0mpostscale_y\u001b[0m \u001b[0;34m=\u001b[0m \u001b[0;32mNone\u001b[0m\u001b[0;34m)\u001b[0m\u001b[0;34m:\u001b[0m\u001b[0;34m\u001b[0m\u001b[0;34m\u001b[0m\u001b[0m\n\u001b[0;32m--> 129\u001b[0;31m     \u001b[0mgram_x\u001b[0m\u001b[0;34m,\u001b[0m \u001b[0mgram_y\u001b[0m \u001b[0;34m=\u001b[0m \u001b[0mget_gram_matrices\u001b[0m\u001b[0;34m(\u001b[0m\u001b[0mX\u001b[0m\u001b[0;34m,\u001b[0m \u001b[0mY\u001b[0m\u001b[0;34m,\u001b[0m \u001b[0mdyadic_order\u001b[0m\u001b[0;34m,\u001b[0m \u001b[0mstatic_kernel\u001b[0m\u001b[0;34m,\u001b[0m \u001b[0mpostscale_x\u001b[0m\u001b[0;34m,\u001b[0m \u001b[0mpostscale_y\u001b[0m\u001b[0;34m)\u001b[0m\u001b[0;34m\u001b[0m\u001b[0;34m\u001b[0m\u001b[0m\n\u001b[0m\u001b[1;32m    130\u001b[0m     \u001b[0mhsic_score\u001b[0m \u001b[0;34m=\u001b[0m \u001b[0mget_hsic_score\u001b[0m\u001b[0;34m(\u001b[0m\u001b[0mgram_x\u001b[0m\u001b[0;34m,\u001b[0m \u001b[0mgram_y\u001b[0m\u001b[0;34m)\u001b[0m\u001b[0;34m\u001b[0m\u001b[0;34m\u001b[0m\u001b[0m\n\u001b[1;32m    131\u001b[0m     \u001b[0mnull_pdf_empirical\u001b[0m \u001b[0;34m=\u001b[0m \u001b[0mget_hsic_null_dist_mc_matrix_shuffle_approx\u001b[0m\u001b[0;34m(\u001b[0m\u001b[0mgram_x\u001b[0m\u001b[0;34m,\u001b[0m \u001b[0mgram_y\u001b[0m\u001b[0;34m,\u001b[0m \u001b[0mno_shuffles\u001b[0m\u001b[0;34m)\u001b[0m\u001b[0;34m\u001b[0m\u001b[0;34m\u001b[0m\u001b[0m\n",
      "\u001b[0;32m~/learning/thesis/src/proper_test_eval/lib/hsic_independence_test.py\u001b[0m in \u001b[0;36mget_gram_matrices\u001b[0;34m(X, Y, dyadic_order, static_kernel, postscale_x, postscale_y)\u001b[0m\n\u001b[1;32m     21\u001b[0m             \u001b[0mgram_y\u001b[0m\u001b[0;34m[\u001b[0m\u001b[0mi\u001b[0m\u001b[0;34m,\u001b[0m \u001b[0mj\u001b[0m\u001b[0;34m]\u001b[0m \u001b[0;34m=\u001b[0m \u001b[0msignature_kernel\u001b[0m\u001b[0;34m.\u001b[0m\u001b[0mcompute_kernel\u001b[0m\u001b[0;34m(\u001b[0m\u001b[0mY\u001b[0m\u001b[0;34m[\u001b[0m\u001b[0mi\u001b[0m\u001b[0;34m:\u001b[0m\u001b[0mi\u001b[0m\u001b[0;34m+\u001b[0m\u001b[0;36m1\u001b[0m\u001b[0;34m,\u001b[0m \u001b[0;34m:\u001b[0m\u001b[0;34m,\u001b[0m \u001b[0;34m:\u001b[0m\u001b[0;34m]\u001b[0m\u001b[0;34m,\u001b[0m \u001b[0mY\u001b[0m\u001b[0;34m[\u001b[0m\u001b[0mj\u001b[0m\u001b[0;34m:\u001b[0m\u001b[0mj\u001b[0m\u001b[0;34m+\u001b[0m\u001b[0;36m1\u001b[0m\u001b[0;34m,\u001b[0m \u001b[0;34m:\u001b[0m\u001b[0;34m,\u001b[0m \u001b[0;34m:\u001b[0m\u001b[0;34m]\u001b[0m\u001b[0;34m)\u001b[0m\u001b[0;34m\u001b[0m\u001b[0;34m\u001b[0m\u001b[0m\n\u001b[1;32m     22\u001b[0m         \u001b[0;32melse\u001b[0m\u001b[0;34m:\u001b[0m\u001b[0;34m\u001b[0m\u001b[0;34m\u001b[0m\u001b[0m\n\u001b[0;32m---> 23\u001b[0;31m             \u001b[0mgram_y\u001b[0m\u001b[0;34m[\u001b[0m\u001b[0mi\u001b[0m\u001b[0;34m,\u001b[0m \u001b[0mj\u001b[0m\u001b[0;34m]\u001b[0m \u001b[0;34m=\u001b[0m \u001b[0msignature_kernel\u001b[0m\u001b[0;34m.\u001b[0m\u001b[0mcompute_kernel\u001b[0m\u001b[0;34m(\u001b[0m\u001b[0mY\u001b[0m\u001b[0;34m[\u001b[0m\u001b[0mi\u001b[0m\u001b[0;34m:\u001b[0m\u001b[0mi\u001b[0m\u001b[0;34m+\u001b[0m\u001b[0;36m1\u001b[0m\u001b[0;34m,\u001b[0m \u001b[0;34m:\u001b[0m\u001b[0;34m,\u001b[0m \u001b[0;34m:\u001b[0m\u001b[0;34m]\u001b[0m\u001b[0;34m,\u001b[0m \u001b[0mY\u001b[0m\u001b[0;34m[\u001b[0m\u001b[0mj\u001b[0m\u001b[0;34m:\u001b[0m\u001b[0mj\u001b[0m\u001b[0;34m+\u001b[0m\u001b[0;36m1\u001b[0m\u001b[0;34m,\u001b[0m \u001b[0;34m:\u001b[0m\u001b[0;34m,\u001b[0m \u001b[0;34m:\u001b[0m\u001b[0;34m]\u001b[0m\u001b[0;34m,\u001b[0m \u001b[0mpostscale_y\u001b[0m\u001b[0;34m[\u001b[0m\u001b[0mi\u001b[0m\u001b[0;34m:\u001b[0m\u001b[0mi\u001b[0m\u001b[0;34m+\u001b[0m\u001b[0;36m1\u001b[0m\u001b[0;34m]\u001b[0m\u001b[0;34m,\u001b[0m \u001b[0mpostscale_y\u001b[0m\u001b[0;34m[\u001b[0m\u001b[0mj\u001b[0m\u001b[0;34m:\u001b[0m\u001b[0mj\u001b[0m\u001b[0;34m+\u001b[0m\u001b[0;36m1\u001b[0m\u001b[0;34m]\u001b[0m\u001b[0;34m)\u001b[0m\u001b[0;34m\u001b[0m\u001b[0;34m\u001b[0m\u001b[0m\n\u001b[0m\u001b[1;32m     24\u001b[0m \u001b[0;34m\u001b[0m\u001b[0m\n\u001b[1;32m     25\u001b[0m     \u001b[0;32mreturn\u001b[0m \u001b[0mgram_x\u001b[0m\u001b[0;34m,\u001b[0m \u001b[0mgram_y\u001b[0m\u001b[0;34m\u001b[0m\u001b[0;34m\u001b[0m\u001b[0m\n",
      "\u001b[0;32m~/learning/thesis/src/proper_test_eval/lib/sigkernel/sigkernel_scale.py\u001b[0m in \u001b[0;36mcompute_kernel\u001b[0;34m(self, X, Y, post_scale_static_x, post_scale_static_y)\u001b[0m\n\u001b[1;32m    126\u001b[0m                   \u001b[0;34m-\u001b[0m \u001b[0mvector\u001b[0m \u001b[0mk\u001b[0m\u001b[0;34m(\u001b[0m\u001b[0mX\u001b[0m\u001b[0;34m^\u001b[0m\u001b[0mi_T\u001b[0m\u001b[0;34m,\u001b[0m\u001b[0mY\u001b[0m\u001b[0;34m^\u001b[0m\u001b[0mi_T\u001b[0m\u001b[0;34m)\u001b[0m \u001b[0mof\u001b[0m \u001b[0mshape\u001b[0m \u001b[0;34m(\u001b[0m\u001b[0mbatch\u001b[0m\u001b[0;34m,\u001b[0m\u001b[0;34m)\u001b[0m\u001b[0;34m\u001b[0m\u001b[0;34m\u001b[0m\u001b[0m\n\u001b[1;32m    127\u001b[0m         \"\"\"\n\u001b[0;32m--> 128\u001b[0;31m         \u001b[0;32mreturn\u001b[0m \u001b[0m_SigKernel\u001b[0m\u001b[0;34m.\u001b[0m\u001b[0mapply\u001b[0m\u001b[0;34m(\u001b[0m\u001b[0mX\u001b[0m\u001b[0;34m,\u001b[0m \u001b[0mY\u001b[0m\u001b[0;34m,\u001b[0m \u001b[0mself\u001b[0m\u001b[0;34m.\u001b[0m\u001b[0mstatic_kernel\u001b[0m\u001b[0;34m,\u001b[0m \u001b[0mself\u001b[0m\u001b[0;34m.\u001b[0m\u001b[0mdyadic_order\u001b[0m\u001b[0;34m,\u001b[0m \u001b[0mself\u001b[0m\u001b[0;34m.\u001b[0m\u001b[0m_naive_solver\u001b[0m\u001b[0;34m,\u001b[0m \u001b[0mpost_scale_static_x\u001b[0m\u001b[0;34m,\u001b[0m \u001b[0mpost_scale_static_y\u001b[0m\u001b[0;34m)\u001b[0m\u001b[0;34m\u001b[0m\u001b[0;34m\u001b[0m\u001b[0m\n\u001b[0m\u001b[1;32m    129\u001b[0m \u001b[0;34m\u001b[0m\u001b[0m\n\u001b[1;32m    130\u001b[0m     \u001b[0;32mdef\u001b[0m \u001b[0mcompute_Gram\u001b[0m\u001b[0;34m(\u001b[0m\u001b[0mself\u001b[0m\u001b[0;34m,\u001b[0m \u001b[0mX\u001b[0m\u001b[0;34m,\u001b[0m \u001b[0mY\u001b[0m\u001b[0;34m,\u001b[0m \u001b[0mpost_scale_static_x\u001b[0m \u001b[0;34m=\u001b[0m \u001b[0;32mNone\u001b[0m\u001b[0;34m,\u001b[0m \u001b[0mpost_scale_static_y\u001b[0m \u001b[0;34m=\u001b[0m \u001b[0;32mNone\u001b[0m\u001b[0;34m,\u001b[0m \u001b[0msym\u001b[0m \u001b[0;34m=\u001b[0m \u001b[0;32mFalse\u001b[0m\u001b[0;34m)\u001b[0m\u001b[0;34m:\u001b[0m\u001b[0;34m\u001b[0m\u001b[0;34m\u001b[0m\u001b[0m\n",
      "\u001b[0;32m~/learning/thesis/src/proper_test_eval/lib/sigkernel/sigkernel_scale.py\u001b[0m in \u001b[0;36mforward\u001b[0;34m(ctx, X, Y, static_kernel, dyadic_order, _naive_solver, post_scale_static_x, post_scale_static_y)\u001b[0m\n\u001b[1;32m    188\u001b[0m             \u001b[0mG_static\u001b[0m \u001b[0;34m=\u001b[0m \u001b[0mstatic_kernel\u001b[0m\u001b[0;34m.\u001b[0m\u001b[0mbatch_kernel\u001b[0m\u001b[0;34m(\u001b[0m\u001b[0mX\u001b[0m\u001b[0;34m,\u001b[0m\u001b[0mY\u001b[0m\u001b[0;34m)\u001b[0m\u001b[0;34m\u001b[0m\u001b[0;34m\u001b[0m\u001b[0m\n\u001b[1;32m    189\u001b[0m         \u001b[0;32melse\u001b[0m\u001b[0;34m:\u001b[0m\u001b[0;34m\u001b[0m\u001b[0;34m\u001b[0m\u001b[0m\n\u001b[0;32m--> 190\u001b[0;31m             \u001b[0mG_static\u001b[0m \u001b[0;34m=\u001b[0m \u001b[0mstatic_kernel\u001b[0m\u001b[0;34m.\u001b[0m\u001b[0mpost_scaled_batch_kernel\u001b[0m\u001b[0;34m(\u001b[0m\u001b[0mX\u001b[0m\u001b[0;34m,\u001b[0m\u001b[0mY\u001b[0m\u001b[0;34m,\u001b[0m \u001b[0mpost_scale_static_x\u001b[0m\u001b[0;34m,\u001b[0m \u001b[0mpost_scale_static_y\u001b[0m\u001b[0;34m)\u001b[0m\u001b[0;34m\u001b[0m\u001b[0;34m\u001b[0m\u001b[0m\n\u001b[0m\u001b[1;32m    191\u001b[0m \u001b[0;34m\u001b[0m\u001b[0m\n\u001b[1;32m    192\u001b[0m         \u001b[0mG_static_\u001b[0m \u001b[0;34m=\u001b[0m \u001b[0mG_static\u001b[0m\u001b[0;34m[\u001b[0m\u001b[0;34m:\u001b[0m\u001b[0;34m,\u001b[0m\u001b[0;36m1\u001b[0m\u001b[0;34m:\u001b[0m\u001b[0;34m,\u001b[0m\u001b[0;36m1\u001b[0m\u001b[0;34m:\u001b[0m\u001b[0;34m]\u001b[0m \u001b[0;34m+\u001b[0m \u001b[0mG_static\u001b[0m\u001b[0;34m[\u001b[0m\u001b[0;34m:\u001b[0m\u001b[0;34m,\u001b[0m\u001b[0;34m:\u001b[0m\u001b[0;34m-\u001b[0m\u001b[0;36m1\u001b[0m\u001b[0;34m,\u001b[0m\u001b[0;34m:\u001b[0m\u001b[0;34m-\u001b[0m\u001b[0;36m1\u001b[0m\u001b[0;34m]\u001b[0m \u001b[0;34m-\u001b[0m \u001b[0mG_static\u001b[0m\u001b[0;34m[\u001b[0m\u001b[0;34m:\u001b[0m\u001b[0;34m,\u001b[0m\u001b[0;36m1\u001b[0m\u001b[0;34m:\u001b[0m\u001b[0;34m,\u001b[0m\u001b[0;34m:\u001b[0m\u001b[0;34m-\u001b[0m\u001b[0;36m1\u001b[0m\u001b[0;34m]\u001b[0m \u001b[0;34m-\u001b[0m \u001b[0mG_static\u001b[0m\u001b[0;34m[\u001b[0m\u001b[0;34m:\u001b[0m\u001b[0;34m,\u001b[0m\u001b[0;34m:\u001b[0m\u001b[0;34m-\u001b[0m\u001b[0;36m1\u001b[0m\u001b[0;34m,\u001b[0m\u001b[0;36m1\u001b[0m\u001b[0;34m:\u001b[0m\u001b[0;34m]\u001b[0m\u001b[0;34m\u001b[0m\u001b[0;34m\u001b[0m\u001b[0m\n",
      "\u001b[0;32m~/learning/thesis/src/proper_test_eval/lib/sigkernel/sigkernel_scale.py\u001b[0m in \u001b[0;36mpost_scaled_batch_kernel\u001b[0;34m(self, X, Y, post_scale_X, post_scale_Y)\u001b[0m\n\u001b[1;32m     26\u001b[0m \u001b[0;34m\u001b[0m\u001b[0m\n\u001b[1;32m     27\u001b[0m         \u001b[0mbatch_kernel\u001b[0m \u001b[0;34m=\u001b[0m \u001b[0mself\u001b[0m\u001b[0;34m.\u001b[0m\u001b[0mbatch_kernel\u001b[0m\u001b[0;34m(\u001b[0m\u001b[0mX\u001b[0m\u001b[0;34m,\u001b[0m \u001b[0mY\u001b[0m\u001b[0;34m)\u001b[0m\u001b[0;34m\u001b[0m\u001b[0;34m\u001b[0m\u001b[0m\n\u001b[0;32m---> 28\u001b[0;31m         \u001b[0mscale\u001b[0m \u001b[0;34m=\u001b[0m \u001b[0mtorch\u001b[0m\u001b[0;34m.\u001b[0m\u001b[0meinsum\u001b[0m\u001b[0;34m(\u001b[0m\u001b[0;34m'ji,ki->ijk'\u001b[0m\u001b[0;34m,\u001b[0m \u001b[0mexpanded_post_scale_X\u001b[0m\u001b[0;34m,\u001b[0m \u001b[0mexpanded_post_scale_Y\u001b[0m\u001b[0;34m)\u001b[0m\u001b[0;34m\u001b[0m\u001b[0;34m\u001b[0m\u001b[0m\n\u001b[0m\u001b[1;32m     29\u001b[0m \u001b[0;34m\u001b[0m\u001b[0m\n\u001b[1;32m     30\u001b[0m         \u001b[0;32mreturn\u001b[0m \u001b[0mbatch_kernel\u001b[0m \u001b[0;34m*\u001b[0m \u001b[0mscale\u001b[0m\u001b[0;34m\u001b[0m\u001b[0;34m\u001b[0m\u001b[0m\n",
      "\u001b[0;32m~/miniconda3/envs/signatures/lib/python3.7/site-packages/torch/functional.py\u001b[0m in \u001b[0;36meinsum\u001b[0;34m(equation, *operands)\u001b[0m\n\u001b[1;32m    297\u001b[0m         \u001b[0;32mreturn\u001b[0m \u001b[0meinsum\u001b[0m\u001b[0;34m(\u001b[0m\u001b[0mequation\u001b[0m\u001b[0;34m,\u001b[0m \u001b[0;34m*\u001b[0m\u001b[0m_operands\u001b[0m\u001b[0;34m)\u001b[0m\u001b[0;34m\u001b[0m\u001b[0;34m\u001b[0m\u001b[0m\n\u001b[1;32m    298\u001b[0m \u001b[0;34m\u001b[0m\u001b[0m\n\u001b[0;32m--> 299\u001b[0;31m     \u001b[0;32mreturn\u001b[0m \u001b[0m_VF\u001b[0m\u001b[0;34m.\u001b[0m\u001b[0meinsum\u001b[0m\u001b[0;34m(\u001b[0m\u001b[0mequation\u001b[0m\u001b[0;34m,\u001b[0m \u001b[0moperands\u001b[0m\u001b[0;34m)\u001b[0m  \u001b[0;31m# type: ignore[attr-defined]\u001b[0m\u001b[0;34m\u001b[0m\u001b[0;34m\u001b[0m\u001b[0m\n\u001b[0m\u001b[1;32m    300\u001b[0m \u001b[0;34m\u001b[0m\u001b[0m\n\u001b[1;32m    301\u001b[0m \u001b[0;34m\u001b[0m\u001b[0m\n",
      "\u001b[0;31mKeyboardInterrupt\u001b[0m: "
     ]
    }
   ],
   "source": [
    "for rate in EXTINCTION_RATES:#[0, 0.3, 0.8]:    \n",
    "    #processes = gen_processes.gen_ar_iid_samples_extinct_gaussian_burn_in(N_TIMESTEPS+1, M_RUNS, a=A, extinction_rate=rate)\n",
    "    hsic_results[rate] = []\n",
    "    cov_results[rate] = []\n",
    "    for run in range(M_RUNS):\n",
    "        #X_raw = processes[run, :, 0]\n",
    "        #Y_raw = processes[run, :, 1]\n",
    "        #X_lead_lag_chopped, Y_lead_lag_chopped = get_bootstrap_samples_lead_lag(X_raw, Y_raw)\n",
    "        \n",
    "        #X = X_raw[:N_TIMESTEPS]\n",
    "        #Y = Y_raw[:N_TIMESTEPS]\n",
    "        processes = gen_processes.gen_ar_iid_samples_extinct_gaussian_burn_in(int(N_TIMESTEPS/SIG_KERNEL_SAMPLES_NO), SIG_KERNEL_SAMPLES_NO, a=A, extinction_rate=rate)/3\n",
    "        #processes = gen_processes.gen_ar_iid_samples_burn_in(int(N_TIMESTEPS/SIG_KERNEL_SAMPLES_NO), SIG_KERNEL_SAMPLES_NO, a = A, corr=rate)\n",
    "        X_raw = processes[:, :, 0]\n",
    "        Y_raw = processes[:, :, 1]\n",
    "        X_lead_lag_chopped = torch.stack((X_raw[:, 1:], X_raw[:, :-1]), axis = 2)\n",
    "        Y_lead_lag_chopped = torch.stack((Y_raw[:, 1:], Y_raw[:, :-1]), axis = 2)\n",
    "        \n",
    "        postscale_x = get_postscale_for_batch(X_lead_lag_chopped, sigkernel_scale.SigKernel(sigkernel_scale.LinearKernel(), 3));\n",
    "        postscale_y = get_postscale_for_batch(Y_lead_lag_chopped, sigkernel_scale.SigKernel(sigkernel_scale.LinearKernel(), 3));\n",
    "        \n",
    "        #hsic_test_result = hsic_independence_test.get_test_result_matrix_shuffle(X_lead_lag_chopped/PROC_DIV, Y_lead_lag_chopped/PROC_DIV, static_kernel = sigkernel.RBFKernel(sigma = RBF_SIGMA))\n",
    "        hsic_test_result = hsic_independence_test.get_test_result_matrix_shuffle(X_lead_lag_chopped, Y_lead_lag_chopped, static_kernel = sigkernel_scale.LinearKernel(), dyadic_order = 2, postscale_x = postscale_x, postscale_y = postscale_y)\n",
    "        #cov_test_result = cov_independence_test.get_test_result(X, Y)\n",
    "        print('RUN:', run)\n",
    "        print('HSIC:', hsic_test_result[1:])\n",
    "        #print('COV:', cov_test_result)\n",
    "\n",
    "        hsic_results[rate].append(hsic_test_result)\n",
    "        #cov_results[rate].append(cov_test_result)\n",
    "        \n",
    "    print('==================== END RATE {} ================='.format(rate))"
   ]
  },
  {
   "cell_type": "code",
   "execution_count": 130,
   "id": "4a28fec3",
   "metadata": {},
   "outputs": [],
   "source": [
    "def get_null_rejection_rate(results):\n",
    "    a = 0\n",
    "    for tup in results:\n",
    "        a += (tup[2] < 0.025) or (tup[2] > 0.975)\n",
    "    return a / len(results)"
   ]
  },
  {
   "cell_type": "code",
   "execution_count": 131,
   "id": "1f4b10ac",
   "metadata": {},
   "outputs": [],
   "source": [
    "def get_null_sampling_approx_from_all_results(all_results):\n",
    "    null_approx = None\n",
    "    for rate in all_results.keys():\n",
    "        for tup in all_results[rate]:\n",
    "            if null_approx == None:\n",
    "                null_approx = tup[0]\n",
    "            else:\n",
    "                null_approx = torch.cat((null_approx, tup[0]), dim = 0)\n",
    "    null =  np.array([item.item() for item in null_approx])\n",
    "    null.sort()\n",
    "    return null"
   ]
  },
  {
   "cell_type": "code",
   "execution_count": 132,
   "id": "35cf1ac4",
   "metadata": {},
   "outputs": [],
   "source": [
    "def get_test_statistic_dists_from_all_results(all_results):\n",
    "    hsic_dist = {}\n",
    "    a = 0\n",
    "    for rate in all_results.keys():\n",
    "        hsic_dist[rate] = []\n",
    "        for tup in all_results[rate]:\n",
    "            hsic_dist[rate].append(tup[1])\n",
    "        hsic_dist[rate] = np.array(hsic_dist[rate])\n",
    "    return hsic_dist"
   ]
  },
  {
   "cell_type": "code",
   "execution_count": 133,
   "id": "f7d721f3",
   "metadata": {},
   "outputs": [],
   "source": [
    "def get_cov_null_rejection_rate(results):\n",
    "    a = 0\n",
    "    for tup in results:\n",
    "        a += (tup[1] < 0.025) or (tup[1] > 0.975)\n",
    "    return a / len(results)"
   ]
  },
  {
   "cell_type": "code",
   "execution_count": 134,
   "id": "010a0c76",
   "metadata": {},
   "outputs": [],
   "source": [
    "def get_test_cutoff_thresholds_for_null(null):\n",
    "    return (null[int((len(null)-1)*0.025)], null[int((len(null)-1)*0.975)])"
   ]
  },
  {
   "cell_type": "code",
   "execution_count": 135,
   "id": "b1ae8eb0",
   "metadata": {},
   "outputs": [],
   "source": [
    "null = get_null_sampling_approx_from_all_results(hsic_results)\n",
    "test_statistic_dists = get_test_statistic_dists_from_all_results(hsic_results)\n",
    "low_thresh, high_thresh = get_test_cutoff_thresholds_for_null(null)"
   ]
  },
  {
   "cell_type": "code",
   "execution_count": 137,
   "id": "6586c1dd",
   "metadata": {},
   "outputs": [
    {
     "ename": "KeyError",
     "evalue": "0.8",
     "output_type": "error",
     "traceback": [
      "\u001b[0;31m---------------------------------------------------------------------------\u001b[0m",
      "\u001b[0;31mKeyError\u001b[0m                                  Traceback (most recent call last)",
      "\u001b[0;32m/tmp/ipykernel_41563/2290946055.py\u001b[0m in \u001b[0;36m<module>\u001b[0;34m\u001b[0m\n\u001b[0;32m----> 1\u001b[0;31m \u001b[0mplt\u001b[0m\u001b[0;34m.\u001b[0m\u001b[0mscatter\u001b[0m\u001b[0;34m(\u001b[0m\u001b[0mEXTINCTION_RATES\u001b[0m\u001b[0;34m,\u001b[0m \u001b[0;34m[\u001b[0m\u001b[0mget_null_rejection_rate\u001b[0m\u001b[0;34m(\u001b[0m\u001b[0mhsic_results\u001b[0m\u001b[0;34m[\u001b[0m\u001b[0mrate\u001b[0m\u001b[0;34m]\u001b[0m\u001b[0;34m)\u001b[0m \u001b[0;32mfor\u001b[0m \u001b[0mrate\u001b[0m \u001b[0;32min\u001b[0m \u001b[0;34m[\u001b[0m\u001b[0;36m0.8\u001b[0m\u001b[0;34m]\u001b[0m\u001b[0;34m]\u001b[0m\u001b[0;34m)\u001b[0m\u001b[0;34m\u001b[0m\u001b[0;34m\u001b[0m\u001b[0m\n\u001b[0m\u001b[1;32m      2\u001b[0m \u001b[0;31m#plt.scatter(EXTINCTION_RATES, [get_cov_null_rejection_rate(cov_results[rate]) for rate in [0.3]])\u001b[0m\u001b[0;34m\u001b[0m\u001b[0;34m\u001b[0m\u001b[0;34m\u001b[0m\u001b[0m\n",
      "\u001b[0;32m/tmp/ipykernel_41563/2290946055.py\u001b[0m in \u001b[0;36m<listcomp>\u001b[0;34m(.0)\u001b[0m\n\u001b[0;32m----> 1\u001b[0;31m \u001b[0mplt\u001b[0m\u001b[0;34m.\u001b[0m\u001b[0mscatter\u001b[0m\u001b[0;34m(\u001b[0m\u001b[0mEXTINCTION_RATES\u001b[0m\u001b[0;34m,\u001b[0m \u001b[0;34m[\u001b[0m\u001b[0mget_null_rejection_rate\u001b[0m\u001b[0;34m(\u001b[0m\u001b[0mhsic_results\u001b[0m\u001b[0;34m[\u001b[0m\u001b[0mrate\u001b[0m\u001b[0;34m]\u001b[0m\u001b[0;34m)\u001b[0m \u001b[0;32mfor\u001b[0m \u001b[0mrate\u001b[0m \u001b[0;32min\u001b[0m \u001b[0;34m[\u001b[0m\u001b[0;36m0.8\u001b[0m\u001b[0;34m]\u001b[0m\u001b[0;34m]\u001b[0m\u001b[0;34m)\u001b[0m\u001b[0;34m\u001b[0m\u001b[0;34m\u001b[0m\u001b[0m\n\u001b[0m\u001b[1;32m      2\u001b[0m \u001b[0;31m#plt.scatter(EXTINCTION_RATES, [get_cov_null_rejection_rate(cov_results[rate]) for rate in [0.3]])\u001b[0m\u001b[0;34m\u001b[0m\u001b[0;34m\u001b[0m\u001b[0;34m\u001b[0m\u001b[0m\n",
      "\u001b[0;31mKeyError\u001b[0m: 0.8"
     ]
    }
   ],
   "source": [
    "plt.scatter(EXTINCTION_RATES, [get_null_rejection_rate(hsic_results[rate]) for rate in [0.8]])\n",
    "#plt.scatter(EXTINCTION_RATES, [get_cov_null_rejection_rate(cov_results[rate]) for rate in [0.3]])"
   ]
  },
  {
   "cell_type": "code",
   "execution_count": 140,
   "id": "9648395f",
   "metadata": {},
   "outputs": [
    {
     "data": {
      "text/plain": [
       "<matplotlib.lines.Line2D at 0x7fced445a190>"
      ]
     },
     "execution_count": 140,
     "metadata": {},
     "output_type": "execute_result"
    },
    {
     "data": {
      "image/png": "[encoded data removed]",
      "text/plain": [
       "<Figure size 432x288 with 1 Axes>"
      ]
     },
     "metadata": {
      "needs_background": "light"
     },
     "output_type": "display_data"
    }
   ],
   "source": [
    "# RBF Bandwidth = 4, extinct gaussian\n",
    "plt.hist(null, bins = 100, density = True);\n",
    "plt.hist(test_statistic_dists[0.9], bins = 20, density = True, alpha = 0.8)\n",
    "plt.axvline(low_thresh, alpha = 0.3, color = 'red')\n",
    "plt.axvline(high_thresh, alpha = 0.3, color = 'red')"
   ]
  },
  {
   "cell_type": "code",
   "execution_count": 97,
   "id": "2b558429",
   "metadata": {},
   "outputs": [
    {
     "data": {
      "text/plain": [
       "<matplotlib.lines.Line2D at 0x7fced4968dd0>"
      ]
     },
     "execution_count": 97,
     "metadata": {},
     "output_type": "execute_result"
    },
    {
     "data": {
      "image/png": "[encoded data removed]",
      "text/plain": [
       "<Figure size 432x288 with 1 Axes>"
      ]
     },
     "metadata": {
      "needs_background": "light"
     },
     "output_type": "display_data"
    }
   ],
   "source": [
    "# RBF Bandwidth = 4\n",
    "plt.hist(null, bins = 100, density = True);\n",
    "plt.hist(test_statistic_dists[0.3], bins = 20, density = True, alpha = 0.8)\n",
    "plt.axvline(low_thresh, alpha = 0.3, color = 'red')\n",
    "plt.axvline(high_thresh, alpha = 0.3, color = 'red')"
   ]
  },
  {
   "cell_type": "code",
   "execution_count": 79,
   "id": "e8a36dec",
   "metadata": {},
   "outputs": [
    {
     "data": {
      "text/plain": [
       "<matplotlib.lines.Line2D at 0x7fced4968ad0>"
      ]
     },
     "execution_count": 79,
     "metadata": {},
     "output_type": "execute_result"
    },
    {
     "data": {
      "image/png": "[encoded data removed]",
      "text/plain": [
       "<Figure size 432x288 with 1 Axes>"
      ]
     },
     "metadata": {
      "needs_background": "light"
     },
     "output_type": "display_data"
    }
   ],
   "source": [
    "# RBF Bandwidth = 0.5\n",
    "plt.hist(null, bins = 100, density = True);\n",
    "plt.hist(test_statistic_dists[0.3], bins = 20, density = True, alpha = 0.8)\n",
    "plt.axvline(low_thresh, alpha = 0.3, color = 'red')\n",
    "plt.axvline(high_thresh, alpha = 0.3, color = 'red')"
   ]
  },
  {
   "cell_type": "code",
   "execution_count": 39,
   "id": "0e9c3def",
   "metadata": {},
   "outputs": [
    {
     "data": {
      "text/plain": [
       "<matplotlib.lines.Line2D at 0x7fced4d0b6d0>"
      ]
     },
     "execution_count": 39,
     "metadata": {},
     "output_type": "execute_result"
    },
    {
     "data": {
      "image/png": "[encoded data removed]",
      "text/plain": [
       "<Figure size 432x288 with 1 Axes>"
      ]
     },
     "metadata": {
      "needs_background": "light"
     },
     "output_type": "display_data"
    }
   ],
   "source": [
    "# RBF Bandwidth = 2\n",
    "plt.hist(null, bins = 100, density = True);\n",
    "plt.hist(test_statistic_dists[0.3], bins = 20, density = True, alpha = 0.8)\n",
    "plt.axvline(low_thresh, alpha = 0.3, color = 'red')\n",
    "plt.axvline(high_thresh, alpha = 0.3, color = 'red')"
   ]
  },
  {
   "cell_type": "code",
   "execution_count": null,
   "id": "db065935",
   "metadata": {},
   "outputs": [],
   "source": [
    "def push_results():\n",
    "    BIG_RESULT_MEMORY_PLACE.append({\n",
    "        'N_TIMESTEPS' : N_TIMESTEPS,\n",
    "        'NO_TIMESTEPS_PER_SAMPLE' : int(N_TIMESTEPS / SIG_KERNEL_SAMPLES_NO),\n",
    "        'SIG_KERNEL_SAMPLES_NO' : SIG_KERNEL_SAMPLES_NO,\n",
    "        'M_RUNS' : M_RUNS,\n",
    "        'RBF_SIGMA' : RBF_SIGMA,\n",
    "        'NULL' : null,\n",
    "        'A' : A,\n",
    "        'TEST DISTS' : test_statistic_dists,\n",
    "        'TEST HIGH LOW THRES': (high_thresh, low_thresh),\n",
    "        'COMMENT' : 'Normalized kernel, this is extinct'\n",
    "    })\n",
    "    pp.pprint(BIG_RESULT_MEMORY_PLACE[-1])"
   ]
  },
  {
   "cell_type": "code",
   "execution_count": null,
   "id": "06adf85f",
   "metadata": {},
   "outputs": [],
   "source": [
    "push_results()"
   ]
  },
  {
   "cell_type": "code",
   "execution_count": null,
   "id": "286569ac",
   "metadata": {},
   "outputs": [],
   "source": [
    "import datetime"
   ]
  },
  {
   "cell_type": "code",
   "execution_count": null,
   "id": "f5504dd0",
   "metadata": {},
   "outputs": [],
   "source": [
    "import pickle\n",
    "with open('./hsic_test_on_extinct_gaussian_BIG_RESULTS_{}.pickle'.format(datetime.datetime.today()).replace(' ', '_').replace(':', '.'), 'wb') as f:\n",
    "    pickle.dump(BIG_RESULT_MEMORY_PLACE, f)"
   ]
  },
  {
   "cell_type": "code",
   "execution_count": 145,
   "id": "8d255f7a",
   "metadata": {},
   "outputs": [],
   "source": [
    "processes = gen_processes.gen_ar_iid_samples_extinct_gaussian_burn_in(int(N_TIMESTEPS/SIG_KERNEL_SAMPLES_NO), SIG_KERNEL_SAMPLES_NO, a=A, extinction_rate=rate)"
   ]
  },
  {
   "cell_type": "code",
   "execution_count": 146,
   "id": "0da18880",
   "metadata": {},
   "outputs": [
    {
     "data": {
      "text/plain": [
       "torch.Size([300, 6, 2])"
      ]
     },
     "execution_count": 146,
     "metadata": {},
     "output_type": "execute_result"
    }
   ],
   "source": [
    "processes.shape"
   ]
  },
  {
   "cell_type": "code",
   "execution_count": null,
   "id": "112c972d",
   "metadata": {},
   "outputs": [],
   "source": []
  },
  {
   "cell_type": "code",
   "execution_count": 157,
   "id": "29147f43",
   "metadata": {},
   "outputs": [
    {
     "data": {
      "text/plain": [
       "[<matplotlib.lines.Line2D at 0x7fcecff1f3d0>]"
      ]
     },
     "execution_count": 157,
     "metadata": {},
     "output_type": "execute_result"
    },
    {
     "data": {
      "image/png": "[encoded data removed]",
      "text/plain": [
       "<Figure size 432x288 with 1 Axes>"
      ]
     },
     "metadata": {
      "needs_background": "light"
     },
     "output_type": "display_data"
    }
   ],
   "source": [
    "i = np.random.randint(0, 300)\n",
    "plt.plot(processes[i, :, 0])\n",
    "plt.plot(processes[i, :, 1])"
   ]
  },
  {
   "cell_type": "code",
   "execution_count": 159,
   "id": "d4c0cb3c",
   "metadata": {},
   "outputs": [
    {
     "data": {
      "text/plain": [
       "<matplotlib.collections.PathCollection at 0x7fcecfe5b790>"
      ]
     },
     "execution_count": 159,
     "metadata": {},
     "output_type": "execute_result"
    },
    {
     "data": {
      "image/png": "[encoded data removed]",
      "text/plain": [
       "<Figure size 432x288 with 1 Axes>"
      ]
     },
     "metadata": {
      "needs_background": "light"
     },
     "output_type": "display_data"
    }
   ],
   "source": [
    "plt.scatter(processes[:, 1, 0], processes[:, 1, 1])"
   ]
  },
  {
   "cell_type": "code",
   "execution_count": 197,
   "id": "ce80789d",
   "metadata": {},
   "outputs": [],
   "source": [
    "processes_nextinct = gen_processes.gen_ar_iid_samples_extinct_gaussian_burn_in(50, 10, a=0, extinction_rate=1)"
   ]
  },
  {
   "cell_type": "code",
   "execution_count": 198,
   "id": "7491c51a",
   "metadata": {},
   "outputs": [
    {
     "data": {
      "text/plain": [
       "<matplotlib.collections.PathCollection at 0x7fcece906490>"
      ]
     },
     "execution_count": 198,
     "metadata": {},
     "output_type": "execute_result"
    },
    {
     "data": {
      "image/png": "[encoded data removed]",
      "text/plain": [
       "<Figure size 432x288 with 1 Axes>"
      ]
     },
     "metadata": {
      "needs_background": "light"
     },
     "output_type": "display_data"
    }
   ],
   "source": [
    "plt.scatter(processes_nextinct[:, 0, 0], processes_nextinct[:, 0, 1])"
   ]
  },
  {
   "cell_type": "code",
   "execution_count": 199,
   "id": "bff67a92",
   "metadata": {},
   "outputs": [
    {
     "data": {
      "text/plain": [
       "KstestResult(statistic=0.2, pvalue=0.7698803326880861)"
      ]
     },
     "execution_count": 199,
     "metadata": {},
     "output_type": "execute_result"
    }
   ],
   "source": [
    "stats.ks_2samp(processes_nextinct[:, 0, 0], processes[:, 1, 0])"
   ]
  },
  {
   "cell_type": "code",
   "execution_count": 205,
   "id": "cb7ce93c",
   "metadata": {},
   "outputs": [
    {
     "data": {
      "text/plain": [
       "[<matplotlib.lines.Line2D at 0x7fcece64fb90>]"
      ]
     },
     "execution_count": 205,
     "metadata": {},
     "output_type": "execute_result"
    },
    {
     "data": {
      "image/png": "[encoded data removed]",
      "text/plain": [
       "<Figure size 864x648 with 1 Axes>"
      ]
     },
     "metadata": {
      "needs_background": "light"
     },
     "output_type": "display_data"
    }
   ],
   "source": [
    "i = np.random.randint(0, 10)\n",
    "plt.figure(figsize = (12, 9))\n",
    "plt.plot(processes_nextinct[i, :, 0])\n",
    "plt.plot(processes_nextinct[i, :, 1])"
   ]
  },
  {
   "cell_type": "code",
   "execution_count": null,
   "id": "fbed21df",
   "metadata": {},
   "outputs": [],
   "source": []
  }
 ],
 "metadata": {
  "kernelspec": {
   "display_name": "Python 3 (ipykernel)",
   "language": "python",
   "name": "python3"
  },
  "language_info": {
   "codemirror_mode": {
    "name": "ipython",
    "version": 3
   },
   "file_extension": ".py",
   "mimetype": "text/x-python",
   "name": "python",
   "nbconvert_exporter": "python",
   "pygments_lexer": "ipython3",
   "version": "3.7.11"
  }
 },
 "nbformat": 4,
 "nbformat_minor": 5
}
