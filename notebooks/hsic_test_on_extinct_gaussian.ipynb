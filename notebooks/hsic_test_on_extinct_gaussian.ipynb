{
 "cells": [
  {
   "cell_type": "code",
   "execution_count": 170,
   "id": "529b5d4b",
   "metadata": {},
   "outputs": [],
   "source": [
    "import os\n",
    "import sys"
   ]
  },
  {
   "cell_type": "code",
   "execution_count": 171,
   "id": "077be733",
   "metadata": {},
   "outputs": [],
   "source": [
    "sys.path.append('../lib')"
   ]
  },
  {
   "cell_type": "code",
   "execution_count": 172,
   "id": "c3d582b2",
   "metadata": {},
   "outputs": [],
   "source": [
    "import cov_independence_test\n",
    "import hsic_independence_test\n",
    "import gen_processes"
   ]
  },
  {
   "cell_type": "code",
   "execution_count": 173,
   "id": "0e10e19c",
   "metadata": {},
   "outputs": [],
   "source": [
    "from importlib import reload"
   ]
  },
  {
   "cell_type": "code",
   "execution_count": 302,
   "id": "9e687d2c",
   "metadata": {},
   "outputs": [],
   "source": [
    "reload(cov_independence_test);\n",
    "reload(hsic_independence_test);\n",
    "reload(gen_processes);"
   ]
  },
  {
   "cell_type": "code",
   "execution_count": 175,
   "id": "eb2d182e",
   "metadata": {},
   "outputs": [],
   "source": [
    "import numpy as np\n",
    "import matplotlib.pyplot as plt\n",
    "import statsmodels.tsa.ar_model as ar\n",
    "import torch\n",
    "torch.set_default_dtype(torch.double)\n",
    "import sigkernel"
   ]
  },
  {
   "cell_type": "code",
   "execution_count": 121,
   "id": "984ac2a4",
   "metadata": {},
   "outputs": [],
   "source": [
    "import pprint\n",
    "pp = pprint.PrettyPrinter(indent = 4)"
   ]
  },
  {
   "cell_type": "code",
   "execution_count": 122,
   "id": "8899319f",
   "metadata": {},
   "outputs": [],
   "source": [
    "import scipy.stats as stats"
   ]
  },
  {
   "cell_type": "code",
   "execution_count": 123,
   "id": "863dd4e4",
   "metadata": {},
   "outputs": [],
   "source": [
    "from tqdm import tqdm"
   ]
  },
  {
   "cell_type": "code",
   "execution_count": 124,
   "id": "b1a815b2",
   "metadata": {},
   "outputs": [],
   "source": [
    "from itertools import product"
   ]
  },
  {
   "cell_type": "code",
   "execution_count": 125,
   "id": "2f057170",
   "metadata": {},
   "outputs": [],
   "source": [
    "import matplotlib.pyplot as plt"
   ]
  },
  {
   "cell_type": "code",
   "execution_count": 126,
   "id": "6cfce883",
   "metadata": {},
   "outputs": [],
   "source": [
    "rng = np.random.default_rng(1234)"
   ]
  },
  {
   "cell_type": "code",
   "execution_count": 127,
   "id": "0c7ecab9",
   "metadata": {},
   "outputs": [],
   "source": [
    "BIG_RESULT_MEMORY_PLACE = []"
   ]
  },
  {
   "cell_type": "code",
   "execution_count": 333,
   "id": "9a34a751",
   "metadata": {},
   "outputs": [],
   "source": [
    "N_TIMESTEPS = 1800\n",
    "SIG_KERNEL_SAMPLES_NO = 60\n",
    "M_RUNS = 50\n",
    "#EXTINCTION_RATES = [0, 0.4, 0.5, 0.6, 0.7, 0.8]\n",
    "EXTINCTION_RATES = [1]\n",
    "PROC_DIV = 32\n",
    "RBF_SIGMA = 2\n",
    "A=0.2"
   ]
  },
  {
   "cell_type": "code",
   "execution_count": null,
   "id": "7326d2e0",
   "metadata": {},
   "outputs": [],
   "source": [
    "# TODO HOW A BOUT GBMS?"
   ]
  },
  {
   "cell_type": "code",
   "execution_count": 269,
   "id": "16928dcd",
   "metadata": {},
   "outputs": [],
   "source": [
    "assert N_TIMESTEPS % SIG_KERNEL_SAMPLES_NO == 0, 'Cannot reshape such array properly'"
   ]
  },
  {
   "cell_type": "code",
   "execution_count": 270,
   "id": "5a3f93b7",
   "metadata": {},
   "outputs": [],
   "source": [
    "processes = gen_processes.gen_ar_iid_samples_extinct_gaussian_burn_in(N_TIMESTEPS+1, M_RUNS, a = 0.2, extinction_rate = 1)"
   ]
  },
  {
   "cell_type": "code",
   "execution_count": 271,
   "id": "d3f4e148",
   "metadata": {},
   "outputs": [
    {
     "data": {
      "image/png": "[encoded data removed]",
      "text/plain": [
       "<Figure size 432x288 with 1 Axes>"
      ]
     },
     "metadata": {
      "needs_background": "light"
     },
     "output_type": "display_data"
    }
   ],
   "source": [
    "plt.plot(processes[rng.integers(0, M_RUNS), :30, 0])\n",
    "plt.plot(processes[rng.integers(0, M_RUNS), :30, 1]);"
   ]
  },
  {
   "cell_type": "code",
   "execution_count": 272,
   "id": "d089e663",
   "metadata": {},
   "outputs": [],
   "source": [
    "def get_bootstrap_samples_lead_lag(X_raw, Y_raw):\n",
    "    single_sample_length = int(N_TIMESTEPS / SIG_KERNEL_SAMPLES_NO)\n",
    "        \n",
    "    x_bootstrap_samples = torch.zeros(SIG_KERNEL_SAMPLES_NO, single_sample_length, 2)\n",
    "    y_bootstrap_samples = torch.zeros(SIG_KERNEL_SAMPLES_NO, single_sample_length, 2)\n",
    "    \n",
    "    rng = np.random.default_rng(1234)\n",
    "    \n",
    "    for i in range(SIG_KERNEL_SAMPLES_NO):\n",
    "        idx_low = rng.integers(0, N_TIMESTEPS - single_sample_length + 1)\n",
    "        x_bootstrap_samples[i, :, 0] = X_raw[idx_low+1 : idx_low+single_sample_length+1]\n",
    "        x_bootstrap_samples[i, :, 1] = X_raw[idx_low : idx_low+single_sample_length]\n",
    "        y_bootstrap_samples[i, :, 0] = Y_raw[idx_low+1 : idx_low+single_sample_length+1]\n",
    "        y_bootstrap_samples[i, :, 1] = Y_raw[idx_low : idx_low+single_sample_length]\n",
    "\n",
    "    return x_bootstrap_samples, y_bootstrap_samples"
   ]
  },
  {
   "cell_type": "code",
   "execution_count": 332,
   "id": "5136f0d9",
   "metadata": {},
   "outputs": [
    {
     "name": "stdout",
     "output_type": "stream",
     "text": [
      "tensor(4.1903)\n",
      "Hypothesis accepted: distribution are equal with 99.0% confidence\n",
      "RUN: 0\n",
      "HSIC: (0.00029180898523484267, 0.84)\n",
      "tensor(3.3684)\n",
      "Hypothesis accepted: distribution are equal with 99.0% confidence\n",
      "RUN: 1\n",
      "HSIC: (0.00029180898523484267, 0.84)\n",
      "tensor(3.7287)\n",
      "Hypothesis accepted: distribution are equal with 99.0% confidence\n",
      "RUN: 2\n",
      "HSIC: (0.00029180898523484267, 0.84)\n",
      "tensor(3.5722)\n",
      "Hypothesis accepted: distribution are equal with 99.0% confidence\n",
      "RUN: 3\n",
      "HSIC: (0.00029180898523484267, 0.84)\n",
      "tensor(3.1811)\n",
      "Hypothesis accepted: distribution are equal with 99.0% confidence\n",
      "RUN: 4\n",
      "HSIC: (0.00029180898523484267, 0.84)\n",
      "==================== END RATE 1 =================\n"
     ]
    }
   ],
   "source": [
    "for rate in EXTINCTION_RATES:#[0, 0.3, 0.8]:    \n",
    "    hsic_results[rate] = []\n",
    "    cov_results[rate] = []\n",
    "    for run in range(5):\n",
    "        processes = gen_processes.gen_ar_iid_samples_extinct_gaussian_burn_in(30, SIG_KERNEL_SAMPLES_NO, a=A, extinction_rate=rate)\n",
    "        X_raw = processes[:, :, 0]\n",
    "        X_lead_lag_chopped = torch.stack((X_raw[:, 1:], X_raw[:, :-1]), axis = 2)\n",
    "        \n",
    "        processes_p = gen_processes.gen_ar_iid_samples_extinct_gaussian_burn_in(30, SIG_KERNEL_SAMPLES_NO, a=A, extinction_rate=rate)\n",
    "        Y_raw = processes_p[:, :, 0]\n",
    "        Y_lead_lag_chopped = torch.stack((Y_raw[:, 1:], Y_raw[:, :-1]), axis = 2)\n",
    "        \n",
    "        #processes_p = gen_processes.gen_ar_iid_samples_extinct_gaussian_burn_in(30, SIG_KERNEL_SAMPLES_NO, a=0.8, extinction_rate=rate)\n",
    "        #Y_raw = processes_p[:, :, 0]\n",
    "        #Y_lead_lag_chopped = torch.stack((Y_raw[:, 1:], Y_raw[:, :-1]), axis = 2)\n",
    "\n",
    "        #idy = torch.randperm(processes.shape[0])\n",
    "        print(X_lead_lag_chopped.max())\n",
    "        #sigkernel.hypothesis_test(processes/8, torch.stack((processes[:, :, 0], processes[idy, :, 1]), axis = 2)/8, static_kernel=  sigkernel.RBFKernel(sigma = 1))\n",
    "        #sigkernel.hypothesis_test(X_lead_lag_chopped/4, Y_lead_lag_chopped/4, static_kernel = sigkernel.RBFKernel(sigma = 1), dyadic_order = 1)\n",
    "        #sigkernel.hypothesis_test(X_lead_lag_chopped/8, Y_lead_lag_chopped/8, static_kernel = sigkernel.LinearKernel(), dyadic_order = 1)\n",
    "        \n",
    "        #hsic_test_result = hsic_independence_test.get_test_result_matrix_shuffle(X_lead_lag_chopped/PROC_DIV, Y_lead_lag_chopped/PROC_DIV, static_kernel = sigkernel.RBFKernel(sigma = RBF_SIGMA))\n",
    "        #hsic_test_result = hsic_independence_test.get_test_result_matrix_shuffle(X_lead_lag_chopped/PROC_DIV, Y_lead_lag_chopped/PROC_DIV, static_kernel = sigkernel.RBFKernel(sigma = RBF_SIGMA))\n",
    "        #cov_test_result = cov_independence_test.get_test_result(X, Y)\n",
    "        print('RUN:', run)\n",
    "        print('HSIC:', hsic_test_result[1:])\n",
    "        #print('COV:', cov_test_result)\n",
    "\n",
    "        hsic_results[rate].append(hsic_test_result)\n",
    "        #cov_results[rate].append(cov_test_result)\n",
    "        \n",
    "    print('==================== END RATE {} ================='.format(rate))"
   ]
  },
  {
   "cell_type": "code",
   "execution_count": 334,
   "id": "e590470d",
   "metadata": {},
   "outputs": [],
   "source": [
    "hsic_results = {}\n",
    "cov_results = {}"
   ]
  },
  {
   "cell_type": "code",
   "execution_count": 335,
   "id": "fba88f30",
   "metadata": {
    "scrolled": true
   },
   "outputs": [
    {
     "name": "stderr",
     "output_type": "stream",
     "text": [
      "100%|█████████████████████████████████████████████████████████████████████████████████████████████████████████████| 50/50 [00:01<00:00, 40.60it/s]\n"
     ]
    },
    {
     "name": "stdout",
     "output_type": "stream",
     "text": [
      "RUN: 0\n",
      "HSIC: (6.855324012899899e-07, 0.5)\n"
     ]
    },
    {
     "name": "stderr",
     "output_type": "stream",
     "text": [
      "100%|█████████████████████████████████████████████████████████████████████████████████████████████████████████████| 50/50 [00:01<00:00, 41.66it/s]\n"
     ]
    },
    {
     "name": "stdout",
     "output_type": "stream",
     "text": [
      "RUN: 1\n",
      "HSIC: (3.7029720156844803e-07, 0.76)\n"
     ]
    },
    {
     "name": "stderr",
     "output_type": "stream",
     "text": [
      "100%|█████████████████████████████████████████████████████████████████████████████████████████████████████████████| 50/50 [00:01<00:00, 38.94it/s]\n"
     ]
    },
    {
     "name": "stdout",
     "output_type": "stream",
     "text": [
      "RUN: 2\n",
      "HSIC: (1.9039017908895062e-06, 0.02)\n"
     ]
    },
    {
     "name": "stderr",
     "output_type": "stream",
     "text": [
      "100%|█████████████████████████████████████████████████████████████████████████████████████████████████████████████| 50/50 [00:01<00:00, 41.86it/s]\n"
     ]
    },
    {
     "name": "stdout",
     "output_type": "stream",
     "text": [
      "RUN: 3\n",
      "HSIC: (3.276664004570051e-07, 0.72)\n"
     ]
    },
    {
     "name": "stderr",
     "output_type": "stream",
     "text": [
      "100%|█████████████████████████████████████████████████████████████████████████████████████████████████████████████| 50/50 [00:01<00:00, 37.18it/s]\n"
     ]
    },
    {
     "name": "stdout",
     "output_type": "stream",
     "text": [
      "RUN: 4\n",
      "HSIC: (5.667296147926493e-07, 0.5)\n"
     ]
    },
    {
     "name": "stderr",
     "output_type": "stream",
     "text": [
      "100%|█████████████████████████████████████████████████████████████████████████████████████████████████████████████| 50/50 [00:01<00:00, 36.19it/s]\n"
     ]
    },
    {
     "name": "stdout",
     "output_type": "stream",
     "text": [
      "RUN: 5\n",
      "HSIC: (9.389716046914742e-07, 0.4)\n"
     ]
    },
    {
     "ename": "KeyboardInterrupt",
     "evalue": "",
     "output_type": "error",
     "traceback": [
      "\u001b[0;31m---------------------------------------------------------------------------\u001b[0m",
      "\u001b[0;31mKeyboardInterrupt\u001b[0m                         Traceback (most recent call last)",
      "\u001b[0;32m/tmp/ipykernel_109851/2663105412.py\u001b[0m in \u001b[0;36m<module>\u001b[0;34m\u001b[0m\n\u001b[1;32m     16\u001b[0m         \u001b[0mY_lead_lag_chopped\u001b[0m \u001b[0;34m=\u001b[0m \u001b[0mtorch\u001b[0m\u001b[0;34m.\u001b[0m\u001b[0mstack\u001b[0m\u001b[0;34m(\u001b[0m\u001b[0;34m(\u001b[0m\u001b[0mY_raw\u001b[0m\u001b[0;34m[\u001b[0m\u001b[0;34m:\u001b[0m\u001b[0;34m,\u001b[0m \u001b[0;36m1\u001b[0m\u001b[0;34m:\u001b[0m\u001b[0;34m]\u001b[0m\u001b[0;34m,\u001b[0m \u001b[0mY_raw\u001b[0m\u001b[0;34m[\u001b[0m\u001b[0;34m:\u001b[0m\u001b[0;34m,\u001b[0m \u001b[0;34m:\u001b[0m\u001b[0;34m-\u001b[0m\u001b[0;36m1\u001b[0m\u001b[0;34m]\u001b[0m\u001b[0;34m)\u001b[0m\u001b[0;34m,\u001b[0m \u001b[0maxis\u001b[0m \u001b[0;34m=\u001b[0m \u001b[0;36m2\u001b[0m\u001b[0;34m)\u001b[0m\u001b[0;34m\u001b[0m\u001b[0;34m\u001b[0m\u001b[0m\n\u001b[1;32m     17\u001b[0m         \u001b[0;31m#hsic_test_result = hsic_independence_test.get_test_result_matrix_shuffle(X_lead_lag_chopped/PROC_DIV, Y_lead_lag_chopped/PROC_DIV, static_kernel = sigkernel.RBFKernel(sigma = RBF_SIGMA))\u001b[0m\u001b[0;34m\u001b[0m\u001b[0;34m\u001b[0m\u001b[0;34m\u001b[0m\u001b[0m\n\u001b[0;32m---> 18\u001b[0;31m         \u001b[0mhsic_test_result\u001b[0m \u001b[0;34m=\u001b[0m \u001b[0mhsic_independence_test\u001b[0m\u001b[0;34m.\u001b[0m\u001b[0mget_test_result_matrix_shuffle\u001b[0m\u001b[0;34m(\u001b[0m\u001b[0mX_lead_lag_chopped\u001b[0m\u001b[0;34m/\u001b[0m\u001b[0mPROC_DIV\u001b[0m\u001b[0;34m,\u001b[0m \u001b[0mY_lead_lag_chopped\u001b[0m\u001b[0;34m/\u001b[0m\u001b[0mPROC_DIV\u001b[0m\u001b[0;34m,\u001b[0m \u001b[0mstatic_kernel\u001b[0m \u001b[0;34m=\u001b[0m \u001b[0msigkernel\u001b[0m\u001b[0;34m.\u001b[0m\u001b[0mRBFKernel\u001b[0m\u001b[0;34m(\u001b[0m\u001b[0msigma\u001b[0m \u001b[0;34m=\u001b[0m \u001b[0mRBF_SIGMA\u001b[0m\u001b[0;34m)\u001b[0m\u001b[0;34m)\u001b[0m\u001b[0;34m\u001b[0m\u001b[0;34m\u001b[0m\u001b[0m\n\u001b[0m\u001b[1;32m     19\u001b[0m         \u001b[0;31m#cov_test_result = cov_independence_test.get_test_result(X, Y)\u001b[0m\u001b[0;34m\u001b[0m\u001b[0;34m\u001b[0m\u001b[0;34m\u001b[0m\u001b[0m\n\u001b[1;32m     20\u001b[0m         \u001b[0mprint\u001b[0m\u001b[0;34m(\u001b[0m\u001b[0;34m'RUN:'\u001b[0m\u001b[0;34m,\u001b[0m \u001b[0mrun\u001b[0m\u001b[0;34m)\u001b[0m\u001b[0;34m\u001b[0m\u001b[0;34m\u001b[0m\u001b[0m\n",
      "\u001b[0;32m~/learning/thesis/src/proper_test_eval/lib/hsic_independence_test.py\u001b[0m in \u001b[0;36mget_test_result_matrix_shuffle\u001b[0;34m(X, Y, dyadic_order, static_kernel, no_shuffles)\u001b[0m\n\u001b[1;32m    119\u001b[0m \u001b[0;34m\u001b[0m\u001b[0m\n\u001b[1;32m    120\u001b[0m \u001b[0;32mdef\u001b[0m \u001b[0mget_test_result_matrix_shuffle\u001b[0m\u001b[0;34m(\u001b[0m\u001b[0mX\u001b[0m\u001b[0;34m,\u001b[0m \u001b[0mY\u001b[0m\u001b[0;34m,\u001b[0m \u001b[0mdyadic_order\u001b[0m \u001b[0;34m=\u001b[0m \u001b[0;36m1\u001b[0m\u001b[0;34m,\u001b[0m \u001b[0mstatic_kernel\u001b[0m \u001b[0;34m=\u001b[0m \u001b[0msigkernel\u001b[0m\u001b[0;34m.\u001b[0m\u001b[0mRBFKernel\u001b[0m\u001b[0;34m(\u001b[0m\u001b[0msigma\u001b[0m\u001b[0;34m=\u001b[0m\u001b[0;36m0.5\u001b[0m\u001b[0;34m)\u001b[0m\u001b[0;34m,\u001b[0m \u001b[0mno_shuffles\u001b[0m \u001b[0;34m=\u001b[0m \u001b[0;36m50\u001b[0m\u001b[0;34m)\u001b[0m\u001b[0;34m:\u001b[0m\u001b[0;34m\u001b[0m\u001b[0;34m\u001b[0m\u001b[0m\n\u001b[0;32m--> 121\u001b[0;31m     \u001b[0mgram_x\u001b[0m\u001b[0;34m,\u001b[0m \u001b[0mgram_y\u001b[0m \u001b[0;34m=\u001b[0m \u001b[0mget_gram_matrices\u001b[0m\u001b[0;34m(\u001b[0m\u001b[0mX\u001b[0m\u001b[0;34m,\u001b[0m \u001b[0mY\u001b[0m\u001b[0;34m,\u001b[0m \u001b[0mdyadic_order\u001b[0m\u001b[0;34m,\u001b[0m \u001b[0mstatic_kernel\u001b[0m\u001b[0;34m)\u001b[0m\u001b[0;34m\u001b[0m\u001b[0;34m\u001b[0m\u001b[0m\n\u001b[0m\u001b[1;32m    122\u001b[0m     \u001b[0mhsic_score\u001b[0m \u001b[0;34m=\u001b[0m \u001b[0mget_hsic_score\u001b[0m\u001b[0;34m(\u001b[0m\u001b[0mgram_x\u001b[0m\u001b[0;34m,\u001b[0m \u001b[0mgram_y\u001b[0m\u001b[0;34m)\u001b[0m\u001b[0;34m\u001b[0m\u001b[0;34m\u001b[0m\u001b[0m\n\u001b[1;32m    123\u001b[0m     \u001b[0mnull_pdf_empirical\u001b[0m \u001b[0;34m=\u001b[0m \u001b[0mget_hsic_null_dist_mc_matrix_shuffle_approx\u001b[0m\u001b[0;34m(\u001b[0m\u001b[0mgram_x\u001b[0m\u001b[0;34m,\u001b[0m \u001b[0mgram_y\u001b[0m\u001b[0;34m,\u001b[0m \u001b[0mdyadic_order\u001b[0m\u001b[0;34m,\u001b[0m \u001b[0mstatic_kernel\u001b[0m\u001b[0;34m,\u001b[0m \u001b[0mno_shuffles\u001b[0m\u001b[0;34m)\u001b[0m\u001b[0;34m\u001b[0m\u001b[0;34m\u001b[0m\u001b[0m\n",
      "\u001b[0;32m~/learning/thesis/src/proper_test_eval/lib/hsic_independence_test.py\u001b[0m in \u001b[0;36mget_gram_matrices\u001b[0;34m(X, Y, dyadic_order, static_kernel)\u001b[0m\n\u001b[1;32m     13\u001b[0m     \u001b[0;32mfor\u001b[0m \u001b[0mi\u001b[0m\u001b[0;34m,\u001b[0m \u001b[0mj\u001b[0m \u001b[0;32min\u001b[0m \u001b[0mproduct\u001b[0m\u001b[0;34m(\u001b[0m\u001b[0mrange\u001b[0m\u001b[0;34m(\u001b[0m\u001b[0mn\u001b[0m\u001b[0;34m)\u001b[0m\u001b[0;34m,\u001b[0m \u001b[0mrange\u001b[0m\u001b[0;34m(\u001b[0m\u001b[0mn\u001b[0m\u001b[0;34m)\u001b[0m\u001b[0;34m)\u001b[0m\u001b[0;34m:\u001b[0m\u001b[0;34m\u001b[0m\u001b[0;34m\u001b[0m\u001b[0m\n\u001b[1;32m     14\u001b[0m         \u001b[0mgram_x\u001b[0m\u001b[0;34m[\u001b[0m\u001b[0mi\u001b[0m\u001b[0;34m,\u001b[0m \u001b[0mj\u001b[0m\u001b[0;34m]\u001b[0m \u001b[0;34m=\u001b[0m \u001b[0msignature_kernel\u001b[0m\u001b[0;34m.\u001b[0m\u001b[0mcompute_kernel\u001b[0m\u001b[0;34m(\u001b[0m\u001b[0mX\u001b[0m\u001b[0;34m[\u001b[0m\u001b[0mi\u001b[0m\u001b[0;34m:\u001b[0m\u001b[0mi\u001b[0m\u001b[0;34m+\u001b[0m\u001b[0;36m1\u001b[0m\u001b[0;34m,\u001b[0m \u001b[0;34m:\u001b[0m\u001b[0;34m,\u001b[0m \u001b[0;34m:\u001b[0m\u001b[0;34m]\u001b[0m\u001b[0;34m,\u001b[0m \u001b[0mX\u001b[0m\u001b[0;34m[\u001b[0m\u001b[0mj\u001b[0m\u001b[0;34m:\u001b[0m\u001b[0mj\u001b[0m\u001b[0;34m+\u001b[0m\u001b[0;36m1\u001b[0m\u001b[0;34m,\u001b[0m \u001b[0;34m:\u001b[0m\u001b[0;34m,\u001b[0m \u001b[0;34m:\u001b[0m\u001b[0;34m]\u001b[0m\u001b[0;34m)\u001b[0m\u001b[0;34m\u001b[0m\u001b[0;34m\u001b[0m\u001b[0m\n\u001b[0;32m---> 15\u001b[0;31m         \u001b[0mgram_y\u001b[0m\u001b[0;34m[\u001b[0m\u001b[0mi\u001b[0m\u001b[0;34m,\u001b[0m \u001b[0mj\u001b[0m\u001b[0;34m]\u001b[0m \u001b[0;34m=\u001b[0m \u001b[0msignature_kernel\u001b[0m\u001b[0;34m.\u001b[0m\u001b[0mcompute_kernel\u001b[0m\u001b[0;34m(\u001b[0m\u001b[0mY\u001b[0m\u001b[0;34m[\u001b[0m\u001b[0mi\u001b[0m\u001b[0;34m:\u001b[0m\u001b[0mi\u001b[0m\u001b[0;34m+\u001b[0m\u001b[0;36m1\u001b[0m\u001b[0;34m,\u001b[0m \u001b[0;34m:\u001b[0m\u001b[0;34m,\u001b[0m \u001b[0;34m:\u001b[0m\u001b[0;34m]\u001b[0m\u001b[0;34m,\u001b[0m \u001b[0mY\u001b[0m\u001b[0;34m[\u001b[0m\u001b[0mj\u001b[0m\u001b[0;34m:\u001b[0m\u001b[0mj\u001b[0m\u001b[0;34m+\u001b[0m\u001b[0;36m1\u001b[0m\u001b[0;34m,\u001b[0m \u001b[0;34m:\u001b[0m\u001b[0;34m,\u001b[0m \u001b[0;34m:\u001b[0m\u001b[0;34m]\u001b[0m\u001b[0;34m)\u001b[0m\u001b[0;34m\u001b[0m\u001b[0;34m\u001b[0m\u001b[0m\n\u001b[0m\u001b[1;32m     16\u001b[0m \u001b[0;34m\u001b[0m\u001b[0m\n\u001b[1;32m     17\u001b[0m     \u001b[0;32mreturn\u001b[0m \u001b[0mgram_x\u001b[0m\u001b[0;34m,\u001b[0m \u001b[0mgram_y\u001b[0m\u001b[0;34m\u001b[0m\u001b[0;34m\u001b[0m\u001b[0m\n",
      "\u001b[0;32m~/miniconda3/envs/signatures/lib/python3.7/site-packages/sigkernel/sigkernel.py\u001b[0m in \u001b[0;36mcompute_kernel\u001b[0;34m(self, X, Y)\u001b[0m\n\u001b[1;32m     93\u001b[0m                   \u001b[0;34m-\u001b[0m \u001b[0mvector\u001b[0m \u001b[0mk\u001b[0m\u001b[0;34m(\u001b[0m\u001b[0mX\u001b[0m\u001b[0;34m^\u001b[0m\u001b[0mi_T\u001b[0m\u001b[0;34m,\u001b[0m\u001b[0mY\u001b[0m\u001b[0;34m^\u001b[0m\u001b[0mi_T\u001b[0m\u001b[0;34m)\u001b[0m \u001b[0mof\u001b[0m \u001b[0mshape\u001b[0m \u001b[0;34m(\u001b[0m\u001b[0mbatch\u001b[0m\u001b[0;34m,\u001b[0m\u001b[0;34m)\u001b[0m\u001b[0;34m\u001b[0m\u001b[0;34m\u001b[0m\u001b[0m\n\u001b[1;32m     94\u001b[0m         \"\"\"\n\u001b[0;32m---> 95\u001b[0;31m         \u001b[0;32mreturn\u001b[0m \u001b[0m_SigKernel\u001b[0m\u001b[0;34m.\u001b[0m\u001b[0mapply\u001b[0m\u001b[0;34m(\u001b[0m\u001b[0mX\u001b[0m\u001b[0;34m,\u001b[0m \u001b[0mY\u001b[0m\u001b[0;34m,\u001b[0m \u001b[0mself\u001b[0m\u001b[0;34m.\u001b[0m\u001b[0mstatic_kernel\u001b[0m\u001b[0;34m,\u001b[0m \u001b[0mself\u001b[0m\u001b[0;34m.\u001b[0m\u001b[0mdyadic_order\u001b[0m\u001b[0;34m,\u001b[0m \u001b[0mself\u001b[0m\u001b[0;34m.\u001b[0m\u001b[0m_naive_solver\u001b[0m\u001b[0;34m)\u001b[0m\u001b[0;34m\u001b[0m\u001b[0;34m\u001b[0m\u001b[0m\n\u001b[0m\u001b[1;32m     96\u001b[0m \u001b[0;34m\u001b[0m\u001b[0m\n\u001b[1;32m     97\u001b[0m     \u001b[0;32mdef\u001b[0m \u001b[0mcompute_Gram\u001b[0m\u001b[0;34m(\u001b[0m\u001b[0mself\u001b[0m\u001b[0;34m,\u001b[0m \u001b[0mX\u001b[0m\u001b[0;34m,\u001b[0m \u001b[0mY\u001b[0m\u001b[0;34m,\u001b[0m \u001b[0msym\u001b[0m\u001b[0;34m=\u001b[0m\u001b[0;32mFalse\u001b[0m\u001b[0;34m)\u001b[0m\u001b[0;34m:\u001b[0m\u001b[0;34m\u001b[0m\u001b[0;34m\u001b[0m\u001b[0m\n",
      "\u001b[0;32m~/miniconda3/envs/signatures/lib/python3.7/site-packages/sigkernel/sigkernel.py\u001b[0m in \u001b[0;36mforward\u001b[0;34m(ctx, X, Y, static_kernel, dyadic_order, _naive_solver)\u001b[0m\n\u001b[1;32m    178\u001b[0m         \u001b[0;31m# if on CPU\u001b[0m\u001b[0;34m\u001b[0m\u001b[0;34m\u001b[0m\u001b[0;34m\u001b[0m\u001b[0m\n\u001b[1;32m    179\u001b[0m         \u001b[0;32melse\u001b[0m\u001b[0;34m:\u001b[0m\u001b[0;34m\u001b[0m\u001b[0;34m\u001b[0m\u001b[0m\n\u001b[0;32m--> 180\u001b[0;31m             \u001b[0mK\u001b[0m \u001b[0;34m=\u001b[0m \u001b[0mtorch\u001b[0m\u001b[0;34m.\u001b[0m\u001b[0mtensor\u001b[0m\u001b[0;34m(\u001b[0m\u001b[0msig_kernel_batch_varpar\u001b[0m\u001b[0;34m(\u001b[0m\u001b[0mG_static_\u001b[0m\u001b[0;34m.\u001b[0m\u001b[0mdetach\u001b[0m\u001b[0;34m(\u001b[0m\u001b[0;34m)\u001b[0m\u001b[0;34m.\u001b[0m\u001b[0mnumpy\u001b[0m\u001b[0;34m(\u001b[0m\u001b[0;34m)\u001b[0m\u001b[0;34m,\u001b[0m \u001b[0m_naive_solver\u001b[0m\u001b[0;34m)\u001b[0m\u001b[0;34m,\u001b[0m \u001b[0mdtype\u001b[0m\u001b[0;34m=\u001b[0m\u001b[0mG_static\u001b[0m\u001b[0;34m.\u001b[0m\u001b[0mdtype\u001b[0m\u001b[0;34m,\u001b[0m \u001b[0mdevice\u001b[0m\u001b[0;34m=\u001b[0m\u001b[0mG_static\u001b[0m\u001b[0;34m.\u001b[0m\u001b[0mdevice\u001b[0m\u001b[0;34m)\u001b[0m\u001b[0;34m\u001b[0m\u001b[0;34m\u001b[0m\u001b[0m\n\u001b[0m\u001b[1;32m    181\u001b[0m \u001b[0;34m\u001b[0m\u001b[0m\n\u001b[1;32m    182\u001b[0m         \u001b[0mctx\u001b[0m\u001b[0;34m.\u001b[0m\u001b[0msave_for_backward\u001b[0m\u001b[0;34m(\u001b[0m\u001b[0mX\u001b[0m\u001b[0;34m,\u001b[0m\u001b[0mY\u001b[0m\u001b[0;34m,\u001b[0m\u001b[0mG_static\u001b[0m\u001b[0;34m,\u001b[0m\u001b[0mK\u001b[0m\u001b[0;34m)\u001b[0m\u001b[0;34m\u001b[0m\u001b[0;34m\u001b[0m\u001b[0m\n",
      "\u001b[0;31mKeyboardInterrupt\u001b[0m: "
     ]
    }
   ],
   "source": [
    "for rate in EXTINCTION_RATES:#[0, 0.3, 0.8]:    \n",
    "    #processes = gen_processes.gen_ar_iid_samples_extinct_gaussian_burn_in(N_TIMESTEPS+1, M_RUNS, a=A, extinction_rate=rate)\n",
    "    hsic_results[rate] = []\n",
    "    cov_results[rate] = []\n",
    "    for run in range(M_RUNS):\n",
    "        #X_raw = processes[run, :, 0]\n",
    "        #Y_raw = processes[run, :, 1]\n",
    "        #X_lead_lag_chopped, Y_lead_lag_chopped = get_bootstrap_samples_lead_lag(X_raw, Y_raw)\n",
    "        \n",
    "        #X = X_raw[:N_TIMESTEPS]\n",
    "        #Y = Y_raw[:N_TIMESTEPS]\n",
    "        processes = gen_processes.gen_ar_iid_samples_extinct_gaussian_burn_in(30, SIG_KERNEL_SAMPLES_NO, a=A, extinction_rate=rate)\n",
    "        X_raw = processes[:, :, 0]\n",
    "        Y_raw = processes[:, :, 1]\n",
    "        X_lead_lag_chopped = torch.stack((X_raw[:, 1:], X_raw[:, :-1]), axis = 2)\n",
    "        Y_lead_lag_chopped = torch.stack((Y_raw[:, 1:], Y_raw[:, :-1]), axis = 2)\n",
    "        #hsic_test_result = hsic_independence_test.get_test_result_matrix_shuffle(X_lead_lag_chopped/PROC_DIV, Y_lead_lag_chopped/PROC_DIV, static_kernel = sigkernel.RBFKernel(sigma = RBF_SIGMA))\n",
    "        hsic_test_result = hsic_independence_test.get_test_result_matrix_shuffle(X_lead_lag_chopped/PROC_DIV, Y_lead_lag_chopped/PROC_DIV, static_kernel = sigkernel.RBFKernel(sigma = RBF_SIGMA))\n",
    "        #cov_test_result = cov_independence_test.get_test_result(X, Y)\n",
    "        print('RUN:', run)\n",
    "        print('HSIC:', hsic_test_result[1:])\n",
    "        #print('COV:', cov_test_result)\n",
    "\n",
    "        hsic_results[rate].append(hsic_test_result)\n",
    "        #cov_results[rate].append(cov_test_result)\n",
    "        \n",
    "    print('==================== END RATE {} ================='.format(rate))"
   ]
  },
  {
   "cell_type": "code",
   "execution_count": 299,
   "id": "4a28fec3",
   "metadata": {},
   "outputs": [],
   "source": [
    "def get_null_rejection_rate(results):\n",
    "    a = 0\n",
    "    for tup in results:\n",
    "        a += (tup[2] < 0.025) or (tup[2] > 0.975)\n",
    "    return a / len(results)"
   ]
  },
  {
   "cell_type": "code",
   "execution_count": 279,
   "id": "1f4b10ac",
   "metadata": {},
   "outputs": [],
   "source": [
    "def get_null_sampling_approx_from_all_results(all_results):\n",
    "    null_approx = None\n",
    "    for rate in all_results.keys():\n",
    "        for tup in all_results[rate]:\n",
    "            if null_approx == None:\n",
    "                null_approx = tup[0]\n",
    "            else:\n",
    "                null_approx = torch.cat((null_approx, tup[0]), dim = 0)\n",
    "    null =  np.array([item.item() for item in null_approx])\n",
    "    null.sort()\n",
    "    return null"
   ]
  },
  {
   "cell_type": "code",
   "execution_count": 280,
   "id": "35cf1ac4",
   "metadata": {},
   "outputs": [],
   "source": [
    "def get_test_statistic_dists_from_all_results(all_results):\n",
    "    hsic_dist = {}\n",
    "    a = 0\n",
    "    for rate in all_results.keys():\n",
    "        hsic_dist[rate] = []\n",
    "        for tup in all_results[rate]:\n",
    "            hsic_dist[rate].append(tup[1])\n",
    "        hsic_dist[rate] = np.array(hsic_dist[rate])\n",
    "    return hsic_dist"
   ]
  },
  {
   "cell_type": "code",
   "execution_count": 281,
   "id": "f7d721f3",
   "metadata": {},
   "outputs": [],
   "source": [
    "def get_cov_null_rejection_rate(results):\n",
    "    a = 0\n",
    "    for tup in results:\n",
    "        a += (tup[1] < 0.025) or (tup[1] > 0.975)\n",
    "    return a / len(results)"
   ]
  },
  {
   "cell_type": "code",
   "execution_count": 282,
   "id": "010a0c76",
   "metadata": {},
   "outputs": [],
   "source": [
    "def get_test_cutoff_thresholds_for_null(null):\n",
    "    return (null[int((len(null)-1)*0.025)], null[int((len(null)-1)*0.975)])"
   ]
  },
  {
   "cell_type": "code",
   "execution_count": 283,
   "id": "b1ae8eb0",
   "metadata": {},
   "outputs": [],
   "source": [
    "null = get_null_sampling_approx_from_all_results(hsic_results)\n",
    "test_statistic_dists = get_test_statistic_dists_from_all_results(hsic_results)\n",
    "low_thresh, high_thresh = get_test_cutoff_thresholds_for_null(null)"
   ]
  },
  {
   "cell_type": "code",
   "execution_count": 284,
   "id": "6586c1dd",
   "metadata": {},
   "outputs": [
    {
     "data": {
      "text/plain": [
       "<matplotlib.collections.PathCollection at 0x7f565ad44d90>"
      ]
     },
     "execution_count": 284,
     "metadata": {},
     "output_type": "execute_result"
    },
    {
     "data": {
      "image/png": "[encoded data removed]",
      "text/plain": [
       "<Figure size 432x288 with 1 Axes>"
      ]
     },
     "metadata": {
      "needs_background": "light"
     },
     "output_type": "display_data"
    }
   ],
   "source": [
    "plt.scatter(EXTINCTION_RATES, [get_null_rejection_rate(hsic_results[rate]) for rate in EXTINCTION_RATES])\n",
    "plt.scatter(EXTINCTION_RATES, [get_cov_null_rejection_rate(cov_results[rate]) for rate in EXTINCTION_RATES])"
   ]
  },
  {
   "cell_type": "code",
   "execution_count": 287,
   "id": "0e9c3def",
   "metadata": {},
   "outputs": [
    {
     "data": {
      "text/plain": [
       "<matplotlib.lines.Line2D at 0x7f565ad34c50>"
      ]
     },
     "execution_count": 287,
     "metadata": {},
     "output_type": "execute_result"
    },
    {
     "data": {
      "image/png": "[encoded data removed]",
      "text/plain": [
       "<Figure size 432x288 with 1 Axes>"
      ]
     },
     "metadata": {
      "needs_background": "light"
     },
     "output_type": "display_data"
    }
   ],
   "source": [
    "plt.hist(null, bins = 100, density = True);\n",
    "plt.hist(test_statistic_dists[1], bins = 20, density = True, alpha = 0.8)\n",
    "plt.axvline(low_thresh, alpha = 0.3, color = 'red')\n",
    "plt.axvline(high_thresh, alpha = 0.3, color = 'red')"
   ]
  },
  {
   "cell_type": "code",
   "execution_count": 158,
   "id": "db065935",
   "metadata": {},
   "outputs": [],
   "source": [
    "def push_results():\n",
    "    BIG_RESULT_MEMORY_PLACE.append({\n",
    "        'N_TIMESTEPS' : N_TIMESTEPS,\n",
    "        'NO_TIMESTEPS_PER_SAMPLE' : int(N_TIMESTEPS / SIG_KERNEL_SAMPLES_NO),\n",
    "        'SIG_KERNEL_SAMPLES_NO' : SIG_KERNEL_SAMPLES_NO,\n",
    "        'M_RUNS' : M_RUNS,\n",
    "        'COVS' : COVS,\n",
    "        'COV RESULTS' : cov_results,\n",
    "        'PROC_DIV' : PROC_DIV,\n",
    "        'RBF_SIGMA' : RBF_SIGMA,\n",
    "        'NULL' : null,\n",
    "        'A' : A,\n",
    "        'TEST DISTS' : test_statistic_dists,\n",
    "        'TEST HIGH LOW THRES': (high_thresh, low_thresh),\n",
    "        'COMMENT' : 'Using the V_statistic now, faster and also seems reliable'\n",
    "    })\n",
    "    pp.pprint(BIG_RESULT_MEMORY_PLACE[-1])"
   ]
  },
  {
   "cell_type": "code",
   "execution_count": 159,
   "id": "06adf85f",
   "metadata": {},
   "outputs": [
    {
     "name": "stdout",
     "output_type": "stream",
     "text": [
      "{   'A': 0.2,\n",
      "    'COMMENT': 'Using the V_statistic now, faster and also seems reliable',\n",
      "    'COV RESULTS': {   0.8: [   (tensor(-0.0143), 0.6843193812019681),\n",
      "                                (tensor(0.0237), 0.21211053013423442),\n",
      "                                (tensor(0.0332), 0.13140236300723074),\n",
      "                                (tensor(6.2296e-05), 0.4991988066445927),\n",
      "                                (tensor(-0.0121), 0.6524937915668025),\n",
      "                                (tensor(0.0111), 0.3556742167565139),\n",
      "                                (tensor(0.0020), 0.47409369728552864),\n",
      "                                (tensor(-0.0372), 0.893824006489681),\n",
      "                                (tensor(-0.0205), 0.7432498589020573),\n",
      "                                (tensor(0.0703), 0.008883144447755953),\n",
      "                                (tensor(0.0005), 0.4934650016553316),\n",
      "                                (tensor(-0.0083), 0.6066225784336718),\n",
      "                                (tensor(-0.0283), 0.8195920867825666),\n",
      "                                (tensor(-0.0046), 0.558754170277554),\n",
      "                                (tensor(-0.0271), 0.809760159847484),\n",
      "                                (tensor(-0.0012), 0.5164416297371548),\n",
      "                                (tensor(-0.0304), 0.8287582242607836),\n",
      "                                (tensor(0.0021), 0.47261624561255045),\n",
      "                                (tensor(0.0098), 0.3656960508644378),\n",
      "                                (tensor(0.0212), 0.24298023730836804),\n",
      "                                (tensor(-0.0321), 0.8578655546476642),\n",
      "                                (tensor(-0.0386), 0.8937398093096351),\n",
      "                                (tensor(0.0146), 0.3207765681178387),\n",
      "                                (tensor(0.0051), 0.4319941191590314),\n",
      "                                (tensor(0.0254), 0.20018297760058645),\n",
      "                                (tensor(-0.0432), 0.9124141868331541),\n",
      "                                (tensor(-0.0037), 0.5466220400638879),\n",
      "                                (tensor(-0.0209), 0.7471864214818043),\n",
      "                                (tensor(0.0162), 0.29170758512394523),\n",
      "                                (tensor(-0.0489), 0.958416741156634),\n",
      "                                (tensor(0.0044), 0.4434110635186529),\n",
      "                                (tensor(0.0192), 0.26658624813038556),\n",
      "                                (tensor(0.0420), 0.08460303856504825),\n",
      "                                (tensor(0.0045), 0.4420385727470505),\n",
      "                                (tensor(-0.0183), 0.7269070151446995),\n",
      "                                (tensor(-0.0106), 0.6370611027779208),\n",
      "                                (tensor(0.0609), 0.0184840980782377),\n",
      "                                (tensor(-0.0288), 0.8275031812487681),\n",
      "                                (tensor(0.0198), 0.26452587536539107),\n",
      "                                (tensor(0.0023), 0.46959114687953696),\n",
      "                                (tensor(0.0537), 0.03841094460929617),\n",
      "                                (tensor(-0.0492), 0.9489141480707485),\n",
      "                                (tensor(-0.0234), 0.7816795200006705),\n",
      "                                (tensor(-0.0244), 0.7810600934832715),\n",
      "                                (tensor(-0.0722), 0.9917422435109184),\n",
      "                                (tensor(-0.0299), 0.8345284672487621),\n",
      "                                (tensor(0.0326), 0.14498855078939),\n",
      "                                (tensor(0.0173), 0.2876350472278726),\n",
      "                                (tensor(0.0387), 0.10091848267781156),\n",
      "                                (tensor(0.0371), 0.11460337433724566)]},\n",
      "    'COVS': [0, 0.05, 0.1, 0.2, 0.3, 0.4],\n",
      "    'M_RUNS': 50,\n",
      "    'NO_TIMESTEPS_PER_SAMPLE': 6,\n",
      "    'NULL': array([3.10687528e-06, 3.25848339e-06, 3.26116933e-06, ...,\n",
      "       9.18332260e-05, 1.05789637e-04, 1.22429892e-04]),\n",
      "    'N_TIMESTEPS': 1800,\n",
      "    'PROC_DIV': 8,\n",
      "    'RBF_SIGMA': 2,\n",
      "    'SIG_KERNEL_SAMPLES_NO': 300,\n",
      "    'TEST DISTS': {   0.8: array([2.10383065e-05, 3.67911051e-05, 1.23580538e-05, 3.49686836e-05,\n",
      "       1.73522010e-05, 1.10644645e-05, 2.25235404e-05, 2.55797821e-05,\n",
      "       2.45817276e-05, 6.23488162e-05, 9.82569836e-06, 3.18751545e-05,\n",
      "       4.66054145e-05, 1.18235422e-05, 2.42806783e-05, 2.50550982e-05,\n",
      "       5.03643635e-05, 2.30465800e-05, 1.39386112e-05, 1.16278472e-05,\n",
      "       4.40082489e-05, 3.11724052e-05, 1.06226422e-05, 2.30477140e-05,\n",
      "       4.81774897e-05, 1.62582634e-05, 1.27227637e-05, 5.02162434e-06,\n",
      "       1.44593410e-05, 1.31074664e-05, 2.67784526e-05, 3.02100323e-05,\n",
      "       2.33244143e-05, 7.17105901e-05, 2.14917873e-05, 5.78703062e-06,\n",
      "       7.12252305e-05, 2.71630958e-05, 2.52664518e-05, 4.16083400e-05,\n",
      "       1.64934138e-05, 4.18639853e-05, 3.18420528e-05, 5.09470010e-05,\n",
      "       2.10078524e-05, 1.85490429e-05, 3.91439316e-05, 3.44332236e-05,\n",
      "       1.03827508e-05, 1.00794037e-05])},\n",
      "    'TEST HIGH LOW THRES': (5.73580731095813e-05, 5.7959358166215225e-06)}\n"
     ]
    }
   ],
   "source": [
    "push_results()"
   ]
  },
  {
   "cell_type": "code",
   "execution_count": 160,
   "id": "286569ac",
   "metadata": {},
   "outputs": [],
   "source": [
    "import datetime"
   ]
  },
  {
   "cell_type": "code",
   "execution_count": 161,
   "id": "f5504dd0",
   "metadata": {},
   "outputs": [],
   "source": [
    "import pickle\n",
    "with open('./hsic_test_on_extinct_gaussian_BIG_RESULTS_{}.pickle'.format(datetime.datetime.today()).replace(' ', '_').replace(':', '.'), 'wb') as f:\n",
    "    pickle.dump(BIG_RESULT_MEMORY_PLACE, f)"
   ]
  },
  {
   "cell_type": "code",
   "execution_count": null,
   "id": "8d255f7a",
   "metadata": {},
   "outputs": [],
   "source": []
  }
 ],
 "metadata": {
  "kernelspec": {
   "display_name": "Python 3 (ipykernel)",
   "language": "python",
   "name": "python3"
  },
  "language_info": {
   "codemirror_mode": {
    "name": "ipython",
    "version": 3
   },
   "file_extension": ".py",
   "mimetype": "text/x-python",
   "name": "python",
   "nbconvert_exporter": "python",
   "pygments_lexer": "ipython3",
   "version": "3.7.11"
  }
 },
 "nbformat": 4,
 "nbformat_minor": 5
}
