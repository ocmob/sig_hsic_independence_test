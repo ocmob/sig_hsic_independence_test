{
 "cells": [
  {
   "cell_type": "code",
   "execution_count": 1,
   "id": "529b5d4b",
   "metadata": {},
   "outputs": [],
   "source": [
    "import os\n",
    "import sys"
   ]
  },
  {
   "cell_type": "code",
   "execution_count": 2,
   "id": "077be733",
   "metadata": {},
   "outputs": [],
   "source": [
    "sys.path.append('../lib')\n",
    "sys.path.append('../lib/sigkernel')"
   ]
  },
  {
   "cell_type": "code",
   "execution_count": 3,
   "id": "c3d582b2",
   "metadata": {},
   "outputs": [],
   "source": [
    "import cov_independence_test\n",
    "import hsic_independence_test\n",
    "import gen_processes"
   ]
  },
  {
   "cell_type": "code",
   "execution_count": 4,
   "id": "0e10e19c",
   "metadata": {},
   "outputs": [],
   "source": [
    "from importlib import reload\n",
    "import pickle"
   ]
  },
  {
   "cell_type": "code",
   "execution_count": 5,
   "id": "9e687d2c",
   "metadata": {},
   "outputs": [],
   "source": [
    "reload(cov_independence_test);\n",
    "reload(hsic_independence_test);\n",
    "reload(gen_processes);"
   ]
  },
  {
   "cell_type": "code",
   "execution_count": 6,
   "id": "2ab8bf42",
   "metadata": {},
   "outputs": [],
   "source": [
    "import datetime\n",
    "import logging\n",
    "import logging.handlers\n",
    "LOGGER = logging.getLogger('logger')\n",
    "\n",
    "def configure_logger():\n",
    "    warning_handler = logging.StreamHandler()\n",
    "    warning_handler.setLevel('WARNING')\n",
    "\n",
    "    info_handler = logging.StreamHandler(sys.stdout)\n",
    "    info_handler.setLevel('DEBUG')\n",
    "    info_handler.addFilter(lambda record: record.levelno <= logging.INFO)\n",
    "\n",
    "    LOGGER.addHandler(warning_handler)\n",
    "    LOGGER.addHandler(info_handler)\n",
    "\n",
    "def add_file_handlers(warning_log, info_log, debug_log):\n",
    "    warning_log_handler = logging.FileHandler(warning_log)\n",
    "    warning_log_handler.setLevel('WARNING')\n",
    "\n",
    "    info_log_handler = logging.FileHandler(info_log)\n",
    "    info_log_handler.addFilter(lambda record: record.levelno <= logging.INFO)\n",
    "    info_log_handler.setLevel('INFO')\n",
    "\n",
    "    debug_log_handler = logging.FileHandler(debug_log)\n",
    "    debug_log_handler.addFilter(lambda record: record.levelno <= logging.DEBUG)\n",
    "    debug_log_handler.setLevel('DEBUG')\n",
    "\n",
    "    LOGGER.addHandler(warning_log_handler)\n",
    "    LOGGER.addHandler(info_log_handler)\n",
    "    LOGGER.addHandler(debug_log_handler)\n",
    "    \n",
    "OUTPUT_DIR = 'grand_hsic_test_outputs/{}/'.format(datetime.datetime.now().isoformat())\n",
    "DEBUG_LOG_PATH = OUTPUT_DIR + 'debug_log'\n",
    "INFO_LOG_PATH = OUTPUT_DIR + 'info_log'\n",
    "WARNING_LOG_PATH = OUTPUT_DIR + 'warning_log'\n",
    "\n",
    "configure_logger()\n",
    "os.makedirs(OUTPUT_DIR)\n",
    "add_file_handlers(WARNING_LOG_PATH, INFO_LOG_PATH, DEBUG_LOG_PATH)"
   ]
  },
  {
   "cell_type": "code",
   "execution_count": 7,
   "id": "29db4974",
   "metadata": {},
   "outputs": [],
   "source": [
    "import traceback"
   ]
  },
  {
   "cell_type": "code",
   "execution_count": 8,
   "id": "eb2d182e",
   "metadata": {},
   "outputs": [],
   "source": [
    "import numpy as np\n",
    "import matplotlib.pyplot as plt\n",
    "import statsmodels.tsa.ar_model as ar\n",
    "import torch\n",
    "torch.set_default_dtype(torch.double)\n",
    "import sigkernel_scale\n",
    "import sigkernel\n",
    "import warnings"
   ]
  },
  {
   "cell_type": "code",
   "execution_count": 9,
   "id": "984ac2a4",
   "metadata": {},
   "outputs": [],
   "source": [
    "import pprint\n",
    "pp = pprint.PrettyPrinter(indent = 4)"
   ]
  },
  {
   "cell_type": "code",
   "execution_count": 10,
   "id": "8899319f",
   "metadata": {},
   "outputs": [],
   "source": [
    "import scipy.stats as stats"
   ]
  },
  {
   "cell_type": "code",
   "execution_count": 11,
   "id": "863dd4e4",
   "metadata": {},
   "outputs": [],
   "source": [
    "from tqdm import tqdm"
   ]
  },
  {
   "cell_type": "code",
   "execution_count": 12,
   "id": "b1a815b2",
   "metadata": {},
   "outputs": [],
   "source": [
    "from itertools import product"
   ]
  },
  {
   "cell_type": "code",
   "execution_count": 13,
   "id": "2f057170",
   "metadata": {},
   "outputs": [],
   "source": [
    "import matplotlib.pyplot as plt"
   ]
  },
  {
   "cell_type": "code",
   "execution_count": 14,
   "id": "49ffc749",
   "metadata": {},
   "outputs": [],
   "source": [
    "from scipy.optimize import brentq"
   ]
  },
  {
   "cell_type": "code",
   "execution_count": 15,
   "id": "9a34a751",
   "metadata": {},
   "outputs": [],
   "source": [
    "#SIG_KERNEL_SAMPLES_NO = 100\n",
    "#SAMPLE_LENGTHS = [3, 6, 11, 31, 101]\n",
    "#M_RUNS = 50\n",
    "#CORRELATIONS = [0, 0.1, 0.2, 0.3, 0.4, 0.5, 0.8]\n",
    "#EXTINCTION_RATES = [0, 0.5, 1.]\n",
    "#RBF_SIGMAS = [0.5, 1., 4., 6., 8.]\n",
    "#DYADIC_ORDERS = [0, 2, 4]\n",
    "#A=[0., 0.2, 0.5, 0.8]\n",
    "\n",
    "SIG_KERNEL_SAMPLES_NO = 5\n",
    "SAMPLE_LENGTHS = [3]\n",
    "M_RUNS = 2\n",
    "CORRELATIONS = [0, 0.1]\n",
    "EXTINCTION_RATES = [0, 0.5]\n",
    "RBF_SIGMAS = [0.5]\n",
    "DYADIC_ORDERS = [0]\n",
    "A=[0.]"
   ]
  },
  {
   "cell_type": "code",
   "execution_count": 16,
   "id": "6e857245",
   "metadata": {},
   "outputs": [],
   "source": [
    "KERNELS_NORMALIZED = [ (sigkernel_scale.LinearKernel(), None) ] \n",
    "KERNELS_NORMALIZED += [ (sigkernel_scale.RBFKernel(sigma), sigma) for sigma in RBF_SIGMAS ]\n",
    "KERNELS_UNNORMALIZED = [ (sigkernel.LinearKernel(), None) ] \n",
    "KERNELS_UNNORMALIZED += [ (sigkernel.RBFKernel(sigma), sigma) for sigma in RBF_SIGMAS ]"
   ]
  },
  {
   "cell_type": "code",
   "execution_count": 17,
   "id": "6534d0d2",
   "metadata": {},
   "outputs": [],
   "source": [
    "LOGGER.setLevel('DEBUG')\n",
    "OVERFLOWS = 0"
   ]
  },
  {
   "cell_type": "code",
   "execution_count": 18,
   "id": "5a912956",
   "metadata": {},
   "outputs": [],
   "source": [
    "def psi(x, M=4, a=1):\n",
    "    if x <= np.sqrt(M):\n",
    "        return x ** 2\n",
    "    return M + M ** (1 + a) * (M ** (-a) - x ** (-2*a)) / a"
   ]
  },
  {
   "cell_type": "code",
   "execution_count": 19,
   "id": "12feb25e",
   "metadata": {},
   "outputs": [],
   "source": [
    "def get_postscale_for_batch_adaptive_dyadic_order(paths, static_kernel):\n",
    "    LOGGER.debug('FINDING POSTSCALE FOR BATCH')\n",
    "    \n",
    "    postscale = torch.zeros(paths.shape[0])\n",
    "    for i in range(paths.shape[0]):\n",
    "        dyadic_order = 0\n",
    "        warnings.filterwarnings(\"error\", category = RuntimeWarning)\n",
    "\n",
    "        while True:\n",
    "            try:\n",
    "                kernel = sigkernel_scale.SigKernel(static_kernel, dyadic_order)\n",
    "                kernel_xx = kernel.compute_kernel(paths[i:i+1, :, :], paths[i:i+1, :, :])\n",
    "                target = psi(np.sqrt(kernel_xx.item()), 1e298, 1e-10)\n",
    "                f = lambda lam: target - kernel.compute_kernel(paths[i:i+1, :, :], paths[i:i+1, :, :], torch.tensor([lam]), torch.tensor([lam])).item()\n",
    "                lam = min(max(brentq(f, 1e-300, 1 - 1e-300, xtol=1e-300, maxiter = 1000), 0), 1)\n",
    "                postscale[i] = lam\n",
    "                break\n",
    "            except (ValueError, RuntimeWarning) as e:\n",
    "                if str(e) == 'overflow encountered in double_scalars':\n",
    "                    global OVERFLOWS\n",
    "                    LOGGER.debug(str(e))\n",
    "                    LOGGER.debug(traceback.format_exc())\n",
    "                    OVERFLOWS += 1\n",
    "                dyadic_order += 1\n",
    "            \n",
    "        warnings.resetwarnings()\n",
    "            \n",
    "    return postscale, dyadic_order"
   ]
  },
  {
   "cell_type": "code",
   "execution_count": 20,
   "id": "9514dcd9",
   "metadata": {},
   "outputs": [],
   "source": [
    "def run_experiment_for_unnormalized_kernels(proc_gen_fct):\n",
    "    results = []\n",
    "    \n",
    "    for kernel, kernel_param in KERNELS_UNNORMALIZED:\n",
    "        for run in range(M_RUNS):\n",
    "            for order in DYADIC_ORDERS:\n",
    "                LOGGER.info('Experiment for unnormalized kernel: run {}, order {}, kernel param {}'.format(run, order, kernel_param))\n",
    "                \n",
    "                processes = proc_gen_fct()\n",
    "                X_raw = processes[:, :, 0]\n",
    "                Y_raw = processes[:, :, 1]\n",
    "                X_lead_lag_chopped = torch.stack((X_raw[:, 1:], X_raw[:, :-1]), axis = 2)\n",
    "                Y_lead_lag_chopped = torch.stack((Y_raw[:, 1:], Y_raw[:, :-1]), axis = 2)\n",
    "\n",
    "                null, hsic_score, p_val = hsic_independence_test.get_test_result_matrix_shuffle(X_lead_lag_chopped, Y_lead_lag_chopped, static_kernel = kernel, dyadic_order = order)\n",
    "                \n",
    "                LOGGER.info('Result p_val: {}'.format(p_val))\n",
    "                \n",
    "                results.append({\n",
    "                    'kernel_type' : 'unnormalized',\n",
    "                    'kernel_param' : kernel_param,\n",
    "                    'dyadic_order' : order,\n",
    "                    'hsic_score' : hsic_score,\n",
    "                    'p_val' : p_val,\n",
    "                })\n",
    "    \n",
    "    return results"
   ]
  },
  {
   "cell_type": "code",
   "execution_count": 21,
   "id": "cb2d1632",
   "metadata": {},
   "outputs": [],
   "source": [
    "def run_experiment_for_normalized_kernels(proc_gen_fct):\n",
    "    results = []\n",
    "    \n",
    "    for kernel, kernel_param in KERNELS_NORMALIZED:\n",
    "        for run in range(M_RUNS):\n",
    "            for order in DYADIC_ORDERS:\n",
    "                LOGGER.info('Experiment for normalized kernel: run {}, order {}, kernel param {}'.format(run, order, kernel_param))\n",
    "                \n",
    "                processes = proc_gen_fct()\n",
    "                X_raw = processes[:, :, 0]\n",
    "                Y_raw = processes[:, :, 1]\n",
    "                X_lead_lag_chopped = torch.stack((X_raw[:, 1:], X_raw[:, :-1]), axis = 2)\n",
    "                Y_lead_lag_chopped = torch.stack((Y_raw[:, 1:], Y_raw[:, :-1]), axis = 2)\n",
    "\n",
    "                postscale_x, order_x = get_postscale_for_batch_adaptive_dyadic_order(X_lead_lag_chopped, kernel);\n",
    "                postscale_y, order_y = get_postscale_for_batch_adaptive_dyadic_order(Y_lead_lag_chopped, kernel);\n",
    "\n",
    "                null, hsic_score, p_val = hsic_independence_test.get_test_result_matrix_shuffle(X_lead_lag_chopped, Y_lead_lag_chopped, static_kernel = kernel, dyadic_order = order, postscale_x = postscale_x, postscale_y = postscale_y)\n",
    "                \n",
    "                LOGGER.info('Result p_val: {}'.format(p_val))\n",
    "                \n",
    "                results.append({\n",
    "                    'kernel_type' : 'normalized',\n",
    "                    'kernel_param' : kernel_param,\n",
    "                    'dyadic_order' : order,\n",
    "                    'hsic_score' : hsic_score,\n",
    "                    'p_val' : p_val,\n",
    "                })\n",
    "    \n",
    "    return results"
   ]
  },
  {
   "cell_type": "code",
   "execution_count": 22,
   "id": "98cb37c8",
   "metadata": {},
   "outputs": [],
   "source": [
    "def push_results(results):\n",
    "    LOGGER.debug('Pushing results')\n",
    "    LOGGER.debug('Current results on stack: ' + str(push_results.paths))\n",
    "    if len(push_results.paths) == 5: \n",
    "        oldest_results_file = push_results.paths.pop(0)\n",
    "        os.remove(oldest_results_file)\n",
    "        \n",
    "    output_file_path = OUTPUT_DIR + 'intermediate_results_{}.pickle'.format(datetime.datetime.now().isoformat()).replace(' ', '_').replace(':', '.')        \n",
    "    \n",
    "    with open(output_file_path, 'wb') as f:\n",
    "        pickle.dump(results, f)\n",
    "    \n",
    "    LOGGER.debug('Saved ' + output_file_path)\n",
    "    push_results.paths.append(output_file_path)\n",
    "\n",
    "push_results.paths = []"
   ]
  },
  {
   "cell_type": "code",
   "execution_count": 23,
   "id": "5136f0d9",
   "metadata": {},
   "outputs": [
    {
     "name": "stdout",
     "output_type": "stream",
     "text": [
      "============ STARTING ANOTHER RUN : EXTINCT GAUSSIAN ==============\n",
      "Sample length: 3, A: 0.0, extinction rate: 0\n",
      "Experiment for normalized kernel: run 0, order 0, kernel param None\n",
      "FINDING POSTSCALE FOR BATCH\n",
      "FINDING POSTSCALE FOR BATCH\n"
     ]
    },
    {
     "name": "stderr",
     "output_type": "stream",
     "text": [
      "100%|████████████████████████████████████████████████████████████████████████████████████████████████████████████████████████████████████████████████████████████| 50/50 [00:00<00:00, 2107.12it/s]"
     ]
    },
    {
     "name": "stdout",
     "output_type": "stream",
     "text": [
      "Result p_val: 0.1\n",
      "Experiment for normalized kernel: run 1, order 0, kernel param None\n",
      "FINDING POSTSCALE FOR BATCH\n",
      "FINDING POSTSCALE FOR BATCH\n"
     ]
    },
    {
     "name": "stderr",
     "output_type": "stream",
     "text": [
      "\n",
      "100%|████████████████████████████████████████████████████████████████████████████████████████████████████████████████████████████████████████████████████████████| 50/50 [00:00<00:00, 3244.71it/s]"
     ]
    },
    {
     "name": "stdout",
     "output_type": "stream",
     "text": [
      "Result p_val: 0.46\n",
      "Experiment for normalized kernel: run 0, order 0, kernel param 0.5\n"
     ]
    },
    {
     "name": "stderr",
     "output_type": "stream",
     "text": [
      "\n"
     ]
    },
    {
     "name": "stdout",
     "output_type": "stream",
     "text": [
      "FINDING POSTSCALE FOR BATCH\n",
      "FINDING POSTSCALE FOR BATCH\n"
     ]
    },
    {
     "name": "stderr",
     "output_type": "stream",
     "text": [
      "100%|████████████████████████████████████████████████████████████████████████████████████████████████████████████████████████████████████████████████████████████| 50/50 [00:00<00:00, 3182.28it/s]"
     ]
    },
    {
     "name": "stdout",
     "output_type": "stream",
     "text": [
      "Result p_val: 0.38\n",
      "Experiment for normalized kernel: run 1, order 0, kernel param 0.5\n"
     ]
    },
    {
     "name": "stderr",
     "output_type": "stream",
     "text": [
      "\n"
     ]
    },
    {
     "name": "stdout",
     "output_type": "stream",
     "text": [
      "FINDING POSTSCALE FOR BATCH\n",
      "FINDING POSTSCALE FOR BATCH\n"
     ]
    },
    {
     "name": "stderr",
     "output_type": "stream",
     "text": [
      "100%|████████████████████████████████████████████████████████████████████████████████████████████████████████████████████████████████████████████████████████████| 50/50 [00:00<00:00, 1892.65it/s]"
     ]
    },
    {
     "name": "stdout",
     "output_type": "stream",
     "text": [
      "Result p_val: 0.46\n",
      "Experiment for unnormalized kernel: run 0, order 0, kernel param None\n"
     ]
    },
    {
     "name": "stderr",
     "output_type": "stream",
     "text": [
      "\n",
      "100%|████████████████████████████████████████████████████████████████████████████████████████████████████████████████████████████████████████████████████████████| 50/50 [00:00<00:00, 3232.80it/s]"
     ]
    },
    {
     "name": "stdout",
     "output_type": "stream",
     "text": [
      "Result p_val: 0.82\n",
      "Experiment for unnormalized kernel: run 1, order 0, kernel param None\n"
     ]
    },
    {
     "name": "stderr",
     "output_type": "stream",
     "text": [
      "\n",
      "100%|████████████████████████████████████████████████████████████████████████████████████████████████████████████████████████████████████████████████████████████| 50/50 [00:00<00:00, 2239.64it/s]"
     ]
    },
    {
     "name": "stdout",
     "output_type": "stream",
     "text": [
      "Result p_val: 0.62\n",
      "Experiment for unnormalized kernel: run 0, order 0, kernel param 0.5\n"
     ]
    },
    {
     "name": "stderr",
     "output_type": "stream",
     "text": [
      "\n",
      "100%|████████████████████████████████████████████████████████████████████████████████████████████████████████████████████████████████████████████████████████████| 50/50 [00:00<00:00, 2090.96it/s]"
     ]
    },
    {
     "name": "stdout",
     "output_type": "stream",
     "text": [
      "Result p_val: 0.84\n",
      "Experiment for unnormalized kernel: run 1, order 0, kernel param 0.5\n"
     ]
    },
    {
     "name": "stderr",
     "output_type": "stream",
     "text": [
      "\n",
      "100%|████████████████████████████████████████████████████████████████████████████████████████████████████████████████████████████████████████████████████████████| 50/50 [00:00<00:00, 3213.14it/s]"
     ]
    },
    {
     "name": "stdout",
     "output_type": "stream",
     "text": [
      "Result p_val: 0.68\n",
      "Pushing results\n",
      "Current results on stack: []\n",
      "Saved grand_hsic_test_outputs/2022-04-12T14:20:37.252521/intermediate_results_2022-04-12T14.20.39.504661.pickle\n",
      "============ FINISHED ANOTHER RUN : EXTINCT GAUSSIAN ==============\n",
      "============ STARTING ANOTHER RUN : EXTINCT GAUSSIAN ==============\n",
      "Sample length: 3, A: 0.0, extinction rate: 0.5\n",
      "Experiment for normalized kernel: run 0, order 0, kernel param None\n"
     ]
    },
    {
     "name": "stderr",
     "output_type": "stream",
     "text": [
      "\n"
     ]
    },
    {
     "name": "stdout",
     "output_type": "stream",
     "text": [
      "FINDING POSTSCALE FOR BATCH\n",
      "FINDING POSTSCALE FOR BATCH\n"
     ]
    },
    {
     "name": "stderr",
     "output_type": "stream",
     "text": [
      "100%|████████████████████████████████████████████████████████████████████████████████████████████████████████████████████████████████████████████████████████████| 50/50 [00:00<00:00, 2761.66it/s]"
     ]
    },
    {
     "name": "stdout",
     "output_type": "stream",
     "text": [
      "Result p_val: 0.12\n",
      "Experiment for normalized kernel: run 1, order 0, kernel param None\n"
     ]
    },
    {
     "name": "stderr",
     "output_type": "stream",
     "text": [
      "\n"
     ]
    },
    {
     "name": "stdout",
     "output_type": "stream",
     "text": [
      "FINDING POSTSCALE FOR BATCH\n",
      "FINDING POSTSCALE FOR BATCH\n"
     ]
    },
    {
     "name": "stderr",
     "output_type": "stream",
     "text": [
      "100%|████████████████████████████████████████████████████████████████████████████████████████████████████████████████████████████████████████████████████████████| 50/50 [00:00<00:00, 2902.15it/s]"
     ]
    },
    {
     "name": "stdout",
     "output_type": "stream",
     "text": [
      "Result p_val: 0.88\n",
      "Experiment for normalized kernel: run 0, order 0, kernel param 0.5\n"
     ]
    },
    {
     "name": "stderr",
     "output_type": "stream",
     "text": [
      "\n"
     ]
    },
    {
     "name": "stdout",
     "output_type": "stream",
     "text": [
      "FINDING POSTSCALE FOR BATCH\n",
      "FINDING POSTSCALE FOR BATCH\n"
     ]
    },
    {
     "name": "stderr",
     "output_type": "stream",
     "text": [
      "100%|████████████████████████████████████████████████████████████████████████████████████████████████████████████████████████████████████████████████████████████| 50/50 [00:00<00:00, 3079.93it/s]"
     ]
    },
    {
     "name": "stdout",
     "output_type": "stream",
     "text": [
      "Result p_val: 0.28\n",
      "Experiment for normalized kernel: run 1, order 0, kernel param 0.5\n"
     ]
    },
    {
     "name": "stderr",
     "output_type": "stream",
     "text": [
      "\n"
     ]
    },
    {
     "name": "stdout",
     "output_type": "stream",
     "text": [
      "FINDING POSTSCALE FOR BATCH\n",
      "FINDING POSTSCALE FOR BATCH\n"
     ]
    },
    {
     "name": "stderr",
     "output_type": "stream",
     "text": [
      "100%|████████████████████████████████████████████████████████████████████████████████████████████████████████████████████████████████████████████████████████████| 50/50 [00:00<00:00, 1963.92it/s]"
     ]
    },
    {
     "name": "stdout",
     "output_type": "stream",
     "text": [
      "Result p_val: 0.44\n",
      "Experiment for unnormalized kernel: run 0, order 0, kernel param None\n"
     ]
    },
    {
     "name": "stderr",
     "output_type": "stream",
     "text": [
      "\n",
      "100%|████████████████████████████████████████████████████████████████████████████████████████████████████████████████████████████████████████████████████████████| 50/50 [00:00<00:00, 2980.22it/s]"
     ]
    },
    {
     "name": "stdout",
     "output_type": "stream",
     "text": [
      "Result p_val: 0.14\n",
      "Experiment for unnormalized kernel: run 1, order 0, kernel param None\n"
     ]
    },
    {
     "name": "stderr",
     "output_type": "stream",
     "text": [
      "\n",
      "100%|████████████████████████████████████████████████████████████████████████████████████████████████████████████████████████████████████████████████████████████| 50/50 [00:00<00:00, 3363.95it/s]"
     ]
    },
    {
     "name": "stdout",
     "output_type": "stream",
     "text": [
      "Result p_val: 0.2\n",
      "Experiment for unnormalized kernel: run 0, order 0, kernel param 0.5\n"
     ]
    },
    {
     "name": "stderr",
     "output_type": "stream",
     "text": [
      "\n",
      "100%|████████████████████████████████████████████████████████████████████████████████████████████████████████████████████████████████████████████████████████████| 50/50 [00:00<00:00, 2872.14it/s]"
     ]
    },
    {
     "name": "stdout",
     "output_type": "stream",
     "text": [
      "Result p_val: 0.2\n",
      "Experiment for unnormalized kernel: run 1, order 0, kernel param 0.5\n"
     ]
    },
    {
     "name": "stderr",
     "output_type": "stream",
     "text": [
      "\n",
      "100%|████████████████████████████████████████████████████████████████████████████████████████████████████████████████████████████████████████████████████████████| 50/50 [00:00<00:00, 4278.85it/s]"
     ]
    },
    {
     "name": "stdout",
     "output_type": "stream",
     "text": [
      "Result p_val: 0.14\n",
      "Pushing results\n",
      "Current results on stack: ['grand_hsic_test_outputs/2022-04-12T14:20:37.252521/intermediate_results_2022-04-12T14.20.39.504661.pickle']\n",
      "Saved grand_hsic_test_outputs/2022-04-12T14:20:37.252521/intermediate_results_2022-04-12T14.20.40.588928.pickle\n",
      "============ FINISHED ANOTHER RUN : EXTINCT GAUSSIAN ==============\n",
      "============ STARTING ANOTHER RUN : LINEAR CORRELATION ==============\n",
      "Sample length: 3, A: 0.0, correlation: 0\n",
      "Experiment for normalized kernel: run 0, order 0, kernel param None\n"
     ]
    },
    {
     "name": "stderr",
     "output_type": "stream",
     "text": [
      "\n"
     ]
    },
    {
     "name": "stdout",
     "output_type": "stream",
     "text": [
      "FINDING POSTSCALE FOR BATCH\n",
      "FINDING POSTSCALE FOR BATCH\n"
     ]
    },
    {
     "name": "stderr",
     "output_type": "stream",
     "text": [
      "100%|████████████████████████████████████████████████████████████████████████████████████████████████████████████████████████████████████████████████████████████| 50/50 [00:00<00:00, 2934.52it/s]"
     ]
    },
    {
     "name": "stdout",
     "output_type": "stream",
     "text": [
      "Result p_val: 0.3\n",
      "Experiment for normalized kernel: run 1, order 0, kernel param None\n"
     ]
    },
    {
     "name": "stderr",
     "output_type": "stream",
     "text": [
      "\n"
     ]
    },
    {
     "name": "stdout",
     "output_type": "stream",
     "text": [
      "FINDING POSTSCALE FOR BATCH\n",
      "FINDING POSTSCALE FOR BATCH\n"
     ]
    },
    {
     "name": "stderr",
     "output_type": "stream",
     "text": [
      "100%|████████████████████████████████████████████████████████████████████████████████████████████████████████████████████████████████████████████████████████████| 50/50 [00:00<00:00, 3490.48it/s]"
     ]
    },
    {
     "name": "stdout",
     "output_type": "stream",
     "text": [
      "Result p_val: 0.24\n",
      "Experiment for normalized kernel: run 0, order 0, kernel param 0.5\n"
     ]
    },
    {
     "name": "stderr",
     "output_type": "stream",
     "text": [
      "\n"
     ]
    },
    {
     "name": "stdout",
     "output_type": "stream",
     "text": [
      "FINDING POSTSCALE FOR BATCH\n",
      "FINDING POSTSCALE FOR BATCH\n"
     ]
    },
    {
     "name": "stderr",
     "output_type": "stream",
     "text": [
      "100%|████████████████████████████████████████████████████████████████████████████████████████████████████████████████████████████████████████████████████████████| 50/50 [00:00<00:00, 3196.00it/s]"
     ]
    },
    {
     "name": "stdout",
     "output_type": "stream",
     "text": [
      "Result p_val: 0.26\n",
      "Experiment for normalized kernel: run 1, order 0, kernel param 0.5\n"
     ]
    },
    {
     "name": "stderr",
     "output_type": "stream",
     "text": [
      "\n"
     ]
    },
    {
     "name": "stdout",
     "output_type": "stream",
     "text": [
      "FINDING POSTSCALE FOR BATCH\n",
      "FINDING POSTSCALE FOR BATCH\n"
     ]
    },
    {
     "name": "stderr",
     "output_type": "stream",
     "text": [
      "100%|████████████████████████████████████████████████████████████████████████████████████████████████████████████████████████████████████████████████████████████| 50/50 [00:00<00:00, 2883.00it/s]"
     ]
    },
    {
     "name": "stdout",
     "output_type": "stream",
     "text": [
      "Result p_val: 0.1\n",
      "Experiment for unnormalized kernel: run 0, order 0, kernel param None\n"
     ]
    },
    {
     "name": "stderr",
     "output_type": "stream",
     "text": [
      "\n",
      "100%|████████████████████████████████████████████████████████████████████████████████████████████████████████████████████████████████████████████████████████████| 50/50 [00:00<00:00, 3455.80it/s]"
     ]
    },
    {
     "name": "stdout",
     "output_type": "stream",
     "text": [
      "Result p_val: 0.1\n",
      "Experiment for unnormalized kernel: run 1, order 0, kernel param None\n"
     ]
    },
    {
     "name": "stderr",
     "output_type": "stream",
     "text": [
      "\n",
      "100%|████████████████████████████████████████████████████████████████████████████████████████████████████████████████████████████████████████████████████████████| 50/50 [00:00<00:00, 2080.53it/s]"
     ]
    },
    {
     "name": "stdout",
     "output_type": "stream",
     "text": [
      "Result p_val: 0.1\n",
      "Experiment for unnormalized kernel: run 0, order 0, kernel param 0.5\n"
     ]
    },
    {
     "name": "stderr",
     "output_type": "stream",
     "text": [
      "\n",
      "100%|████████████████████████████████████████████████████████████████████████████████████████████████████████████████████████████████████████████████████████████| 50/50 [00:00<00:00, 2387.03it/s]"
     ]
    },
    {
     "name": "stdout",
     "output_type": "stream",
     "text": [
      "Result p_val: 0.3\n",
      "Experiment for unnormalized kernel: run 1, order 0, kernel param 0.5\n"
     ]
    },
    {
     "name": "stderr",
     "output_type": "stream",
     "text": [
      "\n",
      "100%|████████████████████████████████████████████████████████████████████████████████████████████████████████████████████████████████████████████████████████████| 50/50 [00:00<00:00, 3820.37it/s]"
     ]
    },
    {
     "name": "stdout",
     "output_type": "stream",
     "text": [
      "Result p_val: 0.18\n",
      "Pushing results\n",
      "Current results on stack: ['grand_hsic_test_outputs/2022-04-12T14:20:37.252521/intermediate_results_2022-04-12T14.20.39.504661.pickle', 'grand_hsic_test_outputs/2022-04-12T14:20:37.252521/intermediate_results_2022-04-12T14.20.40.588928.pickle']\n",
      "Saved grand_hsic_test_outputs/2022-04-12T14:20:37.252521/intermediate_results_2022-04-12T14.20.41.572461.pickle\n",
      "============ FINISHED ANOTHER RUN : LINEAR CORRELATION ==============\n",
      "============ STARTING ANOTHER RUN : LINEAR CORRELATION ==============\n",
      "Sample length: 3, A: 0.0, correlation: 0.1\n",
      "Experiment for normalized kernel: run 0, order 0, kernel param None\n"
     ]
    },
    {
     "name": "stderr",
     "output_type": "stream",
     "text": [
      "\n"
     ]
    },
    {
     "name": "stdout",
     "output_type": "stream",
     "text": [
      "FINDING POSTSCALE FOR BATCH\n",
      "FINDING POSTSCALE FOR BATCH\n"
     ]
    },
    {
     "name": "stderr",
     "output_type": "stream",
     "text": [
      "100%|████████████████████████████████████████████████████████████████████████████████████████████████████████████████████████████████████████████████████████████| 50/50 [00:00<00:00, 2679.48it/s]"
     ]
    },
    {
     "name": "stdout",
     "output_type": "stream",
     "text": [
      "Result p_val: 0.78\n",
      "Experiment for normalized kernel: run 1, order 0, kernel param None\n"
     ]
    },
    {
     "name": "stderr",
     "output_type": "stream",
     "text": [
      "\n"
     ]
    },
    {
     "name": "stdout",
     "output_type": "stream",
     "text": [
      "FINDING POSTSCALE FOR BATCH\n",
      "FINDING POSTSCALE FOR BATCH\n"
     ]
    },
    {
     "name": "stderr",
     "output_type": "stream",
     "text": [
      "100%|████████████████████████████████████████████████████████████████████████████████████████████████████████████████████████████████████████████████████████████| 50/50 [00:00<00:00, 3035.26it/s]"
     ]
    },
    {
     "name": "stdout",
     "output_type": "stream",
     "text": [
      "Result p_val: 0.6\n",
      "Experiment for normalized kernel: run 0, order 0, kernel param 0.5\n"
     ]
    },
    {
     "name": "stderr",
     "output_type": "stream",
     "text": [
      "\n"
     ]
    },
    {
     "name": "stdout",
     "output_type": "stream",
     "text": [
      "FINDING POSTSCALE FOR BATCH\n",
      "FINDING POSTSCALE FOR BATCH\n"
     ]
    },
    {
     "name": "stderr",
     "output_type": "stream",
     "text": [
      "100%|████████████████████████████████████████████████████████████████████████████████████████████████████████████████████████████████████████████████████████████| 50/50 [00:00<00:00, 2113.60it/s]"
     ]
    },
    {
     "name": "stdout",
     "output_type": "stream",
     "text": [
      "Result p_val: 0.9\n",
      "Experiment for normalized kernel: run 1, order 0, kernel param 0.5\n"
     ]
    },
    {
     "name": "stderr",
     "output_type": "stream",
     "text": [
      "\n"
     ]
    },
    {
     "name": "stdout",
     "output_type": "stream",
     "text": [
      "FINDING POSTSCALE FOR BATCH\n",
      "FINDING POSTSCALE FOR BATCH\n"
     ]
    },
    {
     "name": "stderr",
     "output_type": "stream",
     "text": [
      "100%|████████████████████████████████████████████████████████████████████████████████████████████████████████████████████████████████████████████████████████████| 50/50 [00:00<00:00, 3089.23it/s]"
     ]
    },
    {
     "name": "stdout",
     "output_type": "stream",
     "text": [
      "Result p_val: 0.5\n",
      "Experiment for unnormalized kernel: run 0, order 0, kernel param None\n"
     ]
    },
    {
     "name": "stderr",
     "output_type": "stream",
     "text": [
      "\n",
      "100%|████████████████████████████████████████████████████████████████████████████████████████████████████████████████████████████████████████████████████████████| 50/50 [00:00<00:00, 3832.93it/s]"
     ]
    },
    {
     "name": "stdout",
     "output_type": "stream",
     "text": [
      "Result p_val: 0.38\n",
      "Experiment for unnormalized kernel: run 1, order 0, kernel param None\n"
     ]
    },
    {
     "name": "stderr",
     "output_type": "stream",
     "text": [
      "\n",
      "100%|████████████████████████████████████████████████████████████████████████████████████████████████████████████████████████████████████████████████████████████| 50/50 [00:00<00:00, 4001.13it/s]"
     ]
    },
    {
     "name": "stdout",
     "output_type": "stream",
     "text": [
      "Result p_val: 0.02\n",
      "Experiment for unnormalized kernel: run 0, order 0, kernel param 0.5\n"
     ]
    },
    {
     "name": "stderr",
     "output_type": "stream",
     "text": [
      "\n",
      "100%|████████████████████████████████████████████████████████████████████████████████████████████████████████████████████████████████████████████████████████████| 50/50 [00:00<00:00, 3024.36it/s]"
     ]
    },
    {
     "name": "stdout",
     "output_type": "stream",
     "text": [
      "Result p_val: 0.34\n",
      "Experiment for unnormalized kernel: run 1, order 0, kernel param 0.5\n"
     ]
    },
    {
     "name": "stderr",
     "output_type": "stream",
     "text": [
      "\n",
      "100%|████████████████████████████████████████████████████████████████████████████████████████████████████████████████████████████████████████████████████████████| 50/50 [00:00<00:00, 2742.85it/s]"
     ]
    },
    {
     "name": "stdout",
     "output_type": "stream",
     "text": [
      "Result p_val: 0.7\n",
      "Pushing results\n",
      "Current results on stack: ['grand_hsic_test_outputs/2022-04-12T14:20:37.252521/intermediate_results_2022-04-12T14.20.39.504661.pickle', 'grand_hsic_test_outputs/2022-04-12T14:20:37.252521/intermediate_results_2022-04-12T14.20.40.588928.pickle', 'grand_hsic_test_outputs/2022-04-12T14:20:37.252521/intermediate_results_2022-04-12T14.20.41.572461.pickle']\n",
      "Saved grand_hsic_test_outputs/2022-04-12T14:20:37.252521/intermediate_results_2022-04-12T14.20.42.547433.pickle\n",
      "============ FINISHED ANOTHER RUN : LINEAR CORRELATION ==============\n"
     ]
    },
    {
     "name": "stderr",
     "output_type": "stream",
     "text": [
      "\n"
     ]
    }
   ],
   "source": [
    "results = []\n",
    "for sl in SAMPLE_LENGTHS:\n",
    "    for a in A:\n",
    "        for ext_rate in EXTINCTION_RATES:\n",
    "            LOGGER.info('============ STARTING ANOTHER RUN : EXTINCT GAUSSIAN ==============')\n",
    "            LOGGER.info('Sample length: {}, A: {}, extinction rate: {}'.format(sl, a, ext_rate))\n",
    "\n",
    "            proc_gen_fct = lambda: gen_processes.gen_ar_iid_samples_extinct_gaussian_burn_in(sl, SIG_KERNEL_SAMPLES_NO, a=a, extinction_rate=ext_rate)\n",
    "            results_norm = run_experiment_for_normalized_kernels(proc_gen_fct)\n",
    "            results_unnorm = run_experiment_for_unnormalized_kernels(proc_gen_fct)\n",
    "            \n",
    "            for result in results_norm + results_unnorm:\n",
    "                result['process_type'] = 'extinct_gaussian'\n",
    "                result['a'] = a\n",
    "                result['process_param'] = ext_rate\n",
    "\n",
    "            results += results_norm + results_unnorm\n",
    "            \n",
    "            push_results(results)\n",
    "            LOGGER.debug('============ FINISHED ANOTHER RUN : EXTINCT GAUSSIAN ==============')\n",
    "        for corr in CORRELATIONS:\n",
    "            LOGGER.debug('============ STARTING ANOTHER RUN : LINEAR CORRELATION ==============')\n",
    "            LOGGER.info('Sample length: {}, A: {}, correlation: {}'.format(sl, a, corr))\n",
    "\n",
    "            proc_gen_fct = lambda: gen_processes.gen_ar_iid_samples_burn_in(sl, SIG_KERNEL_SAMPLES_NO, a=a, corr=corr)\n",
    "            results_norm = run_experiment_for_normalized_kernels(proc_gen_fct)\n",
    "            results_unnorm = run_experiment_for_unnormalized_kernels(proc_gen_fct)\n",
    "            \n",
    "            for result in results_norm + results_unnorm:\n",
    "                result['process_type'] = 'lin_corr'\n",
    "                result['a'] = a\n",
    "                result['process_param'] = ext_rate\n",
    "\n",
    "            results += results_norm + results_unnorm\n",
    "            \n",
    "            push_results(results)\n",
    "            LOGGER.debug('============ FINISHED ANOTHER RUN : LINEAR CORRELATION ==============')\n",
    "\n",
    "        "
   ]
  },
  {
   "cell_type": "code",
   "execution_count": 24,
   "id": "9da9f406",
   "metadata": {},
   "outputs": [],
   "source": [
    "results_final = {\n",
    "    'results' : results,\n",
    "    'hyperparams' : {\n",
    "        'SIG_KERNEL_SAMPLES_NO' : SIG_KERNEL_SAMPLES_NO,\n",
    "        'SAMPLE_LENGTHS' : SAMPLE_LENGTHS,\n",
    "        'M_RUNS' : M_RUNS,\n",
    "        'CORRELATIONS' : CORRELATIONS,\n",
    "        'EXTINCTION_RATES' : EXTINCTION_RATES,\n",
    "        'RBF_SIGMAS' : RBF_SIGMAS,\n",
    "        'DYADIC_ORDERS' : DYADIC_ORDERS,\n",
    "        'A': A\n",
    "    },\n",
    "    'overflows' : OVERFLOWS\n",
    "}\n",
    "output_file_path = OUTPUT_DIR + 'results_final.pickle'\n",
    "with open(output_file_path, 'wb') as f:\n",
    "    pickle.dump(results_final, f)\n"
   ]
  },
  {
   "cell_type": "code",
   "execution_count": 25,
   "id": "bf83ad50",
   "metadata": {},
   "outputs": [
    {
     "name": "stdout",
     "output_type": "stream",
     "text": [
      "{   'hyperparams': {   'A': [0.0],\n",
      "                       'CORRELATIONS': [0, 0.1],\n",
      "                       'DYADIC_ORDERS': [0],\n",
      "                       'EXTINCTION_RATES': [0, 0.5],\n",
      "                       'M_RUNS': 2,\n",
      "                       'RBF_SIGMAS': [0.5],\n",
      "                       'SAMPLE_LENGTHS': [3],\n",
      "                       'SIG_KERNEL_SAMPLES_NO': 5},\n",
      "    'overflows': 0,\n",
      "    'results': [   {   'a': 0.0,\n",
      "                       'dyadic_order': 0,\n",
      "                       'hsic_score': 69.03863433977719,\n",
      "                       'kernel_param': None,\n",
      "                       'kernel_type': 'normalized',\n",
      "                       'p_val': 0.1,\n",
      "                       'process_param': 0,\n",
      "                       'process_type': 'extinct_gaussian'},\n",
      "                   {   'a': 0.0,\n",
      "                       'dyadic_order': 0,\n",
      "                       'hsic_score': 5.798053892546919,\n",
      "                       'kernel_param': None,\n",
      "                       'kernel_type': 'normalized',\n",
      "                       'p_val': 0.46,\n",
      "                       'process_param': 0,\n",
      "                       'process_type': 'extinct_gaussian'},\n",
      "                   {   'a': 0.0,\n",
      "                       'dyadic_order': 0,\n",
      "                       'hsic_score': 1.3960725836676318,\n",
      "                       'kernel_param': 0.5,\n",
      "                       'kernel_type': 'normalized',\n",
      "                       'p_val': 0.38,\n",
      "                       'process_param': 0,\n",
      "                       'process_type': 'extinct_gaussian'},\n",
      "                   {   'a': 0.0,\n",
      "                       'dyadic_order': 0,\n",
      "                       'hsic_score': 0.6457200158717393,\n",
      "                       'kernel_param': 0.5,\n",
      "                       'kernel_type': 'normalized',\n",
      "                       'p_val': 0.46,\n",
      "                       'process_param': 0,\n",
      "                       'process_type': 'extinct_gaussian'},\n",
      "                   {   'a': 0.0,\n",
      "                       'dyadic_order': 0,\n",
      "                       'hsic_score': 2.569138220210405,\n",
      "                       'kernel_param': None,\n",
      "                       'kernel_type': 'unnormalized',\n",
      "                       'p_val': 0.82,\n",
      "                       'process_param': 0,\n",
      "                       'process_type': 'extinct_gaussian'},\n",
      "                   {   'a': 0.0,\n",
      "                       'dyadic_order': 0,\n",
      "                       'hsic_score': 3.374393569354215,\n",
      "                       'kernel_param': None,\n",
      "                       'kernel_type': 'unnormalized',\n",
      "                       'p_val': 0.62,\n",
      "                       'process_param': 0,\n",
      "                       'process_type': 'extinct_gaussian'},\n",
      "                   {   'a': 0.0,\n",
      "                       'dyadic_order': 0,\n",
      "                       'hsic_score': 1.0070456901163638,\n",
      "                       'kernel_param': 0.5,\n",
      "                       'kernel_type': 'unnormalized',\n",
      "                       'p_val': 0.84,\n",
      "                       'process_param': 0,\n",
      "                       'process_type': 'extinct_gaussian'},\n",
      "                   {   'a': 0.0,\n",
      "                       'dyadic_order': 0,\n",
      "                       'hsic_score': 1.13987299991873,\n",
      "                       'kernel_param': 0.5,\n",
      "                       'kernel_type': 'unnormalized',\n",
      "                       'p_val': 0.68,\n",
      "                       'process_param': 0,\n",
      "                       'process_type': 'extinct_gaussian'},\n",
      "                   {   'a': 0.0,\n",
      "                       'dyadic_order': 0,\n",
      "                       'hsic_score': 40.08682501897195,\n",
      "                       'kernel_param': None,\n",
      "                       'kernel_type': 'normalized',\n",
      "                       'p_val': 0.12,\n",
      "                       'process_param': 0.5,\n",
      "                       'process_type': 'extinct_gaussian'},\n",
      "                   {   'a': 0.0,\n",
      "                       'dyadic_order': 0,\n",
      "                       'hsic_score': 4.478949391169262,\n",
      "                       'kernel_param': None,\n",
      "                       'kernel_type': 'normalized',\n",
      "                       'p_val': 0.88,\n",
      "                       'process_param': 0.5,\n",
      "                       'process_type': 'extinct_gaussian'},\n",
      "                   {   'a': 0.0,\n",
      "                       'dyadic_order': 0,\n",
      "                       'hsic_score': 1.156901266127115,\n",
      "                       'kernel_param': 0.5,\n",
      "                       'kernel_type': 'normalized',\n",
      "                       'p_val': 0.28,\n",
      "                       'process_param': 0.5,\n",
      "                       'process_type': 'extinct_gaussian'},\n",
      "                   {   'a': 0.0,\n",
      "                       'dyadic_order': 0,\n",
      "                       'hsic_score': 1.3462853314244048,\n",
      "                       'kernel_param': 0.5,\n",
      "                       'kernel_type': 'normalized',\n",
      "                       'p_val': 0.44,\n",
      "                       'process_param': 0.5,\n",
      "                       'process_type': 'extinct_gaussian'},\n",
      "                   {   'a': 0.0,\n",
      "                       'dyadic_order': 0,\n",
      "                       'hsic_score': 12.672803089307045,\n",
      "                       'kernel_param': None,\n",
      "                       'kernel_type': 'unnormalized',\n",
      "                       'p_val': 0.14,\n",
      "                       'process_param': 0.5,\n",
      "                       'process_type': 'extinct_gaussian'},\n",
      "                   {   'a': 0.0,\n",
      "                       'dyadic_order': 0,\n",
      "                       'hsic_score': 15.440323254266023,\n",
      "                       'kernel_param': None,\n",
      "                       'kernel_type': 'unnormalized',\n",
      "                       'p_val': 0.2,\n",
      "                       'process_param': 0.5,\n",
      "                       'process_type': 'extinct_gaussian'},\n",
      "                   {   'a': 0.0,\n",
      "                       'dyadic_order': 0,\n",
      "                       'hsic_score': 0.6923537555914614,\n",
      "                       'kernel_param': 0.5,\n",
      "                       'kernel_type': 'unnormalized',\n",
      "                       'p_val': 0.2,\n",
      "                       'process_param': 0.5,\n",
      "                       'process_type': 'extinct_gaussian'},\n",
      "                   {   'a': 0.0,\n",
      "                       'dyadic_order': 0,\n",
      "                       'hsic_score': 1.1218082708986867,\n",
      "                       'kernel_param': 0.5,\n",
      "                       'kernel_type': 'unnormalized',\n",
      "                       'p_val': 0.14,\n",
      "                       'process_param': 0.5,\n",
      "                       'process_type': 'extinct_gaussian'},\n",
      "                   {   'a': 0.0,\n",
      "                       'dyadic_order': 0,\n",
      "                       'hsic_score': 22.230473161762774,\n",
      "                       'kernel_param': None,\n",
      "                       'kernel_type': 'normalized',\n",
      "                       'p_val': 0.3,\n",
      "                       'process_param': 0.5,\n",
      "                       'process_type': 'lin_corr'},\n",
      "                   {   'a': 0.0,\n",
      "                       'dyadic_order': 0,\n",
      "                       'hsic_score': 24.066240095136948,\n",
      "                       'kernel_param': None,\n",
      "                       'kernel_type': 'normalized',\n",
      "                       'p_val': 0.24,\n",
      "                       'process_param': 0.5,\n",
      "                       'process_type': 'lin_corr'},\n",
      "                   {   'a': 0.0,\n",
      "                       'dyadic_order': 0,\n",
      "                       'hsic_score': 1.1985302600701844,\n",
      "                       'kernel_param': 0.5,\n",
      "                       'kernel_type': 'normalized',\n",
      "                       'p_val': 0.26,\n",
      "                       'process_param': 0.5,\n",
      "                       'process_type': 'lin_corr'},\n",
      "                   {   'a': 0.0,\n",
      "                       'dyadic_order': 0,\n",
      "                       'hsic_score': 1.2527094825728926,\n",
      "                       'kernel_param': 0.5,\n",
      "                       'kernel_type': 'normalized',\n",
      "                       'p_val': 0.1,\n",
      "                       'process_param': 0.5,\n",
      "                       'process_type': 'lin_corr'},\n",
      "                   {   'a': 0.0,\n",
      "                       'dyadic_order': 0,\n",
      "                       'hsic_score': 50.797741668138336,\n",
      "                       'kernel_param': None,\n",
      "                       'kernel_type': 'unnormalized',\n",
      "                       'p_val': 0.1,\n",
      "                       'process_param': 0.5,\n",
      "                       'process_type': 'lin_corr'},\n",
      "                   {   'a': 0.0,\n",
      "                       'dyadic_order': 0,\n",
      "                       'hsic_score': 10.574248782712154,\n",
      "                       'kernel_param': None,\n",
      "                       'kernel_type': 'unnormalized',\n",
      "                       'p_val': 0.1,\n",
      "                       'process_param': 0.5,\n",
      "                       'process_type': 'lin_corr'},\n",
      "                   {   'a': 0.0,\n",
      "                       'dyadic_order': 0,\n",
      "                       'hsic_score': 1.0099674449508291,\n",
      "                       'kernel_param': 0.5,\n"
     ]
    },
    {
     "name": "stdout",
     "output_type": "stream",
     "text": [
      "                       'kernel_type': 'unnormalized',\n",
      "                       'p_val': 0.3,\n",
      "                       'process_param': 0.5,\n",
      "                       'process_type': 'lin_corr'},\n",
      "                   {   'a': 0.0,\n",
      "                       'dyadic_order': 0,\n",
      "                       'hsic_score': 1.2740885280864078,\n",
      "                       'kernel_param': 0.5,\n",
      "                       'kernel_type': 'unnormalized',\n",
      "                       'p_val': 0.18,\n",
      "                       'process_param': 0.5,\n",
      "                       'process_type': 'lin_corr'},\n",
      "                   {   'a': 0.0,\n",
      "                       'dyadic_order': 0,\n",
      "                       'hsic_score': 1.1245461854234904,\n",
      "                       'kernel_param': None,\n",
      "                       'kernel_type': 'normalized',\n",
      "                       'p_val': 0.78,\n",
      "                       'process_param': 0.5,\n",
      "                       'process_type': 'lin_corr'},\n",
      "                   {   'a': 0.0,\n",
      "                       'dyadic_order': 0,\n",
      "                       'hsic_score': 7.480450278729723,\n",
      "                       'kernel_param': None,\n",
      "                       'kernel_type': 'normalized',\n",
      "                       'p_val': 0.6,\n",
      "                       'process_param': 0.5,\n",
      "                       'process_type': 'lin_corr'},\n",
      "                   {   'a': 0.0,\n",
      "                       'dyadic_order': 0,\n",
      "                       'hsic_score': 0.8122809118847685,\n",
      "                       'kernel_param': 0.5,\n",
      "                       'kernel_type': 'normalized',\n",
      "                       'p_val': 0.9,\n",
      "                       'process_param': 0.5,\n",
      "                       'process_type': 'lin_corr'},\n",
      "                   {   'a': 0.0,\n",
      "                       'dyadic_order': 0,\n",
      "                       'hsic_score': 1.3773671608418376,\n",
      "                       'kernel_param': 0.5,\n",
      "                       'kernel_type': 'normalized',\n",
      "                       'p_val': 0.5,\n",
      "                       'process_param': 0.5,\n",
      "                       'process_type': 'lin_corr'},\n",
      "                   {   'a': 0.0,\n",
      "                       'dyadic_order': 0,\n",
      "                       'hsic_score': 10.296391033108417,\n",
      "                       'kernel_param': None,\n",
      "                       'kernel_type': 'unnormalized',\n",
      "                       'p_val': 0.38,\n",
      "                       'process_param': 0.5,\n",
      "                       'process_type': 'lin_corr'},\n",
      "                   {   'a': 0.0,\n",
      "                       'dyadic_order': 0,\n",
      "                       'hsic_score': 19.02831757350179,\n",
      "                       'kernel_param': None,\n",
      "                       'kernel_type': 'unnormalized',\n",
      "                       'p_val': 0.02,\n",
      "                       'process_param': 0.5,\n",
      "                       'process_type': 'lin_corr'},\n",
      "                   {   'a': 0.0,\n",
      "                       'dyadic_order': 0,\n",
      "                       'hsic_score': 0.9738117213388353,\n",
      "                       'kernel_param': 0.5,\n",
      "                       'kernel_type': 'unnormalized',\n",
      "                       'p_val': 0.34,\n",
      "                       'process_param': 0.5,\n",
      "                       'process_type': 'lin_corr'},\n",
      "                   {   'a': 0.0,\n",
      "                       'dyadic_order': 0,\n",
      "                       'hsic_score': 0.9412070272853477,\n",
      "                       'kernel_param': 0.5,\n",
      "                       'kernel_type': 'unnormalized',\n",
      "                       'p_val': 0.7,\n",
      "                       'process_param': 0.5,\n",
      "                       'process_type': 'lin_corr'}]}\n"
     ]
    }
   ],
   "source": [
    "pp.pprint(results_final)"
   ]
  },
  {
   "cell_type": "code",
   "execution_count": null,
   "id": "de1dd58f",
   "metadata": {},
   "outputs": [],
   "source": []
  }
 ],
 "metadata": {
  "kernelspec": {
   "display_name": "Python 3 (ipykernel)",
   "language": "python",
   "name": "python3"
  },
  "language_info": {
   "codemirror_mode": {
    "name": "ipython",
    "version": 3
   },
   "file_extension": ".py",
   "mimetype": "text/x-python",
   "name": "python",
   "nbconvert_exporter": "python",
   "pygments_lexer": "ipython3",
   "version": "3.7.11"
  }
 },
 "nbformat": 4,
 "nbformat_minor": 5
}
