{
 "cells": [
  {
   "cell_type": "code",
   "execution_count": 1,
   "id": "eb2d182e",
   "metadata": {},
   "outputs": [],
   "source": [
    "import numpy as np\n",
    "import matplotlib.pyplot as plt\n",
    "import statsmodels.tsa.ar_model as ar\n",
    "import torch\n",
    "torch.set_default_dtype(torch.double)\n",
    "import sigkernel"
   ]
  },
  {
   "cell_type": "code",
   "execution_count": 2,
   "id": "8899319f",
   "metadata": {},
   "outputs": [],
   "source": [
    "import scipy.stats as stats"
   ]
  },
  {
   "cell_type": "code",
   "execution_count": 3,
   "id": "863dd4e4",
   "metadata": {},
   "outputs": [],
   "source": [
    "from tqdm import tqdm"
   ]
  },
  {
   "cell_type": "code",
   "execution_count": 4,
   "id": "b1a815b2",
   "metadata": {},
   "outputs": [],
   "source": [
    "from itertools import product"
   ]
  },
  {
   "cell_type": "code",
   "execution_count": 5,
   "id": "bf078d26",
   "metadata": {},
   "outputs": [],
   "source": [
    "RNG = np.random.default_rng(1234)"
   ]
  },
  {
   "cell_type": "code",
   "execution_count": 6,
   "id": "1fefa99a",
   "metadata": {},
   "outputs": [],
   "source": [
    "def gen_ar_process(n, a = 0.8):\n",
    "    z = RNG.binomial(1, [1/2], n)\n",
    "    x = torch.zeros(n)\n",
    "\n",
    "    x[0] = z[0]\n",
    "    a = 0.8\n",
    "    for i, zi in enumerate(z[1:]):\n",
    "        x[i+1] = a*x[i] + zi \n",
    "        \n",
    "    return x"
   ]
  },
  {
   "cell_type": "code",
   "execution_count": 7,
   "id": "81228d61",
   "metadata": {},
   "outputs": [],
   "source": [
    "def gen_long_samples():\n",
    "    x_long = gen_ar_process(6001)\n",
    "    x_long_samples = torch.zeros(60, 100, 2)\n",
    "    for i in range(60):\n",
    "        x_long_samples[i, :, 0] = x_long[100*i + 1:100*(i+1) + 1]\n",
    "        x_long_samples[i, :, 1] = x_long[100*i:100*(i+1)]\n",
    "    return x_long_samples"
   ]
  },
  {
   "cell_type": "code",
   "execution_count": 8,
   "id": "2731a94b",
   "metadata": {},
   "outputs": [],
   "source": [
    "def gen_long_samples_burn_in():\n",
    "    x_long = gen_ar_process(12001)\n",
    "    x_long_samples = torch.zeros(60, 100, 2)\n",
    "    for i in range(60):\n",
    "        x_long_samples[i, :, 0] = x_long[5999+100*i + 1:5999+100*(i+1) + 1]\n",
    "        x_long_samples[i, :, 1] = x_long[5999+100*i:5999+100*(i+1)]\n",
    "    return x_long_samples"
   ]
  },
  {
   "cell_type": "code",
   "execution_count": 9,
   "id": "8786b209",
   "metadata": {},
   "outputs": [],
   "source": [
    "def gen_short_samples():\n",
    "    x_short_samples = torch.zeros(60, 100, 2)\n",
    "    for i in range(60):\n",
    "        process = gen_ar_process(101)\n",
    "        x_short_samples[i, :, 0] = process[1:]\n",
    "        x_short_samples[i, :, 1] = process[:-1]\n",
    "    return x_short_samples"
   ]
  },
  {
   "cell_type": "code",
   "execution_count": 10,
   "id": "075096e9",
   "metadata": {},
   "outputs": [],
   "source": [
    "def gen_short_samples_burn_in():\n",
    "    x_short_samples = torch.zeros(60, 100, 2)\n",
    "    for i in range(60):\n",
    "        process = gen_ar_process(6000)\n",
    "        x_short_samples[i, :, 0] = process[-100:]\n",
    "        x_short_samples[i, :, 1] = process[-101:-1]\n",
    "    return x_short_samples"
   ]
  },
  {
   "cell_type": "code",
   "execution_count": 13,
   "id": "7269f7a4",
   "metadata": {},
   "outputs": [],
   "source": [
    "def get_gram_matrices(X, Y, dyadic_order = 1, static_kernel = sigkernel.RBFKernel(sigma=0.5)):\n",
    "    signature_kernel = sigkernel.SigKernel(static_kernel, dyadic_order)\n",
    "    n = X.shape[0]\n",
    "    \n",
    "    gram_x = torch.zeros(n,n)\n",
    "    gram_y = torch.zeros(n,n)\n",
    "    \n",
    "    for i, j in product(range(n), range(n)):\n",
    "        gram_x[i, j] = signature_kernel.compute_kernel(X[i:i+1, :,], X[j:j+1, :, :])\n",
    "        gram_y[i, j] = signature_kernel.compute_kernel(Y[i:i+1, :,], Y[j:j+1, :, :])\n",
    "        \n",
    "    return gram_x, gram_y"
   ]
  },
  {
   "cell_type": "code",
   "execution_count": 14,
   "id": "92755b2d",
   "metadata": {},
   "outputs": [],
   "source": [
    "scores = []\n",
    "short_means = []\n",
    "long_means = []"
   ]
  },
  {
   "cell_type": "code",
   "execution_count": 114,
   "id": "ec59b6ab",
   "metadata": {},
   "outputs": [],
   "source": [
    "set_diag_to_zero = torch.ones(60, 60) - torch.diag_embed(torch.ones(60))\n",
    "\n",
    "for i in range(100):\n",
    "    gram_short, gram_long = get_gram_matrices(gen_short_samples(), gen_long_samples())\n",
    "    \n",
    "    kernel_short_mean = (gram_short*set_diag_to_zero).sum()/(100*99)\n",
    "    kernel_long_mean = (gram_long*set_diag_to_zero).sum()/(100*99)\n",
    "    \n",
    "    short_means.append(kernel_short_mean.item())\n",
    "    long_means.append(kernel_long_mean.item())\n",
    "    \n",
    "    scores.append(kernel_short_mean - kernel_long_mean)"
   ]
  },
  {
   "cell_type": "code",
   "execution_count": 122,
   "id": "2ecbe493",
   "metadata": {},
   "outputs": [
    {
     "data": {
      "text/plain": [
       "(array([1.08963508e-12, 7.62744557e-12, 7.62744557e-12, 1.85237964e-11,\n",
       "        1.63445262e-11, 8.71708066e-12, 1.52548911e-11, 1.08963508e-11,\n",
       "        3.26890525e-12, 6.53781049e-12, 4.35854033e-12, 0.00000000e+00,\n",
       "        2.17927016e-12, 1.08963508e-12, 3.26890525e-12, 0.00000000e+00,\n",
       "        0.00000000e+00, 0.00000000e+00, 1.08963508e-12, 1.08963508e-12]),\n",
       " array([1.76077524e+10, 2.67851367e+10, 3.59625211e+10, 4.51399055e+10,\n",
       "        5.43172899e+10, 6.34946743e+10, 7.26720587e+10, 8.18494431e+10,\n",
       "        9.10268275e+10, 1.00204212e+11, 1.09381596e+11, 1.18558981e+11,\n",
       "        1.27736365e+11, 1.36913750e+11, 1.46091134e+11, 1.55268518e+11,\n",
       "        1.64445903e+11, 1.73623287e+11, 1.82800671e+11, 1.91978056e+11,\n",
       "        2.01155440e+11]),\n",
       " <BarContainer object of 20 artists>)"
      ]
     },
     "execution_count": 122,
     "metadata": {},
     "output_type": "execute_result"
    },
    {
     "data": {
      "image/png": "[encoded data removed]",
      "text/plain": [
       "<Figure size 432x288 with 1 Axes>"
      ]
     },
     "metadata": {
      "needs_background": "light"
     },
     "output_type": "display_data"
    }
   ],
   "source": [
    "plt.hist(long_means, bins = 20, alpha = 0.4, density = True)\n",
    "plt.hist(short_means, bins = 20, alpha = 0.4, density = True)"
   ]
  },
  {
   "cell_type": "code",
   "execution_count": 121,
   "id": "edfa5311",
   "metadata": {},
   "outputs": [
    {
     "data": {
      "text/plain": [
       "KstestResult(statistic=0.23, pvalue=0.009878183186176536)"
      ]
     },
     "execution_count": 121,
     "metadata": {},
     "output_type": "execute_result"
    }
   ],
   "source": [
    "stats.ks_2samp(short_means, long_means)"
   ]
  },
  {
   "cell_type": "code",
   "execution_count": 74,
   "id": "f07eea2e",
   "metadata": {},
   "outputs": [
    {
     "data": {
      "text/plain": [
       "(array([ 1.,  0.,  0.,  0.,  1.,  0.,  2.,  8., 17., 19., 27.,  9., 10.,\n",
       "         4.,  1.,  0.,  0.,  0.,  0.,  1.]),\n",
       " array([-2.08666527e+11, -1.86173906e+11, -1.63681285e+11, -1.41188665e+11,\n",
       "        -1.18696044e+11, -9.62034232e+10, -7.37108025e+10, -5.12181818e+10,\n",
       "        -2.87255610e+10, -6.23294031e+09,  1.62596804e+10,  3.87523011e+10,\n",
       "         6.12449219e+10,  8.37375426e+10,  1.06230163e+11,  1.28722784e+11,\n",
       "         1.51215405e+11,  1.73708026e+11,  1.96200646e+11,  2.18693267e+11,\n",
       "         2.41185888e+11]),\n",
       " <BarContainer object of 20 artists>)"
      ]
     },
     "execution_count": 74,
     "metadata": {},
     "output_type": "execute_result"
    },
    {
     "data": {
      "image/png": "[encoded data removed]",
      "text/plain": [
       "<Figure size 432x288 with 1 Axes>"
      ]
     },
     "metadata": {
      "needs_background": "light"
     },
     "output_type": "display_data"
    }
   ],
   "source": [
    "scores_numerical = [score.item() for score in scores]\n",
    "plt.hist(scores_numerical, bins = 20)"
   ]
  },
  {
   "cell_type": "code",
   "execution_count": 87,
   "id": "c2acc908",
   "metadata": {},
   "outputs": [
    {
     "name": "stderr",
     "output_type": "stream",
     "text": [
      "3600it [00:09, 397.34it/s]\n"
     ]
    }
   ],
   "source": [
    "gram_short, gram_long = get_gram_matrices(gen_short_samples_burn_in(), gen_long_samples_burn_in())\n",
    "    \n",
    "kernel_short_mean = (gram_short*set_diag_to_zero).sum()/(100*99)\n",
    "kernel_long_mean = (gram_long*set_diag_to_zero).sum()/(100*99)\n"
   ]
  },
  {
   "cell_type": "code",
   "execution_count": 88,
   "id": "760bca76",
   "metadata": {},
   "outputs": [
    {
     "name": "stdout",
     "output_type": "stream",
     "text": [
      "tensor(8.0637e+10)\n",
      "tensor(9.4266e+10)\n"
     ]
    }
   ],
   "source": [
    "print(kernel_short_mean)\n",
    "print(kernel_long_mean)"
   ]
  },
  {
   "cell_type": "code",
   "execution_count": 104,
   "id": "9696f1f8",
   "metadata": {},
   "outputs": [
    {
     "name": "stderr",
     "output_type": "stream",
     "text": [
      "100%|████████████████████████████████████████████████████████████████████████████████████████████████████████████████████████████████████████████████████████████| 100/100 [22:28<00:00, 13.48s/it]\n"
     ]
    }
   ],
   "source": [
    "scores_burn_in = []\n",
    "short_means_burn_in = []\n",
    "long_means_burn_in = []\n",
    "set_diag_to_zero = torch.ones(60, 60) - torch.diag_embed(torch.ones(60))\n",
    "\n",
    "for i in tqdm(range(100)):\n",
    "    gram_short, gram_long = get_gram_matrices(gen_short_samples_burn_in(), gen_long_samples_burn_in())\n",
    "    \n",
    "    kernel_short_mean = (gram_short*set_diag_to_zero).sum()/(100*99)\n",
    "    kernel_long_mean = (gram_long*set_diag_to_zero).sum()/(100*99)\n",
    "    \n",
    "    short_means_burn_in.append(kernel_short_mean.item())\n",
    "    long_means_burn_in.append(kernel_long_mean.item())\n",
    "    \n",
    "    scores_burn_in.append(kernel_short_mean - kernel_long_mean)"
   ]
  },
  {
   "cell_type": "code",
   "execution_count": 123,
   "id": "e6b5254f",
   "metadata": {},
   "outputs": [
    {
     "data": {
      "text/plain": [
       "(array([2.05135377e-12, 1.02567688e-11, 1.94878608e-11, 1.74365070e-11,\n",
       "        1.84621839e-11, 1.23081226e-11, 3.07703065e-12, 9.23109196e-12,\n",
       "        3.07703065e-12, 2.05135377e-12, 1.02567688e-12, 1.02567688e-12,\n",
       "        1.02567688e-12, 1.02567688e-12, 0.00000000e+00, 0.00000000e+00,\n",
       "        0.00000000e+00, 0.00000000e+00, 0.00000000e+00, 1.02567688e-12]),\n",
       " array([1.49196943e+10, 2.46693534e+10, 3.44190125e+10, 4.41686716e+10,\n",
       "        5.39183308e+10, 6.36679899e+10, 7.34176490e+10, 8.31673082e+10,\n",
       "        9.29169673e+10, 1.02666626e+11, 1.12416286e+11, 1.22165945e+11,\n",
       "        1.31915604e+11, 1.41665263e+11, 1.51414922e+11, 1.61164581e+11,\n",
       "        1.70914240e+11, 1.80663899e+11, 1.90413559e+11, 2.00163218e+11,\n",
       "        2.09912877e+11]),\n",
       " <BarContainer object of 20 artists>)"
      ]
     },
     "execution_count": 123,
     "metadata": {},
     "output_type": "execute_result"
    },
    {
     "data": {
      "image/png": "[encoded data removed]",
      "text/plain": [
       "<Figure size 432x288 with 1 Axes>"
      ]
     },
     "metadata": {
      "needs_background": "light"
     },
     "output_type": "display_data"
    }
   ],
   "source": [
    "scores_numerical = [score.item() for score in scores_burn_in]\n",
    "plt.hist(long_means_burn_in, bins = 20, alpha = 0.4, density = True)\n",
    "plt.hist(short_means_burn_in, bins = 20, alpha = 0.4, density = True)\n"
   ]
  },
  {
   "cell_type": "code",
   "execution_count": 124,
   "id": "2192465c",
   "metadata": {},
   "outputs": [
    {
     "data": {
      "text/plain": [
       "KstestResult(statistic=0.09, pvalue=0.8154147124661313)"
      ]
     },
     "execution_count": 124,
     "metadata": {},
     "output_type": "execute_result"
    }
   ],
   "source": [
    "stats.ks_2samp(short_means_burn_in, long_means_burn_in)"
   ]
  },
  {
   "cell_type": "code",
   "execution_count": 95,
   "id": "6644a2c2",
   "metadata": {},
   "outputs": [],
   "source": [
    "from pprint import PrettyPrinter"
   ]
  },
  {
   "cell_type": "code",
   "execution_count": 96,
   "id": "8fa86751",
   "metadata": {},
   "outputs": [],
   "source": [
    "pp = PrettyPrinter(indent = 4)"
   ]
  },
  {
   "cell_type": "code",
   "execution_count": 98,
   "id": "f208552f",
   "metadata": {},
   "outputs": [
    {
     "name": "stdout",
     "output_type": "stream",
     "text": [
      "tensor(7.4690e+10)\n"
     ]
    }
   ],
   "source": [
    "print(kernel_short_mean)"
   ]
  },
  {
   "cell_type": "code",
   "execution_count": 103,
   "id": "574ce490",
   "metadata": {},
   "outputs": [
    {
     "data": {
      "text/plain": [
       "(array([ 1.,  2.,  3., 16., 20., 16., 22., 15.,  3.,  2.]),\n",
       " array([-137.92521485, -112.30553599,  -86.68585713,  -61.06617827,\n",
       "         -35.44649941,   -9.82682055,   15.79285831,   41.41253717,\n",
       "          67.03221603,   92.65189489,  118.27157375]),\n",
       " <BarContainer object of 10 artists>)"
      ]
     },
     "execution_count": 103,
     "metadata": {},
     "output_type": "execute_result"
    },
    {
     "data": {
      "image/png": "[encoded data removed]",
      "text/plain": [
       "<Figure size 432x288 with 1 Axes>"
      ]
     },
     "metadata": {
      "needs_background": "light"
     },
     "output_type": "display_data"
    }
   ],
   "source": [
    "plt.hist([score/kernel_short_mean.item()*100 for score in sorted(scores_numerical)])"
   ]
  },
  {
   "cell_type": "code",
   "execution_count": null,
   "id": "f151c55c",
   "metadata": {},
   "outputs": [],
   "source": []
  }
 ],
 "metadata": {
  "kernelspec": {
   "display_name": "Python 3 (ipykernel)",
   "language": "python",
   "name": "python3"
  },
  "language_info": {
   "codemirror_mode": {
    "name": "ipython",
    "version": 3
   },
   "file_extension": ".py",
   "mimetype": "text/x-python",
   "name": "python",
   "nbconvert_exporter": "python",
   "pygments_lexer": "ipython3",
   "version": "3.7.11"
  }
 },
 "nbformat": 4,
 "nbformat_minor": 5
}
